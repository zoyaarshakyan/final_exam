{
 "cells": [
  {
   "cell_type": "code",
   "execution_count": 2,
   "metadata": {
    "collapsed": true
   },
   "outputs": [],
   "source": [
    "#The two main functions are urlopen()  and read()\n",
    "# urlib2 - the standard Python library for sending requests to URL and reading the HTML content\n",
    "# lxml is like Bsoup\n",
    "import urllib2\n",
    "from lxml import html\n",
    "url = \"https://careercenter.am/ccidxann.php\""
   ]
  },
  {
   "cell_type": "code",
   "execution_count": 3,
   "metadata": {
    "collapsed": false
   },
   "outputs": [],
   "source": [
    "response = urllib2.urlopen(url)\n",
    "page = response.read()\n",
    "tree = html.document_fromstring(page)"
   ]
  },
  {
   "cell_type": "code",
   "execution_count": 4,
   "metadata": {
    "collapsed": true
   },
   "outputs": [],
   "source": [
    "#The findAll() function from BeautifulSoup is replaced by cssselect() in lxml, which finds all the tags given inside quotes as follows.\n",
    "\n",
    "tables = tree.cssselect(\"table\")"
   ]
  },
  {
   "cell_type": "code",
   "execution_count": 5,
   "metadata": {
    "collapsed": false
   },
   "outputs": [
    {
     "data": {
      "text/plain": [
       "'\\n    COMPETITIONS\\n    \\n      \\n      Preparation Assistance in The Scope of DigiTec Expo 2017 / GIZ\\n    \\n  '"
      ]
     },
     "execution_count": 5,
     "metadata": {},
     "output_type": "execute_result"
    }
   ],
   "source": [
    "#To get the text content of the tag the text_content() function should be used on an element of the list.\n",
    "tables[-1].text_content()"
   ]
  },
  {
   "cell_type": "code",
   "execution_count": null,
   "metadata": {
    "collapsed": false
   },
   "outputs": [],
   "source": [
    "# To get the text content of each table, we should create a for loop that will iterate over the list of tables and provide us with the text content.\n",
    "our_table = tree.cssselect('[width=\"100%\"],[border=\"0\"]')\n",
    "for i in our_table:\n",
    "    print (i.text_content())"
   ]
  },
  {
   "cell_type": "code",
   "execution_count": 7,
   "metadata": {
    "collapsed": false
   },
   "outputs": [
    {
     "data": {
      "text/plain": [
       "'\\n    COMPETITIONS\\n    \\n      \\n      Preparation Assistance in The Scope of DigiTec Expo 2017 / GIZ\\n    \\n  '"
      ]
     },
     "execution_count": 7,
     "metadata": {},
     "output_type": "execute_result"
    }
   ],
   "source": [
    "# XPath. The latter is not supported by BeautifulSoup\n",
    "#To work with XPath use the forward slash sign (/) to define address and the \"dog\" sign (@) inside square brackets ([ ]) to define an attibute. \n",
    "#To look for the very first table //table path can be used.\n",
    "tree.xpath('//table')[-1].text_content()"
   ]
  },
  {
   "cell_type": "code",
   "execution_count": 10,
   "metadata": {
    "collapsed": false
   },
   "outputs": [
    {
     "data": {
      "text/plain": [
       "'\\n    COMPETITIONS\\n    \\n      \\n      Preparation Assistance in The Scope of DigiTec Expo 2017 / GIZ\\n    \\n  '"
      ]
     },
     "execution_count": 10,
     "metadata": {},
     "output_type": "execute_result"
    }
   ],
   "source": [
    "#To find the table that has a border argument with a value of 0, the following approach should be used.\n",
    "tree.xpath(\"//table[@border='0']\")[-1].text_content()"
   ]
  },
  {
   "cell_type": "code",
   "execution_count": 11,
   "metadata": {
    "collapsed": false
   },
   "outputs": [
    {
     "data": {
      "text/plain": [
       "['0', '0', '0', '0', '0']"
      ]
     },
     "execution_count": 11,
     "metadata": {},
     "output_type": "execute_result"
    }
   ],
   "source": [
    "#  getting the value of an attibute (similar to get() in BeautifulSoup), then @ without square brackets can be used after the / sign as follows:\n",
    "tree.xpath('//table/@border')"
   ]
  },
  {
   "cell_type": "markdown",
   "metadata": {},
   "source": [
    "SCRAPING YOUTUBE"
   ]
  },
  {
   "cell_type": "code",
   "execution_count": 19,
   "metadata": {
    "collapsed": true
   },
   "outputs": [],
   "source": [
    "url = \"https://www.youtube.com/watch?v=BGBM5vWiBLo\""
   ]
  },
  {
   "cell_type": "code",
   "execution_count": 20,
   "metadata": {
    "collapsed": false
   },
   "outputs": [],
   "source": [
    "# work with mainly one video\n",
    "import pafy\n",
    "video = pafy.new(url)"
   ]
  },
  {
   "cell_type": "code",
   "execution_count": 21,
   "metadata": {
    "collapsed": false
   },
   "outputs": [
    {
     "data": {
      "text/plain": [
       "u'\\u266b Pink Floyd - High Hopes [Lyrics]'"
      ]
     },
     "execution_count": 21,
     "metadata": {},
     "output_type": "execute_result"
    }
   ],
   "source": [
    "video.title"
   ]
  },
  {
   "cell_type": "code",
   "execution_count": 22,
   "metadata": {
    "collapsed": false
   },
   "outputs": [
    {
     "data": {
      "text/plain": [
       "u\"--- INFO ---\\r\\n\\r\\nAlbum: The Division Bell\\r\\nYear: 1994\\r\\nMusic: Gilmour\\r\\n\\r\\n--- LYRICS ---\\r\\n\\r\\nBeyond the horizon of the place we lived when we were young\\r\\nIn a world of magnets and miracles\\r\\nOur thoughts strayed constantly and without boundary\\r\\nThe ringing of the division bell had begun\\r\\n\\r\\nAlong the Long Road and on down the Causeway\\r\\nDo they still meet there by the Cut\\r\\n\\r\\nThere was a ragged band that followed in our footsteps\\r\\nRunning before time took our dreams away\\r\\nLeaving the myriad small creatures trying to tie us to the ground\\r\\nTo a life consumed by slow decay\\r\\n\\r\\nThe grass was greener\\r\\nThe light was brighter\\r\\nWith friends surrounded\\r\\nThe nights of wonder\\r\\n\\r\\nLooking beyond the embers of bridges glowing behind us\\r\\nTo a glimpse of how green it was on the other side\\r\\nSteps taken forwards but sleepwalking back again\\r\\nDragged by the force of some inner tide\\r\\n\\r\\nAt a higher altitude with flag unfurled\\r\\nWe reached the dizzy heights of that dreamed of world\\r\\n\\r\\nEncumbered forever by desire and ambition\\r\\nThere's a hunger still unsatisfied\\r\\nOur weary eyes still stray to the horizon\\r\\nThough down this road we've been so many times\\r\\n\\r\\nThe grass was greener\\r\\nThe light was brighter\\r\\nThe taste was sweeter\\r\\nThe nights of wonder\\r\\nWith friends surrounded\\r\\nThe dawn mist glowing\\r\\nThe water flowing\\r\\nThe endless river\\r\\nForever and ever\""
      ]
     },
     "execution_count": 22,
     "metadata": {},
     "output_type": "execute_result"
    }
   ],
   "source": [
    "video.description"
   ]
  },
  {
   "cell_type": "code",
   "execution_count": 23,
   "metadata": {
    "collapsed": false
   },
   "outputs": [
    {
     "name": "stdout",
     "output_type": "stream",
     "text": [
      "[u'\\u266b Pink Floyd - High Hopes [Lyrics]', 4.90878152847, 22298599, u'MrOLMOBE', 419]\n"
     ]
    }
   ],
   "source": [
    "details = [video.title, video.rating, video.viewcount, video.author, video.length]\n",
    "print (details)"
   ]
  },
  {
   "cell_type": "code",
   "execution_count": null,
   "metadata": {
    "collapsed": true
   },
   "outputs": [],
   "source": [
    "# downloading the video with best quality\n",
    "bestvideo = video.getbest()\n",
    "bestvideo.download(quiet=False)\n",
    "\n",
    "# downloading the audio of the video with best quality\n",
    "bestaudio = video.getbestaudio()\n",
    "bestaudio.download()"
   ]
  },
  {
   "cell_type": "code",
   "execution_count": 24,
   "metadata": {
    "collapsed": false
   },
   "outputs": [
    {
     "name": "stdout",
     "output_type": "stream",
     "text": [
      "[normal:webm@640x360, normal:mp4@640x360, normal:3gp@320x240, normal:3gp@176x144, video:m4v@854x480, video:webm@640x480, video:m4v@640x360, video:webm@480x360, video:m4v@426x240, video:webm@360x240, video:m4v@256x144, video:webm@256x144, audio:opus@128k, audio:ogg@128k, audio:m4a@128k, audio:opus@56k, audio:opus@48k]\n"
     ]
    }
   ],
   "source": [
    "# all versions\n",
    "allstreams=video.allstreams\n",
    "print(allstreams)"
   ]
  },
  {
   "cell_type": "code",
   "execution_count": 25,
   "metadata": {
    "collapsed": false
   },
   "outputs": [
    {
     "name": "stdout",
     "output_type": "stream",
     "text": [
      "('normal', 'webm', '640x360')\n",
      "('normal', 'mp4', '640x360')\n",
      "('normal', '3gp', '320x240')\n",
      "('normal', '3gp', '176x144')\n",
      "('video', 'm4v', '854x480')\n",
      "('video', 'webm', '640x480')\n",
      "('video', 'm4v', '640x360')\n",
      "('video', 'webm', '480x360')\n",
      "('video', 'm4v', '426x240')\n",
      "('video', 'webm', '360x240')\n",
      "('video', 'm4v', '256x144')\n",
      "('video', 'webm', '256x144')\n",
      "('audio', 'opus', '128k')\n",
      "('audio', 'ogg', '128k')\n",
      "('audio', 'm4a', '128k')\n",
      "('audio', 'opus', '56k')\n",
      "('audio', 'opus', '48k')\n"
     ]
    }
   ],
   "source": [
    "for i in allstreams:\n",
    "    print(i.mediatype, i.extension, i.quality)"
   ]
  },
  {
   "cell_type": "code",
   "execution_count": 26,
   "metadata": {
    "collapsed": false
   },
   "outputs": [
    {
     "name": "stdout",
     "output_type": "stream",
     "text": [
      "  6,658,375 Bytes [100.00%] received. Rate: [4451 KB/s].  ETA: [0 secs]    \r"
     ]
    },
    {
     "data": {
      "text/plain": [
       "u'\\u266b Pink Floyd - High Hopes [Lyrics].m4a'"
      ]
     },
     "execution_count": 26,
     "metadata": {},
     "output_type": "execute_result"
    }
   ],
   "source": [
    "allstreams[-3].download()"
   ]
  },
  {
   "cell_type": "code",
   "execution_count": 18,
   "metadata": {
    "collapsed": true
   },
   "outputs": [],
   "source": [
    "url = \"https://www.youtube.com/feed/trending\""
   ]
  },
  {
   "cell_type": "code",
   "execution_count": 19,
   "metadata": {
    "collapsed": true
   },
   "outputs": [],
   "source": [
    "response = urllib2.urlopen(url)\n",
    "page = response.read()\n",
    "tree = html.document_fromstring(page)"
   ]
  },
  {
   "cell_type": "code",
   "execution_count": 20,
   "metadata": {
    "collapsed": false
   },
   "outputs": [],
   "source": [
    "title = tree.cssselect('[class=\"yt-uix-tile-link yt-ui-ellipsis.yt-ui-ellipsis-2 yt-uix-sessionlink spf-link\"]')"
   ]
  },
  {
   "cell_type": "code",
   "execution_count": 21,
   "metadata": {
    "collapsed": true
   },
   "outputs": [],
   "source": [
    "duration = tree.cssselect('[class=\"video-time\"]')"
   ]
  },
  {
   "cell_type": "code",
   "execution_count": 22,
   "metadata": {
    "collapsed": true
   },
   "outputs": [],
   "source": [
    "username = tree.cssselect ('[class=\"g-hovercard yt-uix-sessionlink spf-link\"]')"
   ]
  },
  {
   "cell_type": "code",
   "execution_count": 23,
   "metadata": {
    "collapsed": false
   },
   "outputs": [],
   "source": [
    "views_data = tree.cssselect ('[class=\"yt-lockup-meta-info\"]')"
   ]
  },
  {
   "cell_type": "code",
   "execution_count": 24,
   "metadata": {
    "collapsed": false
   },
   "outputs": [],
   "source": [
    "my_list=[]\n",
    "for i in views_data:\n",
    "    my_list.append(i.text_content())"
   ]
  },
  {
   "cell_type": "code",
   "execution_count": 30,
   "metadata": {
    "collapsed": true
   },
   "outputs": [],
   "source": [
    "import re\n",
    "from lxml import html"
   ]
  },
  {
   "cell_type": "code",
   "execution_count": 31,
   "metadata": {
    "collapsed": true
   },
   "outputs": [],
   "source": [
    "string =str(my_list)"
   ]
  },
  {
   "cell_type": "code",
   "execution_count": 32,
   "metadata": {
    "collapsed": true
   },
   "outputs": [],
   "source": [
    "views = re.findall('\\S([0-9]\\S*)\\s+views',string)"
   ]
  },
  {
   "cell_type": "code",
   "execution_count": 42,
   "metadata": {
    "collapsed": false
   },
   "outputs": [
    {
     "name": "stdout",
     "output_type": "stream",
     "text": [
      "[]\n"
     ]
    }
   ],
   "source": [
    "import json\n",
    "data1=[]\n",
    "for i,z,a,b in zip(title,duration,username,views):\n",
    "    data1.append({'Title' :i.get(\"title\"),\"URL\" : \"https://www.youtube.com\"+str(i.get('href')),'Duration':z.text,\"Username\":a.text,\"Views\": b})\n",
    "print(data1)"
   ]
  },
  {
   "cell_type": "code",
   "execution_count": 44,
   "metadata": {
    "collapsed": false
   },
   "outputs": [],
   "source": [
    "# savig as jsom\n",
    "with open('trendingmovies_urllib.json', 'w') as output:\n",
    "    json.dump(data1, output, sort_keys = True, indent = 4)"
   ]
  },
  {
   "cell_type": "code",
   "execution_count": 45,
   "metadata": {
    "collapsed": true
   },
   "outputs": [],
   "source": [
    "# saving as csv\n",
    "import unicodecsv as csv\n",
    "with open('trendingmovies_urllib_.csv', 'w') as csv_file:\n",
    "    writer = csv.writer(csv_file)\n",
    "    writer.writerow([\"Title\", \"URL\", \"Username\", \"Duration\", \"Views\"])\n",
    "    for i in data1:\n",
    "        writer.writerow([i['Title'],i['URL'],i['Username'],i['Duration'],i['Views']])"
   ]
  },
  {
   "cell_type": "code",
   "execution_count": 47,
   "metadata": {
    "collapsed": false
   },
   "outputs": [
    {
     "name": "stdout",
     "output_type": "stream",
     "text": [
      "[]\n"
     ]
    }
   ],
   "source": [
    "with open('trendingmovies_urllib.json') as json_data:\n",
    "    my_file = json.load(json_data)\n",
    "from pprint import*\n",
    "pprint(my_file)"
   ]
  },
  {
   "cell_type": "code",
   "execution_count": null,
   "metadata": {
    "collapsed": true
   },
   "outputs": [],
   "source": [
    "import csv, json\n",
    "address = \"C:\\Data_scraping\\JSON\\sample_data.json\"\n",
    "with open(address,\"r\") as file:\n",
    "    local_json = json.load(file)\n",
    "\n",
    "with open(\"from_json.csv\", \"w\") as f:\n",
    "    writer = csv.writer(f)\n",
    "    writer.writerow([\"ID\",\"Name\",\"Status\"])\n",
    "    for item in local_json:\n",
    "        writer.writerow([item['id'],item['name'],item['status']])"
   ]
  },
  {
   "cell_type": "code",
   "execution_count": null,
   "metadata": {
    "collapsed": true
   },
   "outputs": [],
   "source": []
  }
 ],
 "metadata": {
  "kernelspec": {
   "display_name": "Python 2",
   "language": "python",
   "name": "python2"
  },
  "language_info": {
   "codemirror_mode": {
    "name": "ipython",
    "version": 2
   },
   "file_extension": ".py",
   "mimetype": "text/x-python",
   "name": "python",
   "nbconvert_exporter": "python",
   "pygments_lexer": "ipython2",
   "version": "2.7.13"
  }
 },
 "nbformat": 4,
 "nbformat_minor": 2
}
