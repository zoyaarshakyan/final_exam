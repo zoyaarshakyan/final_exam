{
 "cells": [
  {
   "cell_type": "code",
   "execution_count": 1,
   "metadata": {
    "collapsed": true
   },
   "outputs": [],
   "source": [
    "import requests\n",
    "from BeautifulSoup import *"
   ]
  },
  {
   "cell_type": "code",
   "execution_count": 2,
   "metadata": {
    "collapsed": true
   },
   "outputs": [],
   "source": [
    "url=\"https://www.youtube.com/feed/trending\""
   ]
  },
  {
   "cell_type": "code",
   "execution_count": 3,
   "metadata": {
    "collapsed": true
   },
   "outputs": [],
   "source": [
    "response = requests.get(url)"
   ]
  },
  {
   "cell_type": "code",
   "execution_count": 4,
   "metadata": {
    "collapsed": true
   },
   "outputs": [],
   "source": [
    "my_page = response.text\n"
   ]
  },
  {
   "cell_type": "code",
   "execution_count": 5,
   "metadata": {
    "collapsed": true
   },
   "outputs": [],
   "source": [
    "soup = BeautifulSoup(my_page)"
   ]
  },
  {
   "cell_type": "code",
   "execution_count": 7,
   "metadata": {
    "collapsed": false
   },
   "outputs": [],
   "source": [
    "a_tags = soup.findAll('a')"
   ]
  },
  {
   "cell_type": "code",
   "execution_count": 8,
   "metadata": {
    "collapsed": false
   },
   "outputs": [
    {
     "name": "stdout",
     "output_type": "stream",
     "text": [
      "[<a href=\"/\" class=\"masthead-logo-renderer yt-uix-sessionlink      spf-link \" data-sessionlink=\"itct=CAUQsV4iEwiEjt2B_pLVAhXJgRwKHd0OCD8o6R4\" id=\"logo-container\" title=\"YouTube Home\"> <span title=\"YouTube Home\" class=\"logo masthead-logo-renderer-logo yt-sprite\"></span>\n",
      "</a>, <a href=\"//www.youtube.com/upload\" class=\"yt-uix-button   yt-uix-sessionlink yt-uix-button-opacity yt-uix-button-size-default yt-uix-button-has-icon yt-uix-tooltip yt-uix-button-empty\" data-sessionlink=\"ei=chNuWYSNBMmDct2doPgD&amp;feature=mhsb\" id=\"upload-btn\" title=\"Upload\"><span class=\"yt-uix-button-icon-wrapper\"><span class=\"yt-uix-button-icon yt-uix-button-icon-material-upload yt-sprite\"></span></span></a>, <a href=\"/\" class=\"yt-uix-button   spf-link yt-uix-sessionlink yt-uix-button-epic-nav-item yt-uix-button-size-default\" data-sessionlink=\"ei=chNuWYSNBMmDct2doPgD&amp;ved=CFwQwy0YACITCISO3YH-ktUCFcmBHAod3Q4IPyjpHg\" aria-selected=\"false\"><span class=\"yt-uix-button-content\">Home</span></a>, <a class=\"guide-item yt-uix-sessionlink yt-valign spf-link    \" href=\"/\" title=\"Home\" data-sessionlink=\"ei=chNuWYSNBMmDct2doPgD&amp;feature=g-system&amp;ved=CGAQtSwYACITCISO3YH-ktUCFcmBHAod3Q4IPyjpHg\" data-visibility-tracking=\"\" data-serialized-endpoint=\"0qDduQEREg9GRXdoYXRfdG9fd2F0Y2g%3D\" data-external-id=\"what_to_watch\">\n",
      "<span class=\"yt-valign-container\">\n",
      "<span class=\"thumb guide-what-to-watch-icon yt-sprite\"></span>\n",
      "<span class=\"display-name  no-count\">\n",
      "<span>\n",
      "            Home\n",
      "          </span>\n",
      "</span>\n",
      "</span>\n",
      "</a>, <a class=\"guide-item yt-uix-sessionlink yt-valign spf-link  guide-item-selected   \" href=\"/feed/trending\" title=\"Trending\" data-sessionlink=\"ei=chNuWYSNBMmDct2doPgD&amp;feature=g-trending&amp;ved=CGEQtSwYASITCISO3YH-ktUCFcmBHAod3Q4IPyjpHg\" data-visibility-tracking=\"\" data-serialized-endpoint=\"0qDduQEMEgpGRXRyZW5kaW5n\" data-external-id=\"trending\">\n",
      "<span class=\"yt-valign-container\">\n",
      "<span class=\"thumb guide-trending-icon yt-sprite\"></span>\n",
      "<span class=\"display-name  no-count\">\n",
      "<span>\n",
      "            Trending\n",
      "          </span>\n",
      "</span>\n",
      "</span>\n",
      "</a>, <a class=\"guide-item yt-uix-sessionlink yt-valign spf-link    \" href=\"/feed/history\" title=\"History\" data-sessionlink=\"ei=chNuWYSNBMmDct2doPgD&amp;feature=g-personal&amp;ved=CGIQtSwYAiITCISO3YH-ktUCFcmBHAod3Q4IPyjpHg\" data-visibility-tracking=\"\" data-serialized-endpoint=\"0qDduQELEglGRWhpc3Rvcnk%3D\" data-external-id=\"history\">\n",
      "<span class=\"yt-valign-container\">\n",
      "<span class=\"thumb guide-history-icon yt-sprite\"></span>\n",
      "<span class=\"display-name  no-count\">\n",
      "<span>\n",
      "            History\n",
      "          </span>\n",
      "</span>\n",
      "</span>\n",
      "</a>, <a class=\"guide-item yt-uix-sessionlink yt-valign spf-link    \" href=\"/channel/UC-9-kyTW8ZkZNDHQJ6FgpwQ\" title=\"Music\" data-sessionlink=\"ei=chNuWYSNBMmDct2doPgD&amp;feature=g-channel&amp;ved=CGQQtSwYACITCISO3YH-ktUCFcmBHAod3Q4IPyjpHg\" data-visibility-tracking=\"\" data-serialized-endpoint=\"0qDduQEaEhhVQy05LWt5VFc4WmtaTkRIUUo2Rmdwd1E%3D\" data-external-id=\"UC-9-kyTW8ZkZNDHQJ6FgpwQ\">\n",
      "<span class=\"yt-valign-container\">\n",
      "<span class=\"thumb\"> <span class=\"video-thumb  yt-thumb yt-thumb-20\">\n",
      "<span class=\"yt-thumb-square\">\n",
      "<span class=\"yt-thumb-clip\">\n",
      "<img data-ytimg=\"1\" onload=\";window.__ytRIL &amp;&amp; __ytRIL(this)\" src=\"/yts/img/pixel-vfl3z5WfW.gif\" height=\"20\" width=\"20\" alt=\"\" aria-hidden=\"true\" data-thumb=\"//i.ytimg.com/i/-9-kyTW8ZkZNDHQJ6FgpwQ/1.jpg\" />\n",
      "<span class=\"vertical-align\"></span>\n",
      "</span>\n",
      "</span>\n",
      "</span>\n",
      "</span>\n",
      "<span class=\"display-name  no-count\">\n",
      "<span>\n",
      "            Music\n",
      "          </span>\n",
      "</span>\n",
      "</span>\n",
      "</a>, <a class=\"guide-item yt-uix-sessionlink yt-valign spf-link    \" href=\"/channel/UCEgdi0XIXXZ-qJOFPf4JSKw\" title=\"Sports\" data-sessionlink=\"ei=chNuWYSNBMmDct2doPgD&amp;feature=g-channel&amp;ved=CGUQtSwYASITCISO3YH-ktUCFcmBHAod3Q4IPyjpHg\" data-visibility-tracking=\"\" data-serialized-endpoint=\"0qDduQEaEhhVQ0VnZGkwWElYWFotcUpPRlBmNEpTS3c%3D\" data-external-id=\"UCEgdi0XIXXZ-qJOFPf4JSKw\">\n",
      "<span class=\"yt-valign-container\">\n",
      "<span class=\"thumb\"> <span class=\"video-thumb  yt-thumb yt-thumb-20\">\n",
      "<span class=\"yt-thumb-square\">\n",
      "<span class=\"yt-thumb-clip\">\n",
      "<img data-ytimg=\"1\" onload=\";window.__ytRIL &amp;&amp; __ytRIL(this)\" src=\"/yts/img/pixel-vfl3z5WfW.gif\" height=\"20\" width=\"20\" alt=\"\" aria-hidden=\"true\" data-thumb=\"//i.ytimg.com/i/Egdi0XIXXZ-qJOFPf4JSKw/1.jpg\" />\n",
      "<span class=\"vertical-align\"></span>\n",
      "</span>\n",
      "</span>\n",
      "</span>\n",
      "</span>\n",
      "<span class=\"display-name  no-count\">\n",
      "<span>\n",
      "            Sports\n",
      "          </span>\n",
      "</span>\n",
      "</span>\n",
      "</a>, <a class=\"guide-item yt-uix-sessionlink yt-valign spf-link    \" href=\"/channel/UCOpNcN46UbXVtpKMrmU4Abg\" title=\"Gaming\" data-sessionlink=\"ei=chNuWYSNBMmDct2doPgD&amp;feature=g-channel&amp;ved=CGYQtSwYAiITCISO3YH-ktUCFcmBHAod3Q4IPyjpHg\" data-visibility-tracking=\"\" data-serialized-endpoint=\"0qDduQEaEhhVQ09wTmNONDZVYlhWdHBLTXJtVTRBYmc%3D\" data-external-id=\"UCOpNcN46UbXVtpKMrmU4Abg\">\n",
      "<span class=\"yt-valign-container\">\n",
      "<span class=\"thumb\"> <span class=\"video-thumb  yt-thumb yt-thumb-20\">\n",
      "<span class=\"yt-thumb-square\">\n",
      "<span class=\"yt-thumb-clip\">\n",
      "<img data-ytimg=\"1\" onload=\";window.__ytRIL &amp;&amp; __ytRIL(this)\" src=\"/yts/img/pixel-vfl3z5WfW.gif\" height=\"20\" width=\"20\" alt=\"\" aria-hidden=\"true\" data-thumb=\"//i.ytimg.com/i/OpNcN46UbXVtpKMrmU4Abg/1.jpg\" />\n",
      "<span class=\"vertical-align\"></span>\n",
      "</span>\n",
      "</span>\n",
      "</span>\n",
      "</span>\n",
      "<span class=\"display-name  no-count\">\n",
      "<span>\n",
      "            Gaming\n",
      "          </span>\n",
      "</span>\n",
      "</span>\n",
      "</a>, <a class=\"guide-item yt-uix-sessionlink yt-valign spf-link    \" href=\"/channel/UCYfdidRxbB8Qhf0Nx7ioOYw\" title=\"News\" data-sessionlink=\"ei=chNuWYSNBMmDct2doPgD&amp;feature=g-channel&amp;ved=CGcQtSwYAyITCISO3YH-ktUCFcmBHAod3Q4IPyjpHg\" data-visibility-tracking=\"\" data-serialized-endpoint=\"0qDduQEaEhhVQ1lmZGlkUnhiQjhRaGYwTng3aW9PWXc%3D\" data-external-id=\"UCYfdidRxbB8Qhf0Nx7ioOYw\">\n",
      "<span class=\"yt-valign-container\">\n",
      "<span class=\"thumb\"> <span class=\"video-thumb  yt-thumb yt-thumb-20\">\n",
      "<span class=\"yt-thumb-square\">\n",
      "<span class=\"yt-thumb-clip\">\n",
      "<img data-ytimg=\"1\" onload=\";window.__ytRIL &amp;&amp; __ytRIL(this)\" src=\"/yts/img/pixel-vfl3z5WfW.gif\" height=\"20\" width=\"20\" alt=\"\" aria-hidden=\"true\" data-thumb=\"//i.ytimg.com/i/YfdidRxbB8Qhf0Nx7ioOYw/1.jpg\" />\n",
      "<span class=\"vertical-align\"></span>\n",
      "</span>\n",
      "</span>\n",
      "</span>\n",
      "</span>\n",
      "<span class=\"display-name  no-count\">\n",
      "<span>\n",
      "            News\n",
      "          </span>\n",
      "</span>\n",
      "</span>\n",
      "</a>, <a class=\"guide-item yt-uix-sessionlink yt-valign spf-link    \" href=\"/channel/UC4R8DWoMoI7CAwX8_LjQHig\" title=\"Live\" data-sessionlink=\"ei=chNuWYSNBMmDct2doPgD&amp;feature=g-channel&amp;ved=CGgQtSwYBCITCISO3YH-ktUCFcmBHAod3Q4IPyjpHg\" data-visibility-tracking=\"\" data-serialized-endpoint=\"0qDduQEaEhhVQzRSOERXb01vSTdDQXdYOF9MalFIaWc%3D\" data-external-id=\"UC4R8DWoMoI7CAwX8_LjQHig\">\n",
      "<span class=\"yt-valign-container\">\n",
      "<span class=\"thumb\"> <span class=\"video-thumb  yt-thumb yt-thumb-20\">\n",
      "<span class=\"yt-thumb-square\">\n",
      "<span class=\"yt-thumb-clip\">\n",
      "<img data-ytimg=\"1\" onload=\";window.__ytRIL &amp;&amp; __ytRIL(this)\" src=\"/yts/img/pixel-vfl3z5WfW.gif\" height=\"20\" width=\"20\" alt=\"\" aria-hidden=\"true\" data-thumb=\"//i.ytimg.com/i/4R8DWoMoI7CAwX8_LjQHig/1.jpg\" />\n",
      "<span class=\"vertical-align\"></span>\n",
      "</span>\n",
      "</span>\n",
      "</span>\n",
      "</span>\n",
      "<span class=\"display-name  no-count\">\n",
      "<span>\n",
      "            Live\n",
      "          </span>\n",
      "</span>\n",
      "</span>\n",
      "</a>, <a class=\"guide-item yt-uix-sessionlink yt-valign spf-link    \" href=\"/channel/UCzuqhhs6NWbgTzMuM09WKDQ\" title=\"360° Video\" data-sessionlink=\"ei=chNuWYSNBMmDct2doPgD&amp;feature=g-channel&amp;ved=CGkQtSwYBSITCISO3YH-ktUCFcmBHAod3Q4IPyjpHg\" data-visibility-tracking=\"\" data-serialized-endpoint=\"0qDduQEaEhhVQ3p1cWhoczZOV2JnVHpNdU0wOVdLRFE%3D\" data-external-id=\"UCzuqhhs6NWbgTzMuM09WKDQ\">\n",
      "<span class=\"yt-valign-container\">\n",
      "<span class=\"thumb\"> <span class=\"video-thumb  yt-thumb yt-thumb-20\">\n",
      "<span class=\"yt-thumb-square\">\n",
      "<span class=\"yt-thumb-clip\">\n",
      "<img data-ytimg=\"1\" onload=\";window.__ytRIL &amp;&amp; __ytRIL(this)\" src=\"/yts/img/pixel-vfl3z5WfW.gif\" height=\"20\" width=\"20\" alt=\"\" aria-hidden=\"true\" data-thumb=\"//i.ytimg.com/i/zuqhhs6NWbgTzMuM09WKDQ/1.jpg\" />\n",
      "<span class=\"vertical-align\"></span>\n",
      "</span>\n",
      "</span>\n",
      "</span>\n",
      "</span>\n",
      "<span class=\"display-name  no-count\">\n",
      "<span>\n",
      "            360° Video\n",
      "          </span>\n",
      "</span>\n",
      "</span>\n",
      "</a>, <a class=\"guide-item yt-uix-sessionlink yt-valign spf-nolink    \" href=\"/channels\" title=\"Browse channels\" data-sessionlink=\"ei=chNuWYSNBMmDct2doPgD&amp;feature=g-manage&amp;ved=CGsQtSwYACITCISO3YH-ktUCFcmBHAod3Q4IPyjpHg\" data-visibility-tracking=\"\" data-serialized-endpoint=\"0qPduQECCAE%3D\" data-external-id=\"guide_builder\">\n",
      "<span class=\"yt-valign-container\">\n",
      "<span class=\"thumb guide-builder-icon yt-sprite\"></span>\n",
      "<span class=\"display-name  no-count\">\n",
      "<span>\n",
      "            Browse channels\n",
      "          </span>\n",
      "</span>\n",
      "</span>\n",
      "</a>, <a href=\"https://accounts.google.com/ServiceLogin?service=youtube&amp;uilel=3&amp;continue=https%3A%2F%2Fwww.youtube.com%2Fsignin%3Faction_handle_signin%3Dtrue%26next%3D%252Ffeed%252Ftrending%26hl%3Den%26feature%3Dsign_in_promo%26app%3Ddesktop&amp;hl=en&amp;passive=true\" class=\"yt-uix-button   yt-uix-sessionlink yt-uix-button-primary yt-uix-button-size-default\" data-sessionlink=\"ei=chNuWYSNBMmDct2doPgD\"><span class=\"yt-uix-button-content\">Sign in</span></a>, <a aria-hidden=\"true\" href=\"/watch?v=dZOaI_Fn5o4\" class=\" yt-uix-sessionlink      spf-link \" data-sessionlink=\"itct=CFoQ3DAYACITCISO3YH-ktUCFcmBHAod3Q4IPyjpHjIIdHJlbmRpbmdaCkZFdHJlbmRpbmc\"><div class=\"yt-thumb video-thumb\"><span class=\"yt-thumb-simple\">\n",
      "<img data-ytimg=\"1\" onload=\";window.__ytRIL &amp;&amp; __ytRIL(this)\" src=\"https://i.ytimg.com/vi/dZOaI_Fn5o4/hqdefault.jpg?sqp=-oaymwEWCMQBEG5IWvKriqkDCQgBFQAAiEIYAQ==&amp;rs=AOn4CLAJ_lpT522TD5zo_V80lxumjOItGw\" height=\"110\" width=\"196\" alt=\"\" />\n",
      "<span class=\"video-time\" aria-hidden=\"true\">2:33</span></span></div></a>, <a href=\"/watch?v=dZOaI_Fn5o4\" class=\"yt-uix-tile-link yt-ui-ellipsis yt-ui-ellipsis-2 yt-uix-sessionlink      spf-link \" data-sessionlink=\"itct=CFoQ3DAYACITCISO3YH-ktUCFcmBHAod3Q4IPyjpHjIIdHJlbmRpbmdaCkZFdHJlbmRpbmc\" title=\"BLADE RUNNER 2049 – Trailer 2\" aria-describedby=\"description-id-764179\" dir=\"ltr\">BLADE RUNNER 2049 – Trailer 2</a>, <a href=\"/user/WarnerBrosPictures\" class=\"g-hovercard yt-uix-sessionlink       spf-link \" data-sessionlink=\"itct=CFoQ3DAYACITCISO3YH-ktUCFcmBHAod3Q4IPyjpHg\" data-ytid=\"UCjmJDM5pRKbUlVIzDYYWb6g\">Warner Bros. Pictures</a>, <a aria-hidden=\"true\" href=\"/watch?v=HoXDsTIu_10\" class=\" yt-uix-sessionlink      spf-link \" data-sessionlink=\"itct=CFkQ3DAYASITCISO3YH-ktUCFcmBHAod3Q4IPyjpHjIIdHJlbmRpbmdaCkZFdHJlbmRpbmc\"><div class=\"yt-thumb video-thumb\"><span class=\"yt-thumb-simple\">\n",
      "<img data-ytimg=\"1\" onload=\";window.__ytRIL &amp;&amp; __ytRIL(this)\" src=\"https://i.ytimg.com/vi/HoXDsTIu_10/hqdefault.jpg?sqp=-oaymwEWCMQBEG5IWvKriqkDCQgBFQAAiEIYAQ==&amp;rs=AOn4CLAVeFOaPXo0IErWd5GhPZ5NPf-b1Q\" height=\"110\" width=\"196\" alt=\"\" />\n",
      "<span class=\"video-time\" aria-hidden=\"true\">0:21</span></span></div></a>, <a href=\"/watch?v=HoXDsTIu_10\" class=\"yt-uix-tile-link yt-ui-ellipsis yt-ui-ellipsis-2 yt-uix-sessionlink      spf-link \" data-sessionlink=\"itct=CFkQ3DAYASITCISO3YH-ktUCFcmBHAod3Q4IPyjpHjIIdHJlbmRpbmdaCkZFdHJlbmRpbmc\" title=\"Stormborn: Game of Thrones Season 7 Episode 2: Preview (HBO)\" aria-describedby=\"description-id-751959\" dir=\"ltr\">Stormborn: Game of Thrones Season 7 Episode 2: Preview (HBO)</a>, <a href=\"/user/GameofThrones\" class=\"g-hovercard yt-uix-sessionlink       spf-link \" data-sessionlink=\"itct=CFkQ3DAYASITCISO3YH-ktUCFcmBHAod3Q4IPyjpHg\" data-ytid=\"UCQzdMyuz0Lf4zo4uGcEujFw\">GameofThrones</a>, <a aria-hidden=\"true\" href=\"/watch?v=MxCVbISr21U\" class=\" yt-uix-sessionlink      spf-link \" data-sessionlink=\"itct=CFgQ3DAYAiITCISO3YH-ktUCFcmBHAod3Q4IPyjpHjIIdHJlbmRpbmdaCkZFdHJlbmRpbmc\"><div class=\"yt-thumb video-thumb\"><span class=\"yt-thumb-simple\">\n",
      "<img data-ytimg=\"1\" onload=\";window.__ytRIL &amp;&amp; __ytRIL(this)\" src=\"https://i.ytimg.com/vi/MxCVbISr21U/hqdefault.jpg?sqp=-oaymwEWCMQBEG5IWvKriqkDCQgBFQAAiEIYAQ==&amp;rs=AOn4CLDDCFolygHgwZ9AHRD4gI90aN_9iA\" height=\"110\" width=\"196\" alt=\"\" />\n",
      "<span class=\"video-time\" aria-hidden=\"true\">0:53</span></span></div></a>, <a href=\"/watch?v=MxCVbISr21U\" class=\"yt-uix-tile-link yt-ui-ellipsis yt-ui-ellipsis-2 yt-uix-sessionlink      spf-link \" data-sessionlink=\"itct=CFgQ3DAYAiITCISO3YH-ktUCFcmBHAod3Q4IPyjpHjIIdHJlbmRpbmdaCkZFdHJlbmRpbmc\" title=\"Goat breaks into Argonics' Colorado office\" aria-describedby=\"description-id-295323\" dir=\"ltr\">Goat breaks into Argonics&#39; Colorado office</a>, <a href=\"/user/ArgonicsInc\" class=\"g-hovercard yt-uix-sessionlink       spf-link \" data-sessionlink=\"itct=CFgQ3DAYAiITCISO3YH-ktUCFcmBHAod3Q4IPyjpHg\" data-ytid=\"UCBhnEhLYn8angmvtQwfiaQg\">Argonics Inc.</a>, <a aria-hidden=\"true\" href=\"/watch?v=mxhxL1LzKww\" class=\" yt-uix-sessionlink      spf-link \" data-sessionlink=\"itct=CFcQ3DAYAyITCISO3YH-ktUCFcmBHAod3Q4IPyjpHjIIdHJlbmRpbmdaCkZFdHJlbmRpbmc\"><div class=\"yt-thumb video-thumb\"><span class=\"yt-thumb-simple\">\n",
      "<img data-ytimg=\"1\" onload=\";window.__ytRIL &amp;&amp; __ytRIL(this)\" src=\"https://i.ytimg.com/vi/mxhxL1LzKww/hqdefault.jpg?sqp=-oaymwEWCMQBEG5IWvKriqkDCQgBFQAAiEIYAQ==&amp;rs=AOn4CLCVPgKPusxQ1yr9YTZ25fDZ5Josng\" height=\"110\" width=\"196\" alt=\"\" />\n",
      "<span class=\"video-time\" aria-hidden=\"true\">26:31</span></span></div></a>, <a href=\"/watch?v=mxhxL1LzKww\" class=\"yt-uix-tile-link yt-ui-ellipsis yt-ui-ellipsis-2 yt-uix-sessionlink      spf-link \" data-sessionlink=\"itct=CFcQ3DAYAyITCISO3YH-ktUCFcmBHAod3Q4IPyjpHjIIdHJlbmRpbmdaCkZFdHJlbmRpbmc\" title=\"How Much of the Earth Can You See at Once?\" aria-describedby=\"description-id-262888\" dir=\"ltr\">How Much of the Earth Can You See at Once?</a>, <a href=\"/user/Vsauce\" class=\"g-hovercard yt-uix-sessionlink       spf-link \" data-sessionlink=\"itct=CFcQ3DAYAyITCISO3YH-ktUCFcmBHAod3Q4IPyjpHg\" data-ytid=\"UC6nSFpj9HTCZ5t-N3Rm3-HA\">Vsauce</a>, <a href=\"http://www.curiositybox.com/\" target=\"_blank\" title=\"http://www.curiositybox.com/\" rel=\"nofollow\" dir=\"ltr\" class=\"yt-uix-redirect-link\">http://www.curiositybox.com/</a>, <a href=\"http://www.twitter.com/tweetsauce\" target=\"_blank\" title=\"http://www.twitter.com/tweetsauce\" rel=\"nofollow\" dir=\"ltr\" class=\"yt-uix-redirect-link\">http://www.twitter.com/tweetsauce</a>, <a href=\"http://www.instagram.com/electricpants\" target=\"_blank\" title=\"http://www.instagram.com/electricpants\" rel=\"nofollow\" dir=\"ltr\" class=\"yt-uix-redirect-link\">http://www.instagram.com/electricpants</a>, <a href=\"/watch?v=PEGccV-NOm8\" class=\"branded-page-module-title-link yt-uix-sessionlink      spf-link \" data-sessionlink=\"itct=CFMQ3BwYACITCISO3YH-ktUCFcmBHAod3Q4IPyjpHg\"><span class=\"branded-page-module-title-text\">Cardi B</span></a>, <a aria-hidden=\"true\" href=\"/watch?v=PEGccV-NOm8\" class=\" yt-uix-sessionlink      spf-link \" data-sessionlink=\"itct=CFQQ3DAYASITCISO3YH-ktUCFcmBHAod3Q4IPyjpHjIIdHJlbmRpbmdaCkZFdHJlbmRpbmc\"><div class=\"yt-thumb video-thumb\"><span class=\"yt-thumb-simple\">\n",
      "<img data-ytimg=\"1\" onload=\";window.__ytRIL &amp;&amp; __ytRIL(this)\" src=\"https://i.ytimg.com/vi/PEGccV-NOm8/hqdefault.jpg?sqp=-oaymwEWCMQBEG5IWvKriqkDCQgBFQAAiEIYAQ==&amp;rs=AOn4CLCBRnOVCJiej6KlMpKw915nG6pzLw\" height=\"110\" width=\"196\" alt=\"\" />\n",
      "<span class=\"video-time\" aria-hidden=\"true\">3:54</span></span></div></a>, <a href=\"/watch?v=PEGccV-NOm8\" class=\"yt-uix-tile-link yt-ui-ellipsis yt-ui-ellipsis-2 yt-uix-sessionlink      spf-link \" data-sessionlink=\"itct=CFQQ3DAYASITCISO3YH-ktUCFcmBHAod3Q4IPyjpHjIIdHJlbmRpbmdaCkZFdHJlbmRpbmc\" title=\"Cardi B - Bodak Yellow [OFFICIAL MUSIC VIDEO]\" aria-describedby=\"description-id-46801\" dir=\"ltr\">Cardi B - Bodak Yellow [OFFICIAL MUSIC VIDEO]</a>, <a href=\"/channel/UCxMAbVFmxKUVGAll0WVGpFw\" class=\"g-hovercard yt-uix-sessionlink       spf-link \" data-sessionlink=\"itct=CFQQ3DAYASITCISO3YH-ktUCFcmBHAod3Q4IPyjpHg\" data-ytid=\"UCxMAbVFmxKUVGAll0WVGpFw\">Cardi B</a>, <a href=\"https://lnk.to/BodakYellow\" target=\"_blank\" title=\"https://lnk.to/BodakYellow\" rel=\"nofollow\" dir=\"ltr\" class=\"yt-uix-redirect-link\">https://lnk.to/BodakYellow</a>, <a href=\"http://Twitter.com/IAmCardiB\" target=\"_blank\" title=\"http://Twitter.com/IAmCardiB\" rel=\"nofollow\" dir=\"ltr\" class=\"yt-uix-redirect-link\">http://Twitter.com/IAmCardiB</a>, <a href=\"http://Facebook.com/IA\" target=\"_blank\" title=\"http://Facebook.com/IA\" rel=\"nofollow\" dir=\"ltr\" class=\"yt-uix-redirect-link\">http://Facebook.com/IA</a>, <a aria-hidden=\"true\" href=\"/watch?v=NfQ21BpbNXc\" class=\" yt-uix-sessionlink      spf-link \" data-sessionlink=\"itct=CFEQ3DAYACITCISO3YH-ktUCFcmBHAod3Q4IPyjpHjIIdHJlbmRpbmdaCkZFdHJlbmRpbmc\"><div class=\"yt-thumb video-thumb\"><span class=\"yt-thumb-simple\">\n",
      "<img data-ytimg=\"1\" onload=\";window.__ytRIL &amp;&amp; __ytRIL(this)\" src=\"https://i.ytimg.com/vi/NfQ21BpbNXc/hqdefault.jpg?sqp=-oaymwEWCMQBEG5IWvKriqkDCQgBFQAAiEIYAQ==&amp;rs=AOn4CLDYwercxTDjjsjV43910WelZh0zBw\" height=\"110\" width=\"196\" alt=\"\" />\n",
      "<span class=\"video-time\" aria-hidden=\"true\">14:43</span></span></div></a>, <a href=\"/watch?v=NfQ21BpbNXc\" class=\"yt-uix-tile-link yt-ui-ellipsis yt-ui-ellipsis-2 yt-uix-sessionlink      spf-link \" data-sessionlink=\"itct=CFEQ3DAYACITCISO3YH-ktUCFcmBHAod3Q4IPyjpHjIIdHJlbmRpbmdaCkZFdHJlbmRpbmc\" title=\"Game Of Thrones Season 7 Episode 1 - TOP 10 WTF and Easter Eggs\" aria-describedby=\"description-id-429163\" dir=\"ltr\">Game Of Thrones Season 7 Episode 1 - TOP 10 WTF and Easter Eggs</a>, <a href=\"/user/emergencyawesome\" class=\"g-hovercard yt-uix-sessionlink       spf-link \" data-sessionlink=\"itct=CFEQ3DAYACITCISO3YH-ktUCFcmBHAod3Q4IPyjpHg\" data-ytid=\"UCDiFRMQWpcp8_KD4vwIVicw\">Emergency Awesome</a>, <a href=\"https://bit.ly/AwesomeSubscribe\" target=\"_blank\" title=\"https://bit.ly/AwesomeSubscribe\" rel=\"nofollow\" dir=\"ltr\" class=\"yt-uix-redirect-link\">https://bit.ly/AwesomeSubscribe</a>, <a aria-hidden=\"true\" href=\"/watch?v=uPRa-6jUbVU\" class=\" yt-uix-sessionlink      spf-link \" data-sessionlink=\"itct=CFAQ3DAYASITCISO3YH-ktUCFcmBHAod3Q4IPyjpHjIIdHJlbmRpbmdaCkZFdHJlbmRpbmc\"><div class=\"yt-thumb video-thumb\"><span class=\"yt-thumb-simple\">\n",
      "<img data-ytimg=\"1\" onload=\";window.__ytRIL &amp;&amp; __ytRIL(this)\" src=\"/yts/img/pixel-vfl3z5WfW.gif\" height=\"110\" width=\"196\" alt=\"\" data-thumb=\"https://i.ytimg.com/vi/uPRa-6jUbVU/hqdefault.jpg?sqp=-oaymwEWCMQBEG5IWvKriqkDCQgBFQAAiEIYAQ==&amp;rs=AOn4CLCu70gLGPInyEtSQLaK-2JzC6Xd_g\" />\n",
      "<span class=\"video-time\" aria-hidden=\"true\">0:30</span></span></div></a>, <a href=\"/watch?v=uPRa-6jUbVU\" class=\"yt-uix-tile-link yt-ui-ellipsis yt-ui-ellipsis-2 yt-uix-sessionlink      spf-link \" data-sessionlink=\"itct=CFAQ3DAYASITCISO3YH-ktUCFcmBHAod3Q4IPyjpHjIIdHJlbmRpbmdaCkZFdHJlbmRpbmc\" title=\"BMX racer boy doesn't care about winning at Rapid Wheels\" aria-describedby=\"description-id-867481\" dir=\"ltr\">BMX racer boy doesn&#39;t care about winning at Rapid Wheels</a>, <a href=\"/channel/UCAcEpIlIeDY0Cubc7f5yzqA\" class=\"g-hovercard yt-uix-sessionlink       spf-link \" data-sessionlink=\"itct=CFAQ3DAYASITCISO3YH-ktUCFcmBHAod3Q4IPyjpHg\" data-ytid=\"UCAcEpIlIeDY0Cubc7f5yzqA\">Viral YouTube</a>, <a aria-hidden=\"true\" href=\"/watch?v=_-_bSdWEYK8\" class=\" yt-uix-sessionlink      spf-link \" data-sessionlink=\"itct=CE8Q3DAYAiITCISO3YH-ktUCFcmBHAod3Q4IPyjpHjIIdHJlbmRpbmdaCkZFdHJlbmRpbmc\"><div class=\"yt-thumb video-thumb\"><span class=\"yt-thumb-simple\">\n",
      "<img data-ytimg=\"1\" onload=\";window.__ytRIL &amp;&amp; __ytRIL(this)\" src=\"/yts/img/pixel-vfl3z5WfW.gif\" height=\"110\" width=\"196\" alt=\"\" data-thumb=\"https://i.ytimg.com/vi/_-_bSdWEYK8/hqdefault.jpg?sqp=-oaymwEWCMQBEG5IWvKriqkDCQgBFQAAiEIYAQ==&amp;rs=AOn4CLB3rS8zpev89jaFBNSbklkgNNyJkg\" />\n",
      "<span class=\"video-time\" aria-hidden=\"true\">1:01</span></span></div></a>, <a href=\"/watch?v=_-_bSdWEYK8\" class=\"yt-uix-tile-link yt-ui-ellipsis yt-ui-ellipsis-2 yt-uix-sessionlink      spf-link \" data-sessionlink=\"itct=CE8Q3DAYAiITCISO3YH-ktUCFcmBHAod3Q4IPyjpHjIIdHJlbmRpbmdaCkZFdHJlbmRpbmc\" title=\"Meet the Thirteenth Doctor - Doctor Who\" aria-describedby=\"description-id-865416\" dir=\"ltr\">Meet the Thirteenth Doctor - Doctor Who</a>, <a href=\"/user/doctorwho\" class=\"g-hovercard yt-uix-sessionlink       spf-link \" data-sessionlink=\"itct=CE8Q3DAYAiITCISO3YH-ktUCFcmBHAod3Q4IPyjpHg\" data-ytid=\"UCcOkA2Xmk1valTOWSyKyp4g\">Doctor Who</a>, <a href=\"http://www.youtube.com/subscription_center?add_user=doctorwho\" target=\"_blank\" title=\"http://www.youtube.com/subscription_center?add_user=doctorwho\" rel=\"nofollow\" dir=\"ltr\" class=\"yt-uix-redirect-link\">http://www.youtube.com/subscription_center?add_user=docto...</a>, <a href=\"http://www.doctorwho.tv\" target=\"_blank\" title=\"http://www.doctorwho.tv\" rel=\"nofollow\" dir=\"ltr\" class=\"yt-uix-redirect-link\">http://www.doctorwho.tv</a>, <a href=\"http://ww\" target=\"_blank\" title=\"http://ww\" rel=\"nofollow\" dir=\"ltr\" class=\"yt-uix-redirect-link\">http://ww</a>, <a aria-hidden=\"true\" href=\"/watch?v=FCDPP4ak8xU\" class=\" yt-uix-sessionlink      spf-link \" data-sessionlink=\"itct=CE4Q3DAYAyITCISO3YH-ktUCFcmBHAod3Q4IPyjpHjIIdHJlbmRpbmdaCkZFdHJlbmRpbmc\"><div class=\"yt-thumb video-thumb\"><span class=\"yt-thumb-simple\">\n",
      "<img data-ytimg=\"1\" onload=\";window.__ytRIL &amp;&amp; __ytRIL(this)\" src=\"/yts/img/pixel-vfl3z5WfW.gif\" height=\"110\" width=\"196\" alt=\"\" data-thumb=\"https://i.ytimg.com/vi/FCDPP4ak8xU/hqdefault.jpg?sqp=-oaymwEWCMQBEG5IWvKriqkDCQgBFQAAiEIYAQ==&amp;rs=AOn4CLBfSpkE5LsRLujVGVn7s-CBCtz5dg\" />\n",
      "<span class=\"video-time\" aria-hidden=\"true\">2:56</span></span></div></a>, <a href=\"/watch?v=FCDPP4ak8xU\" class=\"yt-uix-tile-link yt-ui-ellipsis yt-ui-ellipsis-2 yt-uix-sessionlink      spf-link \" data-sessionlink=\"itct=CE4Q3DAYAyITCISO3YH-ktUCFcmBHAod3Q4IPyjpHjIIdHJlbmRpbmdaCkZFdHJlbmRpbmc\" title=\"Ramsay Forced to Spit Out BACON &amp; CHOCOLATE PIZZA! | Hotel Hell\" aria-describedby=\"description-id-994142\" dir=\"ltr\">Ramsay Forced to Spit Out BACON &amp; CHOCOLATE PIZZA! | Hotel Hell</a>, <a href=\"/user/gordonramsay\" class=\"g-hovercard yt-uix-sessionlink       spf-link \" data-sessionlink=\"itct=CE4Q3DAYAyITCISO3YH-ktUCFcmBHAod3Q4IPyjpHg\" data-ytid=\"UCIEv3lZ_tNXHzL3ox-_uUGQ\">Gordon Ramsay</a>, <a href=\"http://www.youtube.com/\" target=\"_blank\" title=\"http://www.youtube.com/\" rel=\"nofollow\" dir=\"ltr\" class=\"yt-uix-redirect-link\">http://www.youtube.com/</a>, <a aria-hidden=\"true\" href=\"/watch?v=foLf5Bi9qXs\" class=\" yt-uix-sessionlink      spf-link \" data-sessionlink=\"itct=CE0Q3DAYBCITCISO3YH-ktUCFcmBHAod3Q4IPyjpHjIIdHJlbmRpbmdaCkZFdHJlbmRpbmc\"><div class=\"yt-thumb video-thumb\"><span class=\"yt-thumb-simple\">\n",
      "<img data-ytimg=\"1\" onload=\";window.__ytRIL &amp;&amp; __ytRIL(this)\" src=\"/yts/img/pixel-vfl3z5WfW.gif\" height=\"110\" width=\"196\" alt=\"\" data-thumb=\"https://i.ytimg.com/vi/foLf5Bi9qXs/hqdefault.jpg?sqp=-oaymwEWCMQBEG5IWvKriqkDCQgBFQAAiEIYAQ==&amp;rs=AOn4CLDlk53L_OOK4zlaYEBUJZCJlQOhiw\" />\n",
      "<span class=\"video-time\" aria-hidden=\"true\">5:15</span></span></div></a>, <a href=\"/watch?v=foLf5Bi9qXs\" class=\"yt-uix-tile-link yt-ui-ellipsis yt-ui-ellipsis-2 yt-uix-sessionlink      spf-link \" data-sessionlink=\"itct=CE0Q3DAYBCITCISO3YH-ktUCFcmBHAod3Q4IPyjpHjIIdHJlbmRpbmdaCkZFdHJlbmRpbmc\" title=\"How does caffeine keep us awake? - Hanan Qasim\" aria-describedby=\"description-id-42739\" dir=\"ltr\">How does caffeine keep us awake? - Hanan Qasim</a>, <a href=\"/user/TEDEducation\" class=\"g-hovercard yt-uix-sessionlink       spf-link \" data-sessionlink=\"itct=CE0Q3DAYBCITCISO3YH-ktUCFcmBHAod3Q4IPyjpHg\" data-ytid=\"UCsooa4yRKGN_zEE8iknghZA\">TED-Ed</a>, <a href=\"http://ed.ted.com/lessons/how-does-caffeine-keep-us-awake-hanan-qasim\" target=\"_blank\" title=\"http://ed.ted.com/lessons/how-does-caffeine-keep-us-awake-hanan-qasim\" rel=\"nofollow\" dir=\"ltr\" class=\"yt-uix-redirect-link\">http://ed.ted.com/lessons/how-does-caffeine-keep-us-awake...</a>, <a aria-hidden=\"true\" href=\"/watch?v=ZCLhaPWwVwM\" class=\" yt-uix-sessionlink      spf-link \" data-sessionlink=\"itct=CEwQ3DAYBSITCISO3YH-ktUCFcmBHAod3Q4IPyjpHjIIdHJlbmRpbmdaCkZFdHJlbmRpbmc\"><div class=\"yt-thumb video-thumb\"><span class=\"yt-thumb-simple\">\n",
      "<img data-ytimg=\"1\" onload=\";window.__ytRIL &amp;&amp; __ytRIL(this)\" src=\"/yts/img/pixel-vfl3z5WfW.gif\" height=\"110\" width=\"196\" alt=\"\" data-thumb=\"https://i.ytimg.com/vi/ZCLhaPWwVwM/hqdefault.jpg?sqp=-oaymwEWCMQBEG5IWvKriqkDCQgBFQAAiEIYAQ==&amp;rs=AOn4CLCmdQwxOilegHBcSd4nVKqD-phqDg\" />\n",
      "<span class=\"video-time\" aria-hidden=\"true\">1:06</span></span></div></a>, <a href=\"/watch?v=ZCLhaPWwVwM\" class=\"yt-uix-tile-link yt-ui-ellipsis yt-ui-ellipsis-2 yt-uix-sessionlink      spf-link \" data-sessionlink=\"itct=CEwQ3DAYBSITCISO3YH-ktUCFcmBHAod3Q4IPyjpHjIIdHJlbmRpbmdaCkZFdHJlbmRpbmc\" title=\"Game of Thrones - Season 7 - Ed Sheeran - Arya Stark - Lannister Song - Hands of Gold\" aria-describedby=\"description-id-176496\" dir=\"ltr\">Game of Thrones - Season 7 - Ed Sheeran - Arya Stark - Lannister Song - Hands of Gold</a>, <a href=\"/channel/UC7sWl-X0cqwOXlDo8lKdXTQ\" class=\"g-hovercard yt-uix-sessionlink       spf-link \" data-sessionlink=\"itct=CEwQ3DAYBSITCISO3YH-ktUCFcmBHAod3Q4IPyjpHg\" data-ytid=\"UC7sWl-X0cqwOXlDo8lKdXTQ\">Rhaegar Targaryen</a>, <a aria-hidden=\"true\" href=\"/watch?v=5PmRV5zni7I\" class=\" yt-uix-sessionlink      spf-link \" data-sessionlink=\"itct=CEsQ3DAYBiITCISO3YH-ktUCFcmBHAod3Q4IPyjpHjIIdHJlbmRpbmdaCkZFdHJlbmRpbmc\"><div class=\"yt-thumb video-thumb\"><span class=\"yt-thumb-simple\">\n",
      "<img data-ytimg=\"1\" onload=\";window.__ytRIL &amp;&amp; __ytRIL(this)\" src=\"/yts/img/pixel-vfl3z5WfW.gif\" height=\"110\" width=\"196\" alt=\"\" data-thumb=\"https://i.ytimg.com/vi/5PmRV5zni7I/hqdefault.jpg?sqp=-oaymwEWCMQBEG5IWvKriqkDCQgBFQAAiEIYAQ==&amp;rs=AOn4CLBOkktQ9NtDr8sSsAjgN209twnxpA\" />\n",
      "<span class=\"video-time\" aria-hidden=\"true\">0:36</span></span></div></a>, <a href=\"/watch?v=5PmRV5zni7I\" class=\"yt-uix-tile-link yt-ui-ellipsis yt-ui-ellipsis-2 yt-uix-sessionlink      spf-link \" data-sessionlink=\"itct=CEsQ3DAYBiITCISO3YH-ktUCFcmBHAod3Q4IPyjpHjIIdHJlbmRpbmdaCkZFdHJlbmRpbmc\" title='David Spade Performs Wham!’s “Wake Me Up Before You Go-Go\" | Lip Sync Battle' aria-describedby=\"description-id-719635\" dir=\"ltr\">David Spade Performs Wham!’s “Wake Me Up Before You Go-Go&quot; | Lip Sync Battle</a>, <a href=\"/user/LipSyncBattle\" class=\"g-hovercard yt-uix-sessionlink       spf-link \" data-sessionlink=\"itct=CEsQ3DAYBiITCISO3YH-ktUCFcmBHAod3Q4IPyjpHg\" data-ytid=\"UCjzEF5kUZypUftfHD1MKuCg\">Lip Sync Battle on Spike</a>, <a aria-hidden=\"true\" href=\"/watch?v=TqOzdRLb1Hc\" class=\" yt-uix-sessionlink      spf-link \" data-sessionlink=\"itct=CEoQ3DAYByITCISO3YH-ktUCFcmBHAod3Q4IPyjpHjIIdHJlbmRpbmdaCkZFdHJlbmRpbmc\"><div class=\"yt-thumb video-thumb\"><span class=\"yt-thumb-simple\">\n",
      "<img data-ytimg=\"1\" onload=\";window.__ytRIL &amp;&amp; __ytRIL(this)\" src=\"/yts/img/pixel-vfl3z5WfW.gif\" height=\"110\" width=\"196\" alt=\"\" data-thumb=\"https://i.ytimg.com/vi/TqOzdRLb1Hc/hqdefault.jpg?sqp=-oaymwEWCMQBEG5IWvKriqkDCQgBFQAAiEIYAQ==&amp;rs=AOn4CLCgUMXuj-VuIYjyoZN0TmvcFBZOXg\" />\n",
      "<span class=\"video-time\" aria-hidden=\"true\">0:39</span></span></div></a>, <a href=\"/watch?v=TqOzdRLb1Hc\" class=\"yt-uix-tile-link yt-ui-ellipsis yt-ui-ellipsis-2 yt-uix-sessionlink      spf-link \" data-sessionlink=\"itct=CEoQ3DAYByITCISO3YH-ktUCFcmBHAod3Q4IPyjpHjIIdHJlbmRpbmdaCkZFdHJlbmRpbmc\" title=\"Stephen Kicks Off 'Russia Week' From Red Square\" aria-describedby=\"description-id-359396\" dir=\"ltr\">Stephen Kicks Off &#39;Russia Week&#39; From Red Square</a>, <a href=\"/channel/UCMtFAi84ehTSYSE9XoHefig\" class=\"g-hovercard yt-uix-sessionlink       spf-link \" data-sessionlink=\"itct=CEoQ3DAYByITCISO3YH-ktUCFcmBHAod3Q4IPyjpHg\" data-ytid=\"UCMtFAi84ehTSYSE9XoHefig\">The Late Show with Stephen Colbert</a>, <a aria-hidden=\"true\" href=\"/watch?v=FDBFbrynfvA\" class=\" yt-uix-sessionlink      spf-link \" data-sessionlink=\"itct=CEkQ3DAYCCITCISO3YH-ktUCFcmBHAod3Q4IPyjpHjIIdHJlbmRpbmdaCkZFdHJlbmRpbmc\"><div class=\"yt-thumb video-thumb\"><span class=\"yt-thumb-simple\">\n",
      "<img data-ytimg=\"1\" onload=\";window.__ytRIL &amp;&amp; __ytRIL(this)\" src=\"/yts/img/pixel-vfl3z5WfW.gif\" height=\"110\" width=\"196\" alt=\"\" data-thumb=\"https://i.ytimg.com/vi/FDBFbrynfvA/hqdefault.jpg?sqp=-oaymwEWCMQBEG5IWvKriqkDCQgBFQAAiEIYAQ==&amp;rs=AOn4CLDhJkn18AK_Z_8Rf33CTYrrt_gJuw\" />\n",
      "<span class=\"video-time\" aria-hidden=\"true\">0:43</span></span></div></a>, <a href=\"/watch?v=FDBFbrynfvA\" class=\"yt-uix-tile-link yt-ui-ellipsis yt-ui-ellipsis-2 yt-uix-sessionlink      spf-link \" data-sessionlink=\"itct=CEkQ3DAYCCITCISO3YH-ktUCFcmBHAod3Q4IPyjpHjIIdHJlbmRpbmdaCkZFdHJlbmRpbmc\" title=\"Top 3 shockers of Season 7's Game of Thrones premiere\" aria-describedby=\"description-id-193091\" dir=\"ltr\">Top 3 shockers of Season 7&#39;s Game of Thrones premiere</a>, <a href=\"/user/USATODAY\" class=\"g-hovercard yt-uix-sessionlink       spf-link \" data-sessionlink=\"itct=CEkQ3DAYCCITCISO3YH-ktUCFcmBHAod3Q4IPyjpHg\" data-ytid=\"UCP6HGa63sBC7-KHtkme-p-g\">USA TODAY</a>, <a aria-hidden=\"true\" href=\"/watch?v=ye6GCY_vqYk\" class=\" yt-uix-sessionlink      spf-link \" data-sessionlink=\"itct=CEgQ3DAYCSITCISO3YH-ktUCFcmBHAod3Q4IPyjpHjIIdHJlbmRpbmdaCkZFdHJlbmRpbmc\"><div class=\"yt-thumb video-thumb\"><span class=\"yt-thumb-simple\">\n",
      "<img data-ytimg=\"1\" onload=\";window.__ytRIL &amp;&amp; __ytRIL(this)\" src=\"/yts/img/pixel-vfl3z5WfW.gif\" height=\"110\" width=\"196\" alt=\"\" data-thumb=\"https://i.ytimg.com/vi/ye6GCY_vqYk/hqdefault.jpg?sqp=-oaymwEWCMQBEG5IWvKriqkDCQgBFQAAiEIYAQ==&amp;rs=AOn4CLDqAmCSkQDtPh39psDXnaJV8iWpGQ\" />\n",
      "<span class=\"video-time\" aria-hidden=\"true\">2:59</span></span></div></a>, <a href=\"/watch?v=ye6GCY_vqYk\" class=\"yt-uix-tile-link yt-ui-ellipsis yt-ui-ellipsis-2 yt-uix-sessionlink      spf-link \" data-sessionlink=\"itct=CEgQ3DAYCSITCISO3YH-ktUCFcmBHAod3Q4IPyjpHjIIdHJlbmRpbmdaCkZFdHJlbmRpbmc\" title=\"Star Wars: The Last Jedi Behind The Scenes\" aria-describedby=\"description-id-424452\" dir=\"ltr\">Star Wars: The Last Jedi Behind The Scenes</a>, <a href=\"/user/starwars\" class=\"g-hovercard yt-uix-sessionlink       spf-link \" data-sessionlink=\"itct=CEgQ3DAYCSITCISO3YH-ktUCFcmBHAod3Q4IPyjpHg\" data-ytid=\"UCZGYJFUizSax-yElQaFDp5Q\">Star Wars</a>, <a href=\"http://www.starwars.com\" target=\"_blank\" title=\"http://www.starwars.com\" rel=\"nofollow\" dir=\"ltr\" class=\"yt-uix-redirect-link\">http://www.starwars.com</a>, <a href=\"http://www.youtube.com/starwars\" target=\"_blank\" title=\"http://www.youtube.com/starwars\" rel=\"nofollow\" dir=\"ltr\" class=\"yt-uix-redirect-link\">http://www.youtube.com/starwars</a>, <a aria-hidden=\"true\" href=\"/watch?v=3qFYoVeKof4\" class=\" yt-uix-sessionlink      spf-link \" data-sessionlink=\"itct=CEcQ3DAYCiITCISO3YH-ktUCFcmBHAod3Q4IPyjpHjIIdHJlbmRpbmdaCkZFdHJlbmRpbmc\"><div class=\"yt-thumb video-thumb\"><span class=\"yt-thumb-simple\">\n",
      "<img data-ytimg=\"1\" onload=\";window.__ytRIL &amp;&amp; __ytRIL(this)\" src=\"/yts/img/pixel-vfl3z5WfW.gif\" height=\"110\" width=\"196\" alt=\"\" data-thumb=\"https://i.ytimg.com/vi/3qFYoVeKof4/hqdefault.jpg?sqp=-oaymwEWCMQBEG5IWvKriqkDCQgBFQAAiEIYAQ==&amp;rs=AOn4CLDq2ywjwo0C6SwwxjYP2mpwWHbw9w\" />\n",
      "<span class=\"video-time\" aria-hidden=\"true\">1:05</span></span></div></a>, <a href=\"/watch?v=3qFYoVeKof4\" class=\"yt-uix-tile-link yt-ui-ellipsis yt-ui-ellipsis-2 yt-uix-sessionlink      spf-link \" data-sessionlink=\"itct=CEcQ3DAYCiITCISO3YH-ktUCFcmBHAod3Q4IPyjpHjIIdHJlbmRpbmdaCkZFdHJlbmRpbmc\" title=\"See the Huge Crack in West Antarctica Before Iceberg Broke Off | National Geographic\" aria-describedby=\"description-id-387575\" dir=\"ltr\">See the Huge Crack in West Antarctica Before Iceberg Broke Off | National Geographic</a>, <a href=\"/user/NationalGeographic\" class=\"g-hovercard yt-uix-sessionlink       spf-link \" data-sessionlink=\"itct=CEcQ3DAYCiITCISO3YH-ktUCFcmBHAod3Q4IPyjpHg\" data-ytid=\"UCpVm7bg6pXKo1Pr6k5kxG9A\">National Geographic</a>, <a aria-hidden=\"true\" href=\"/watch?v=senqJyYkUDQ\" class=\" yt-uix-sessionlink      spf-link \" data-sessionlink=\"itct=CEYQ3DAYCyITCISO3YH-ktUCFcmBHAod3Q4IPyjpHjIIdHJlbmRpbmdaCkZFdHJlbmRpbmc\"><div class=\"yt-thumb video-thumb\"><span class=\"yt-thumb-simple\">\n",
      "<img data-ytimg=\"1\" onload=\";window.__ytRIL &amp;&amp; __ytRIL(this)\" src=\"/yts/img/pixel-vfl3z5WfW.gif\" height=\"110\" width=\"196\" alt=\"\" data-thumb=\"https://i.ytimg.com/vi/senqJyYkUDQ/hqdefault.jpg?sqp=-oaymwEWCMQBEG5IWvKriqkDCQgBFQAAiEIYAQ==&amp;rs=AOn4CLCzcIjiKKJurHvzerg7BW_V3HnstQ\" />\n",
      "<span class=\"video-time\" aria-hidden=\"true\">7:29</span></span></div></a>, <a href=\"/watch?v=senqJyYkUDQ\" class=\"yt-uix-tile-link yt-ui-ellipsis yt-ui-ellipsis-2 yt-uix-sessionlink      spf-link \" data-sessionlink=\"itct=CEYQ3DAYCyITCISO3YH-ktUCFcmBHAod3Q4IPyjpHjIIdHJlbmRpbmdaCkZFdHJlbmRpbmc\" title=\"Lonzo Ball MVP Offense Highlights (2017 Summer League) - LA Lakers Debut!\" aria-describedby=\"description-id-758967\" dir=\"ltr\">Lonzo Ball MVP Offense Highlights (2017 Summer League) - LA Lakers Debut!</a>, <a href=\"/channel/UCd_EkHbEutirFl_XSrg95kA\" class=\"g-hovercard yt-uix-sessionlink       spf-link \" data-sessionlink=\"itct=CEYQ3DAYCyITCISO3YH-ktUCFcmBHAod3Q4IPyjpHg\" data-ytid=\"UCd_EkHbEutirFl_XSrg95kA\">Real GD&#39;s Latest Highlights</a>, <a href=\"http://goo.gl/RctO1o\" target=\"_blank\" title=\"http://goo.gl/RctO1o\" rel=\"nofollow\" dir=\"ltr\" class=\"yt-uix-redirect-link\">http://goo.gl/RctO1o</a>, <a href=\"http://goo.gl/rZRTwc\" target=\"_blank\" title=\"http://goo.gl/rZRTwc\" rel=\"nofollow\" dir=\"ltr\" class=\"yt-uix-redirect-link\">http://goo.gl/rZRTwc</a>, <a href=\"https://goo\" target=\"_blank\" title=\"https://goo\" rel=\"nofollow\" dir=\"ltr\" class=\"yt-uix-redirect-link\">https://goo</a>, <a aria-hidden=\"true\" href=\"/watch?v=LXreT3NNhzw\" class=\" yt-uix-sessionlink      spf-link \" data-sessionlink=\"itct=CEUQ3DAYDCITCISO3YH-ktUCFcmBHAod3Q4IPyjpHjIIdHJlbmRpbmdaCkZFdHJlbmRpbmc\"><div class=\"yt-thumb video-thumb\"><span class=\"yt-thumb-simple\">\n",
      "<img data-ytimg=\"1\" onload=\";window.__ytRIL &amp;&amp; __ytRIL(this)\" src=\"/yts/img/pixel-vfl3z5WfW.gif\" height=\"110\" width=\"196\" alt=\"\" data-thumb=\"https://i.ytimg.com/vi/LXreT3NNhzw/hqdefault.jpg?sqp=-oaymwEWCMQBEG5IWvKriqkDCQgBFQAAiEIYAQ==&amp;rs=AOn4CLCP1UeXXkXRdfO5ZLVwAvi4gMo4HA\" />\n",
      "<span class=\"video-time\" aria-hidden=\"true\">3:46</span></span></div></a>, <a href=\"/watch?v=LXreT3NNhzw\" class=\"yt-uix-tile-link yt-ui-ellipsis yt-ui-ellipsis-2 yt-uix-sessionlink      spf-link \" data-sessionlink=\"itct=CEUQ3DAYDCITCISO3YH-ktUCFcmBHAod3Q4IPyjpHjIIdHJlbmRpbmdaCkZFdHJlbmRpbmc\" title=\"Harry Styles' HEART MONITOR CHALLENGE with Nick Grimshaw\" aria-describedby=\"description-id-129863\" dir=\"ltr\">Harry Styles&#39; HEART MONITOR CHALLENGE with Nick Grimshaw</a>, <a href=\"/user/bbcradio1\" class=\"g-hovercard yt-uix-sessionlink       spf-link \" data-sessionlink=\"itct=CEUQ3DAYDCITCISO3YH-ktUCFcmBHAod3Q4IPyjpHg\" data-ytid=\"UC-FQUIVQ-bZiefzBiQAa8Fw\">BBC Radio 1</a>, <a aria-hidden=\"true\" href=\"/watch?v=GmULc5VANsw\" class=\" yt-uix-sessionlink      spf-link \" data-sessionlink=\"itct=CEQQ3DAYDSITCISO3YH-ktUCFcmBHAod3Q4IPyjpHjIIdHJlbmRpbmdaCkZFdHJlbmRpbmc\"><div class=\"yt-thumb video-thumb\"><span class=\"yt-thumb-simple\">\n",
      "<img data-ytimg=\"1\" onload=\";window.__ytRIL &amp;&amp; __ytRIL(this)\" src=\"/yts/img/pixel-vfl3z5WfW.gif\" height=\"110\" width=\"196\" alt=\"\" data-thumb=\"https://i.ytimg.com/vi/GmULc5VANsw/hqdefault.jpg?sqp=-oaymwEWCMQBEG5IWvKriqkDCQgBFQAAiEIYAQ==&amp;rs=AOn4CLC-qrn6JgvJRkioGOmN71eEhuuWIw\" />\n",
      "<span class=\"video-time\" aria-hidden=\"true\">8:14</span></span></div></a>, <a href=\"/watch?v=GmULc5VANsw\" class=\"yt-uix-tile-link yt-ui-ellipsis yt-ui-ellipsis-2 yt-uix-sessionlink      spf-link \" data-sessionlink=\"itct=CEQQ3DAYDSITCISO3YH-ktUCFcmBHAod3Q4IPyjpHjIIdHJlbmRpbmdaCkZFdHJlbmRpbmc\" title=\"The Failure of Rainfurrest\" aria-describedby=\"description-id-421049\" dir=\"ltr\">The Failure of Rainfurrest</a>, <a href=\"/channel/UCR1D15p_vdP3HkrH8wgjQRw\" class=\"g-hovercard yt-uix-sessionlink       spf-link \" data-sessionlink=\"itct=CEQQ3DAYDSITCISO3YH-ktUCFcmBHAod3Q4IPyjpHg\" data-ytid=\"UCR1D15p_vdP3HkrH8wgjQRw\">Internet Historian</a>, <a href=\"https://www.patreon.com/internethistorian\" target=\"_blank\" title=\"https://www.patreon.com/internethistorian\" rel=\"nofollow\" dir=\"ltr\" class=\"yt-uix-redirect-link\">https://www.patreon.com/internethistorian</a>, <a aria-hidden=\"true\" href=\"/watch?v=E4U3TeY2wtM\" class=\" yt-uix-sessionlink      spf-link \" data-sessionlink=\"itct=CEMQ3DAYDiITCISO3YH-ktUCFcmBHAod3Q4IPyjpHjIIdHJlbmRpbmdaCkZFdHJlbmRpbmc\"><div class=\"yt-thumb video-thumb\"><span class=\"yt-thumb-simple\">\n",
      "<img data-ytimg=\"1\" onload=\";window.__ytRIL &amp;&amp; __ytRIL(this)\" src=\"/yts/img/pixel-vfl3z5WfW.gif\" height=\"110\" width=\"196\" alt=\"\" data-thumb=\"https://i.ytimg.com/vi/E4U3TeY2wtM/hqdefault.jpg?sqp=-oaymwEWCMQBEG5IWvKriqkDCQgBFQAAiEIYAQ==&amp;rs=AOn4CLBCt7siq_G7d288KcJxzkMqArfrQw\" />\n",
      "<span class=\"video-time\" aria-hidden=\"true\">1:50</span></span></div></a>, <a href=\"/watch?v=E4U3TeY2wtM\" class=\"yt-uix-tile-link yt-ui-ellipsis yt-ui-ellipsis-2 yt-uix-sessionlink      spf-link \" data-sessionlink=\"itct=CEMQ3DAYDiITCISO3YH-ktUCFcmBHAod3Q4IPyjpHjIIdHJlbmRpbmdaCkZFdHJlbmRpbmc\" title=\"A Wrinkle In Time Official US Teaser Trailer\" aria-describedby=\"description-id-87793\" dir=\"ltr\">A Wrinkle In Time Official US Teaser Trailer</a>, <a href=\"/user/DisneyMovieTrailers\" class=\"g-hovercard yt-uix-sessionlink       spf-link \" data-sessionlink=\"itct=CEMQ3DAYDiITCISO3YH-ktUCFcmBHAod3Q4IPyjpHg\" data-ytid=\"UCuaFvcY4MhZY3U43mMt1dYQ\">Disney Movie Trailers</a>, <a aria-hidden=\"true\" href=\"/watch?v=nryiwb1gcBA\" class=\" yt-uix-sessionlink      spf-link \" data-sessionlink=\"itct=CEIQ3DAYDyITCISO3YH-ktUCFcmBHAod3Q4IPyjpHjIIdHJlbmRpbmdaCkZFdHJlbmRpbmc\"><div class=\"yt-thumb video-thumb\"><span class=\"yt-thumb-simple\">\n",
      "<img data-ytimg=\"1\" onload=\";window.__ytRIL &amp;&amp; __ytRIL(this)\" src=\"/yts/img/pixel-vfl3z5WfW.gif\" height=\"110\" width=\"196\" alt=\"\" data-thumb=\"https://i.ytimg.com/vi/nryiwb1gcBA/hqdefault.jpg?sqp=-oaymwEWCMQBEG5IWvKriqkDCQgBFQAAiEIYAQ==&amp;rs=AOn4CLCpVV3jkSRMwQLWyICgJVBlZfR0Og\" />\n",
      "<span class=\"video-time\" aria-hidden=\"true\">1:01</span></span></div></a>, <a href=\"/watch?v=nryiwb1gcBA\" class=\"yt-uix-tile-link yt-ui-ellipsis yt-ui-ellipsis-2 yt-uix-sessionlink      spf-link \" data-sessionlink=\"itct=CEIQ3DAYDyITCISO3YH-ktUCFcmBHAod3Q4IPyjpHjIIdHJlbmRpbmdaCkZFdHJlbmRpbmc\" title=\"Meet the Thirteenth Doctor | Doctor Who\" aria-describedby=\"description-id-844372\" dir=\"ltr\">Meet the Thirteenth Doctor | Doctor Who</a>, <a href=\"/user/BBCAmericaTV\" class=\"g-hovercard yt-uix-sessionlink       spf-link \" data-sessionlink=\"itct=CEIQ3DAYDyITCISO3YH-ktUCFcmBHAod3Q4IPyjpHg\" data-ytid=\"UCdHkLMxTYwV66Sky1xXVrxQ\">BBC America</a>, <a href=\"http://bit.ly/1aP6Fo9\" target=\"_blank\" title=\"http://bit.ly/1aP6Fo9\" rel=\"nofollow\" dir=\"ltr\" class=\"yt-uix-redirect-link\">http://bit.ly/1aP6Fo9</a>, <a href=\"http://twitter.com/doctorwho_bbca\" target=\"_blank\" title=\"http://twitter.com/doctorwho_bbca\" rel=\"nofollow\" dir=\"ltr\" class=\"yt-uix-redirect-link\">http://twitter.com/doctorwho_bbca</a>, <a href=\"http://www.facebook.com/DoctorWho\" target=\"_blank\" title=\"http://www.facebook.com/DoctorWho\" rel=\"nofollow\" dir=\"ltr\" class=\"yt-uix-redirect-link\">http://www.facebook.com/DoctorWho</a>, <a href=\"http://DoctorWho.tumbl\" target=\"_blank\" title=\"http://DoctorWho.tumbl\" rel=\"nofollow\" dir=\"ltr\" class=\"yt-uix-redirect-link\">http://DoctorWho.tumbl</a>, <a aria-hidden=\"true\" href=\"/watch?v=lY2y5hHdWEo\" class=\" yt-uix-sessionlink      spf-link \" data-sessionlink=\"itct=CEEQ3DAYECITCISO3YH-ktUCFcmBHAod3Q4IPyjpHjIIdHJlbmRpbmdaCkZFdHJlbmRpbmc\"><div class=\"yt-thumb video-thumb\"><span class=\"yt-thumb-simple\">\n",
      "<img data-ytimg=\"1\" onload=\";window.__ytRIL &amp;&amp; __ytRIL(this)\" src=\"/yts/img/pixel-vfl3z5WfW.gif\" height=\"110\" width=\"196\" alt=\"\" data-thumb=\"https://i.ytimg.com/vi/lY2y5hHdWEo/hqdefault.jpg?sqp=-oaymwEWCMQBEG5IWvKriqkDCQgBFQAAiEIYAQ==&amp;rs=AOn4CLAMmY-dvZNrvZKjyNsiO6oZ1Poezg\" />\n",
      "<span class=\"video-time\" aria-hidden=\"true\">2:29:05</span></span></div></a>, <a href=\"/watch?v=lY2y5hHdWEo\" class=\"yt-uix-tile-link yt-ui-ellipsis yt-ui-ellipsis-2 yt-uix-sessionlink      spf-link \" data-sessionlink=\"itct=CEEQ3DAYECITCISO3YH-ktUCFcmBHAod3Q4IPyjpHjIIdHJlbmRpbmdaCkZFdHJlbmRpbmc\" title=\"Game of Thrones Season 7 Episode 1 Review / Reaction - Live After Show!\" aria-describedby=\"description-id-360888\" dir=\"ltr\">Game of Thrones Season 7 Episode 1 Review / Reaction - Live After Show!</a>, <a href=\"/channel/UCZZo2jEVm4lui8eLmoV8ICw\" class=\"g-hovercard yt-uix-sessionlink       spf-link \" data-sessionlink=\"itct=CEEQ3DAYECITCISO3YH-ktUCFcmBHAod3Q4IPyjpHg\" data-ytid=\"UCZZo2jEVm4lui8eLmoV8ICw\">SmokeScreen</a>, <a href=\"http://tinyurl.com/o93l5gn\" target=\"_blank\" title=\"http://tinyurl.com/o93l5gn\" rel=\"nofollow\" dir=\"ltr\" class=\"yt-uix-redirect-link\">http://tinyurl.com/o93l5gn</a>, <a href=\"https://teespring.com/stores/smokescreenvids\" target=\"_blank\" title=\"https://teespring.com/stores/smokescreenvids\" rel=\"nofollow\" dir=\"ltr\" class=\"yt-uix-redirect-link\">https://teespring.com/stores/smokescreenvids</a>, <a aria-hidden=\"true\" href=\"/watch?v=q1IczjLYCIM\" class=\" yt-uix-sessionlink      spf-link \" data-sessionlink=\"itct=CEAQ3DAYESITCISO3YH-ktUCFcmBHAod3Q4IPyjpHjIIdHJlbmRpbmdaCkZFdHJlbmRpbmc\"><div class=\"yt-thumb video-thumb\"><span class=\"yt-thumb-simple\">\n",
      "<img data-ytimg=\"1\" onload=\";window.__ytRIL &amp;&amp; __ytRIL(this)\" src=\"/yts/img/pixel-vfl3z5WfW.gif\" height=\"110\" width=\"196\" alt=\"\" data-thumb=\"https://i.ytimg.com/vi/q1IczjLYCIM/hqdefault.jpg?sqp=-oaymwEWCMQBEG5IWvKriqkDCQgBFQAAiEIYAQ==&amp;rs=AOn4CLChWOBh08-qlBde-nFsLQw_HoUSBA\" />\n",
      "<span class=\"video-time\" aria-hidden=\"true\">1:01</span></span></div></a>, <a href=\"/watch?v=q1IczjLYCIM\" class=\"yt-uix-tile-link yt-ui-ellipsis yt-ui-ellipsis-2 yt-uix-sessionlink      spf-link \" data-sessionlink=\"itct=CEAQ3DAYESITCISO3YH-ktUCFcmBHAod3Q4IPyjpHjIIdHJlbmRpbmdaCkZFdHJlbmRpbmc\" title=\"The Thirteenth Doctor revealed - Doctor Who: Trailer - BBC One\" aria-describedby=\"description-id-419276\" dir=\"ltr\">The Thirteenth Doctor revealed - Doctor Who: Trailer - BBC One</a>, <a href=\"/user/BBC\" class=\"g-hovercard yt-uix-sessionlink       spf-link \" data-sessionlink=\"itct=CEAQ3DAYESITCISO3YH-ktUCFcmBHAod3Q4IPyjpHg\" data-ytid=\"UCCj956IF62FbT7Gouszaj9w\">BBC</a>, <a href=\"http://bbc.in/1iNCCAI\" target=\"_blank\" title=\"http://bbc.in/1iNCCAI\" rel=\"nofollow\" dir=\"ltr\" class=\"yt-uix-redirect-link\">http://bbc.in/1iNCCAI</a>, <a aria-hidden=\"true\" href=\"/watch?v=D-AQC8Bbvhs\" class=\" yt-uix-sessionlink      spf-link \" data-sessionlink=\"itct=CD8Q3DAYEiITCISO3YH-ktUCFcmBHAod3Q4IPyjpHjIIdHJlbmRpbmdaCkZFdHJlbmRpbmc\"><div class=\"yt-thumb video-thumb\"><span class=\"yt-thumb-simple\">\n",
      "<img data-ytimg=\"1\" onload=\";window.__ytRIL &amp;&amp; __ytRIL(this)\" src=\"/yts/img/pixel-vfl3z5WfW.gif\" height=\"110\" width=\"196\" alt=\"\" data-thumb=\"https://i.ytimg.com/vi/D-AQC8Bbvhs/hqdefault.jpg?sqp=-oaymwEWCMQBEG5IWvKriqkDCQgBFQAAiEIYAQ==&amp;rs=AOn4CLDq2CC5mKWXLdc0BG5knU7dxFpvSA\" />\n",
      "<span class=\"video-time\" aria-hidden=\"true\">1:06</span></span></div></a>, <a href=\"/watch?v=D-AQC8Bbvhs\" class=\"yt-uix-tile-link yt-ui-ellipsis yt-ui-ellipsis-2 yt-uix-sessionlink      spf-link \" data-sessionlink=\"itct=CD8Q3DAYEiITCISO3YH-ktUCFcmBHAod3Q4IPyjpHjIIdHJlbmRpbmdaCkZFdHJlbmRpbmc\" title=\"Roger Federer wins Wimbledon 2017\" aria-describedby=\"description-id-720134\" dir=\"ltr\">Roger Federer wins Wimbledon 2017</a>, <a href=\"/user/Wimbledon\" class=\"g-hovercard yt-uix-sessionlink       spf-link \" data-sessionlink=\"itct=CD8Q3DAYEiITCISO3YH-ktUCFcmBHAod3Q4IPyjpHg\" data-ytid=\"UCNa8NxMgSm7m4Ii9d4QGk1Q\">Wimbledon</a>, <a href=\"http://www.youtube.com/wimbledon\" target=\"_blank\" title=\"http://www.youtube.com/wimbledon\" rel=\"nofollow\" dir=\"ltr\" class=\"yt-uix-redirect-link\">http://www.youtube.com/wimbledon</a>, <a href=\"https://www.facebook.com/Wimbledon\" target=\"_blank\" title=\"https://www.facebook.com/Wimbledon\" rel=\"nofollow\" dir=\"ltr\" class=\"yt-uix-redirect-link\">https://www.facebook.com/Wimbledon</a>, <a href=\"https://twitter.com/Wimble\" target=\"_blank\" title=\"https://twitter.com/Wimble\" rel=\"nofollow\" dir=\"ltr\" class=\"yt-uix-redirect-link\">https://twitter.com/Wimble</a>, <a aria-hidden=\"true\" href=\"/watch?v=n3HCbFF4ma8\" class=\" yt-uix-sessionlink      spf-link \" data-sessionlink=\"itct=CD4Q3DAYEyITCISO3YH-ktUCFcmBHAod3Q4IPyjpHjIIdHJlbmRpbmdaCkZFdHJlbmRpbmc\"><div class=\"yt-thumb video-thumb\"><span class=\"yt-thumb-simple\">\n",
      "<img data-ytimg=\"1\" onload=\";window.__ytRIL &amp;&amp; __ytRIL(this)\" src=\"/yts/img/pixel-vfl3z5WfW.gif\" height=\"110\" width=\"196\" alt=\"\" data-thumb=\"https://i.ytimg.com/vi/n3HCbFF4ma8/hqdefault.jpg?sqp=-oaymwEWCMQBEG5IWvKriqkDCQgBFQAAiEIYAQ==&amp;rs=AOn4CLASBMAGbu5w75A07rvBlMcgzguKow\" />\n",
      "<span class=\"video-time\" aria-hidden=\"true\">27:10</span></span></div></a>, <a href=\"/watch?v=n3HCbFF4ma8\" class=\"yt-uix-tile-link yt-ui-ellipsis yt-ui-ellipsis-2 yt-uix-sessionlink      spf-link \" data-sessionlink=\"itct=CD4Q3DAYEyITCISO3YH-ktUCFcmBHAod3Q4IPyjpHjIIdHJlbmRpbmdaCkZFdHJlbmRpbmc\" title='Regina Hall &amp; Jada Pinkett Smith Talk About \"Girls Trip\"' aria-describedby=\"description-id-320641\" dir=\"ltr\">Regina Hall &amp; Jada Pinkett Smith Talk About &quot;Girls Trip&quot;</a>, <a href=\"/channel/UClZmCCcrhNaXhWYvZNIolWg\" class=\"g-hovercard yt-uix-sessionlink       spf-link \" data-sessionlink=\"itct=CD4Q3DAYEyITCISO3YH-ktUCFcmBHAod3Q4IPyjpHg\" data-ytid=\"UClZmCCcrhNaXhWYvZNIolWg\">BUILD Series</a>, <a aria-hidden=\"true\" href=\"/watch?v=8JKCd1B-MpQ\" class=\" yt-uix-sessionlink      spf-link \" data-sessionlink=\"itct=CD0Q3DAYFCITCISO3YH-ktUCFcmBHAod3Q4IPyjpHjIIdHJlbmRpbmdaCkZFdHJlbmRpbmc\"><div class=\"yt-thumb video-thumb\"><span class=\"yt-thumb-simple\">\n",
      "<img data-ytimg=\"1\" onload=\";window.__ytRIL &amp;&amp; __ytRIL(this)\" src=\"/yts/img/pixel-vfl3z5WfW.gif\" height=\"110\" width=\"196\" alt=\"\" data-thumb=\"https://i.ytimg.com/vi/8JKCd1B-MpQ/hqdefault.jpg?sqp=-oaymwEWCMQBEG5IWvKriqkDCQgBFQAAiEIYAQ==&amp;rs=AOn4CLCNpJwxNQgGgSNX6LePCUWzvyy_Cw\" />\n",
      "<span class=\"video-time\" aria-hidden=\"true\">3:24</span></span></div></a>, <a href=\"/watch?v=8JKCd1B-MpQ\" class=\"yt-uix-tile-link yt-ui-ellipsis yt-ui-ellipsis-2 yt-uix-sessionlink      spf-link \" data-sessionlink=\"itct=CD0Q3DAYFCITCISO3YH-ktUCFcmBHAod3Q4IPyjpHjIIdHJlbmRpbmdaCkZFdHJlbmRpbmc\" title=\"Leela James - Hard For Me\" aria-describedby=\"description-id-362879\" dir=\"ltr\">Leela James - Hard For Me</a>, <a href=\"/user/leelajamesVEVO\" class=\"g-hovercard yt-uix-sessionlink       spf-link \" data-sessionlink=\"itct=CD0Q3DAYFCITCISO3YH-ktUCFcmBHAod3Q4IPyjpHg\" data-ytid=\"UCvMR26K40PZtArn2b6yIldw\">leelajamesVEVO</a>, <a href=\"http://smarturl.it/DidItForLoveAR\" target=\"_blank\" title=\"http://smarturl.it/DidItForLoveAR\" rel=\"nofollow\" dir=\"ltr\" class=\"yt-uix-redirect-link\">http://smarturl.it/DidItForLoveAR</a>, <a href=\"http://leelajames.com\" target=\"_blank\" title=\"http://leelajames.com\" rel=\"nofollow\" dir=\"ltr\" class=\"yt-uix-redirect-link\">http://leelajames.com</a>, <a href=\"https://facebook.com/LeelaJames\" target=\"_blank\" title=\"https://facebook.com/LeelaJames\" rel=\"nofollow\" dir=\"ltr\" class=\"yt-uix-redirect-link\">https://facebook.com/LeelaJames</a>, <a aria-hidden=\"true\" href=\"/watch?v=E4y7UK4nqnQ\" class=\" yt-uix-sessionlink      spf-link \" data-sessionlink=\"itct=CDwQ3DAYFSITCISO3YH-ktUCFcmBHAod3Q4IPyjpHjIIdHJlbmRpbmdaCkZFdHJlbmRpbmc\"><div class=\"yt-thumb video-thumb\"><span class=\"yt-thumb-simple\">\n",
      "<img data-ytimg=\"1\" onload=\";window.__ytRIL &amp;&amp; __ytRIL(this)\" src=\"/yts/img/pixel-vfl3z5WfW.gif\" height=\"110\" width=\"196\" alt=\"\" data-thumb=\"https://i.ytimg.com/vi/E4y7UK4nqnQ/hqdefault.jpg?sqp=-oaymwEWCMQBEG5IWvKriqkDCQgBFQAAiEIYAQ==&amp;rs=AOn4CLAuMst_xZxkO7sPJ7VaSjm4DDIZTQ\" />\n",
      "<span class=\"video-time\" aria-hidden=\"true\">5:39</span></span></div></a>, <a href=\"/watch?v=E4y7UK4nqnQ\" class=\"yt-uix-tile-link yt-ui-ellipsis yt-ui-ellipsis-2 yt-uix-sessionlink      spf-link \" data-sessionlink=\"itct=CDwQ3DAYFSITCISO3YH-ktUCFcmBHAod3Q4IPyjpHjIIdHJlbmRpbmdaCkZFdHJlbmRpbmc\" title=\"KINGDOM HEARTS III – D23 2017 Toy Story Trailer\" aria-describedby=\"description-id-163808\" dir=\"ltr\">KINGDOM HEARTS III – D23 2017 Toy Story Trailer</a>, <a href=\"/channel/UCCyrXyelKeXFx5KDgldMmNw\" class=\"g-hovercard yt-uix-sessionlink       spf-link \" data-sessionlink=\"itct=CDwQ3DAYFSITCISO3YH-ktUCFcmBHAod3Q4IPyjpHg\" data-ytid=\"UCCyrXyelKeXFx5KDgldMmNw\">Kingdom Hearts</a>, <a aria-hidden=\"true\" href=\"/watch?v=fk0giym6_Y4\" class=\" yt-uix-sessionlink      spf-link \" data-sessionlink=\"itct=CDsQ3DAYFiITCISO3YH-ktUCFcmBHAod3Q4IPyjpHjIIdHJlbmRpbmdaCkZFdHJlbmRpbmc\"><div class=\"yt-thumb video-thumb\"><span class=\"yt-thumb-simple\">\n",
      "<img data-ytimg=\"1\" onload=\";window.__ytRIL &amp;&amp; __ytRIL(this)\" src=\"/yts/img/pixel-vfl3z5WfW.gif\" height=\"110\" width=\"196\" alt=\"\" data-thumb=\"https://i.ytimg.com/vi/fk0giym6_Y4/hqdefault.jpg?sqp=-oaymwEWCMQBEG5IWvKriqkDCQgBFQAAiEIYAQ==&amp;rs=AOn4CLAjKCPcIgFoyU4TdGqiQTooB_rOWA\" />\n",
      "<span class=\"video-time\" aria-hidden=\"true\">7:28</span></span></div></a>, <a href=\"/watch?v=fk0giym6_Y4\" class=\"yt-uix-tile-link yt-ui-ellipsis yt-ui-ellipsis-2 yt-uix-sessionlink      spf-link \" data-sessionlink=\"itct=CDsQ3DAYFiITCISO3YH-ktUCFcmBHAod3Q4IPyjpHjIIdHJlbmRpbmdaCkZFdHJlbmRpbmc\" title=\"Has Rhaegar Targaryen Already SAVED Westeros!? Game of Thrones Season 7 Theory!\" aria-describedby=\"description-id-653616\" dir=\"ltr\">Has Rhaegar Targaryen Already SAVED Westeros!? Game of Thrones Season 7 Theory!</a>, <a href=\"/channel/UCv8GJP1mNVqrfpVNMJGb70g\" class=\"g-hovercard yt-uix-sessionlink       spf-link \" data-sessionlink=\"itct=CDsQ3DAYFiITCISO3YH-ktUCFcmBHAod3Q4IPyjpHg\" data-ytid=\"UCv8GJP1mNVqrfpVNMJGb70g\">Game of Theories</a>, <a aria-hidden=\"true\" href=\"/watch?v=f8mjlXmHK4Q\" class=\" yt-uix-sessionlink      spf-link \" data-sessionlink=\"itct=CDoQ3DAYFyITCISO3YH-ktUCFcmBHAod3Q4IPyjpHjIIdHJlbmRpbmdaCkZFdHJlbmRpbmc\"><div class=\"yt-thumb video-thumb\"><span class=\"yt-thumb-simple\">\n",
      "<img data-ytimg=\"1\" onload=\";window.__ytRIL &amp;&amp; __ytRIL(this)\" src=\"/yts/img/pixel-vfl3z5WfW.gif\" height=\"110\" width=\"196\" alt=\"\" data-thumb=\"https://i.ytimg.com/vi/f8mjlXmHK4Q/hqdefault.jpg?sqp=-oaymwEWCMQBEG5IWvKriqkDCQgBFQAAiEIYAQ==&amp;rs=AOn4CLAUrhGv9NRVkfPDUPxSWKHGx7Fy9Q\" />\n",
      "<span class=\"video-time\" aria-hidden=\"true\">2:18</span></span></div></a>, <a href=\"/watch?v=f8mjlXmHK4Q\" class=\"yt-uix-tile-link yt-ui-ellipsis yt-ui-ellipsis-2 yt-uix-sessionlink      spf-link \" data-sessionlink=\"itct=CDoQ3DAYFyITCISO3YH-ktUCFcmBHAod3Q4IPyjpHjIIdHJlbmRpbmdaCkZFdHJlbmRpbmc\" title=\"Napolitano: Trump Jr. meeting warrants a criminal probe\" aria-describedby=\"description-id-609853\" dir=\"ltr\">Napolitano: Trump Jr. meeting warrants a criminal probe</a>, <a href=\"/user/FoxNewsChannel\" class=\"g-hovercard yt-uix-sessionlink       spf-link \" data-sessionlink=\"itct=CDoQ3DAYFyITCISO3YH-ktUCFcmBHAod3Q4IPyjpHg\" data-ytid=\"UCXIJgqnII2ZOINSWNOGFThA\">Fox News</a>, <a aria-hidden=\"true\" href=\"/watch?v=idMJIEFH_ns\" class=\" yt-uix-sessionlink      spf-link \" data-sessionlink=\"itct=CDkQ3DAYGCITCISO3YH-ktUCFcmBHAod3Q4IPyjpHjIIdHJlbmRpbmdaCkZFdHJlbmRpbmc\"><div class=\"yt-thumb video-thumb\"><span class=\"yt-thumb-simple\">\n",
      "<img data-ytimg=\"1\" onload=\";window.__ytRIL &amp;&amp; __ytRIL(this)\" src=\"/yts/img/pixel-vfl3z5WfW.gif\" height=\"110\" width=\"196\" alt=\"\" data-thumb=\"https://i.ytimg.com/vi/idMJIEFH_ns/hqdefault.jpg?sqp=-oaymwEWCMQBEG5IWvKriqkDCQgBFQAAiEIYAQ==&amp;rs=AOn4CLDStptlJsojXe9LhDWA6CPFNl7xgg\" />\n",
      "<span class=\"video-time\" aria-hidden=\"true\">4:13</span></span></div></a>, <a href=\"/watch?v=idMJIEFH_ns\" class=\"yt-uix-tile-link yt-ui-ellipsis yt-ui-ellipsis-2 yt-uix-sessionlink      spf-link \" data-sessionlink=\"itct=CDkQ3DAYGCITCISO3YH-ktUCFcmBHAod3Q4IPyjpHjIIdHJlbmRpbmdaCkZFdHJlbmRpbmc\" title=\"Mona Haydar - Dog (ft. Jackie Cruz)\" aria-describedby=\"description-id-7541\" dir=\"ltr\">Mona Haydar - Dog (ft. Jackie Cruz)</a>, <a href=\"/channel/UCyRsl8zIOCdTt0p_hMtnRaQ\" class=\"g-hovercard yt-uix-sessionlink       spf-link \" data-sessionlink=\"itct=CDkQ3DAYGCITCISO3YH-ktUCFcmBHAod3Q4IPyjpHg\" data-ytid=\"UCyRsl8zIOCdTt0p_hMtnRaQ\">mona haydar</a>, <a href=\"https://twitter.com/mona_haydar\" target=\"_blank\" title=\"https://twitter.com/mona_haydar\" rel=\"nofollow\" dir=\"ltr\" class=\"yt-uix-redirect-link\">https://twitter.com/mona_haydar</a>, <a aria-hidden=\"true\" href=\"/watch?v=fbdG_wPA8tA\" class=\" yt-uix-sessionlink      spf-link \" data-sessionlink=\"itct=CDgQ3DAYGSITCISO3YH-ktUCFcmBHAod3Q4IPyjpHjIIdHJlbmRpbmdaCkZFdHJlbmRpbmc\"><div class=\"yt-thumb video-thumb\"><span class=\"yt-thumb-simple\">\n",
      "<img data-ytimg=\"1\" onload=\";window.__ytRIL &amp;&amp; __ytRIL(this)\" src=\"/yts/img/pixel-vfl3z5WfW.gif\" height=\"110\" width=\"196\" alt=\"\" data-thumb=\"https://i.ytimg.com/vi/fbdG_wPA8tA/hqdefault.jpg?sqp=-oaymwEWCMQBEG5IWvKriqkDCQgBFQAAiEIYAQ==&amp;rs=AOn4CLCYV5BzfuyjUvSikR6ShfowwqZulQ\" />\n",
      "<span class=\"video-time\" aria-hidden=\"true\">0:49</span></span></div></a>, <a href=\"/watch?v=fbdG_wPA8tA\" class=\"yt-uix-tile-link yt-ui-ellipsis yt-ui-ellipsis-2 yt-uix-sessionlink      spf-link \" data-sessionlink=\"itct=CDgQ3DAYGSITCISO3YH-ktUCFcmBHAod3Q4IPyjpHjIIdHJlbmRpbmdaCkZFdHJlbmRpbmc\" title=\"Treat yourself on ICE CREAM DAY -- A refreshing look back at WWE ice cream bars\" aria-describedby=\"description-id-422800\" dir=\"ltr\">Treat yourself on ICE CREAM DAY -- A refreshing look back at WWE ice cream bars</a>, <a href=\"/user/WWEFanNation\" class=\"g-hovercard yt-uix-sessionlink       spf-link \" data-sessionlink=\"itct=CDgQ3DAYGSITCISO3YH-ktUCFcmBHAod3Q4IPyjpHg\" data-ytid=\"UCJ5v_MCY6GNUBTO8-D3XoAg\">WWE</a>, <a href=\"http://wwenetwork.com\" target=\"_blank\" title=\"http://wwenetwork.com\" rel=\"nofollow\" dir=\"ltr\" class=\"yt-uix-redirect-link\">http://wwenetwork.com</a>, <a href=\"http://bit.ly/1i64OdT\" target=\"_blank\" title=\"http://bit.ly/1i64OdT\" rel=\"nofollow\" dir=\"ltr\" class=\"yt-uix-redirect-link\">http://bit.ly/1i64OdT</a>, <a aria-hidden=\"true\" href=\"/watch?v=4xcuKEwCDWg\" class=\" yt-uix-sessionlink      spf-link \" data-sessionlink=\"itct=CDcQ3DAYGiITCISO3YH-ktUCFcmBHAod3Q4IPyjpHjIIdHJlbmRpbmdaCkZFdHJlbmRpbmc\"><div class=\"yt-thumb video-thumb\"><span class=\"yt-thumb-simple\">\n",
      "<img data-ytimg=\"1\" onload=\";window.__ytRIL &amp;&amp; __ytRIL(this)\" src=\"/yts/img/pixel-vfl3z5WfW.gif\" height=\"110\" width=\"196\" alt=\"\" data-thumb=\"https://i.ytimg.com/vi/4xcuKEwCDWg/hqdefault.jpg?sqp=-oaymwEWCMQBEG5IWvKriqkDCQgBFQAAiEIYAQ==&amp;rs=AOn4CLDJI8FokO3hxXXiJ2E81BT0dsX0mw\" />\n",
      "<span class=\"video-time\" aria-hidden=\"true\">2:50</span></span></div></a>, <a href=\"/watch?v=4xcuKEwCDWg\" class=\"yt-uix-tile-link yt-ui-ellipsis yt-ui-ellipsis-2 yt-uix-sessionlink      spf-link \" data-sessionlink=\"itct=CDcQ3DAYGiITCISO3YH-ktUCFcmBHAod3Q4IPyjpHjIIdHJlbmRpbmdaCkZFdHJlbmRpbmc\" title=\"It Ain't Me - Lindsey Stirling and KHS (Selena Gomez &amp; Kygo Cover)\" aria-describedby=\"description-id-997539\" dir=\"ltr\">It Ain&#39;t Me - Lindsey Stirling and KHS (Selena Gomez &amp; Kygo Cover)</a>, <a href=\"/user/lindseystomp\" class=\"g-hovercard yt-uix-sessionlink       spf-link \" data-sessionlink=\"itct=CDcQ3DAYGiITCISO3YH-ktUCFcmBHAod3Q4IPyjpHg\" data-ytid=\"UCyC_4jvPzLiSkJkLIkA7B8g\">Lindsey Stirling</a>, <a href=\"http://bit.ly/LSitaintme\" target=\"_blank\" title=\"http://bit.ly/LSitaintme\" rel=\"nofollow\" dir=\"ltr\" class=\"yt-uix-redirect-link\">http://bit.ly/LSitaintme</a>, <a href=\"http://bit.ly/LSitaintmeSP\" target=\"_blank\" title=\"http://bit.ly/LSitaintmeSP\" rel=\"nofollow\" dir=\"ltr\" class=\"yt-uix-redirect-link\">http://bit.ly/LSitaintmeSP</a>, <a href=\"https://www.youtube.com/user/KurtHugoSchneider\" target=\"_blank\" title=\"https://www.youtube.com/user/KurtHugoSchneider\" rel=\"nofollow\" dir=\"ltr\" class=\"yt-uix-redirect-link\">https://www.youtube.com/user/KurtHugoSchneider</a>, <a aria-hidden=\"true\" href=\"/watch?v=EnhPZLFrYbg\" class=\" yt-uix-sessionlink      spf-link \" data-sessionlink=\"itct=CDYQ3DAYGyITCISO3YH-ktUCFcmBHAod3Q4IPyjpHjIIdHJlbmRpbmdaCkZFdHJlbmRpbmc\"><div class=\"yt-thumb video-thumb\"><span class=\"yt-thumb-simple\">\n",
      "<img data-ytimg=\"1\" onload=\";window.__ytRIL &amp;&amp; __ytRIL(this)\" src=\"/yts/img/pixel-vfl3z5WfW.gif\" height=\"110\" width=\"196\" alt=\"\" data-thumb=\"https://i.ytimg.com/vi/EnhPZLFrYbg/hqdefault.jpg?sqp=-oaymwEWCMQBEG5IWvKriqkDCQgBFQAAiEIYAQ==&amp;rs=AOn4CLAvW9Ax7zekOMnqzy8qPEfOAJPqFQ\" />\n",
      "<span class=\"video-time\" aria-hidden=\"true\">11:22</span></span></div></a>, <a href=\"/watch?v=EnhPZLFrYbg\" class=\"yt-uix-tile-link yt-ui-ellipsis yt-ui-ellipsis-2 yt-uix-sessionlink      spf-link \" data-sessionlink=\"itct=CDYQ3DAYGyITCISO3YH-ktUCFcmBHAod3Q4IPyjpHjIIdHJlbmRpbmdaCkZFdHJlbmRpbmc\" title=\"I Trained Like Arya Stark (Game of Thrones) For A Month ⚔️\" aria-describedby=\"description-id-679981\" dir=\"ltr\">I Trained Like Arya Stark (Game of Thrones) For A Month ⚔️</a>, <a href=\"/user/lilogirl2000\" class=\"g-hovercard yt-uix-sessionlink       spf-link \" data-sessionlink=\"itct=CDYQ3DAYGyITCISO3YH-ktUCFcmBHAod3Q4IPyjpHg\" data-ytid=\"UCGGZ_POGmIWG1pQXTDzQv-g\">Michelle Khare</a>, <a aria-hidden=\"true\" href=\"/watch?v=zjpCGcM_-rQ\" class=\" yt-uix-sessionlink      spf-link \" data-sessionlink=\"itct=CDUQ3DAYHCITCISO3YH-ktUCFcmBHAod3Q4IPyjpHjIIdHJlbmRpbmdaCkZFdHJlbmRpbmc\"><div class=\"yt-thumb video-thumb\"><span class=\"yt-thumb-simple\">\n",
      "<img data-ytimg=\"1\" onload=\";window.__ytRIL &amp;&amp; __ytRIL(this)\" src=\"/yts/img/pixel-vfl3z5WfW.gif\" height=\"110\" width=\"196\" alt=\"\" data-thumb=\"https://i.ytimg.com/vi/zjpCGcM_-rQ/hqdefault.jpg?sqp=-oaymwEWCMQBEG5IWvKriqkDCQgBFQAAiEIYAQ==&amp;rs=AOn4CLD6RBXXBMABGATx9Rxz7ntnsW-5DQ\" />\n",
      "<span class=\"video-time\" aria-hidden=\"true\">10:42</span></span></div></a>, <a href=\"/watch?v=zjpCGcM_-rQ\" class=\"yt-uix-tile-link yt-ui-ellipsis yt-ui-ellipsis-2 yt-uix-sessionlink      spf-link \" data-sessionlink=\"itct=CDUQ3DAYHCITCISO3YH-ktUCFcmBHAod3Q4IPyjpHjIIdHJlbmRpbmdaCkZFdHJlbmRpbmc\" title=\"Game Of Thrones Review - Season 7 Episode 1: Dragonstone\" aria-describedby=\"description-id-123680\" dir=\"ltr\">Game Of Thrones Review - Season 7 Episode 1: Dragonstone</a>, <a href=\"/user/MovieBlogTV\" class=\"g-hovercard yt-uix-sessionlink       spf-link \" data-sessionlink=\"itct=CDUQ3DAYHCITCISO3YH-ktUCFcmBHAod3Q4IPyjpHg\" data-ytid=\"UCYyDbdaja1UDNdFSwUrYVGA\">John Campea</a>, <a aria-hidden=\"true\" href=\"/watch?v=X_7l652fV5M\" class=\" yt-uix-sessionlink      spf-link \" data-sessionlink=\"itct=CDQQ3DAYHSITCISO3YH-ktUCFcmBHAod3Q4IPyjpHjIIdHJlbmRpbmdaCkZFdHJlbmRpbmc\"><div class=\"yt-thumb video-thumb\"><span class=\"yt-thumb-simple\">\n",
      "<img data-ytimg=\"1\" onload=\";window.__ytRIL &amp;&amp; __ytRIL(this)\" src=\"/yts/img/pixel-vfl3z5WfW.gif\" height=\"110\" width=\"196\" alt=\"\" data-thumb=\"https://i.ytimg.com/vi/X_7l652fV5M/hqdefault.jpg?sqp=-oaymwEWCMQBEG5IWvKriqkDCQgBFQAAiEIYAQ==&amp;rs=AOn4CLAJfBGRJaseE8dqlRlAqrE7SD3JGA\" />\n",
      "<span class=\"video-time\" aria-hidden=\"true\">3:39</span></span></div></a>, <a href=\"/watch?v=X_7l652fV5M\" class=\"yt-uix-tile-link yt-ui-ellipsis yt-ui-ellipsis-2 yt-uix-sessionlink      spf-link \" data-sessionlink=\"itct=CDQQ3DAYHSITCISO3YH-ktUCFcmBHAod3Q4IPyjpHjIIdHJlbmRpbmdaCkZFdHJlbmRpbmc\" title=\"If White Walkers Were Teenage Girls\" aria-describedby=\"description-id-88714\" dir=\"ltr\">If White Walkers Were Teenage Girls</a>, <a href=\"/user/IISuperwomanII\" class=\"g-hovercard yt-uix-sessionlink       spf-link \" data-sessionlink=\"itct=CDQQ3DAYHSITCISO3YH-ktUCFcmBHAod3Q4IPyjpHg\" data-ytid=\"UCfm4y4rHF5HGrSr-qbvOwOg\">IISuperwomanII</a>, <a href=\"https://www.youtube.com/watch?v=So5uiLgis8s\" target=\"_blank\" title=\"https://www.youtube.com/watch?v=So5uiLgis8s\" rel=\"nofollow\" dir=\"ltr\" class=\"yt-uix-redirect-link\">https://www.youtube.com/watch?v=So5uiLgis8s</a>, <a aria-hidden=\"true\" href=\"/watch?v=qlB0m541Q3A\" class=\" yt-uix-sessionlink      spf-link \" data-sessionlink=\"itct=CDMQ3DAYHiITCISO3YH-ktUCFcmBHAod3Q4IPyjpHjIIdHJlbmRpbmdaCkZFdHJlbmRpbmc\"><div class=\"yt-thumb video-thumb\"><span class=\"yt-thumb-simple\">\n",
      "<img data-ytimg=\"1\" onload=\";window.__ytRIL &amp;&amp; __ytRIL(this)\" src=\"/yts/img/pixel-vfl3z5WfW.gif\" height=\"110\" width=\"196\" alt=\"\" data-thumb=\"https://i.ytimg.com/vi/qlB0m541Q3A/hqdefault.jpg?sqp=-oaymwEWCMQBEG5IWvKriqkDCQgBFQAAiEIYAQ==&amp;rs=AOn4CLAKgHzAZgC5cDfwlb8sLGmjnygSWA\" />\n",
      "<span class=\"video-time\" aria-hidden=\"true\">0:56</span></span></div></a>, <a href=\"/watch?v=qlB0m541Q3A\" class=\"yt-uix-tile-link yt-ui-ellipsis yt-ui-ellipsis-2 yt-uix-sessionlink      spf-link \" data-sessionlink=\"itct=CDMQ3DAYHiITCISO3YH-ktUCFcmBHAod3Q4IPyjpHjIIdHJlbmRpbmdaCkZFdHJlbmRpbmc\" title=\"Miranda Kerr’s Fairy-Tale Wedding Dress Fitting | Vogue\" aria-describedby=\"description-id-430493\" dir=\"ltr\">Miranda Kerr’s Fairy-Tale Wedding Dress Fitting | Vogue</a>, <a href=\"/user/Americanvogue\" class=\"g-hovercard yt-uix-sessionlink       spf-link \" data-sessionlink=\"itct=CDMQ3DAYHiITCISO3YH-ktUCFcmBHAod3Q4IPyjpHg\" data-ytid=\"UCRXiA3h1no_PFkb1JCP0yMA\">Vogue</a>, <a aria-hidden=\"true\" href=\"/watch?v=HcBVNCzubIU\" class=\" yt-uix-sessionlink      spf-link \" data-sessionlink=\"itct=CDIQ3DAYHyITCISO3YH-ktUCFcmBHAod3Q4IPyjpHjIIdHJlbmRpbmdaCkZFdHJlbmRpbmc\"><div class=\"yt-thumb video-thumb\"><span class=\"yt-thumb-simple\">\n",
      "<img data-ytimg=\"1\" onload=\";window.__ytRIL &amp;&amp; __ytRIL(this)\" src=\"/yts/img/pixel-vfl3z5WfW.gif\" height=\"110\" width=\"196\" alt=\"\" data-thumb=\"https://i.ytimg.com/vi/HcBVNCzubIU/hqdefault.jpg?sqp=-oaymwEWCMQBEG5IWvKriqkDCQgBFQAAiEIYAQ==&amp;rs=AOn4CLAmW60I1_oGqrSMsnk4YhJI6n4HeA\" />\n",
      "<span class=\"video-time\" aria-hidden=\"true\">8:08</span></span></div></a>, <a href=\"/watch?v=HcBVNCzubIU\" class=\"yt-uix-tile-link yt-ui-ellipsis yt-ui-ellipsis-2 yt-uix-sessionlink      spf-link \" data-sessionlink=\"itct=CDIQ3DAYHyITCISO3YH-ktUCFcmBHAod3Q4IPyjpHjIIdHJlbmRpbmdaCkZFdHJlbmRpbmc\" title=\"LIVE! Our twin's first visit to the dummy museum! | JEFF DUNHAM\" aria-describedby=\"description-id-635132\" dir=\"ltr\">LIVE! Our twin&#39;s first visit to the dummy museum! | JEFF DUNHAM</a>, <a href=\"/user/jeffdunham\" class=\"g-hovercard yt-uix-sessionlink       spf-link \" data-sessionlink=\"itct=CDIQ3DAYHyITCISO3YH-ktUCFcmBHAod3Q4IPyjpHg\" data-ytid=\"UC0NaWwWghJD37rMK2AYDidg\">Jeff Dunham</a>, <a aria-hidden=\"true\" href=\"/watch?v=cwzNbCjYX1E\" class=\" yt-uix-sessionlink      spf-link \" data-sessionlink=\"itct=CDEQ3DAYICITCISO3YH-ktUCFcmBHAod3Q4IPyjpHjIIdHJlbmRpbmdaCkZFdHJlbmRpbmc\"><div class=\"yt-thumb video-thumb\"><span class=\"yt-thumb-simple\">\n",
      "<img data-ytimg=\"1\" onload=\";window.__ytRIL &amp;&amp; __ytRIL(this)\" src=\"/yts/img/pixel-vfl3z5WfW.gif\" height=\"110\" width=\"196\" alt=\"\" data-thumb=\"https://i.ytimg.com/vi/cwzNbCjYX1E/hqdefault.jpg?sqp=-oaymwEWCMQBEG5IWvKriqkDCQgBFQAAiEIYAQ==&amp;rs=AOn4CLBsObh4TEBhYY8TBHd4QXd4KIU-zw\" />\n",
      "<span class=\"video-time\" aria-hidden=\"true\">1:12</span></span></div></a>, <a href=\"/watch?v=cwzNbCjYX1E\" class=\"yt-uix-tile-link yt-ui-ellipsis yt-ui-ellipsis-2 yt-uix-sessionlink      spf-link \" data-sessionlink=\"itct=CDEQ3DAYICITCISO3YH-ktUCFcmBHAod3Q4IPyjpHjIIdHJlbmRpbmdaCkZFdHJlbmRpbmc\" title=\"Woke Up a Rebel: Game of Thrones Premiere (HBO)\" aria-describedby=\"description-id-602110\" dir=\"ltr\">Woke Up a Rebel: Game of Thrones Premiere (HBO)</a>, <a href=\"/user/HBO\" class=\"g-hovercard yt-uix-sessionlink       spf-link \" data-sessionlink=\"itct=CDEQ3DAYICITCISO3YH-ktUCFcmBHAod3Q4IPyjpHg\" data-ytid=\"UCVTQuK2CaWaTgSsoNkn5AiQ\">HBO</a>, <a aria-hidden=\"true\" href=\"/watch?v=aP1jcbPRxc8\" class=\" yt-uix-sessionlink      spf-link \" data-sessionlink=\"itct=CDAQ3DAYISITCISO3YH-ktUCFcmBHAod3Q4IPyjpHjIIdHJlbmRpbmdaCkZFdHJlbmRpbmc\"><div class=\"yt-thumb video-thumb\"><span class=\"yt-thumb-simple\">\n",
      "<img data-ytimg=\"1\" onload=\";window.__ytRIL &amp;&amp; __ytRIL(this)\" src=\"/yts/img/pixel-vfl3z5WfW.gif\" height=\"110\" width=\"196\" alt=\"\" data-thumb=\"https://i.ytimg.com/vi/aP1jcbPRxc8/hqdefault.jpg?sqp=-oaymwEWCMQBEG5IWvKriqkDCQgBFQAAiEIYAQ==&amp;rs=AOn4CLD4Brb0GW6RZjInej4t127KI1c8OA\" />\n",
      "<span class=\"video-time\" aria-hidden=\"true\">1:11</span></span></div></a>, <a href=\"/watch?v=aP1jcbPRxc8\" class=\"yt-uix-tile-link yt-ui-ellipsis yt-ui-ellipsis-2 yt-uix-sessionlink      spf-link \" data-sessionlink=\"itct=CDAQ3DAYISITCISO3YH-ktUCFcmBHAod3Q4IPyjpHjIIdHJlbmRpbmdaCkZFdHJlbmRpbmc\" title=\"Fly-Through Star Wars: Galaxy’s Edge | Disney Parks\" aria-describedby=\"description-id-625208\" dir=\"ltr\">Fly-Through Star Wars: Galaxy’s Edge | Disney Parks</a>, <a href=\"/user/DisneyParks\" class=\"g-hovercard yt-uix-sessionlink       spf-link \" data-sessionlink=\"itct=CDAQ3DAYISITCISO3YH-ktUCFcmBHAod3Q4IPyjpHg\" data-ytid=\"UC1xwwLwm6WSMbUn_Tp597hQ\">Disney Parks</a>, <a aria-hidden=\"true\" href=\"/watch?v=8PL1BC1s8CQ\" class=\" yt-uix-sessionlink      spf-link \" data-sessionlink=\"itct=CC8Q3DAYIiITCISO3YH-ktUCFcmBHAod3Q4IPyjpHjIIdHJlbmRpbmdaCkZFdHJlbmRpbmc\"><div class=\"yt-thumb video-thumb\"><span class=\"yt-thumb-simple\">\n",
      "<img data-ytimg=\"1\" onload=\";window.__ytRIL &amp;&amp; __ytRIL(this)\" src=\"/yts/img/pixel-vfl3z5WfW.gif\" height=\"110\" width=\"196\" alt=\"\" data-thumb=\"https://i.ytimg.com/vi/8PL1BC1s8CQ/hqdefault.jpg?sqp=-oaymwEWCMQBEG5IWvKriqkDCQgBFQAAiEIYAQ==&amp;rs=AOn4CLBgkP2nuPoM1LPrN23tyw19DORgaA\" />\n",
      "<span class=\"video-time\" aria-hidden=\"true\">11:59</span></span></div></a>, <a href=\"/watch?v=8PL1BC1s8CQ\" class=\"yt-uix-tile-link yt-ui-ellipsis yt-ui-ellipsis-2 yt-uix-sessionlink      spf-link \" data-sessionlink=\"itct=CC8Q3DAYIiITCISO3YH-ktUCFcmBHAod3Q4IPyjpHjIIdHJlbmRpbmdaCkZFdHJlbmRpbmc\" title=\"Sneaking backstage at the McGregor vs Mayweather Press conference in London\" aria-describedby=\"description-id-198924\" dir=\"ltr\">Sneaking backstage at the McGregor vs Mayweather Press conference in London</a>, <a href=\"/channel/UC3fBRpuw7IyGi52h6Nm7OZQ\" class=\"g-hovercard yt-uix-sessionlink       spf-link \" data-sessionlink=\"itct=CC8Q3DAYIiITCISO3YH-ktUCFcmBHAod3Q4IPyjpHg\" data-ytid=\"UC3fBRpuw7IyGi52h6Nm7OZQ\">Zac Alsop</a>, <a href=\"https://soundcloud.com/kliko9/wisdom\" target=\"_blank\" title=\"https://soundcloud.com/kliko9/wisdom\" rel=\"nofollow\" dir=\"ltr\" class=\"yt-uix-redirect-link\">https://soundcloud.com/kliko9/wisdom</a>, <a href=\"https://soundclo\" target=\"_blank\" title=\"https://soundclo\" rel=\"nofollow\" dir=\"ltr\" class=\"yt-uix-redirect-link\">https://soundclo</a>, <a aria-hidden=\"true\" href=\"/watch?v=wLJWeMNs4nY\" class=\" yt-uix-sessionlink      spf-link \" data-sessionlink=\"itct=CC4Q3DAYIyITCISO3YH-ktUCFcmBHAod3Q4IPyjpHjIIdHJlbmRpbmdaCkZFdHJlbmRpbmc\"><div class=\"yt-thumb video-thumb\"><span class=\"yt-thumb-simple\">\n",
      "<img data-ytimg=\"1\" onload=\";window.__ytRIL &amp;&amp; __ytRIL(this)\" src=\"/yts/img/pixel-vfl3z5WfW.gif\" height=\"110\" width=\"196\" alt=\"\" data-thumb=\"https://i.ytimg.com/vi/wLJWeMNs4nY/hqdefault.jpg?sqp=-oaymwEWCMQBEG5IWvKriqkDCQgBFQAAiEIYAQ==&amp;rs=AOn4CLBZbsJW0lPJ9gmlpopUwQ_wrwG6IQ\" />\n",
      "<span class=\"video-time\" aria-hidden=\"true\">2:55</span></span></div></a>, <a href=\"/watch?v=wLJWeMNs4nY\" class=\"yt-uix-tile-link yt-ui-ellipsis yt-ui-ellipsis-2 yt-uix-sessionlink      spf-link \" data-sessionlink=\"itct=CC4Q3DAYIyITCISO3YH-ktUCFcmBHAod3Q4IPyjpHjIIdHJlbmRpbmdaCkZFdHJlbmRpbmc\" title=\"Joe Scarborough: Hannity is ‘State Run Television’\" aria-describedby=\"description-id-965619\" dir=\"ltr\">Joe Scarborough: Hannity is ‘State Run Television’</a>, <a href=\"/channel/UCXjRJe9ltHXXUdCLrPxvSig\" class=\"g-hovercard yt-uix-sessionlink       spf-link \" data-sessionlink=\"itct=CC4Q3DAYIyITCISO3YH-ktUCFcmBHAod3Q4IPyjpHg\" data-ytid=\"UCXjRJe9ltHXXUdCLrPxvSig\">NN</a>, <a aria-hidden=\"true\" href=\"/watch?v=D02DpFB1oV4\" class=\" yt-uix-sessionlink      spf-link \" data-sessionlink=\"itct=CC0Q3DAYJCITCISO3YH-ktUCFcmBHAod3Q4IPyjpHjIIdHJlbmRpbmdaCkZFdHJlbmRpbmc\"><div class=\"yt-thumb video-thumb\"><span class=\"yt-thumb-simple\">\n",
      "<img data-ytimg=\"1\" onload=\";window.__ytRIL &amp;&amp; __ytRIL(this)\" src=\"/yts/img/pixel-vfl3z5WfW.gif\" height=\"110\" width=\"196\" alt=\"\" data-thumb=\"https://i.ytimg.com/vi/D02DpFB1oV4/hqdefault.jpg?sqp=-oaymwEWCMQBEG5IWvKriqkDCQgBFQAAiEIYAQ==&amp;rs=AOn4CLDBDwsB0nSyfQ9nHROrB5Hpk2VcCg\" />\n",
      "<span class=\"video-time\" aria-hidden=\"true\">7:10</span></span></div></a>, <a href=\"/watch?v=D02DpFB1oV4\" class=\"yt-uix-tile-link yt-ui-ellipsis yt-ui-ellipsis-2 yt-uix-sessionlink      spf-link \" data-sessionlink=\"itct=CC0Q3DAYJCITCISO3YH-ktUCFcmBHAod3Q4IPyjpHjIIdHJlbmRpbmdaCkZFdHJlbmRpbmc\" title=\"Is Biking To Work Safe In Los Angeles? | 360-degree video\" aria-describedby=\"description-id-150096\" dir=\"ltr\">Is Biking To Work Safe In Los Angeles? | 360-degree video</a>, <a href=\"/user/losangelestimes\" class=\"g-hovercard yt-uix-sessionlink       spf-link \" data-sessionlink=\"itct=CC0Q3DAYJCITCISO3YH-ktUCFcmBHAod3Q4IPyjpHg\" data-ytid=\"UCw3SYO_euO0TSPC_m_0Pzgw\">Los Angeles Times</a>, <a aria-hidden=\"true\" href=\"/watch?v=IBv5TZSZbnQ\" class=\" yt-uix-sessionlink      spf-link \" data-sessionlink=\"itct=CCwQ3DAYJSITCISO3YH-ktUCFcmBHAod3Q4IPyjpHjIIdHJlbmRpbmdaCkZFdHJlbmRpbmc\"><div class=\"yt-thumb video-thumb\"><span class=\"yt-thumb-simple\">\n",
      "<img data-ytimg=\"1\" onload=\";window.__ytRIL &amp;&amp; __ytRIL(this)\" src=\"/yts/img/pixel-vfl3z5WfW.gif\" height=\"110\" width=\"196\" alt=\"\" data-thumb=\"https://i.ytimg.com/vi/IBv5TZSZbnQ/hqdefault.jpg?sqp=-oaymwEWCMQBEG5IWvKriqkDCQgBFQAAiEIYAQ==&amp;rs=AOn4CLCxGbwX8BDeniPkRCbcBNLa4nnOkw\" />\n",
      "<span class=\"video-time\" aria-hidden=\"true\">45:19</span></span></div></a>, <a href=\"/watch?v=IBv5TZSZbnQ\" class=\"yt-uix-tile-link yt-ui-ellipsis yt-ui-ellipsis-2 yt-uix-sessionlink      spf-link \" data-sessionlink=\"itct=CCwQ3DAYJSITCISO3YH-ktUCFcmBHAod3Q4IPyjpHjIIdHJlbmRpbmdaCkZFdHJlbmRpbmc\" title=\"This Week w/ George Stephanopoulos 7/16/17 | ABC News July 16, 2017\" aria-describedby=\"description-id-792058\" dir=\"ltr\">This Week w/ George Stephanopoulos 7/16/17 | ABC News July 16, 2017</a>, <a href=\"/user/Chazcam22\" class=\"g-hovercard yt-uix-sessionlink       spf-link \" data-sessionlink=\"itct=CCwQ3DAYJSITCISO3YH-ktUCFcmBHAod3Q4IPyjpHg\" data-ytid=\"UCB-j_VwGYlxgqZbV8KdDDAg\">Broadcast Journalism</a>, <a aria-hidden=\"true\" href=\"/watch?v=3wI_mN-8qpI\" class=\" yt-uix-sessionlink      spf-link \" data-sessionlink=\"itct=CCsQ3DAYJiITCISO3YH-ktUCFcmBHAod3Q4IPyjpHjIIdHJlbmRpbmdaCkZFdHJlbmRpbmc\"><div class=\"yt-thumb video-thumb\"><span class=\"yt-thumb-simple\">\n",
      "<img data-ytimg=\"1\" onload=\";window.__ytRIL &amp;&amp; __ytRIL(this)\" src=\"/yts/img/pixel-vfl3z5WfW.gif\" height=\"110\" width=\"196\" alt=\"\" data-thumb=\"https://i.ytimg.com/vi/3wI_mN-8qpI/hqdefault.jpg?sqp=-oaymwEWCMQBEG5IWvKriqkDCQgBFQAAiEIYAQ==&amp;rs=AOn4CLD24cREXpTwofnCW4IUXsN-7ft8Tg\" />\n",
      "<span class=\"video-time\" aria-hidden=\"true\">2:40</span></span></div></a>, <a href=\"/watch?v=3wI_mN-8qpI\" class=\"yt-uix-tile-link yt-ui-ellipsis yt-ui-ellipsis-2 yt-uix-sessionlink      spf-link \" data-sessionlink=\"itct=CCsQ3DAYJiITCISO3YH-ktUCFcmBHAod3Q4IPyjpHjIIdHJlbmRpbmdaCkZFdHJlbmRpbmc\" title=\"Your Friend Who Lives Too Far Away\" aria-describedby=\"description-id-800201\" dir=\"ltr\">Your Friend Who Lives Too Far Away</a>, <a href=\"/user/collegehumor\" class=\"g-hovercard yt-uix-sessionlink       spf-link \" data-sessionlink=\"itct=CCsQ3DAYJiITCISO3YH-ktUCFcmBHAod3Q4IPyjpHg\" data-ytid=\"UCPDXXXJj9nax0fr0Wfc048g\">CollegeHumor</a>, <a href=\"http://www.collegehumor.com\" target=\"_blank\" title=\"http://www.collegehumor.com\" rel=\"nofollow\" dir=\"ltr\" class=\"yt-uix-redirect-link\">http://www.collegehumor.com</a>, <a href=\"http://www.facebook.com/collegehumor\" target=\"_blank\" title=\"http://www.facebook.com/collegehumor\" rel=\"nofollow\" dir=\"ltr\" class=\"yt-uix-redirect-link\">http://www.facebook.com/collegehumor</a>, <a href=\"http://www.twitter.com/collegeh\" target=\"_blank\" title=\"http://www.twitter.com/collegeh\" rel=\"nofollow\" dir=\"ltr\" class=\"yt-uix-redirect-link\">http://www.twitter.com/collegeh</a>, <a aria-hidden=\"true\" href=\"/watch?v=9yf_lf4C9mo\" class=\" yt-uix-sessionlink      spf-link \" data-sessionlink=\"itct=CCoQ3DAYJyITCISO3YH-ktUCFcmBHAod3Q4IPyjpHjIIdHJlbmRpbmdaCkZFdHJlbmRpbmc\"><div class=\"yt-thumb video-thumb\"><span class=\"yt-thumb-simple\">\n",
      "<img data-ytimg=\"1\" onload=\";window.__ytRIL &amp;&amp; __ytRIL(this)\" src=\"/yts/img/pixel-vfl3z5WfW.gif\" height=\"110\" width=\"196\" alt=\"\" data-thumb=\"https://i.ytimg.com/vi/9yf_lf4C9mo/hqdefault.jpg?sqp=-oaymwEWCMQBEG5IWvKriqkDCQgBFQAAiEIYAQ==&amp;rs=AOn4CLDY3hX0s_IT1Zk2hw8KDW0ZVdwk7w\" />\n",
      "<span class=\"video-time\" aria-hidden=\"true\">0:29</span></span></div></a>, <a href=\"/watch?v=9yf_lf4C9mo\" class=\"yt-uix-tile-link yt-ui-ellipsis yt-ui-ellipsis-2 yt-uix-sessionlink      spf-link \" data-sessionlink=\"itct=CCoQ3DAYJyITCISO3YH-ktUCFcmBHAod3Q4IPyjpHjIIdHJlbmRpbmdaCkZFdHJlbmRpbmc\" title=\"Ralph Breaks the Internet: Wreck-It Ralph 2 - D23 Expo Booth Teaser Video\" aria-describedby=\"description-id-162437\" dir=\"ltr\">Ralph Breaks the Internet: Wreck-It Ralph 2 - D23 Expo Booth Teaser Video</a>, <a href=\"/user/slashfilm1\" class=\"g-hovercard yt-uix-sessionlink       spf-link \" data-sessionlink=\"itct=CCoQ3DAYJyITCISO3YH-ktUCFcmBHAod3Q4IPyjpHg\" data-ytid=\"UCpzF-K_aKFdEXleDCvskqug\">SlashFilm</a>, <a aria-hidden=\"true\" href=\"/watch?v=bBxzGEGB3_U\" class=\" yt-uix-sessionlink      spf-link \" data-sessionlink=\"itct=CCkQ3DAYKCITCISO3YH-ktUCFcmBHAod3Q4IPyjpHjIIdHJlbmRpbmdaCkZFdHJlbmRpbmc\"><div class=\"yt-thumb video-thumb\"><span class=\"yt-thumb-simple\">\n",
      "<img data-ytimg=\"1\" onload=\";window.__ytRIL &amp;&amp; __ytRIL(this)\" src=\"/yts/img/pixel-vfl3z5WfW.gif\" height=\"110\" width=\"196\" alt=\"\" data-thumb=\"https://i.ytimg.com/vi/bBxzGEGB3_U/hqdefault.jpg?sqp=-oaymwEWCMQBEG5IWvKriqkDCQgBFQAAiEIYAQ==&amp;rs=AOn4CLCexgdhQ4uam-fFIqiruMPDx7xYJw\" />\n",
      "<span class=\"video-time\" aria-hidden=\"true\">12:58</span></span></div></a>, <a href=\"/watch?v=bBxzGEGB3_U\" class=\"yt-uix-tile-link yt-ui-ellipsis yt-ui-ellipsis-2 yt-uix-sessionlink      spf-link \" data-sessionlink=\"itct=CCkQ3DAYKCITCISO3YH-ktUCFcmBHAod3Q4IPyjpHjIIdHJlbmRpbmdaCkZFdHJlbmRpbmc\" title=\"Idiot's Guide to Game of Thrones Season 6\" aria-describedby=\"description-id-532931\" dir=\"ltr\">Idiot&#39;s Guide to Game of Thrones Season 6</a>, <a href=\"/user/screenjunkies\" class=\"g-hovercard yt-uix-sessionlink       spf-link \" data-sessionlink=\"itct=CCkQ3DAYKCITCISO3YH-ktUCFcmBHAod3Q4IPyjpHg\" data-ytid=\"UCOpcACMWblDls9Z6GERVi1A\">Screen Junkies</a>, <a aria-hidden=\"true\" href=\"/watch?v=6n19nelyXeY\" class=\" yt-uix-sessionlink      spf-link \" data-sessionlink=\"itct=CCgQ3DAYKSITCISO3YH-ktUCFcmBHAod3Q4IPyjpHjIIdHJlbmRpbmdaCkZFdHJlbmRpbmc\"><div class=\"yt-thumb video-thumb\"><span class=\"yt-thumb-simple\">\n",
      "<img data-ytimg=\"1\" onload=\";window.__ytRIL &amp;&amp; __ytRIL(this)\" src=\"/yts/img/pixel-vfl3z5WfW.gif\" height=\"110\" width=\"196\" alt=\"\" data-thumb=\"https://i.ytimg.com/vi/6n19nelyXeY/hqdefault.jpg?sqp=-oaymwEWCMQBEG5IWvKriqkDCQgBFQAAiEIYAQ==&amp;rs=AOn4CLBut4LshYbAW-uZeBvMoQTmHiZShQ\" />\n",
      "<span class=\"video-time\" aria-hidden=\"true\">12:19</span></span></div></a>, <a href=\"/watch?v=6n19nelyXeY\" class=\"yt-uix-tile-link yt-ui-ellipsis yt-ui-ellipsis-2 yt-uix-sessionlink      spf-link \" data-sessionlink=\"itct=CCgQ3DAYKSITCISO3YH-ktUCFcmBHAod3Q4IPyjpHjIIdHJlbmRpbmdaCkZFdHJlbmRpbmc\" title=\"50 AMAZING Facts to Blow Your Mind! #80\" aria-describedby=\"description-id-129751\" dir=\"ltr\">50 AMAZING Facts to Blow Your Mind! #80</a>, <a href=\"/user/MatthewSantoro\" class=\"g-hovercard yt-uix-sessionlink       spf-link \" data-sessionlink=\"itct=CCgQ3DAYKSITCISO3YH-ktUCFcmBHAod3Q4IPyjpHg\" data-ytid=\"UCXhSCMRRPyxSoyLSPFxK7VA\">MatthewSantoro</a>, <a href=\"https://youtube.com/ThoughtBubbler\" target=\"_blank\" title=\"https://youtube.com/ThoughtBubbler\" rel=\"nofollow\" dir=\"ltr\" class=\"yt-uix-redirect-link\">https://youtube.com/ThoughtBubbler</a>, <a href=\"http://twitter.com/MatthewSantoro\" target=\"_blank\" title=\"http://twitter.com/MatthewSantoro\" rel=\"nofollow\" dir=\"ltr\" class=\"yt-uix-redirect-link\">http://twitter.com/MatthewSantoro</a>, <a href=\"http://facebook.com/MatthewSantoro\" target=\"_blank\" title=\"http://facebook.com/MatthewSantoro\" rel=\"nofollow\" dir=\"ltr\" class=\"yt-uix-redirect-link\">http://facebook.com/MatthewSantoro</a>, <a href=\"http://instagram\" target=\"_blank\" title=\"http://instagram\" rel=\"nofollow\" dir=\"ltr\" class=\"yt-uix-redirect-link\">http://instagram</a>, <a aria-hidden=\"true\" href=\"/watch?v=yM8hXie3OA0\" class=\" yt-uix-sessionlink      spf-link \" data-sessionlink=\"itct=CCcQ3DAYKiITCISO3YH-ktUCFcmBHAod3Q4IPyjpHjIIdHJlbmRpbmdaCkZFdHJlbmRpbmc\"><div class=\"yt-thumb video-thumb\"><span class=\"yt-thumb-simple\">\n",
      "<img data-ytimg=\"1\" onload=\";window.__ytRIL &amp;&amp; __ytRIL(this)\" src=\"/yts/img/pixel-vfl3z5WfW.gif\" height=\"110\" width=\"196\" alt=\"\" data-thumb=\"https://i.ytimg.com/vi/yM8hXie3OA0/hqdefault.jpg?sqp=-oaymwEWCMQBEG5IWvKriqkDCQgBFQAAiEIYAQ==&amp;rs=AOn4CLCajUD7sWIKvAzJ_ltxuJd8RRfW1Q\" />\n",
      "<span class=\"video-time\" aria-hidden=\"true\">14:45</span></span></div></a>, <a href=\"/watch?v=yM8hXie3OA0\" class=\"yt-uix-tile-link yt-ui-ellipsis yt-ui-ellipsis-2 yt-uix-sessionlink      spf-link \" data-sessionlink=\"itct=CCcQ3DAYKiITCISO3YH-ktUCFcmBHAod3Q4IPyjpHjIIdHJlbmRpbmdaCkZFdHJlbmRpbmc\" title=\"The TRUE POWER of UNDERTALE Souls! | The SCIENCE!...of Undertale\" aria-describedby=\"description-id-986399\" dir=\"ltr\">The TRUE POWER of UNDERTALE Souls! | The SCIENCE!...of Undertale</a>, <a href=\"/user/MatthewPatrick13\" class=\"g-hovercard yt-uix-sessionlink       spf-link \" data-sessionlink=\"itct=CCcQ3DAYKiITCISO3YH-ktUCFcmBHAod3Q4IPyjpHg\" data-ytid=\"UCo_IB5145EVNcf8hw1Kku7w\">The Game Theorists</a>, <a href=\"https://goo.gl/kQWHkJ\" target=\"_blank\" title=\"https://goo.gl/kQWHkJ\" rel=\"nofollow\" dir=\"ltr\" class=\"yt-uix-redirect-link\">https://goo.gl/kQWHkJ</a>, <a href=\"https://goo.gl/cnAqxA\" target=\"_blank\" title=\"https://goo.gl/cnAqxA\" rel=\"nofollow\" dir=\"ltr\" class=\"yt-uix-redirect-link\">https://goo.gl/cnAqxA</a>, <a href=\"https://goo.gl/ayrokB\" target=\"_blank\" title=\"https://goo.gl/ayrokB\" rel=\"nofollow\" dir=\"ltr\" class=\"yt-uix-redirect-link\">https://goo.gl/ayrokB</a>, <a aria-hidden=\"true\" href=\"/watch?v=rh7kpkwXnwA\" class=\" yt-uix-sessionlink      spf-link \" data-sessionlink=\"itct=CCYQ3DAYKyITCISO3YH-ktUCFcmBHAod3Q4IPyjpHjIIdHJlbmRpbmdaCkZFdHJlbmRpbmc\"><div class=\"yt-thumb video-thumb\"><span class=\"yt-thumb-simple\">\n",
      "<img data-ytimg=\"1\" onload=\";window.__ytRIL &amp;&amp; __ytRIL(this)\" src=\"/yts/img/pixel-vfl3z5WfW.gif\" height=\"110\" width=\"196\" alt=\"\" data-thumb=\"https://i.ytimg.com/vi/rh7kpkwXnwA/hqdefault.jpg?sqp=-oaymwEWCMQBEG5IWvKriqkDCQgBFQAAiEIYAQ==&amp;rs=AOn4CLC-GYeV9A9a8ke34XpxBShE860YJA\" />\n",
      "<span class=\"video-time\" aria-hidden=\"true\">12:24</span></span></div></a>, <a href=\"/watch?v=rh7kpkwXnwA\" class=\"yt-uix-tile-link yt-ui-ellipsis yt-ui-ellipsis-2 yt-uix-sessionlink      spf-link \" data-sessionlink=\"itct=CCYQ3DAYKyITCISO3YH-ktUCFcmBHAod3Q4IPyjpHjIIdHJlbmRpbmdaCkZFdHJlbmRpbmc\" title=\"Reason for ARM (Acorn Archimedes at 30) - Computerphile\" aria-describedby=\"description-id-973909\" dir=\"ltr\">Reason for ARM (Acorn Archimedes at 30) - Computerphile</a>, <a href=\"/user/Computerphile\" class=\"g-hovercard yt-uix-sessionlink       spf-link \" data-sessionlink=\"itct=CCYQ3DAYKyITCISO3YH-ktUCFcmBHAod3Q4IPyjpHg\" data-ytid=\"UC9-y-6csu5WGm29I7JiwpnA\">Computerphile</a>, <a href=\"https://www.youtube.com/watch?v=TjVeZ9c9\" target=\"_blank\" title=\"https://www.youtube.com/watch?v=TjVeZ9c9\" rel=\"nofollow\" dir=\"ltr\" class=\"yt-uix-redirect-link\">https://www.youtube.com/watch?v=TjVeZ9c9</a>, <a aria-hidden=\"true\" href=\"/watch?v=czvSmqBASgE\" class=\" yt-uix-sessionlink      spf-link \" data-sessionlink=\"itct=CCUQ3DAYLCITCISO3YH-ktUCFcmBHAod3Q4IPyjpHjIIdHJlbmRpbmdaCkZFdHJlbmRpbmc\"><div class=\"yt-thumb video-thumb\"><span class=\"yt-thumb-simple\">\n",
      "<img data-ytimg=\"1\" onload=\";window.__ytRIL &amp;&amp; __ytRIL(this)\" src=\"/yts/img/pixel-vfl3z5WfW.gif\" height=\"110\" width=\"196\" alt=\"\" data-thumb=\"https://i.ytimg.com/vi/czvSmqBASgE/hqdefault.jpg?sqp=-oaymwEWCMQBEG5IWvKriqkDCQgBFQAAiEIYAQ==&amp;rs=AOn4CLCDJCL1uUpzkl4v1IOjUI3ABb_kPA\" />\n",
      "<span class=\"video-time\" aria-hidden=\"true\">6:21</span></span></div></a>, <a href=\"/watch?v=czvSmqBASgE\" class=\"yt-uix-tile-link yt-ui-ellipsis yt-ui-ellipsis-2 yt-uix-sessionlink      spf-link \" data-sessionlink=\"itct=CCUQ3DAYLCITCISO3YH-ktUCFcmBHAod3Q4IPyjpHjIIdHJlbmRpbmdaCkZFdHJlbmRpbmc\" title=\"I WAS WRONG. I'M SORRY.\" aria-describedby=\"description-id-697602\" dir=\"ltr\">I WAS WRONG. I&#39;M SORRY.</a>, <a href=\"/user/thriftthick\" class=\"g-hovercard yt-uix-sessionlink       spf-link \" data-sessionlink=\"itct=CCUQ3DAYLCITCISO3YH-ktUCFcmBHAod3Q4IPyjpHg\" data-ytid=\"UCjthuhszPjSO0WKl9G6aCxw\">Thrift Thick</a>, <a aria-hidden=\"true\" href=\"/watch?v=vmlyePmLIVE\" class=\" yt-uix-sessionlink      spf-link \" data-sessionlink=\"itct=CCQQ3DAYLSITCISO3YH-ktUCFcmBHAod3Q4IPyjpHjIIdHJlbmRpbmdaCkZFdHJlbmRpbmc\"><div class=\"yt-thumb video-thumb\"><span class=\"yt-thumb-simple\">\n",
      "<img data-ytimg=\"1\" onload=\";window.__ytRIL &amp;&amp; __ytRIL(this)\" src=\"/yts/img/pixel-vfl3z5WfW.gif\" height=\"110\" width=\"196\" alt=\"\" data-thumb=\"https://i.ytimg.com/vi/vmlyePmLIVE/hqdefault.jpg?sqp=-oaymwEWCMQBEG5IWvKriqkDCQgBFQAAiEIYAQ==&amp;rs=AOn4CLBckjmfIM9ijSma1wnIJn9VH3jcWw\" />\n",
      "<span class=\"video-time\" aria-hidden=\"true\">5:39</span></span></div></a>, <a href=\"/watch?v=vmlyePmLIVE\" class=\"yt-uix-tile-link yt-ui-ellipsis yt-ui-ellipsis-2 yt-uix-sessionlink      spf-link \" data-sessionlink=\"itct=CCQQ3DAYLSITCISO3YH-ktUCFcmBHAod3Q4IPyjpHjIIdHJlbmRpbmdaCkZFdHJlbmRpbmc\" title=\"BG Kumbi Jesse Watters Interview... My Fox News debut\" aria-describedby=\"description-id-340395\" dir=\"ltr\">BG Kumbi Jesse Watters Interview... My Fox News debut</a>, <a href=\"/user/BGKumbi\" class=\"g-hovercard yt-uix-sessionlink       spf-link \" data-sessionlink=\"itct=CCQQ3DAYLSITCISO3YH-ktUCFcmBHAod3Q4IPyjpHg\" data-ytid=\"UCm2pbaivKA-9poyXZ4rexrw\">BG Kumbi</a>, <a href=\"http://facebook.com/BGKumbi\" target=\"_blank\" title=\"http://facebook.com/BGKumbi\" rel=\"nofollow\" dir=\"ltr\" class=\"yt-uix-redirect-link\">http://facebook.com/BGKumbi</a>, <a href=\"http://facebook.com/OfficialBGKumbi\" target=\"_blank\" title=\"http://facebook.com/OfficialBGKumbi\" rel=\"nofollow\" dir=\"ltr\" class=\"yt-uix-redirect-link\">http://facebook.com/OfficialBGKumbi</a>, <a href=\"http://twitter.com/bgkumbi\" target=\"_blank\" title=\"http://twitter.com/bgkumbi\" rel=\"nofollow\" dir=\"ltr\" class=\"yt-uix-redirect-link\">http://twitter.com/bgkumbi</a>, <a aria-hidden=\"true\" href=\"/watch?v=GQEtvtPGL9k\" class=\" yt-uix-sessionlink      spf-link \" data-sessionlink=\"itct=CCEQ3DAYACITCISO3YH-ktUCFcmBHAod3Q4IPyjpHjIMdHJlbmRpbmctdHJiWgpGRXRyZW5kaW5n\"><div class=\"yt-thumb video-thumb\"><span class=\"yt-thumb-simple\">\n",
      "<img data-ytimg=\"1\" onload=\";window.__ytRIL &amp;&amp; __ytRIL(this)\" src=\"/yts/img/pixel-vfl3z5WfW.gif\" height=\"110\" width=\"196\" alt=\"\" data-thumb=\"https://i.ytimg.com/vi/GQEtvtPGL9k/hqdefault.jpg?sqp=-oaymwEWCMQBEG5IWvKriqkDCQgBFQAAiEIYAQ==&amp;rs=AOn4CLBvJX4NThbTw-BbgD5Ed_nMy9roaw\" />\n",
      "<span class=\"video-time\" aria-hidden=\"true\">4:14</span></span></div></a>, <a href=\"/watch?v=GQEtvtPGL9k\" class=\"yt-uix-tile-link yt-ui-ellipsis yt-ui-ellipsis-2 yt-uix-sessionlink      spf-link \" data-sessionlink=\"itct=CCEQ3DAYACITCISO3YH-ktUCFcmBHAod3Q4IPyjpHjIMdHJlbmRpbmctdHJiWgpGRXRyZW5kaW5n\" title=\"Kyle, A Boogie Wit Da Hoodie and Aminé's 2017 XXL Freshman Cypher\" aria-describedby=\"description-id-821626\" dir=\"ltr\">Kyle, A Boogie Wit Da Hoodie and Aminé&#39;s 2017 XXL Freshman Cypher</a>, <a href=\"/user/XXLMagazine\" class=\"g-hovercard yt-uix-sessionlink       spf-link \" data-sessionlink=\"itct=CCEQ3DAYACITCISO3YH-ktUCFcmBHAod3Q4IPyjpHg\" data-ytid=\"UCbg_UMjlHJg_19SZckaKajg\">XXL</a>, <a href=\"http://bit.ly/subscribe-xxl\" target=\"_blank\" title=\"http://bit.ly/subscribe-xxl\" rel=\"nofollow\" dir=\"ltr\" class=\"yt-uix-redirect-link\">http://bit.ly/subscribe-xxl</a>, <a aria-hidden=\"true\" href=\"/watch?v=V5_tnpdnNz4\" class=\" yt-uix-sessionlink      spf-link \" data-sessionlink=\"itct=CCAQ3DAYASITCISO3YH-ktUCFcmBHAod3Q4IPyjpHjIMdHJlbmRpbmctdHJiWgpGRXRyZW5kaW5n\"><div class=\"yt-thumb video-thumb\"><span class=\"yt-thumb-simple\">\n",
      "<img data-ytimg=\"1\" onload=\";window.__ytRIL &amp;&amp; __ytRIL(this)\" src=\"/yts/img/pixel-vfl3z5WfW.gif\" height=\"110\" width=\"196\" alt=\"\" data-thumb=\"https://i.ytimg.com/vi/V5_tnpdnNz4/hqdefault.jpg?sqp=-oaymwEWCMQBEG5IWvKriqkDCQgBFQAAiEIYAQ==&amp;rs=AOn4CLDD8nHT0Nv2yBmhnlZ7wE0t6Y4ETw\" />\n",
      "<span class=\"video-time\" aria-hidden=\"true\">4:20</span></span></div></a>, <a href=\"/watch?v=V5_tnpdnNz4\" class=\"yt-uix-tile-link yt-ui-ellipsis yt-ui-ellipsis-2 yt-uix-sessionlink      spf-link \" data-sessionlink=\"itct=CCAQ3DAYASITCISO3YH-ktUCFcmBHAod3Q4IPyjpHjIMdHJlbmRpbmctdHJiWgpGRXRyZW5kaW5n\" title=\"Jennifer Lopez - Ni Tú Ni Yo (Official Video) ft. Gente de Zona\" aria-describedby=\"description-id-452158\" dir=\"ltr\">Jennifer Lopez - Ni Tú Ni Yo (Official Video) ft. Gente de Zona</a>, <a href=\"/user/JenniferLopezVEVO\" class=\"g-hovercard yt-uix-sessionlink       spf-link \" data-sessionlink=\"itct=CCAQ3DAYASITCISO3YH-ktUCFcmBHAod3Q4IPyjpHg\" data-ytid=\"UCx1f1u4XlFFr0YgqF3wB4lQ\">JenniferLopezVEVO</a>, <a href=\"https://SML.lnk.to/NiTuNiYo\" target=\"_blank\" title=\"https://SML.lnk.to/NiTuNiYo\" rel=\"nofollow\" dir=\"ltr\" class=\"yt-uix-redirect-link\">https://SML.lnk.to/NiTuNiYo</a>, <a href=\"http://s\" target=\"_blank\" title=\"http://s\" rel=\"nofollow\" dir=\"ltr\" class=\"yt-uix-redirect-link\">http://s</a>, <a aria-hidden=\"true\" href=\"/watch?v=ZIBPunnSimc\" class=\" yt-uix-sessionlink      spf-link \" data-sessionlink=\"itct=CB8Q3DAYAiITCISO3YH-ktUCFcmBHAod3Q4IPyjpHjIMdHJlbmRpbmctdHJiWgpGRXRyZW5kaW5n\"><div class=\"yt-thumb video-thumb\"><span class=\"yt-thumb-simple\">\n",
      "<img data-ytimg=\"1\" onload=\";window.__ytRIL &amp;&amp; __ytRIL(this)\" src=\"/yts/img/pixel-vfl3z5WfW.gif\" height=\"110\" width=\"196\" alt=\"\" data-thumb=\"https://i.ytimg.com/vi/ZIBPunnSimc/hqdefault.jpg?sqp=-oaymwEWCMQBEG5IWvKriqkDCQgBFQAAiEIYAQ==&amp;rs=AOn4CLCTQ-08PPs5oajXUQtq3_h1ux5s8w\" />\n",
      "<span class=\"video-time\" aria-hidden=\"true\">19:23</span></span></div></a>, <a href=\"/watch?v=ZIBPunnSimc\" class=\"yt-uix-tile-link yt-ui-ellipsis yt-ui-ellipsis-2 yt-uix-sessionlink      spf-link \" data-sessionlink=\"itct=CB8Q3DAYAiITCISO3YH-ktUCFcmBHAod3Q4IPyjpHjIMdHJlbmRpbmctdHJiWgpGRXRyZW5kaW5n\" title=\"Everything Wrong With Beauty and the Beast (2017)\" aria-describedby=\"description-id-207437\" dir=\"ltr\">Everything Wrong With Beauty and the Beast (2017)</a>, <a href=\"/user/CinemaSins\" class=\"g-hovercard yt-uix-sessionlink       spf-link \" data-sessionlink=\"itct=CB8Q3DAYAiITCISO3YH-ktUCFcmBHAod3Q4IPyjpHg\" data-ytid=\"UCYUQQgogVeQY8cMQamhHJcg\">CinemaSins</a>, <a aria-hidden=\"true\" href=\"/watch?v=ry3bJ6IL0SY\" class=\" yt-uix-sessionlink      spf-link \" data-sessionlink=\"itct=CB4Q3DAYAyITCISO3YH-ktUCFcmBHAod3Q4IPyjpHjIMdHJlbmRpbmctdHJiWgpGRXRyZW5kaW5n\"><div class=\"yt-thumb video-thumb\"><span class=\"yt-thumb-simple\">\n",
      "<img data-ytimg=\"1\" onload=\";window.__ytRIL &amp;&amp; __ytRIL(this)\" src=\"/yts/img/pixel-vfl3z5WfW.gif\" height=\"110\" width=\"196\" alt=\"\" data-thumb=\"https://i.ytimg.com/vi/ry3bJ6IL0SY/hqdefault.jpg?sqp=-oaymwEWCMQBEG5IWvKriqkDCQgBFQAAiEIYAQ==&amp;rs=AOn4CLDQpOlVrQ-6NAw7O_6xCbPfkG5aSQ\" />\n",
      "<span class=\"video-time\" aria-hidden=\"true\">0:31</span></span></div></a>, <a href=\"/watch?v=ry3bJ6IL0SY\" class=\"yt-uix-tile-link yt-ui-ellipsis yt-ui-ellipsis-2 yt-uix-sessionlink      spf-link \" data-sessionlink=\"itct=CB4Q3DAYAyITCISO3YH-ktUCFcmBHAod3Q4IPyjpHjIMdHJlbmRpbmctdHJiWgpGRXRyZW5kaW5n\" title=\"Peyton Manning ESPYS Kevin Durant joke\" aria-describedby=\"description-id-594689\" dir=\"ltr\">Peyton Manning ESPYS Kevin Durant joke</a>, <a href=\"/user/joshuakuykendall6\" class=\"g-hovercard yt-uix-sessionlink       spf-link \" data-sessionlink=\"itct=CB4Q3DAYAyITCISO3YH-ktUCFcmBHAod3Q4IPyjpHg\" data-ytid=\"UCkmJKbk0eiQ5RztIVM2HTMw\">JoshX713</a>, <a aria-hidden=\"true\" href=\"/watch?v=H3EY8aLutbg\" class=\" yt-uix-sessionlink      spf-link \" data-sessionlink=\"itct=CB0Q3DAYBCITCISO3YH-ktUCFcmBHAod3Q4IPyjpHjIMdHJlbmRpbmctdHJiWgpGRXRyZW5kaW5n\"><div class=\"yt-thumb video-thumb\"><span class=\"yt-thumb-simple\">\n",
      "<img data-ytimg=\"1\" onload=\";window.__ytRIL &amp;&amp; __ytRIL(this)\" src=\"/yts/img/pixel-vfl3z5WfW.gif\" height=\"110\" width=\"196\" alt=\"\" data-thumb=\"https://i.ytimg.com/vi/H3EY8aLutbg/hqdefault.jpg?sqp=-oaymwEWCMQBEG5IWvKriqkDCQgBFQAAiEIYAQ==&amp;rs=AOn4CLCiLM9o_Z4bCOmb8wSU9Yn7pK6wTQ\" />\n",
      "<span class=\"video-time\" aria-hidden=\"true\">10:37</span></span></div></a>, <a href=\"/watch?v=H3EY8aLutbg\" class=\"yt-uix-tile-link yt-ui-ellipsis yt-ui-ellipsis-2 yt-uix-sessionlink      spf-link \" data-sessionlink=\"itct=CB0Q3DAYBCITCISO3YH-ktUCFcmBHAod3Q4IPyjpHjIMdHJlbmRpbmctdHJiWgpGRXRyZW5kaW5n\" title=\"Donald Trump Jr. Is His Own 'Deepthroat'\" aria-describedby=\"description-id-481409\" dir=\"ltr\">Donald Trump Jr. Is His Own &#39;Deepthroat&#39;</a>, <a href=\"/channel/UCMtFAi84ehTSYSE9XoHefig\" class=\"g-hovercard yt-uix-sessionlink       spf-link \" data-sessionlink=\"itct=CB0Q3DAYBCITCISO3YH-ktUCFcmBHAod3Q4IPyjpHg\" data-ytid=\"UCMtFAi84ehTSYSE9XoHefig\">The Late Show with Stephen Colbert</a>, <a href=\"http://bit.ly/Colbert\" target=\"_blank\" title=\"http://bit.ly/Colbert\" rel=\"nofollow\" dir=\"ltr\" class=\"yt-uix-redirect-link\">http://bit.ly/Colbert</a>, <a aria-hidden=\"true\" href=\"/watch?v=9o7KPoS0HGs\" class=\" yt-uix-sessionlink      spf-link \" data-sessionlink=\"itct=CBwQ3DAYBSITCISO3YH-ktUCFcmBHAod3Q4IPyjpHjIMdHJlbmRpbmctdHJiWgpGRXRyZW5kaW5n\"><div class=\"yt-thumb video-thumb\"><span class=\"yt-thumb-simple\">\n",
      "<img data-ytimg=\"1\" onload=\";window.__ytRIL &amp;&amp; __ytRIL(this)\" src=\"/yts/img/pixel-vfl3z5WfW.gif\" height=\"110\" width=\"196\" alt=\"\" data-thumb=\"https://i.ytimg.com/vi/9o7KPoS0HGs/hqdefault.jpg?sqp=-oaymwEWCMQBEG5IWvKriqkDCQgBFQAAiEIYAQ==&amp;rs=AOn4CLBePB_IhyRx2wwLBuqu9JOuKnB6yQ\" />\n",
      "<span class=\"video-time\" aria-hidden=\"true\">2:22</span></span></div></a>, <a href=\"/watch?v=9o7KPoS0HGs\" class=\"yt-uix-tile-link yt-ui-ellipsis yt-ui-ellipsis-2 yt-uix-sessionlink      spf-link \" data-sessionlink=\"itct=CBwQ3DAYBSITCISO3YH-ktUCFcmBHAod3Q4IPyjpHjIMdHJlbmRpbmctdHJiWgpGRXRyZW5kaW5n\" title='\"MAYWEATHER VS. MCGREGOR\" — A Bad Lip Reading' aria-describedby=\"description-id-257469\" dir=\"ltr\">&quot;MAYWEATHER VS. MCGREGOR&quot; — A Bad Lip Reading</a>, <a href=\"/user/BadLipReading\" class=\"g-hovercard yt-uix-sessionlink       spf-link \" data-sessionlink=\"itct=CBwQ3DAYBSITCISO3YH-ktUCFcmBHAod3Q4IPyjpHg\" data-ytid=\"UC67f2Qf7FYhtoUIF4Sf29cA\">Bad Lip Reading</a>, <a href=\"http://www.facebook.com/badlipreading\" target=\"_blank\" title=\"http://www.facebook.com/badlipreading\" rel=\"nofollow\" dir=\"ltr\" class=\"yt-uix-redirect-link\">http://www.facebook.com/badlipreading</a>, <a href=\"http://twitter.com/badlipreading\" target=\"_blank\" title=\"http://twitter.com/badlipreading\" rel=\"nofollow\" dir=\"ltr\" class=\"yt-uix-redirect-link\">http://twitter.com/badlipreading</a>, <a aria-hidden=\"true\" href=\"/watch?v=jkj4fDl1rMo\" class=\" yt-uix-sessionlink      spf-link \" data-sessionlink=\"itct=CBsQ3DAYBiITCISO3YH-ktUCFcmBHAod3Q4IPyjpHjIMdHJlbmRpbmctdHJiWgpGRXRyZW5kaW5n\"><div class=\"yt-thumb video-thumb\"><span class=\"yt-thumb-simple\">\n",
      "<img data-ytimg=\"1\" onload=\";window.__ytRIL &amp;&amp; __ytRIL(this)\" src=\"/yts/img/pixel-vfl3z5WfW.gif\" height=\"110\" width=\"196\" alt=\"\" data-thumb=\"https://i.ytimg.com/vi/jkj4fDl1rMo/hqdefault.jpg?sqp=-oaymwEWCMQBEG5IWvKriqkDCQgBFQAAiEIYAQ==&amp;rs=AOn4CLBai9LXII9lRPje-aL70ac-nmzUVA\" />\n",
      "<span class=\"video-time\" aria-hidden=\"true\">12:56</span></span></div></a>, <a href=\"/watch?v=jkj4fDl1rMo\" class=\"yt-uix-tile-link yt-ui-ellipsis yt-ui-ellipsis-2 yt-uix-sessionlink      spf-link \" data-sessionlink=\"itct=CBsQ3DAYBiITCISO3YH-ktUCFcmBHAod3Q4IPyjpHjIMdHJlbmRpbmctdHJiWgpGRXRyZW5kaW5n\" title=\"OUR NEW BALL PIT!!\" aria-describedby=\"description-id-566759\" dir=\"ltr\">OUR NEW BALL PIT!!</a>, <a href=\"/user/RomanAtwoodVlogs\" class=\"g-hovercard yt-uix-sessionlink       spf-link \" data-sessionlink=\"itct=CBsQ3DAYBiITCISO3YH-ktUCFcmBHAod3Q4IPyjpHg\" data-ytid=\"UC-SV8-bUJfXjrRMnp7F8Wzw\">RomanAtwoodVlogs</a>, <a href=\"http://bit.ly/SubToRoman\" target=\"_blank\" title=\"http://bit.ly/SubToRoman\" rel=\"nofollow\" dir=\"ltr\" class=\"yt-uix-redirect-link\">http://bit.ly/SubToRoman</a>, <a aria-hidden=\"true\" href=\"/watch?v=HO2c_2XAXMw\" class=\" yt-uix-sessionlink      spf-link \" data-sessionlink=\"itct=CBoQ3DAYByITCISO3YH-ktUCFcmBHAod3Q4IPyjpHjIMdHJlbmRpbmctdHJiWgpGRXRyZW5kaW5n\"><div class=\"yt-thumb video-thumb\"><span class=\"yt-thumb-simple\">\n",
      "<img data-ytimg=\"1\" onload=\";window.__ytRIL &amp;&amp; __ytRIL(this)\" src=\"/yts/img/pixel-vfl3z5WfW.gif\" height=\"110\" width=\"196\" alt=\"\" data-thumb=\"https://i.ytimg.com/vi/HO2c_2XAXMw/hqdefault.jpg?sqp=-oaymwEWCMQBEG5IWvKriqkDCQgBFQAAiEIYAQ==&amp;rs=AOn4CLC7k3M89tMX9GT3PrWr-h8Ir2iFLw\" />\n",
      "<span class=\"video-time\" aria-hidden=\"true\">6:08</span></span></div></a>, <a href=\"/watch?v=HO2c_2XAXMw\" class=\"yt-uix-tile-link yt-ui-ellipsis yt-ui-ellipsis-2 yt-uix-sessionlink      spf-link \" data-sessionlink=\"itct=CBoQ3DAYByITCISO3YH-ktUCFcmBHAod3Q4IPyjpHjIMdHJlbmRpbmctdHJiWgpGRXRyZW5kaW5n\" title=\"Why Donald Trump Jr.'s emails change everything\" aria-describedby=\"description-id-327548\" dir=\"ltr\">Why Donald Trump Jr.&#39;s emails change everything</a>, <a href=\"/user/voxdotcom\" class=\"g-hovercard yt-uix-sessionlink       spf-link \" data-sessionlink=\"itct=CBoQ3DAYByITCISO3YH-ktUCFcmBHAod3Q4IPyjpHg\" data-ytid=\"UCLXo7UDZvByw2ixzpQCufnA\">Vox</a>, <a href=\"https://www.vox.com/2017/7/11/15953204/donald\" target=\"_blank\" title=\"https://www.vox.com/2017/7/11/15953204/donald\" rel=\"nofollow\" dir=\"ltr\" class=\"yt-uix-redirect-link\">https://www.vox.com/2017/7/11/15953204/donald</a>, <a aria-hidden=\"true\" href=\"/watch?v=TQrd8ni5VRg\" class=\" yt-uix-sessionlink      spf-link \" data-sessionlink=\"itct=CBkQ3DAYCCITCISO3YH-ktUCFcmBHAod3Q4IPyjpHjIMdHJlbmRpbmctdHJiWgpGRXRyZW5kaW5n\"><div class=\"yt-thumb video-thumb\"><span class=\"yt-thumb-simple\">\n",
      "<img data-ytimg=\"1\" onload=\";window.__ytRIL &amp;&amp; __ytRIL(this)\" src=\"/yts/img/pixel-vfl3z5WfW.gif\" height=\"110\" width=\"196\" alt=\"\" data-thumb=\"https://i.ytimg.com/vi/TQrd8ni5VRg/hqdefault.jpg?sqp=-oaymwEWCMQBEG5IWvKriqkDCQgBFQAAiEIYAQ==&amp;rs=AOn4CLDcij27pzF856k4Zg0aDCHa1qovVA\" />\n",
      "<span class=\"video-time\" aria-hidden=\"true\">5:01</span></span></div></a>, <a href=\"/watch?v=TQrd8ni5VRg\" class=\"yt-uix-tile-link yt-ui-ellipsis yt-ui-ellipsis-2 yt-uix-sessionlink      spf-link \" data-sessionlink=\"itct=CBkQ3DAYCCITCISO3YH-ktUCFcmBHAod3Q4IPyjpHjIMdHJlbmRpbmctdHJiWgpGRXRyZW5kaW5n\" title=\"I WAS CAUGHT IN BED... BATH AND BEYOND WITH LIZA!\" aria-describedby=\"description-id-830632\" dir=\"ltr\">I WAS CAUGHT IN BED... BATH AND BEYOND WITH LIZA!</a>, <a href=\"/channel/UCxSz6JVYmzVhtkraHWZC7HQ\" class=\"g-hovercard yt-uix-sessionlink       spf-link \" data-sessionlink=\"itct=CBkQ3DAYCCITCISO3YH-ktUCFcmBHAod3Q4IPyjpHg\" data-ytid=\"UCxSz6JVYmzVhtkraHWZC7HQ\">Liza Koshy</a>, <a aria-hidden=\"true\" href=\"/watch?v=GEhOZooB3bw\" class=\" yt-uix-sessionlink      spf-link \" data-sessionlink=\"itct=CBgQ3DAYCSITCISO3YH-ktUCFcmBHAod3Q4IPyjpHjIMdHJlbmRpbmctdHJiWgpGRXRyZW5kaW5n\"><div class=\"yt-thumb video-thumb\"><span class=\"yt-thumb-simple\">\n",
      "<img data-ytimg=\"1\" onload=\";window.__ytRIL &amp;&amp; __ytRIL(this)\" src=\"/yts/img/pixel-vfl3z5WfW.gif\" height=\"110\" width=\"196\" alt=\"\" data-thumb=\"https://i.ytimg.com/vi/GEhOZooB3bw/hqdefault.jpg?sqp=-oaymwEWCMQBEG5IWvKriqkDCQgBFQAAiEIYAQ==&amp;rs=AOn4CLAqH_4isw9Hsp1VCYtKAce8HSYSGA\" />\n",
      "<span class=\"video-time\" aria-hidden=\"true\">14:11</span></span></div></a>, <a href=\"/watch?v=GEhOZooB3bw\" class=\"yt-uix-tile-link yt-ui-ellipsis yt-ui-ellipsis-2 yt-uix-sessionlink      spf-link \" data-sessionlink=\"itct=CBgQ3DAYCSITCISO3YH-ktUCFcmBHAod3Q4IPyjpHjIMdHJlbmRpbmctdHJiWgpGRXRyZW5kaW5n\" title=\"Get Ready With Me &amp; Kim Kardashian | Jaclyn Hill\" aria-describedby=\"description-id-446005\" dir=\"ltr\">Get Ready With Me &amp; Kim Kardashian | Jaclyn Hill</a>, <a href=\"/user/Jaclynhill1\" class=\"g-hovercard yt-uix-sessionlink       spf-link \" data-sessionlink=\"itct=CBgQ3DAYCSITCISO3YH-ktUCFcmBHAod3Q4IPyjpHg\" data-ytid=\"UC6jgzx2g3nlbaYkd8EMweKA\">Jaclyn Hill</a>, <a href=\"http://goo.gl/3Awmn8\" target=\"_blank\" title=\"http://goo.gl/3Awmn8\" rel=\"nofollow\" dir=\"ltr\" class=\"yt-uix-redirect-link\">http://goo.gl/3Awmn8</a>, <a aria-hidden=\"true\" href=\"/watch?v=vZiUBoZ454E\" class=\" yt-uix-sessionlink      spf-link \" data-sessionlink=\"itct=CBcQ3DAYCiITCISO3YH-ktUCFcmBHAod3Q4IPyjpHjIMdHJlbmRpbmctdHJiWgpGRXRyZW5kaW5n\"><div class=\"yt-thumb video-thumb\"><span class=\"yt-thumb-simple\">\n",
      "<img data-ytimg=\"1\" onload=\";window.__ytRIL &amp;&amp; __ytRIL(this)\" src=\"/yts/img/pixel-vfl3z5WfW.gif\" height=\"110\" width=\"196\" alt=\"\" data-thumb=\"https://i.ytimg.com/vi/vZiUBoZ454E/hqdefault.jpg?sqp=-oaymwEWCMQBEG5IWvKriqkDCQgBFQAAiEIYAQ==&amp;rs=AOn4CLBTqQSjFypJ50PZMP45OPfYMBWTSA\" />\n",
      "<span class=\"video-time\" aria-hidden=\"true\">10:45</span></span></div></a>, <a href=\"/watch?v=vZiUBoZ454E\" class=\"yt-uix-tile-link yt-ui-ellipsis yt-ui-ellipsis-2 yt-uix-sessionlink      spf-link \" data-sessionlink=\"itct=CBcQ3DAYCiITCISO3YH-ktUCFcmBHAod3Q4IPyjpHjIMdHJlbmRpbmctdHJiWgpGRXRyZW5kaW5n\" title=\"WE GOT A BABY GOAT!!!\" aria-describedby=\"description-id-251166\" dir=\"ltr\">WE GOT A BABY GOAT!!!</a>, <a href=\"/user/caseyneistat\" class=\"g-hovercard yt-uix-sessionlink       spf-link \" data-sessionlink=\"itct=CBcQ3DAYCiITCISO3YH-ktUCFcmBHAod3Q4IPyjpHg\" data-ytid=\"UCtinbF-Q-fVthA0qrFQTgXQ\">CaseyNeistat</a>, <a href=\"https://www.instagram.com/billy/\" target=\"_blank\" title=\"https://www.instagram.com/billy/\" rel=\"nofollow\" dir=\"ltr\" class=\"yt-uix-redirect-link\">https://www.instagram.com/billy/</a>, <a href=\"http://amzn.to/2sTDnRZ\" target=\"_blank\" title=\"http://amzn.to/2sTDnRZ\" rel=\"nofollow\" dir=\"ltr\" class=\"yt-uix-redirect-link\">http://amzn.to/2sTDnRZ</a>, <a href=\"http://amzn.to/2rUJOmD\" target=\"_blank\" title=\"http://amzn.to/2rUJOmD\" rel=\"nofollow\" dir=\"ltr\" class=\"yt-uix-redirect-link\">http://amzn.to/2rUJOmD</a>, <a href=\"http://tinyurl.com/h4ft3oy\" target=\"_blank\" title=\"http://tinyurl.com/h4ft3oy\" rel=\"nofollow\" dir=\"ltr\" class=\"yt-uix-redirect-link\">http://tinyurl.com/h4ft3oy</a>, <a aria-hidden=\"true\" href=\"/watch?v=PVScY23bb0Y\" class=\" yt-uix-sessionlink      spf-link \" data-sessionlink=\"itct=CBYQ3DAYCyITCISO3YH-ktUCFcmBHAod3Q4IPyjpHjIMdHJlbmRpbmctdHJiWgpGRXRyZW5kaW5n\"><div class=\"yt-thumb video-thumb\"><span class=\"yt-thumb-simple\">\n",
      "<img data-ytimg=\"1\" onload=\";window.__ytRIL &amp;&amp; __ytRIL(this)\" src=\"/yts/img/pixel-vfl3z5WfW.gif\" height=\"110\" width=\"196\" alt=\"\" data-thumb=\"https://i.ytimg.com/vi/PVScY23bb0Y/hqdefault.jpg?sqp=-oaymwEWCMQBEG5IWvKriqkDCQgBFQAAiEIYAQ==&amp;rs=AOn4CLCvgXwlA0EDpvEiXncUR_GpPd0LDQ\" />\n",
      "<span class=\"video-time\" aria-hidden=\"true\">3:00</span></span></div></a>, <a href=\"/watch?v=PVScY23bb0Y\" class=\"yt-uix-tile-link yt-ui-ellipsis yt-ui-ellipsis-2 yt-uix-sessionlink      spf-link \" data-sessionlink=\"itct=CBYQ3DAYCyITCISO3YH-ktUCFcmBHAod3Q4IPyjpHjIMdHJlbmRpbmctdHJiWgpGRXRyZW5kaW5n\" title=\"50 Cent is Standing Right Behind You\" aria-describedby=\"description-id-465581\" dir=\"ltr\">50 Cent is Standing Right Behind You</a>, <a href=\"/user/JimmyKimmelLive\" class=\"g-hovercard yt-uix-sessionlink       spf-link \" data-sessionlink=\"itct=CBYQ3DAYCyITCISO3YH-ktUCFcmBHAod3Q4IPyjpHg\" data-ytid=\"UCa6vGFO9ty8v5KZJXQxdhaw\">Jimmy Kimmel Live</a>, <a aria-hidden=\"true\" href=\"/watch?v=YIcj1_OJePs\" class=\" yt-uix-sessionlink      spf-link \" data-sessionlink=\"itct=CBUQ3DAYDCITCISO3YH-ktUCFcmBHAod3Q4IPyjpHjIMdHJlbmRpbmctdHJiWgpGRXRyZW5kaW5n\"><div class=\"yt-thumb video-thumb\"><span class=\"yt-thumb-simple\">\n",
      "<img data-ytimg=\"1\" onload=\";window.__ytRIL &amp;&amp; __ytRIL(this)\" src=\"/yts/img/pixel-vfl3z5WfW.gif\" height=\"110\" width=\"196\" alt=\"\" data-thumb=\"https://i.ytimg.com/vi/YIcj1_OJePs/hqdefault.jpg?sqp=-oaymwEWCMQBEG5IWvKriqkDCQgBFQAAiEIYAQ==&amp;rs=AOn4CLDQgmgE-B9yJhEXNQm3pTLek9KIfQ\" />\n",
      "<span class=\"video-time\" aria-hidden=\"true\">1:35</span></span></div></a>, <a href=\"/watch?v=YIcj1_OJePs\" class=\"yt-uix-tile-link yt-ui-ellipsis yt-ui-ellipsis-2 yt-uix-sessionlink      spf-link \" data-sessionlink=\"itct=CBUQ3DAYDCITCISO3YH-ktUCFcmBHAod3Q4IPyjpHjIMdHJlbmRpbmctdHJiWgpGRXRyZW5kaW5n\" title=\"Blac Chyna Says Rob Kardashian Has a Gun, Threatened to Kill Himself | TMZ\" aria-describedby=\"description-id-870082\" dir=\"ltr\">Blac Chyna Says Rob Kardashian Has a Gun, Threatened to Kill Himself | TMZ</a>, <a href=\"/user/TMZ\" class=\"g-hovercard yt-uix-sessionlink       spf-link \" data-sessionlink=\"itct=CBUQ3DAYDCITCISO3YH-ktUCFcmBHAod3Q4IPyjpHg\" data-ytid=\"UCK7IIV6Q2junGSdYK3BmZMg\">TMZ</a>, <a aria-hidden=\"true\" href=\"/watch?v=r2Vq5HOSBhY\" class=\" yt-uix-sessionlink      spf-link \" data-sessionlink=\"itct=CBQQ3DAYDSITCISO3YH-ktUCFcmBHAod3Q4IPyjpHjIMdHJlbmRpbmctdHJiWgpGRXRyZW5kaW5n\"><div class=\"yt-thumb video-thumb\"><span class=\"yt-thumb-simple\">\n",
      "<img data-ytimg=\"1\" onload=\";window.__ytRIL &amp;&amp; __ytRIL(this)\" src=\"/yts/img/pixel-vfl3z5WfW.gif\" height=\"110\" width=\"196\" alt=\"\" data-thumb=\"https://i.ytimg.com/vi/r2Vq5HOSBhY/hqdefault.jpg?sqp=-oaymwEWCMQBEG5IWvKriqkDCQgBFQAAiEIYAQ==&amp;rs=AOn4CLDyKzGapUlhBrZuZ6moXVL51hgbmA\" />\n",
      "<span class=\"video-time\" aria-hidden=\"true\">3:46</span></span></div></a>, <a href=\"/watch?v=r2Vq5HOSBhY\" class=\"yt-uix-tile-link yt-ui-ellipsis yt-ui-ellipsis-2 yt-uix-sessionlink      spf-link \" data-sessionlink=\"itct=CBQQ3DAYDSITCISO3YH-ktUCFcmBHAod3Q4IPyjpHjIMdHJlbmRpbmctdHJiWgpGRXRyZW5kaW5n\" title=\"Joel Dommett - 2016 Melbourne International Comedy Festival Gala\" aria-describedby=\"description-id-303598\" dir=\"ltr\">Joel Dommett - 2016 Melbourne International Comedy Festival Gala</a>, <a href=\"/user/TheMelbComedyFest\" class=\"g-hovercard yt-uix-sessionlink       spf-link \" data-sessionlink=\"itct=CBQQ3DAYDSITCISO3YH-ktUCFcmBHAod3Q4IPyjpHg\" data-ytid=\"UCCHk0tqatZibFoCfx-1yxxw\">TheMelbComedyFest</a>, <a aria-hidden=\"true\" href=\"/watch?v=7qL1un6NPZA\" class=\" yt-uix-sessionlink      spf-link \" data-sessionlink=\"itct=CBMQ3DAYDiITCISO3YH-ktUCFcmBHAod3Q4IPyjpHjIMdHJlbmRpbmctdHJiWgpGRXRyZW5kaW5n\"><div class=\"yt-thumb video-thumb\"><span class=\"yt-thumb-simple\">\n",
      "<img data-ytimg=\"1\" onload=\";window.__ytRIL &amp;&amp; __ytRIL(this)\" src=\"/yts/img/pixel-vfl3z5WfW.gif\" height=\"110\" width=\"196\" alt=\"\" data-thumb=\"https://i.ytimg.com/vi/7qL1un6NPZA/hqdefault.jpg?sqp=-oaymwEWCMQBEG5IWvKriqkDCQgBFQAAiEIYAQ==&amp;rs=AOn4CLBj_O1CF4KLodR0qAOymvjGu-EH9Q\" />\n",
      "<span class=\"video-time\" aria-hidden=\"true\">7:05</span></span></div></a>, <a href=\"/watch?v=7qL1un6NPZA\" class=\"yt-uix-tile-link yt-ui-ellipsis yt-ui-ellipsis-2 yt-uix-sessionlink      spf-link \" data-sessionlink=\"itct=CBMQ3DAYDiITCISO3YH-ktUCFcmBHAod3Q4IPyjpHjIMdHJlbmRpbmctdHJiWgpGRXRyZW5kaW5n\" title=\"The Translators - Interpreting Donald Trump: The Daily Show\" aria-describedby=\"description-id-869306\" dir=\"ltr\">The Translators - Interpreting Donald Trump: The Daily Show</a>, <a href=\"/channel/UCwWhs_6x42TyRM4Wstoq8HA\" class=\"g-hovercard yt-uix-sessionlink       spf-link \" data-sessionlink=\"itct=CBMQ3DAYDiITCISO3YH-ktUCFcmBHAod3Q4IPyjpHg\" data-ytid=\"UCwWhs_6x42TyRM4Wstoq8HA\">The Daily Show with Trevor Noah</a>, <a aria-hidden=\"true\" href=\"/watch?v=Sgp0WDMH88g\" class=\" yt-uix-sessionlink      spf-link \" data-sessionlink=\"itct=CBIQ3DAYDyITCISO3YH-ktUCFcmBHAod3Q4IPyjpHjIMdHJlbmRpbmctdHJiWgpGRXRyZW5kaW5n\"><div class=\"yt-thumb video-thumb\"><span class=\"yt-thumb-simple\">\n",
      "<img data-ytimg=\"1\" onload=\";window.__ytRIL &amp;&amp; __ytRIL(this)\" src=\"/yts/img/pixel-vfl3z5WfW.gif\" height=\"110\" width=\"196\" alt=\"\" data-thumb=\"https://i.ytimg.com/vi/Sgp0WDMH88g/hqdefault.jpg?sqp=-oaymwEWCMQBEG5IWvKriqkDCQgBFQAAiEIYAQ==&amp;rs=AOn4CLCf8nUuJ69fCuBL3n2u7Mnimco3iA\" />\n",
      "<span class=\"video-time\" aria-hidden=\"true\">3:46</span></span></div></a>, <a href=\"/watch?v=Sgp0WDMH88g\" class=\"yt-uix-tile-link yt-ui-ellipsis yt-ui-ellipsis-2 yt-uix-sessionlink      spf-link \" data-sessionlink=\"itct=CBIQ3DAYDyITCISO3YH-ktUCFcmBHAod3Q4IPyjpHjIMdHJlbmRpbmctdHJiWgpGRXRyZW5kaW5n\" title=\"Major Lazer - Know No Better (feat. Travis Scott, Camila Cabello &amp; Quavo)(Official Music Video)\" aria-describedby=\"description-id-957018\" dir=\"ltr\">Major Lazer - Know No Better (feat. Travis Scott, Camila Cabello &amp; Quavo)(Official Music Video)</a>, <a href=\"/user/majorlazer\" class=\"g-hovercard yt-uix-sessionlink       spf-link \" data-sessionlink=\"itct=CBIQ3DAYDyITCISO3YH-ktUCFcmBHAod3Q4IPyjpHg\" data-ytid=\"UCMJ5Qf3sOvQpcYiai1Noa3Q\">majorlazer</a>, <a href=\"http://vid.io/xcRj\" target=\"_blank\" title=\"http://vid.io/xcRj\" rel=\"nofollow\" dir=\"ltr\" class=\"yt-uix-redirect-link\">http://vid.io/xcRj</a>, <a aria-hidden=\"true\" href=\"/watch?v=suZYz-xuW2U\" class=\" yt-uix-sessionlink      spf-link \" data-sessionlink=\"itct=CBEQ3DAYECITCISO3YH-ktUCFcmBHAod3Q4IPyjpHjIMdHJlbmRpbmctdHJiWgpGRXRyZW5kaW5n\"><div class=\"yt-thumb video-thumb\"><span class=\"yt-thumb-simple\">\n",
      "<img data-ytimg=\"1\" onload=\";window.__ytRIL &amp;&amp; __ytRIL(this)\" src=\"/yts/img/pixel-vfl3z5WfW.gif\" height=\"110\" width=\"196\" alt=\"\" data-thumb=\"https://i.ytimg.com/vi/suZYz-xuW2U/hqdefault.jpg?sqp=-oaymwEWCMQBEG5IWvKriqkDCQgBFQAAiEIYAQ==&amp;rs=AOn4CLD_-4oTIXsXClc_hdI_ANJ_oOozzg\" />\n",
      "<span class=\"video-time\" aria-hidden=\"true\">16:58</span></span></div></a>, <a href=\"/watch?v=suZYz-xuW2U\" class=\"yt-uix-tile-link yt-ui-ellipsis yt-ui-ellipsis-2 yt-uix-sessionlink      spf-link \" data-sessionlink=\"itct=CBEQ3DAYECITCISO3YH-ktUCFcmBHAod3Q4IPyjpHjIMdHJlbmRpbmctdHJiWgpGRXRyZW5kaW5n\" title=\"TESTING WATER PROOF MAKEUP\" aria-describedby=\"description-id-442733\" dir=\"ltr\">TESTING WATER PROOF MAKEUP</a>, <a href=\"/user/KathleenLights\" class=\"g-hovercard yt-uix-sessionlink       spf-link \" data-sessionlink=\"itct=CBEQ3DAYECITCISO3YH-ktUCFcmBHAod3Q4IPyjpHg\" data-ytid=\"UC8v4vz_n2rys6Yxpj8LuOBA\">KathleenLights</a>, <a aria-hidden=\"true\" href=\"/watch?v=g0dg7BVLRAU\" class=\" yt-uix-sessionlink      spf-link \" data-sessionlink=\"itct=CBAQ3DAYESITCISO3YH-ktUCFcmBHAod3Q4IPyjpHjIMdHJlbmRpbmctdHJiWgpGRXRyZW5kaW5n\"><div class=\"yt-thumb video-thumb\"><span class=\"yt-thumb-simple\">\n",
      "<img data-ytimg=\"1\" onload=\";window.__ytRIL &amp;&amp; __ytRIL(this)\" src=\"/yts/img/pixel-vfl3z5WfW.gif\" height=\"110\" width=\"196\" alt=\"\" data-thumb=\"https://i.ytimg.com/vi/g0dg7BVLRAU/hqdefault.jpg?sqp=-oaymwEWCMQBEG5IWvKriqkDCQgBFQAAiEIYAQ==&amp;rs=AOn4CLBcA-QuGGltcjc4jaHB-OZFZrloEA\" />\n",
      "<span class=\"video-time\" aria-hidden=\"true\">5:29</span></span></div></a>, <a href=\"/watch?v=g0dg7BVLRAU\" class=\"yt-uix-tile-link yt-ui-ellipsis yt-ui-ellipsis-2 yt-uix-sessionlink      spf-link \" data-sessionlink=\"itct=CBAQ3DAYESITCISO3YH-ktUCFcmBHAod3Q4IPyjpHjIMdHJlbmRpbmctdHJiWgpGRXRyZW5kaW5n\" title=\"Honest Trailers - Fate of The Furious\" aria-describedby=\"description-id-646324\" dir=\"ltr\">Honest Trailers - Fate of The Furious</a>, <a href=\"/user/screenjunkies\" class=\"g-hovercard yt-uix-sessionlink       spf-link \" data-sessionlink=\"itct=CBAQ3DAYESITCISO3YH-ktUCFcmBHAod3Q4IPyjpHg\" data-ytid=\"UCOpcACMWblDls9Z6GERVi1A\">Screen Junkies</a>, <a aria-hidden=\"true\" href=\"/watch?v=fBn6uh-GYwQ\" class=\" yt-uix-sessionlink      spf-link \" data-sessionlink=\"itct=CA8Q3DAYEiITCISO3YH-ktUCFcmBHAod3Q4IPyjpHjIMdHJlbmRpbmctdHJiWgpGRXRyZW5kaW5n\"><div class=\"yt-thumb video-thumb\"><span class=\"yt-thumb-simple\">\n",
      "<img data-ytimg=\"1\" onload=\";window.__ytRIL &amp;&amp; __ytRIL(this)\" src=\"/yts/img/pixel-vfl3z5WfW.gif\" height=\"110\" width=\"196\" alt=\"\" data-thumb=\"https://i.ytimg.com/vi/fBn6uh-GYwQ/hqdefault.jpg?sqp=-oaymwEWCMQBEG5IWvKriqkDCQgBFQAAiEIYAQ==&amp;rs=AOn4CLCFgkfMe0YFepH_N-nUGHzoJprpHw\" />\n",
      "<span class=\"video-time\" aria-hidden=\"true\">15:07</span></span></div></a>, <a href=\"/watch?v=fBn6uh-GYwQ\" class=\"yt-uix-tile-link yt-ui-ellipsis yt-ui-ellipsis-2 yt-uix-sessionlink      spf-link \" data-sessionlink=\"itct=CA8Q3DAYEiITCISO3YH-ktUCFcmBHAod3Q4IPyjpHjIMdHJlbmRpbmctdHJiWgpGRXRyZW5kaW5n\" title=\"Game Theory: POKEMON - The TERRIFYING TRUTH of Fire Pokemon\" aria-describedby=\"description-id-425181\" dir=\"ltr\">Game Theory: POKEMON - The TERRIFYING TRUTH of Fire Pokemon</a>, <a href=\"/user/MatthewPatrick13\" class=\"g-hovercard yt-uix-sessionlink       spf-link \" data-sessionlink=\"itct=CA8Q3DAYEiITCISO3YH-ktUCFcmBHAod3Q4IPyjpHg\" data-ytid=\"UCo_IB5145EVNcf8hw1Kku7w\">The Game Theorists</a>, <a href=\"http://bit.ly/1qV8fd6\" target=\"_blank\" title=\"http://bit.ly/1qV8fd6\" rel=\"nofollow\" dir=\"ltr\" class=\"yt-uix-redirect-link\">http://bit.ly/1qV8fd6</a>, <a href=\"https://goo.gl/WPTidL\" target=\"_blank\" title=\"https://goo.gl/WPTidL\" rel=\"nofollow\" dir=\"ltr\" class=\"yt-uix-redirect-link\">https://goo.gl/WPTidL</a>, <a href=\"http://bit.ly/2taz3MR\" target=\"_blank\" title=\"http://bit.ly/2taz3MR\" rel=\"nofollow\" dir=\"ltr\" class=\"yt-uix-redirect-link\">http://bit.ly/2taz3MR</a>, <a aria-hidden=\"true\" href=\"/watch?v=DRpITDL-vcA\" class=\" yt-uix-sessionlink      spf-link \" data-sessionlink=\"itct=CA4Q3DAYEyITCISO3YH-ktUCFcmBHAod3Q4IPyjpHjIMdHJlbmRpbmctdHJiWgpGRXRyZW5kaW5n\"><div class=\"yt-thumb video-thumb\"><span class=\"yt-thumb-simple\">\n",
      "<img data-ytimg=\"1\" onload=\";window.__ytRIL &amp;&amp; __ytRIL(this)\" src=\"/yts/img/pixel-vfl3z5WfW.gif\" height=\"110\" width=\"196\" alt=\"\" data-thumb=\"https://i.ytimg.com/vi/DRpITDL-vcA/hqdefault.jpg?sqp=-oaymwEWCMQBEG5IWvKriqkDCQgBFQAAiEIYAQ==&amp;rs=AOn4CLACNCyRV4ExXXZXNzZpdUxCEsrC8A\" />\n",
      "<span class=\"video-time\" aria-hidden=\"true\">1:22:22</span></span></div></a>, <a href=\"/watch?v=DRpITDL-vcA\" class=\"yt-uix-tile-link yt-ui-ellipsis yt-ui-ellipsis-2 yt-uix-sessionlink      spf-link \" data-sessionlink=\"itct=CA4Q3DAYEyITCISO3YH-ktUCFcmBHAod3Q4IPyjpHjIMdHJlbmRpbmctdHJiWgpGRXRyZW5kaW5n\" title=\"Mayweather vs McGregor: Los Angeles Press Conference\" aria-describedby=\"description-id-761909\" dir=\"ltr\">Mayweather vs McGregor: Los Angeles Press Conference</a>, <a href=\"/user/UFC\" class=\"g-hovercard yt-uix-sessionlink       spf-link \" data-sessionlink=\"itct=CA4Q3DAYEyITCISO3YH-ktUCFcmBHAod3Q4IPyjpHg\" data-ytid=\"UCvgfXK4nTYKudb0rFR6noLA\">UFC - Ultimate Fighting Championship</a>, <a aria-hidden=\"true\" href=\"/watch?v=SsKyxf12QVo\" class=\" yt-uix-sessionlink      spf-link \" data-sessionlink=\"itct=CA0Q3DAYFCITCISO3YH-ktUCFcmBHAod3Q4IPyjpHjIMdHJlbmRpbmctdHJiWgpGRXRyZW5kaW5n\"><div class=\"yt-thumb video-thumb\"><span class=\"yt-thumb-simple\">\n",
      "<img data-ytimg=\"1\" onload=\";window.__ytRIL &amp;&amp; __ytRIL(this)\" src=\"/yts/img/pixel-vfl3z5WfW.gif\" height=\"110\" width=\"196\" alt=\"\" data-thumb=\"https://i.ytimg.com/vi/SsKyxf12QVo/hqdefault.jpg?sqp=-oaymwEWCMQBEG5IWvKriqkDCQgBFQAAiEIYAQ==&amp;rs=AOn4CLBanYGkjVU0RHxl5tGo96-XDqjxBg\" />\n",
      "<span class=\"video-time\" aria-hidden=\"true\">0:36</span></span></div></a>, <a href=\"/watch?v=SsKyxf12QVo\" class=\"yt-uix-tile-link yt-ui-ellipsis yt-ui-ellipsis-2 yt-uix-sessionlink      spf-link \" data-sessionlink=\"itct=CA0Q3DAYFCITCISO3YH-ktUCFcmBHAod3Q4IPyjpHjIMdHJlbmRpbmctdHJiWgpGRXRyZW5kaW5n\" title=\"Selfie Domino\" aria-describedby=\"description-id-740513\" dir=\"ltr\">Selfie Domino</a>, <a href=\"/channel/UC5pLdOZ585ky9UE8f-KxgwA\" class=\"g-hovercard yt-uix-sessionlink       spf-link \" data-sessionlink=\"itct=CA0Q3DAYFCITCISO3YH-ktUCFcmBHAod3Q4IPyjpHg\" data-ytid=\"UC5pLdOZ585ky9UE8f-KxgwA\">Party Pooper</a>, <a aria-hidden=\"true\" href=\"/watch?v=L4PKj9UNyGM\" class=\" yt-uix-sessionlink      spf-link \" data-sessionlink=\"itct=CAwQ3DAYFSITCISO3YH-ktUCFcmBHAod3Q4IPyjpHjIMdHJlbmRpbmctdHJiWgpGRXRyZW5kaW5n\"><div class=\"yt-thumb video-thumb\"><span class=\"yt-thumb-simple\">\n",
      "<img data-ytimg=\"1\" onload=\";window.__ytRIL &amp;&amp; __ytRIL(this)\" src=\"/yts/img/pixel-vfl3z5WfW.gif\" height=\"110\" width=\"196\" alt=\"\" data-thumb=\"https://i.ytimg.com/vi/L4PKj9UNyGM/hqdefault.jpg?sqp=-oaymwEWCMQBEG5IWvKriqkDCQgBFQAAiEIYAQ==&amp;rs=AOn4CLAHaWfOZWz34t97WKmC8i3Osh_efQ\" />\n",
      "<span class=\"video-time\" aria-hidden=\"true\">16:19</span></span></div></a>, <a href=\"/watch?v=L4PKj9UNyGM\" class=\"yt-uix-tile-link yt-ui-ellipsis yt-ui-ellipsis-2 yt-uix-sessionlink      spf-link \" data-sessionlink=\"itct=CAwQ3DAYFSITCISO3YH-ktUCFcmBHAod3Q4IPyjpHjIMdHJlbmRpbmctdHJiWgpGRXRyZW5kaW5n\" title=\"Compressed Air Cannon in Super Slow Mo - The Slow Mo Guys\" aria-describedby=\"description-id-281523\" dir=\"ltr\">Compressed Air Cannon in Super Slow Mo - The Slow Mo Guys</a>, <a href=\"/user/theslowmoguys\" class=\"g-hovercard yt-uix-sessionlink       spf-link \" data-sessionlink=\"itct=CAwQ3DAYFSITCISO3YH-ktUCFcmBHAod3Q4IPyjpHg\" data-ytid=\"UCUK0HBIBWgM2c4vsPhkYY4w\">The Slow Mo Guys</a>, <a href=\"https://twitter.com/GavinFree\" target=\"_blank\" title=\"https://twitter.com/GavinFree\" rel=\"nofollow\" dir=\"ltr\" class=\"yt-uix-redirect-link\">https://twitter.com/GavinFree</a>, <a aria-hidden=\"true\" href=\"/watch?v=tPZbBBdfr5E\" class=\" yt-uix-sessionlink      spf-link \" data-sessionlink=\"itct=CAsQ3DAYFiITCISO3YH-ktUCFcmBHAod3Q4IPyjpHjIMdHJlbmRpbmctdHJiWgpGRXRyZW5kaW5n\"><div class=\"yt-thumb video-thumb\"><span class=\"yt-thumb-simple\">\n",
      "<img data-ytimg=\"1\" onload=\";window.__ytRIL &amp;&amp; __ytRIL(this)\" src=\"/yts/img/pixel-vfl3z5WfW.gif\" height=\"110\" width=\"196\" alt=\"\" data-thumb=\"https://i.ytimg.com/vi/tPZbBBdfr5E/hqdefault.jpg?sqp=-oaymwEWCMQBEG5IWvKriqkDCQgBFQAAiEIYAQ==&amp;rs=AOn4CLBzwupcJBaNRFc8ywY3S3msYHjn9g\" />\n",
      "<span class=\"video-time\" aria-hidden=\"true\">4:11</span></span></div></a>, <a href=\"/watch?v=tPZbBBdfr5E\" class=\"yt-uix-tile-link yt-ui-ellipsis yt-ui-ellipsis-2 yt-uix-sessionlink      spf-link \" data-sessionlink=\"itct=CAsQ3DAYFiITCISO3YH-ktUCFcmBHAod3Q4IPyjpHjIMdHJlbmRpbmctdHJiWgpGRXRyZW5kaW5n\" title=\"French Montana - A Lie ft. The Weeknd, Max B\" aria-describedby=\"description-id-687539\" dir=\"ltr\">French Montana - A Lie ft. The Weeknd, Max B</a>, <a href=\"/user/FrenchMontanaVEVO\" class=\"g-hovercard yt-uix-sessionlink       spf-link \" data-sessionlink=\"itct=CAsQ3DAYFiITCISO3YH-ktUCFcmBHAod3Q4IPyjpHg\" data-ytid=\"UCpmBpSoy6YQjcshNK6pSyIA\">FrenchMontanaVEVO</a>, <a href=\"http://smarturl.it/JungleRules\" target=\"_blank\" title=\"http://smarturl.it/JungleRules\" rel=\"nofollow\" dir=\"ltr\" class=\"yt-uix-redirect-link\">http://smarturl.it/JungleRules</a>, <a href=\"http://smarturl.it/JungleRules_AM\" target=\"_blank\" title=\"http://smarturl.it/JungleRules_AM\" rel=\"nofollow\" dir=\"ltr\" class=\"yt-uix-redirect-link\">http://smarturl.it/JungleRules_AM</a>, <a href=\"http://smarturl.it/JungleRules_Sptfy\" target=\"_blank\" title=\"http://smarturl.it/JungleRules_Sptfy\" rel=\"nofollow\" dir=\"ltr\" class=\"yt-uix-redirect-link\">http://smarturl.it/JungleRules_Sptfy</a>, <a aria-hidden=\"true\" href=\"/watch?v=HtvTDwPOxEI\" class=\" yt-uix-sessionlink      spf-link \" data-sessionlink=\"itct=CAoQ3DAYFyITCISO3YH-ktUCFcmBHAod3Q4IPyjpHjIMdHJlbmRpbmctdHJiWgpGRXRyZW5kaW5n\"><div class=\"yt-thumb video-thumb\"><span class=\"yt-thumb-simple\">\n",
      "<img data-ytimg=\"1\" onload=\";window.__ytRIL &amp;&amp; __ytRIL(this)\" src=\"/yts/img/pixel-vfl3z5WfW.gif\" height=\"110\" width=\"196\" alt=\"\" data-thumb=\"https://i.ytimg.com/vi/HtvTDwPOxEI/hqdefault.jpg?sqp=-oaymwEWCMQBEG5IWvKriqkDCQgBFQAAiEIYAQ==&amp;rs=AOn4CLBl_G3H46_XRHM-e_g3tFDacwdO-A\" />\n",
      "<span class=\"video-time\" aria-hidden=\"true\">13:57</span></span></div></a>, <a href=\"/watch?v=HtvTDwPOxEI\" class=\"yt-uix-tile-link yt-ui-ellipsis yt-ui-ellipsis-2 yt-uix-sessionlink      spf-link \" data-sessionlink=\"itct=CAoQ3DAYFyITCISO3YH-ktUCFcmBHAod3Q4IPyjpHjIMdHJlbmRpbmctdHJiWgpGRXRyZW5kaW5n\" title=\"Prank Calling People But We Can't Hear Them\" aria-describedby=\"description-id-472566\" dir=\"ltr\">Prank Calling People But We Can&#39;t Hear Them</a>, <a href=\"/user/JennaMarbles\" class=\"g-hovercard yt-uix-sessionlink       spf-link \" data-sessionlink=\"itct=CAoQ3DAYFyITCISO3YH-ktUCFcmBHAod3Q4IPyjpHg\" data-ytid=\"UC9gFih9rw0zNCK3ZtoKQQyA\">JennaMarbles</a>, <a href=\"https://www.youtube.com/watch?v=PoGBh-e7Yd0&amp;t=6s\" target=\"_blank\" title=\"https://www.youtube.com/watch?v=PoGBh-e7Yd0&amp;t=6s\" rel=\"nofollow\" dir=\"ltr\" class=\"yt-uix-redirect-link\">https://www.youtube.com/watch?v=PoGBh-e7Yd0&amp;t=6s</a>, <a href=\"/\" id=\"footer-logo-link\" title=\"YouTube home\" data-sessionlink=\"ei=chNuWYSNBMmDct2doPgD&amp;ved=CAIQpmEiEwiEjt2B_pLVAhXJgRwKHd0OCD8o6R4\" class=\"yt-uix-sessionlink\"><span class=\"footer-logo-icon yt-sprite\"></span></a>, <a href=\"/feed/history\" class=\"yt-uix-button  footer-history yt-uix-sessionlink yt-uix-button-default yt-uix-button-size-default yt-uix-button-has-icon\" data-sessionlink=\"ei=chNuWYSNBMmDct2doPgD\"><span class=\"yt-uix-button-icon-wrapper\"><span class=\"yt-uix-button-icon yt-uix-button-icon-footer-history yt-sprite\"></span></span><span class=\"yt-uix-button-content\">History</span></a>, <a href=\"//www.youtube.com/yt/about/\">About</a>, <a href=\"//www.youtube.com/yt/press/\">Press</a>, <a href=\"//www.youtube.com/yt/copyright/\">Copyright</a>, <a href=\"//www.youtube.com/yt/creators/\">Creators</a>, <a href=\"//www.youtube.com/yt/advertise/\">Advertise</a>, <a href=\"//www.youtube.com/yt/dev/\">Developers</a>, <a href=\"https://plus.google.com/+youtube\" dir=\"ltr\">+YouTube</a>, <a href=\"/t/terms\">Terms</a>, <a href=\"https://www.google.com/intl/en/policies/privacy/\">Privacy</a>, <a href=\"//www.youtube.com/yt/policyandsafety/\">\n",
      "Policy &amp; Safety\n",
      "  </a>, <a href=\"//support.google.com/youtube/?hl=en\" onclick=\"return yt.www.feedback.start(59);\" class=\"reportbug\">Send feedback</a>, <a href=\"/testtube\">Test new features</a>, <a href=\"https://accounts.google.com/ServiceLogin?service=youtube&amp;uilel=3&amp;continue=https%3A%2F%2Fwww.youtube.com%2Fsignin%3Faction_handle_signin%3Dtrue%26next%3D%252Ffeed%252Ftrending%26hl%3Den%26feature%3Dplaylist%26app%3Ddesktop&amp;hl=en&amp;passive=true\" class=\"sign-in-link\">Sign in</a>]\n"
     ]
    }
   ],
   "source": [
    "print a_tags"
   ]
  },
  {
   "cell_type": "code",
   "execution_count": 10,
   "metadata": {
    "collapsed": false
   },
   "outputs": [
    {
     "name": "stdout",
     "output_type": "stream",
     "text": [
      "<a href=\"/\" class=\"masthead-logo-renderer yt-uix-sessionlink      spf-link \" data-sessionlink=\"itct=CAUQsV4iEwiEjt2B_pLVAhXJgRwKHd0OCD8o6R4\" id=\"logo-container\" title=\"YouTube Home\"> <span title=\"YouTube Home\" class=\"logo masthead-logo-renderer-logo yt-sprite\"></span>\n",
      "</a>\n"
     ]
    }
   ],
   "source": [
    "a_tag= soup.find('a')\n",
    "print (a_tag)"
   ]
  },
  {
   "cell_type": "code",
   "execution_count": 11,
   "metadata": {
    "collapsed": false
   },
   "outputs": [
    {
     "name": "stdout",
     "output_type": "stream",
     "text": [
      "/\n",
      "//www.youtube.com/upload\n",
      "/\n",
      "/\n",
      "/feed/trending\n",
      "/feed/history\n",
      "/channel/UC-9-kyTW8ZkZNDHQJ6FgpwQ\n",
      "/channel/UCEgdi0XIXXZ-qJOFPf4JSKw\n",
      "/channel/UCOpNcN46UbXVtpKMrmU4Abg\n",
      "/channel/UCYfdidRxbB8Qhf0Nx7ioOYw\n",
      "/channel/UC4R8DWoMoI7CAwX8_LjQHig\n",
      "/channel/UCzuqhhs6NWbgTzMuM09WKDQ\n",
      "/channels\n",
      "https://accounts.google.com/ServiceLogin?service=youtube&uilel=3&continue=https%3A%2F%2Fwww.youtube.com%2Fsignin%3Faction_handle_signin%3Dtrue%26next%3D%252Ffeed%252Ftrending%26hl%3Den%26feature%3Dsign_in_promo%26app%3Ddesktop&hl=en&passive=true\n",
      "/watch?v=dZOaI_Fn5o4\n",
      "/watch?v=dZOaI_Fn5o4\n",
      "/user/WarnerBrosPictures\n",
      "/watch?v=HoXDsTIu_10\n",
      "/watch?v=HoXDsTIu_10\n",
      "/user/GameofThrones\n",
      "/watch?v=MxCVbISr21U\n",
      "/watch?v=MxCVbISr21U\n",
      "/user/ArgonicsInc\n",
      "/watch?v=mxhxL1LzKww\n",
      "/watch?v=mxhxL1LzKww\n",
      "/user/Vsauce\n",
      "http://www.curiositybox.com/\n",
      "http://www.twitter.com/tweetsauce\n",
      "http://www.instagram.com/electricpants\n",
      "/watch?v=PEGccV-NOm8\n",
      "/watch?v=PEGccV-NOm8\n",
      "/watch?v=PEGccV-NOm8\n",
      "/channel/UCxMAbVFmxKUVGAll0WVGpFw\n",
      "https://lnk.to/BodakYellow\n",
      "http://Twitter.com/IAmCardiB\n",
      "http://Facebook.com/IA\n",
      "/watch?v=NfQ21BpbNXc\n",
      "/watch?v=NfQ21BpbNXc\n",
      "/user/emergencyawesome\n",
      "https://bit.ly/AwesomeSubscribe\n",
      "/watch?v=uPRa-6jUbVU\n",
      "/watch?v=uPRa-6jUbVU\n",
      "/channel/UCAcEpIlIeDY0Cubc7f5yzqA\n",
      "/watch?v=_-_bSdWEYK8\n",
      "/watch?v=_-_bSdWEYK8\n",
      "/user/doctorwho\n",
      "http://www.youtube.com/subscription_center?add_user=doctorwho\n",
      "http://www.doctorwho.tv\n",
      "http://ww\n",
      "/watch?v=FCDPP4ak8xU\n",
      "/watch?v=FCDPP4ak8xU\n",
      "/user/gordonramsay\n",
      "http://www.youtube.com/\n",
      "/watch?v=foLf5Bi9qXs\n",
      "/watch?v=foLf5Bi9qXs\n",
      "/user/TEDEducation\n",
      "http://ed.ted.com/lessons/how-does-caffeine-keep-us-awake-hanan-qasim\n",
      "/watch?v=ZCLhaPWwVwM\n",
      "/watch?v=ZCLhaPWwVwM\n",
      "/channel/UC7sWl-X0cqwOXlDo8lKdXTQ\n",
      "/watch?v=5PmRV5zni7I\n",
      "/watch?v=5PmRV5zni7I\n",
      "/user/LipSyncBattle\n",
      "/watch?v=TqOzdRLb1Hc\n",
      "/watch?v=TqOzdRLb1Hc\n",
      "/channel/UCMtFAi84ehTSYSE9XoHefig\n",
      "/watch?v=FDBFbrynfvA\n",
      "/watch?v=FDBFbrynfvA\n",
      "/user/USATODAY\n",
      "/watch?v=ye6GCY_vqYk\n",
      "/watch?v=ye6GCY_vqYk\n",
      "/user/starwars\n",
      "http://www.starwars.com\n",
      "http://www.youtube.com/starwars\n",
      "/watch?v=3qFYoVeKof4\n",
      "/watch?v=3qFYoVeKof4\n",
      "/user/NationalGeographic\n",
      "/watch?v=senqJyYkUDQ\n",
      "/watch?v=senqJyYkUDQ\n",
      "/channel/UCd_EkHbEutirFl_XSrg95kA\n",
      "http://goo.gl/RctO1o\n",
      "http://goo.gl/rZRTwc\n",
      "https://goo\n",
      "/watch?v=LXreT3NNhzw\n",
      "/watch?v=LXreT3NNhzw\n",
      "/user/bbcradio1\n",
      "/watch?v=GmULc5VANsw\n",
      "/watch?v=GmULc5VANsw\n",
      "/channel/UCR1D15p_vdP3HkrH8wgjQRw\n",
      "https://www.patreon.com/internethistorian\n",
      "/watch?v=E4U3TeY2wtM\n",
      "/watch?v=E4U3TeY2wtM\n",
      "/user/DisneyMovieTrailers\n",
      "/watch?v=nryiwb1gcBA\n",
      "/watch?v=nryiwb1gcBA\n",
      "/user/BBCAmericaTV\n",
      "http://bit.ly/1aP6Fo9\n",
      "http://twitter.com/doctorwho_bbca\n",
      "http://www.facebook.com/DoctorWho\n",
      "http://DoctorWho.tumbl\n",
      "/watch?v=lY2y5hHdWEo\n",
      "/watch?v=lY2y5hHdWEo\n",
      "/channel/UCZZo2jEVm4lui8eLmoV8ICw\n",
      "http://tinyurl.com/o93l5gn\n",
      "https://teespring.com/stores/smokescreenvids\n",
      "/watch?v=q1IczjLYCIM\n",
      "/watch?v=q1IczjLYCIM\n",
      "/user/BBC\n",
      "http://bbc.in/1iNCCAI\n",
      "/watch?v=D-AQC8Bbvhs\n",
      "/watch?v=D-AQC8Bbvhs\n",
      "/user/Wimbledon\n",
      "http://www.youtube.com/wimbledon\n",
      "https://www.facebook.com/Wimbledon\n",
      "https://twitter.com/Wimble\n",
      "/watch?v=n3HCbFF4ma8\n",
      "/watch?v=n3HCbFF4ma8\n",
      "/channel/UClZmCCcrhNaXhWYvZNIolWg\n",
      "/watch?v=8JKCd1B-MpQ\n",
      "/watch?v=8JKCd1B-MpQ\n",
      "/user/leelajamesVEVO\n",
      "http://smarturl.it/DidItForLoveAR\n",
      "http://leelajames.com\n",
      "https://facebook.com/LeelaJames\n",
      "/watch?v=E4y7UK4nqnQ\n",
      "/watch?v=E4y7UK4nqnQ\n",
      "/channel/UCCyrXyelKeXFx5KDgldMmNw\n",
      "/watch?v=fk0giym6_Y4\n",
      "/watch?v=fk0giym6_Y4\n",
      "/channel/UCv8GJP1mNVqrfpVNMJGb70g\n",
      "/watch?v=f8mjlXmHK4Q\n",
      "/watch?v=f8mjlXmHK4Q\n",
      "/user/FoxNewsChannel\n",
      "/watch?v=idMJIEFH_ns\n",
      "/watch?v=idMJIEFH_ns\n",
      "/channel/UCyRsl8zIOCdTt0p_hMtnRaQ\n",
      "https://twitter.com/mona_haydar\n",
      "/watch?v=fbdG_wPA8tA\n",
      "/watch?v=fbdG_wPA8tA\n",
      "/user/WWEFanNation\n",
      "http://wwenetwork.com\n",
      "http://bit.ly/1i64OdT\n",
      "/watch?v=4xcuKEwCDWg\n",
      "/watch?v=4xcuKEwCDWg\n",
      "/user/lindseystomp\n",
      "http://bit.ly/LSitaintme\n",
      "http://bit.ly/LSitaintmeSP\n",
      "https://www.youtube.com/user/KurtHugoSchneider\n",
      "/watch?v=EnhPZLFrYbg\n",
      "/watch?v=EnhPZLFrYbg\n",
      "/user/lilogirl2000\n",
      "/watch?v=zjpCGcM_-rQ\n",
      "/watch?v=zjpCGcM_-rQ\n",
      "/user/MovieBlogTV\n",
      "/watch?v=X_7l652fV5M\n",
      "/watch?v=X_7l652fV5M\n",
      "/user/IISuperwomanII\n",
      "https://www.youtube.com/watch?v=So5uiLgis8s\n",
      "/watch?v=qlB0m541Q3A\n",
      "/watch?v=qlB0m541Q3A\n",
      "/user/Americanvogue\n",
      "/watch?v=HcBVNCzubIU\n",
      "/watch?v=HcBVNCzubIU\n",
      "/user/jeffdunham\n",
      "/watch?v=cwzNbCjYX1E\n",
      "/watch?v=cwzNbCjYX1E\n",
      "/user/HBO\n",
      "/watch?v=aP1jcbPRxc8\n",
      "/watch?v=aP1jcbPRxc8\n",
      "/user/DisneyParks\n",
      "/watch?v=8PL1BC1s8CQ\n",
      "/watch?v=8PL1BC1s8CQ\n",
      "/channel/UC3fBRpuw7IyGi52h6Nm7OZQ\n",
      "https://soundcloud.com/kliko9/wisdom\n",
      "https://soundclo\n",
      "/watch?v=wLJWeMNs4nY\n",
      "/watch?v=wLJWeMNs4nY\n",
      "/channel/UCXjRJe9ltHXXUdCLrPxvSig\n",
      "/watch?v=D02DpFB1oV4\n",
      "/watch?v=D02DpFB1oV4\n",
      "/user/losangelestimes\n",
      "/watch?v=IBv5TZSZbnQ\n",
      "/watch?v=IBv5TZSZbnQ\n",
      "/user/Chazcam22\n",
      "/watch?v=3wI_mN-8qpI\n",
      "/watch?v=3wI_mN-8qpI\n",
      "/user/collegehumor\n",
      "http://www.collegehumor.com\n",
      "http://www.facebook.com/collegehumor\n",
      "http://www.twitter.com/collegeh\n",
      "/watch?v=9yf_lf4C9mo\n",
      "/watch?v=9yf_lf4C9mo\n",
      "/user/slashfilm1\n",
      "/watch?v=bBxzGEGB3_U\n",
      "/watch?v=bBxzGEGB3_U\n",
      "/user/screenjunkies\n",
      "/watch?v=6n19nelyXeY\n",
      "/watch?v=6n19nelyXeY\n",
      "/user/MatthewSantoro\n",
      "https://youtube.com/ThoughtBubbler\n",
      "http://twitter.com/MatthewSantoro\n",
      "http://facebook.com/MatthewSantoro\n",
      "http://instagram\n",
      "/watch?v=yM8hXie3OA0\n",
      "/watch?v=yM8hXie3OA0\n",
      "/user/MatthewPatrick13\n",
      "https://goo.gl/kQWHkJ\n",
      "https://goo.gl/cnAqxA\n",
      "https://goo.gl/ayrokB\n",
      "/watch?v=rh7kpkwXnwA\n",
      "/watch?v=rh7kpkwXnwA\n",
      "/user/Computerphile\n",
      "https://www.youtube.com/watch?v=TjVeZ9c9\n",
      "/watch?v=czvSmqBASgE\n",
      "/watch?v=czvSmqBASgE\n",
      "/user/thriftthick\n",
      "/watch?v=vmlyePmLIVE\n",
      "/watch?v=vmlyePmLIVE\n",
      "/user/BGKumbi\n",
      "http://facebook.com/BGKumbi\n",
      "http://facebook.com/OfficialBGKumbi\n",
      "http://twitter.com/bgkumbi\n",
      "/watch?v=GQEtvtPGL9k\n",
      "/watch?v=GQEtvtPGL9k\n",
      "/user/XXLMagazine\n",
      "http://bit.ly/subscribe-xxl\n",
      "/watch?v=V5_tnpdnNz4\n",
      "/watch?v=V5_tnpdnNz4\n",
      "/user/JenniferLopezVEVO\n",
      "https://SML.lnk.to/NiTuNiYo\n",
      "http://s\n",
      "/watch?v=ZIBPunnSimc\n",
      "/watch?v=ZIBPunnSimc\n",
      "/user/CinemaSins\n",
      "/watch?v=ry3bJ6IL0SY\n",
      "/watch?v=ry3bJ6IL0SY\n",
      "/user/joshuakuykendall6\n",
      "/watch?v=H3EY8aLutbg\n",
      "/watch?v=H3EY8aLutbg\n",
      "/channel/UCMtFAi84ehTSYSE9XoHefig\n",
      "http://bit.ly/Colbert\n",
      "/watch?v=9o7KPoS0HGs\n",
      "/watch?v=9o7KPoS0HGs\n",
      "/user/BadLipReading\n",
      "http://www.facebook.com/badlipreading\n",
      "http://twitter.com/badlipreading\n",
      "/watch?v=jkj4fDl1rMo\n",
      "/watch?v=jkj4fDl1rMo\n",
      "/user/RomanAtwoodVlogs\n",
      "http://bit.ly/SubToRoman\n",
      "/watch?v=HO2c_2XAXMw\n",
      "/watch?v=HO2c_2XAXMw\n",
      "/user/voxdotcom\n",
      "https://www.vox.com/2017/7/11/15953204/donald\n",
      "/watch?v=TQrd8ni5VRg\n",
      "/watch?v=TQrd8ni5VRg\n",
      "/channel/UCxSz6JVYmzVhtkraHWZC7HQ\n",
      "/watch?v=GEhOZooB3bw\n",
      "/watch?v=GEhOZooB3bw\n",
      "/user/Jaclynhill1\n",
      "http://goo.gl/3Awmn8\n",
      "/watch?v=vZiUBoZ454E\n",
      "/watch?v=vZiUBoZ454E\n",
      "/user/caseyneistat\n",
      "https://www.instagram.com/billy/\n",
      "http://amzn.to/2sTDnRZ\n",
      "http://amzn.to/2rUJOmD\n",
      "http://tinyurl.com/h4ft3oy\n",
      "/watch?v=PVScY23bb0Y\n",
      "/watch?v=PVScY23bb0Y\n",
      "/user/JimmyKimmelLive\n",
      "/watch?v=YIcj1_OJePs\n",
      "/watch?v=YIcj1_OJePs\n",
      "/user/TMZ\n",
      "/watch?v=r2Vq5HOSBhY\n",
      "/watch?v=r2Vq5HOSBhY\n",
      "/user/TheMelbComedyFest\n",
      "/watch?v=7qL1un6NPZA\n",
      "/watch?v=7qL1un6NPZA\n",
      "/channel/UCwWhs_6x42TyRM4Wstoq8HA\n",
      "/watch?v=Sgp0WDMH88g\n",
      "/watch?v=Sgp0WDMH88g\n",
      "/user/majorlazer\n",
      "http://vid.io/xcRj\n",
      "/watch?v=suZYz-xuW2U\n",
      "/watch?v=suZYz-xuW2U\n",
      "/user/KathleenLights\n",
      "/watch?v=g0dg7BVLRAU\n",
      "/watch?v=g0dg7BVLRAU\n",
      "/user/screenjunkies\n",
      "/watch?v=fBn6uh-GYwQ\n",
      "/watch?v=fBn6uh-GYwQ\n",
      "/user/MatthewPatrick13\n",
      "http://bit.ly/1qV8fd6\n",
      "https://goo.gl/WPTidL\n",
      "http://bit.ly/2taz3MR\n",
      "/watch?v=DRpITDL-vcA\n",
      "/watch?v=DRpITDL-vcA\n",
      "/user/UFC\n",
      "/watch?v=SsKyxf12QVo\n",
      "/watch?v=SsKyxf12QVo\n",
      "/channel/UC5pLdOZ585ky9UE8f-KxgwA\n",
      "/watch?v=L4PKj9UNyGM\n",
      "/watch?v=L4PKj9UNyGM\n",
      "/user/theslowmoguys\n",
      "https://twitter.com/GavinFree\n",
      "/watch?v=tPZbBBdfr5E\n",
      "/watch?v=tPZbBBdfr5E\n",
      "/user/FrenchMontanaVEVO\n",
      "http://smarturl.it/JungleRules\n",
      "http://smarturl.it/JungleRules_AM\n",
      "http://smarturl.it/JungleRules_Sptfy\n",
      "/watch?v=HtvTDwPOxEI\n",
      "/watch?v=HtvTDwPOxEI\n",
      "/user/JennaMarbles\n",
      "https://www.youtube.com/watch?v=PoGBh-e7Yd0&t=6s\n",
      "/\n",
      "/feed/history\n",
      "//www.youtube.com/yt/about/\n",
      "//www.youtube.com/yt/press/\n",
      "//www.youtube.com/yt/copyright/\n",
      "//www.youtube.com/yt/creators/\n",
      "//www.youtube.com/yt/advertise/\n",
      "//www.youtube.com/yt/dev/\n",
      "https://plus.google.com/+youtube\n",
      "/t/terms\n",
      "https://www.google.com/intl/en/policies/privacy/\n",
      "//www.youtube.com/yt/policyandsafety/\n",
      "//support.google.com/youtube/?hl=en\n",
      "/testtube\n",
      "https://accounts.google.com/ServiceLogin?service=youtube&uilel=3&continue=https%3A%2F%2Fwww.youtube.com%2Fsignin%3Faction_handle_signin%3Dtrue%26next%3D%252Ffeed%252Ftrending%26hl%3Den%26feature%3Dplaylist%26app%3Ddesktop&hl=en&passive=true\n"
     ]
    }
   ],
   "source": [
    "for i in a_tags:\n",
    "    print(i.get('href'))"
   ]
  },
  {
   "cell_type": "code",
   "execution_count": 17,
   "metadata": {
    "collapsed": false
   },
   "outputs": [
    {
     "name": "stdout",
     "output_type": "stream",
     "text": [
      "Sign in now to see your channels and recommendations!\n",
      "Loading...\n",
      "Loading...\n",
      "Loading...\n",
      "Loading...\n",
      "Loading...\n",
      "Working...\n",
      "Loading playlists...\n"
     ]
    }
   ],
   "source": [
    "p_tags=soup.findAll('p')\n",
    "\n",
    "for i in p_tags:\n",
    "    print(i.text)"
   ]
  },
  {
   "cell_type": "code",
   "execution_count": 66,
   "metadata": {
    "collapsed": false
   },
   "outputs": [
    {
     "name": "stdout",
     "output_type": "stream",
     "text": [
      "[<a href=\"/watch?v=dZOaI_Fn5o4\" class=\"yt-uix-tile-link yt-ui-ellipsis yt-ui-ellipsis-2 yt-uix-sessionlink      spf-link \" data-sessionlink=\"itct=CFoQ3DAYACITCISO3YH-ktUCFcmBHAod3Q4IPyjpHjIIdHJlbmRpbmdaCkZFdHJlbmRpbmc\" title=\"BLADE RUNNER 2049 – Trailer 2\" aria-describedby=\"description-id-764179\" dir=\"ltr\">BLADE RUNNER 2049 – Trailer 2</a>, <a href=\"/watch?v=HoXDsTIu_10\" class=\"yt-uix-tile-link yt-ui-ellipsis yt-ui-ellipsis-2 yt-uix-sessionlink      spf-link \" data-sessionlink=\"itct=CFkQ3DAYASITCISO3YH-ktUCFcmBHAod3Q4IPyjpHjIIdHJlbmRpbmdaCkZFdHJlbmRpbmc\" title=\"Stormborn: Game of Thrones Season 7 Episode 2: Preview (HBO)\" aria-describedby=\"description-id-751959\" dir=\"ltr\">Stormborn: Game of Thrones Season 7 Episode 2: Preview (HBO)</a>, <a href=\"/watch?v=MxCVbISr21U\" class=\"yt-uix-tile-link yt-ui-ellipsis yt-ui-ellipsis-2 yt-uix-sessionlink      spf-link \" data-sessionlink=\"itct=CFgQ3DAYAiITCISO3YH-ktUCFcmBHAod3Q4IPyjpHjIIdHJlbmRpbmdaCkZFdHJlbmRpbmc\" title=\"Goat breaks into Argonics' Colorado office\" aria-describedby=\"description-id-295323\" dir=\"ltr\">Goat breaks into Argonics&#39; Colorado office</a>, <a href=\"/watch?v=mxhxL1LzKww\" class=\"yt-uix-tile-link yt-ui-ellipsis yt-ui-ellipsis-2 yt-uix-sessionlink      spf-link \" data-sessionlink=\"itct=CFcQ3DAYAyITCISO3YH-ktUCFcmBHAod3Q4IPyjpHjIIdHJlbmRpbmdaCkZFdHJlbmRpbmc\" title=\"How Much of the Earth Can You See at Once?\" aria-describedby=\"description-id-262888\" dir=\"ltr\">How Much of the Earth Can You See at Once?</a>, <a href=\"/watch?v=PEGccV-NOm8\" class=\"yt-uix-tile-link yt-ui-ellipsis yt-ui-ellipsis-2 yt-uix-sessionlink      spf-link \" data-sessionlink=\"itct=CFQQ3DAYASITCISO3YH-ktUCFcmBHAod3Q4IPyjpHjIIdHJlbmRpbmdaCkZFdHJlbmRpbmc\" title=\"Cardi B - Bodak Yellow [OFFICIAL MUSIC VIDEO]\" aria-describedby=\"description-id-46801\" dir=\"ltr\">Cardi B - Bodak Yellow [OFFICIAL MUSIC VIDEO]</a>, <a href=\"/watch?v=NfQ21BpbNXc\" class=\"yt-uix-tile-link yt-ui-ellipsis yt-ui-ellipsis-2 yt-uix-sessionlink      spf-link \" data-sessionlink=\"itct=CFEQ3DAYACITCISO3YH-ktUCFcmBHAod3Q4IPyjpHjIIdHJlbmRpbmdaCkZFdHJlbmRpbmc\" title=\"Game Of Thrones Season 7 Episode 1 - TOP 10 WTF and Easter Eggs\" aria-describedby=\"description-id-429163\" dir=\"ltr\">Game Of Thrones Season 7 Episode 1 - TOP 10 WTF and Easter Eggs</a>, <a href=\"/watch?v=uPRa-6jUbVU\" class=\"yt-uix-tile-link yt-ui-ellipsis yt-ui-ellipsis-2 yt-uix-sessionlink      spf-link \" data-sessionlink=\"itct=CFAQ3DAYASITCISO3YH-ktUCFcmBHAod3Q4IPyjpHjIIdHJlbmRpbmdaCkZFdHJlbmRpbmc\" title=\"BMX racer boy doesn't care about winning at Rapid Wheels\" aria-describedby=\"description-id-867481\" dir=\"ltr\">BMX racer boy doesn&#39;t care about winning at Rapid Wheels</a>, <a href=\"/watch?v=_-_bSdWEYK8\" class=\"yt-uix-tile-link yt-ui-ellipsis yt-ui-ellipsis-2 yt-uix-sessionlink      spf-link \" data-sessionlink=\"itct=CE8Q3DAYAiITCISO3YH-ktUCFcmBHAod3Q4IPyjpHjIIdHJlbmRpbmdaCkZFdHJlbmRpbmc\" title=\"Meet the Thirteenth Doctor - Doctor Who\" aria-describedby=\"description-id-865416\" dir=\"ltr\">Meet the Thirteenth Doctor - Doctor Who</a>, <a href=\"/watch?v=FCDPP4ak8xU\" class=\"yt-uix-tile-link yt-ui-ellipsis yt-ui-ellipsis-2 yt-uix-sessionlink      spf-link \" data-sessionlink=\"itct=CE4Q3DAYAyITCISO3YH-ktUCFcmBHAod3Q4IPyjpHjIIdHJlbmRpbmdaCkZFdHJlbmRpbmc\" title=\"Ramsay Forced to Spit Out BACON &amp; CHOCOLATE PIZZA! | Hotel Hell\" aria-describedby=\"description-id-994142\" dir=\"ltr\">Ramsay Forced to Spit Out BACON &amp; CHOCOLATE PIZZA! | Hotel Hell</a>, <a href=\"/watch?v=foLf5Bi9qXs\" class=\"yt-uix-tile-link yt-ui-ellipsis yt-ui-ellipsis-2 yt-uix-sessionlink      spf-link \" data-sessionlink=\"itct=CE0Q3DAYBCITCISO3YH-ktUCFcmBHAod3Q4IPyjpHjIIdHJlbmRpbmdaCkZFdHJlbmRpbmc\" title=\"How does caffeine keep us awake? - Hanan Qasim\" aria-describedby=\"description-id-42739\" dir=\"ltr\">How does caffeine keep us awake? - Hanan Qasim</a>, <a href=\"/watch?v=ZCLhaPWwVwM\" class=\"yt-uix-tile-link yt-ui-ellipsis yt-ui-ellipsis-2 yt-uix-sessionlink      spf-link \" data-sessionlink=\"itct=CEwQ3DAYBSITCISO3YH-ktUCFcmBHAod3Q4IPyjpHjIIdHJlbmRpbmdaCkZFdHJlbmRpbmc\" title=\"Game of Thrones - Season 7 - Ed Sheeran - Arya Stark - Lannister Song - Hands of Gold\" aria-describedby=\"description-id-176496\" dir=\"ltr\">Game of Thrones - Season 7 - Ed Sheeran - Arya Stark - Lannister Song - Hands of Gold</a>, <a href=\"/watch?v=5PmRV5zni7I\" class=\"yt-uix-tile-link yt-ui-ellipsis yt-ui-ellipsis-2 yt-uix-sessionlink      spf-link \" data-sessionlink=\"itct=CEsQ3DAYBiITCISO3YH-ktUCFcmBHAod3Q4IPyjpHjIIdHJlbmRpbmdaCkZFdHJlbmRpbmc\" title='David Spade Performs Wham!’s “Wake Me Up Before You Go-Go\" | Lip Sync Battle' aria-describedby=\"description-id-719635\" dir=\"ltr\">David Spade Performs Wham!’s “Wake Me Up Before You Go-Go&quot; | Lip Sync Battle</a>, <a href=\"/watch?v=TqOzdRLb1Hc\" class=\"yt-uix-tile-link yt-ui-ellipsis yt-ui-ellipsis-2 yt-uix-sessionlink      spf-link \" data-sessionlink=\"itct=CEoQ3DAYByITCISO3YH-ktUCFcmBHAod3Q4IPyjpHjIIdHJlbmRpbmdaCkZFdHJlbmRpbmc\" title=\"Stephen Kicks Off 'Russia Week' From Red Square\" aria-describedby=\"description-id-359396\" dir=\"ltr\">Stephen Kicks Off &#39;Russia Week&#39; From Red Square</a>, <a href=\"/watch?v=FDBFbrynfvA\" class=\"yt-uix-tile-link yt-ui-ellipsis yt-ui-ellipsis-2 yt-uix-sessionlink      spf-link \" data-sessionlink=\"itct=CEkQ3DAYCCITCISO3YH-ktUCFcmBHAod3Q4IPyjpHjIIdHJlbmRpbmdaCkZFdHJlbmRpbmc\" title=\"Top 3 shockers of Season 7's Game of Thrones premiere\" aria-describedby=\"description-id-193091\" dir=\"ltr\">Top 3 shockers of Season 7&#39;s Game of Thrones premiere</a>, <a href=\"/watch?v=ye6GCY_vqYk\" class=\"yt-uix-tile-link yt-ui-ellipsis yt-ui-ellipsis-2 yt-uix-sessionlink      spf-link \" data-sessionlink=\"itct=CEgQ3DAYCSITCISO3YH-ktUCFcmBHAod3Q4IPyjpHjIIdHJlbmRpbmdaCkZFdHJlbmRpbmc\" title=\"Star Wars: The Last Jedi Behind The Scenes\" aria-describedby=\"description-id-424452\" dir=\"ltr\">Star Wars: The Last Jedi Behind The Scenes</a>, <a href=\"/watch?v=3qFYoVeKof4\" class=\"yt-uix-tile-link yt-ui-ellipsis yt-ui-ellipsis-2 yt-uix-sessionlink      spf-link \" data-sessionlink=\"itct=CEcQ3DAYCiITCISO3YH-ktUCFcmBHAod3Q4IPyjpHjIIdHJlbmRpbmdaCkZFdHJlbmRpbmc\" title=\"See the Huge Crack in West Antarctica Before Iceberg Broke Off | National Geographic\" aria-describedby=\"description-id-387575\" dir=\"ltr\">See the Huge Crack in West Antarctica Before Iceberg Broke Off | National Geographic</a>, <a href=\"/watch?v=senqJyYkUDQ\" class=\"yt-uix-tile-link yt-ui-ellipsis yt-ui-ellipsis-2 yt-uix-sessionlink      spf-link \" data-sessionlink=\"itct=CEYQ3DAYCyITCISO3YH-ktUCFcmBHAod3Q4IPyjpHjIIdHJlbmRpbmdaCkZFdHJlbmRpbmc\" title=\"Lonzo Ball MVP Offense Highlights (2017 Summer League) - LA Lakers Debut!\" aria-describedby=\"description-id-758967\" dir=\"ltr\">Lonzo Ball MVP Offense Highlights (2017 Summer League) - LA Lakers Debut!</a>, <a href=\"/watch?v=LXreT3NNhzw\" class=\"yt-uix-tile-link yt-ui-ellipsis yt-ui-ellipsis-2 yt-uix-sessionlink      spf-link \" data-sessionlink=\"itct=CEUQ3DAYDCITCISO3YH-ktUCFcmBHAod3Q4IPyjpHjIIdHJlbmRpbmdaCkZFdHJlbmRpbmc\" title=\"Harry Styles' HEART MONITOR CHALLENGE with Nick Grimshaw\" aria-describedby=\"description-id-129863\" dir=\"ltr\">Harry Styles&#39; HEART MONITOR CHALLENGE with Nick Grimshaw</a>, <a href=\"/watch?v=GmULc5VANsw\" class=\"yt-uix-tile-link yt-ui-ellipsis yt-ui-ellipsis-2 yt-uix-sessionlink      spf-link \" data-sessionlink=\"itct=CEQQ3DAYDSITCISO3YH-ktUCFcmBHAod3Q4IPyjpHjIIdHJlbmRpbmdaCkZFdHJlbmRpbmc\" title=\"The Failure of Rainfurrest\" aria-describedby=\"description-id-421049\" dir=\"ltr\">The Failure of Rainfurrest</a>, <a href=\"/watch?v=E4U3TeY2wtM\" class=\"yt-uix-tile-link yt-ui-ellipsis yt-ui-ellipsis-2 yt-uix-sessionlink      spf-link \" data-sessionlink=\"itct=CEMQ3DAYDiITCISO3YH-ktUCFcmBHAod3Q4IPyjpHjIIdHJlbmRpbmdaCkZFdHJlbmRpbmc\" title=\"A Wrinkle In Time Official US Teaser Trailer\" aria-describedby=\"description-id-87793\" dir=\"ltr\">A Wrinkle In Time Official US Teaser Trailer</a>, <a href=\"/watch?v=nryiwb1gcBA\" class=\"yt-uix-tile-link yt-ui-ellipsis yt-ui-ellipsis-2 yt-uix-sessionlink      spf-link \" data-sessionlink=\"itct=CEIQ3DAYDyITCISO3YH-ktUCFcmBHAod3Q4IPyjpHjIIdHJlbmRpbmdaCkZFdHJlbmRpbmc\" title=\"Meet the Thirteenth Doctor | Doctor Who\" aria-describedby=\"description-id-844372\" dir=\"ltr\">Meet the Thirteenth Doctor | Doctor Who</a>, <a href=\"/watch?v=lY2y5hHdWEo\" class=\"yt-uix-tile-link yt-ui-ellipsis yt-ui-ellipsis-2 yt-uix-sessionlink      spf-link \" data-sessionlink=\"itct=CEEQ3DAYECITCISO3YH-ktUCFcmBHAod3Q4IPyjpHjIIdHJlbmRpbmdaCkZFdHJlbmRpbmc\" title=\"Game of Thrones Season 7 Episode 1 Review / Reaction - Live After Show!\" aria-describedby=\"description-id-360888\" dir=\"ltr\">Game of Thrones Season 7 Episode 1 Review / Reaction - Live After Show!</a>, <a href=\"/watch?v=q1IczjLYCIM\" class=\"yt-uix-tile-link yt-ui-ellipsis yt-ui-ellipsis-2 yt-uix-sessionlink      spf-link \" data-sessionlink=\"itct=CEAQ3DAYESITCISO3YH-ktUCFcmBHAod3Q4IPyjpHjIIdHJlbmRpbmdaCkZFdHJlbmRpbmc\" title=\"The Thirteenth Doctor revealed - Doctor Who: Trailer - BBC One\" aria-describedby=\"description-id-419276\" dir=\"ltr\">The Thirteenth Doctor revealed - Doctor Who: Trailer - BBC One</a>, <a href=\"/watch?v=D-AQC8Bbvhs\" class=\"yt-uix-tile-link yt-ui-ellipsis yt-ui-ellipsis-2 yt-uix-sessionlink      spf-link \" data-sessionlink=\"itct=CD8Q3DAYEiITCISO3YH-ktUCFcmBHAod3Q4IPyjpHjIIdHJlbmRpbmdaCkZFdHJlbmRpbmc\" title=\"Roger Federer wins Wimbledon 2017\" aria-describedby=\"description-id-720134\" dir=\"ltr\">Roger Federer wins Wimbledon 2017</a>, <a href=\"/watch?v=n3HCbFF4ma8\" class=\"yt-uix-tile-link yt-ui-ellipsis yt-ui-ellipsis-2 yt-uix-sessionlink      spf-link \" data-sessionlink=\"itct=CD4Q3DAYEyITCISO3YH-ktUCFcmBHAod3Q4IPyjpHjIIdHJlbmRpbmdaCkZFdHJlbmRpbmc\" title='Regina Hall &amp; Jada Pinkett Smith Talk About \"Girls Trip\"' aria-describedby=\"description-id-320641\" dir=\"ltr\">Regina Hall &amp; Jada Pinkett Smith Talk About &quot;Girls Trip&quot;</a>, <a href=\"/watch?v=8JKCd1B-MpQ\" class=\"yt-uix-tile-link yt-ui-ellipsis yt-ui-ellipsis-2 yt-uix-sessionlink      spf-link \" data-sessionlink=\"itct=CD0Q3DAYFCITCISO3YH-ktUCFcmBHAod3Q4IPyjpHjIIdHJlbmRpbmdaCkZFdHJlbmRpbmc\" title=\"Leela James - Hard For Me\" aria-describedby=\"description-id-362879\" dir=\"ltr\">Leela James - Hard For Me</a>, <a href=\"/watch?v=E4y7UK4nqnQ\" class=\"yt-uix-tile-link yt-ui-ellipsis yt-ui-ellipsis-2 yt-uix-sessionlink      spf-link \" data-sessionlink=\"itct=CDwQ3DAYFSITCISO3YH-ktUCFcmBHAod3Q4IPyjpHjIIdHJlbmRpbmdaCkZFdHJlbmRpbmc\" title=\"KINGDOM HEARTS III – D23 2017 Toy Story Trailer\" aria-describedby=\"description-id-163808\" dir=\"ltr\">KINGDOM HEARTS III – D23 2017 Toy Story Trailer</a>, <a href=\"/watch?v=fk0giym6_Y4\" class=\"yt-uix-tile-link yt-ui-ellipsis yt-ui-ellipsis-2 yt-uix-sessionlink      spf-link \" data-sessionlink=\"itct=CDsQ3DAYFiITCISO3YH-ktUCFcmBHAod3Q4IPyjpHjIIdHJlbmRpbmdaCkZFdHJlbmRpbmc\" title=\"Has Rhaegar Targaryen Already SAVED Westeros!? Game of Thrones Season 7 Theory!\" aria-describedby=\"description-id-653616\" dir=\"ltr\">Has Rhaegar Targaryen Already SAVED Westeros!? Game of Thrones Season 7 Theory!</a>, <a href=\"/watch?v=f8mjlXmHK4Q\" class=\"yt-uix-tile-link yt-ui-ellipsis yt-ui-ellipsis-2 yt-uix-sessionlink      spf-link \" data-sessionlink=\"itct=CDoQ3DAYFyITCISO3YH-ktUCFcmBHAod3Q4IPyjpHjIIdHJlbmRpbmdaCkZFdHJlbmRpbmc\" title=\"Napolitano: Trump Jr. meeting warrants a criminal probe\" aria-describedby=\"description-id-609853\" dir=\"ltr\">Napolitano: Trump Jr. meeting warrants a criminal probe</a>, <a href=\"/watch?v=idMJIEFH_ns\" class=\"yt-uix-tile-link yt-ui-ellipsis yt-ui-ellipsis-2 yt-uix-sessionlink      spf-link \" data-sessionlink=\"itct=CDkQ3DAYGCITCISO3YH-ktUCFcmBHAod3Q4IPyjpHjIIdHJlbmRpbmdaCkZFdHJlbmRpbmc\" title=\"Mona Haydar - Dog (ft. Jackie Cruz)\" aria-describedby=\"description-id-7541\" dir=\"ltr\">Mona Haydar - Dog (ft. Jackie Cruz)</a>, <a href=\"/watch?v=fbdG_wPA8tA\" class=\"yt-uix-tile-link yt-ui-ellipsis yt-ui-ellipsis-2 yt-uix-sessionlink      spf-link \" data-sessionlink=\"itct=CDgQ3DAYGSITCISO3YH-ktUCFcmBHAod3Q4IPyjpHjIIdHJlbmRpbmdaCkZFdHJlbmRpbmc\" title=\"Treat yourself on ICE CREAM DAY -- A refreshing look back at WWE ice cream bars\" aria-describedby=\"description-id-422800\" dir=\"ltr\">Treat yourself on ICE CREAM DAY -- A refreshing look back at WWE ice cream bars</a>, <a href=\"/watch?v=4xcuKEwCDWg\" class=\"yt-uix-tile-link yt-ui-ellipsis yt-ui-ellipsis-2 yt-uix-sessionlink      spf-link \" data-sessionlink=\"itct=CDcQ3DAYGiITCISO3YH-ktUCFcmBHAod3Q4IPyjpHjIIdHJlbmRpbmdaCkZFdHJlbmRpbmc\" title=\"It Ain't Me - Lindsey Stirling and KHS (Selena Gomez &amp; Kygo Cover)\" aria-describedby=\"description-id-997539\" dir=\"ltr\">It Ain&#39;t Me - Lindsey Stirling and KHS (Selena Gomez &amp; Kygo Cover)</a>, <a href=\"/watch?v=EnhPZLFrYbg\" class=\"yt-uix-tile-link yt-ui-ellipsis yt-ui-ellipsis-2 yt-uix-sessionlink      spf-link \" data-sessionlink=\"itct=CDYQ3DAYGyITCISO3YH-ktUCFcmBHAod3Q4IPyjpHjIIdHJlbmRpbmdaCkZFdHJlbmRpbmc\" title=\"I Trained Like Arya Stark (Game of Thrones) For A Month ⚔️\" aria-describedby=\"description-id-679981\" dir=\"ltr\">I Trained Like Arya Stark (Game of Thrones) For A Month ⚔️</a>, <a href=\"/watch?v=zjpCGcM_-rQ\" class=\"yt-uix-tile-link yt-ui-ellipsis yt-ui-ellipsis-2 yt-uix-sessionlink      spf-link \" data-sessionlink=\"itct=CDUQ3DAYHCITCISO3YH-ktUCFcmBHAod3Q4IPyjpHjIIdHJlbmRpbmdaCkZFdHJlbmRpbmc\" title=\"Game Of Thrones Review - Season 7 Episode 1: Dragonstone\" aria-describedby=\"description-id-123680\" dir=\"ltr\">Game Of Thrones Review - Season 7 Episode 1: Dragonstone</a>, <a href=\"/watch?v=X_7l652fV5M\" class=\"yt-uix-tile-link yt-ui-ellipsis yt-ui-ellipsis-2 yt-uix-sessionlink      spf-link \" data-sessionlink=\"itct=CDQQ3DAYHSITCISO3YH-ktUCFcmBHAod3Q4IPyjpHjIIdHJlbmRpbmdaCkZFdHJlbmRpbmc\" title=\"If White Walkers Were Teenage Girls\" aria-describedby=\"description-id-88714\" dir=\"ltr\">If White Walkers Were Teenage Girls</a>, <a href=\"/watch?v=qlB0m541Q3A\" class=\"yt-uix-tile-link yt-ui-ellipsis yt-ui-ellipsis-2 yt-uix-sessionlink      spf-link \" data-sessionlink=\"itct=CDMQ3DAYHiITCISO3YH-ktUCFcmBHAod3Q4IPyjpHjIIdHJlbmRpbmdaCkZFdHJlbmRpbmc\" title=\"Miranda Kerr’s Fairy-Tale Wedding Dress Fitting | Vogue\" aria-describedby=\"description-id-430493\" dir=\"ltr\">Miranda Kerr’s Fairy-Tale Wedding Dress Fitting | Vogue</a>, <a href=\"/watch?v=HcBVNCzubIU\" class=\"yt-uix-tile-link yt-ui-ellipsis yt-ui-ellipsis-2 yt-uix-sessionlink      spf-link \" data-sessionlink=\"itct=CDIQ3DAYHyITCISO3YH-ktUCFcmBHAod3Q4IPyjpHjIIdHJlbmRpbmdaCkZFdHJlbmRpbmc\" title=\"LIVE! Our twin's first visit to the dummy museum! | JEFF DUNHAM\" aria-describedby=\"description-id-635132\" dir=\"ltr\">LIVE! Our twin&#39;s first visit to the dummy museum! | JEFF DUNHAM</a>, <a href=\"/watch?v=cwzNbCjYX1E\" class=\"yt-uix-tile-link yt-ui-ellipsis yt-ui-ellipsis-2 yt-uix-sessionlink      spf-link \" data-sessionlink=\"itct=CDEQ3DAYICITCISO3YH-ktUCFcmBHAod3Q4IPyjpHjIIdHJlbmRpbmdaCkZFdHJlbmRpbmc\" title=\"Woke Up a Rebel: Game of Thrones Premiere (HBO)\" aria-describedby=\"description-id-602110\" dir=\"ltr\">Woke Up a Rebel: Game of Thrones Premiere (HBO)</a>, <a href=\"/watch?v=aP1jcbPRxc8\" class=\"yt-uix-tile-link yt-ui-ellipsis yt-ui-ellipsis-2 yt-uix-sessionlink      spf-link \" data-sessionlink=\"itct=CDAQ3DAYISITCISO3YH-ktUCFcmBHAod3Q4IPyjpHjIIdHJlbmRpbmdaCkZFdHJlbmRpbmc\" title=\"Fly-Through Star Wars: Galaxy’s Edge | Disney Parks\" aria-describedby=\"description-id-625208\" dir=\"ltr\">Fly-Through Star Wars: Galaxy’s Edge | Disney Parks</a>, <a href=\"/watch?v=8PL1BC1s8CQ\" class=\"yt-uix-tile-link yt-ui-ellipsis yt-ui-ellipsis-2 yt-uix-sessionlink      spf-link \" data-sessionlink=\"itct=CC8Q3DAYIiITCISO3YH-ktUCFcmBHAod3Q4IPyjpHjIIdHJlbmRpbmdaCkZFdHJlbmRpbmc\" title=\"Sneaking backstage at the McGregor vs Mayweather Press conference in London\" aria-describedby=\"description-id-198924\" dir=\"ltr\">Sneaking backstage at the McGregor vs Mayweather Press conference in London</a>, <a href=\"/watch?v=wLJWeMNs4nY\" class=\"yt-uix-tile-link yt-ui-ellipsis yt-ui-ellipsis-2 yt-uix-sessionlink      spf-link \" data-sessionlink=\"itct=CC4Q3DAYIyITCISO3YH-ktUCFcmBHAod3Q4IPyjpHjIIdHJlbmRpbmdaCkZFdHJlbmRpbmc\" title=\"Joe Scarborough: Hannity is ‘State Run Television’\" aria-describedby=\"description-id-965619\" dir=\"ltr\">Joe Scarborough: Hannity is ‘State Run Television’</a>, <a href=\"/watch?v=D02DpFB1oV4\" class=\"yt-uix-tile-link yt-ui-ellipsis yt-ui-ellipsis-2 yt-uix-sessionlink      spf-link \" data-sessionlink=\"itct=CC0Q3DAYJCITCISO3YH-ktUCFcmBHAod3Q4IPyjpHjIIdHJlbmRpbmdaCkZFdHJlbmRpbmc\" title=\"Is Biking To Work Safe In Los Angeles? | 360-degree video\" aria-describedby=\"description-id-150096\" dir=\"ltr\">Is Biking To Work Safe In Los Angeles? | 360-degree video</a>, <a href=\"/watch?v=IBv5TZSZbnQ\" class=\"yt-uix-tile-link yt-ui-ellipsis yt-ui-ellipsis-2 yt-uix-sessionlink      spf-link \" data-sessionlink=\"itct=CCwQ3DAYJSITCISO3YH-ktUCFcmBHAod3Q4IPyjpHjIIdHJlbmRpbmdaCkZFdHJlbmRpbmc\" title=\"This Week w/ George Stephanopoulos 7/16/17 | ABC News July 16, 2017\" aria-describedby=\"description-id-792058\" dir=\"ltr\">This Week w/ George Stephanopoulos 7/16/17 | ABC News July 16, 2017</a>, <a href=\"/watch?v=3wI_mN-8qpI\" class=\"yt-uix-tile-link yt-ui-ellipsis yt-ui-ellipsis-2 yt-uix-sessionlink      spf-link \" data-sessionlink=\"itct=CCsQ3DAYJiITCISO3YH-ktUCFcmBHAod3Q4IPyjpHjIIdHJlbmRpbmdaCkZFdHJlbmRpbmc\" title=\"Your Friend Who Lives Too Far Away\" aria-describedby=\"description-id-800201\" dir=\"ltr\">Your Friend Who Lives Too Far Away</a>, <a href=\"/watch?v=9yf_lf4C9mo\" class=\"yt-uix-tile-link yt-ui-ellipsis yt-ui-ellipsis-2 yt-uix-sessionlink      spf-link \" data-sessionlink=\"itct=CCoQ3DAYJyITCISO3YH-ktUCFcmBHAod3Q4IPyjpHjIIdHJlbmRpbmdaCkZFdHJlbmRpbmc\" title=\"Ralph Breaks the Internet: Wreck-It Ralph 2 - D23 Expo Booth Teaser Video\" aria-describedby=\"description-id-162437\" dir=\"ltr\">Ralph Breaks the Internet: Wreck-It Ralph 2 - D23 Expo Booth Teaser Video</a>, <a href=\"/watch?v=bBxzGEGB3_U\" class=\"yt-uix-tile-link yt-ui-ellipsis yt-ui-ellipsis-2 yt-uix-sessionlink      spf-link \" data-sessionlink=\"itct=CCkQ3DAYKCITCISO3YH-ktUCFcmBHAod3Q4IPyjpHjIIdHJlbmRpbmdaCkZFdHJlbmRpbmc\" title=\"Idiot's Guide to Game of Thrones Season 6\" aria-describedby=\"description-id-532931\" dir=\"ltr\">Idiot&#39;s Guide to Game of Thrones Season 6</a>, <a href=\"/watch?v=6n19nelyXeY\" class=\"yt-uix-tile-link yt-ui-ellipsis yt-ui-ellipsis-2 yt-uix-sessionlink      spf-link \" data-sessionlink=\"itct=CCgQ3DAYKSITCISO3YH-ktUCFcmBHAod3Q4IPyjpHjIIdHJlbmRpbmdaCkZFdHJlbmRpbmc\" title=\"50 AMAZING Facts to Blow Your Mind! #80\" aria-describedby=\"description-id-129751\" dir=\"ltr\">50 AMAZING Facts to Blow Your Mind! #80</a>, <a href=\"/watch?v=yM8hXie3OA0\" class=\"yt-uix-tile-link yt-ui-ellipsis yt-ui-ellipsis-2 yt-uix-sessionlink      spf-link \" data-sessionlink=\"itct=CCcQ3DAYKiITCISO3YH-ktUCFcmBHAod3Q4IPyjpHjIIdHJlbmRpbmdaCkZFdHJlbmRpbmc\" title=\"The TRUE POWER of UNDERTALE Souls! | The SCIENCE!...of Undertale\" aria-describedby=\"description-id-986399\" dir=\"ltr\">The TRUE POWER of UNDERTALE Souls! | The SCIENCE!...of Undertale</a>, <a href=\"/watch?v=rh7kpkwXnwA\" class=\"yt-uix-tile-link yt-ui-ellipsis yt-ui-ellipsis-2 yt-uix-sessionlink      spf-link \" data-sessionlink=\"itct=CCYQ3DAYKyITCISO3YH-ktUCFcmBHAod3Q4IPyjpHjIIdHJlbmRpbmdaCkZFdHJlbmRpbmc\" title=\"Reason for ARM (Acorn Archimedes at 30) - Computerphile\" aria-describedby=\"description-id-973909\" dir=\"ltr\">Reason for ARM (Acorn Archimedes at 30) - Computerphile</a>, <a href=\"/watch?v=czvSmqBASgE\" class=\"yt-uix-tile-link yt-ui-ellipsis yt-ui-ellipsis-2 yt-uix-sessionlink      spf-link \" data-sessionlink=\"itct=CCUQ3DAYLCITCISO3YH-ktUCFcmBHAod3Q4IPyjpHjIIdHJlbmRpbmdaCkZFdHJlbmRpbmc\" title=\"I WAS WRONG. I'M SORRY.\" aria-describedby=\"description-id-697602\" dir=\"ltr\">I WAS WRONG. I&#39;M SORRY.</a>, <a href=\"/watch?v=vmlyePmLIVE\" class=\"yt-uix-tile-link yt-ui-ellipsis yt-ui-ellipsis-2 yt-uix-sessionlink      spf-link \" data-sessionlink=\"itct=CCQQ3DAYLSITCISO3YH-ktUCFcmBHAod3Q4IPyjpHjIIdHJlbmRpbmdaCkZFdHJlbmRpbmc\" title=\"BG Kumbi Jesse Watters Interview... My Fox News debut\" aria-describedby=\"description-id-340395\" dir=\"ltr\">BG Kumbi Jesse Watters Interview... My Fox News debut</a>, <a href=\"/watch?v=GQEtvtPGL9k\" class=\"yt-uix-tile-link yt-ui-ellipsis yt-ui-ellipsis-2 yt-uix-sessionlink      spf-link \" data-sessionlink=\"itct=CCEQ3DAYACITCISO3YH-ktUCFcmBHAod3Q4IPyjpHjIMdHJlbmRpbmctdHJiWgpGRXRyZW5kaW5n\" title=\"Kyle, A Boogie Wit Da Hoodie and Aminé's 2017 XXL Freshman Cypher\" aria-describedby=\"description-id-821626\" dir=\"ltr\">Kyle, A Boogie Wit Da Hoodie and Aminé&#39;s 2017 XXL Freshman Cypher</a>, <a href=\"/watch?v=V5_tnpdnNz4\" class=\"yt-uix-tile-link yt-ui-ellipsis yt-ui-ellipsis-2 yt-uix-sessionlink      spf-link \" data-sessionlink=\"itct=CCAQ3DAYASITCISO3YH-ktUCFcmBHAod3Q4IPyjpHjIMdHJlbmRpbmctdHJiWgpGRXRyZW5kaW5n\" title=\"Jennifer Lopez - Ni Tú Ni Yo (Official Video) ft. Gente de Zona\" aria-describedby=\"description-id-452158\" dir=\"ltr\">Jennifer Lopez - Ni Tú Ni Yo (Official Video) ft. Gente de Zona</a>, <a href=\"/watch?v=ZIBPunnSimc\" class=\"yt-uix-tile-link yt-ui-ellipsis yt-ui-ellipsis-2 yt-uix-sessionlink      spf-link \" data-sessionlink=\"itct=CB8Q3DAYAiITCISO3YH-ktUCFcmBHAod3Q4IPyjpHjIMdHJlbmRpbmctdHJiWgpGRXRyZW5kaW5n\" title=\"Everything Wrong With Beauty and the Beast (2017)\" aria-describedby=\"description-id-207437\" dir=\"ltr\">Everything Wrong With Beauty and the Beast (2017)</a>, <a href=\"/watch?v=ry3bJ6IL0SY\" class=\"yt-uix-tile-link yt-ui-ellipsis yt-ui-ellipsis-2 yt-uix-sessionlink      spf-link \" data-sessionlink=\"itct=CB4Q3DAYAyITCISO3YH-ktUCFcmBHAod3Q4IPyjpHjIMdHJlbmRpbmctdHJiWgpGRXRyZW5kaW5n\" title=\"Peyton Manning ESPYS Kevin Durant joke\" aria-describedby=\"description-id-594689\" dir=\"ltr\">Peyton Manning ESPYS Kevin Durant joke</a>, <a href=\"/watch?v=H3EY8aLutbg\" class=\"yt-uix-tile-link yt-ui-ellipsis yt-ui-ellipsis-2 yt-uix-sessionlink      spf-link \" data-sessionlink=\"itct=CB0Q3DAYBCITCISO3YH-ktUCFcmBHAod3Q4IPyjpHjIMdHJlbmRpbmctdHJiWgpGRXRyZW5kaW5n\" title=\"Donald Trump Jr. Is His Own 'Deepthroat'\" aria-describedby=\"description-id-481409\" dir=\"ltr\">Donald Trump Jr. Is His Own &#39;Deepthroat&#39;</a>, <a href=\"/watch?v=9o7KPoS0HGs\" class=\"yt-uix-tile-link yt-ui-ellipsis yt-ui-ellipsis-2 yt-uix-sessionlink      spf-link \" data-sessionlink=\"itct=CBwQ3DAYBSITCISO3YH-ktUCFcmBHAod3Q4IPyjpHjIMdHJlbmRpbmctdHJiWgpGRXRyZW5kaW5n\" title='\"MAYWEATHER VS. MCGREGOR\" — A Bad Lip Reading' aria-describedby=\"description-id-257469\" dir=\"ltr\">&quot;MAYWEATHER VS. MCGREGOR&quot; — A Bad Lip Reading</a>, <a href=\"/watch?v=jkj4fDl1rMo\" class=\"yt-uix-tile-link yt-ui-ellipsis yt-ui-ellipsis-2 yt-uix-sessionlink      spf-link \" data-sessionlink=\"itct=CBsQ3DAYBiITCISO3YH-ktUCFcmBHAod3Q4IPyjpHjIMdHJlbmRpbmctdHJiWgpGRXRyZW5kaW5n\" title=\"OUR NEW BALL PIT!!\" aria-describedby=\"description-id-566759\" dir=\"ltr\">OUR NEW BALL PIT!!</a>, <a href=\"/watch?v=HO2c_2XAXMw\" class=\"yt-uix-tile-link yt-ui-ellipsis yt-ui-ellipsis-2 yt-uix-sessionlink      spf-link \" data-sessionlink=\"itct=CBoQ3DAYByITCISO3YH-ktUCFcmBHAod3Q4IPyjpHjIMdHJlbmRpbmctdHJiWgpGRXRyZW5kaW5n\" title=\"Why Donald Trump Jr.'s emails change everything\" aria-describedby=\"description-id-327548\" dir=\"ltr\">Why Donald Trump Jr.&#39;s emails change everything</a>, <a href=\"/watch?v=TQrd8ni5VRg\" class=\"yt-uix-tile-link yt-ui-ellipsis yt-ui-ellipsis-2 yt-uix-sessionlink      spf-link \" data-sessionlink=\"itct=CBkQ3DAYCCITCISO3YH-ktUCFcmBHAod3Q4IPyjpHjIMdHJlbmRpbmctdHJiWgpGRXRyZW5kaW5n\" title=\"I WAS CAUGHT IN BED... BATH AND BEYOND WITH LIZA!\" aria-describedby=\"description-id-830632\" dir=\"ltr\">I WAS CAUGHT IN BED... BATH AND BEYOND WITH LIZA!</a>, <a href=\"/watch?v=GEhOZooB3bw\" class=\"yt-uix-tile-link yt-ui-ellipsis yt-ui-ellipsis-2 yt-uix-sessionlink      spf-link \" data-sessionlink=\"itct=CBgQ3DAYCSITCISO3YH-ktUCFcmBHAod3Q4IPyjpHjIMdHJlbmRpbmctdHJiWgpGRXRyZW5kaW5n\" title=\"Get Ready With Me &amp; Kim Kardashian | Jaclyn Hill\" aria-describedby=\"description-id-446005\" dir=\"ltr\">Get Ready With Me &amp; Kim Kardashian | Jaclyn Hill</a>, <a href=\"/watch?v=vZiUBoZ454E\" class=\"yt-uix-tile-link yt-ui-ellipsis yt-ui-ellipsis-2 yt-uix-sessionlink      spf-link \" data-sessionlink=\"itct=CBcQ3DAYCiITCISO3YH-ktUCFcmBHAod3Q4IPyjpHjIMdHJlbmRpbmctdHJiWgpGRXRyZW5kaW5n\" title=\"WE GOT A BABY GOAT!!!\" aria-describedby=\"description-id-251166\" dir=\"ltr\">WE GOT A BABY GOAT!!!</a>, <a href=\"/watch?v=PVScY23bb0Y\" class=\"yt-uix-tile-link yt-ui-ellipsis yt-ui-ellipsis-2 yt-uix-sessionlink      spf-link \" data-sessionlink=\"itct=CBYQ3DAYCyITCISO3YH-ktUCFcmBHAod3Q4IPyjpHjIMdHJlbmRpbmctdHJiWgpGRXRyZW5kaW5n\" title=\"50 Cent is Standing Right Behind You\" aria-describedby=\"description-id-465581\" dir=\"ltr\">50 Cent is Standing Right Behind You</a>, <a href=\"/watch?v=YIcj1_OJePs\" class=\"yt-uix-tile-link yt-ui-ellipsis yt-ui-ellipsis-2 yt-uix-sessionlink      spf-link \" data-sessionlink=\"itct=CBUQ3DAYDCITCISO3YH-ktUCFcmBHAod3Q4IPyjpHjIMdHJlbmRpbmctdHJiWgpGRXRyZW5kaW5n\" title=\"Blac Chyna Says Rob Kardashian Has a Gun, Threatened to Kill Himself | TMZ\" aria-describedby=\"description-id-870082\" dir=\"ltr\">Blac Chyna Says Rob Kardashian Has a Gun, Threatened to Kill Himself | TMZ</a>, <a href=\"/watch?v=r2Vq5HOSBhY\" class=\"yt-uix-tile-link yt-ui-ellipsis yt-ui-ellipsis-2 yt-uix-sessionlink      spf-link \" data-sessionlink=\"itct=CBQQ3DAYDSITCISO3YH-ktUCFcmBHAod3Q4IPyjpHjIMdHJlbmRpbmctdHJiWgpGRXRyZW5kaW5n\" title=\"Joel Dommett - 2016 Melbourne International Comedy Festival Gala\" aria-describedby=\"description-id-303598\" dir=\"ltr\">Joel Dommett - 2016 Melbourne International Comedy Festival Gala</a>, <a href=\"/watch?v=7qL1un6NPZA\" class=\"yt-uix-tile-link yt-ui-ellipsis yt-ui-ellipsis-2 yt-uix-sessionlink      spf-link \" data-sessionlink=\"itct=CBMQ3DAYDiITCISO3YH-ktUCFcmBHAod3Q4IPyjpHjIMdHJlbmRpbmctdHJiWgpGRXRyZW5kaW5n\" title=\"The Translators - Interpreting Donald Trump: The Daily Show\" aria-describedby=\"description-id-869306\" dir=\"ltr\">The Translators - Interpreting Donald Trump: The Daily Show</a>, <a href=\"/watch?v=Sgp0WDMH88g\" class=\"yt-uix-tile-link yt-ui-ellipsis yt-ui-ellipsis-2 yt-uix-sessionlink      spf-link \" data-sessionlink=\"itct=CBIQ3DAYDyITCISO3YH-ktUCFcmBHAod3Q4IPyjpHjIMdHJlbmRpbmctdHJiWgpGRXRyZW5kaW5n\" title=\"Major Lazer - Know No Better (feat. Travis Scott, Camila Cabello &amp; Quavo)(Official Music Video)\" aria-describedby=\"description-id-957018\" dir=\"ltr\">Major Lazer - Know No Better (feat. Travis Scott, Camila Cabello &amp; Quavo)(Official Music Video)</a>, <a href=\"/watch?v=suZYz-xuW2U\" class=\"yt-uix-tile-link yt-ui-ellipsis yt-ui-ellipsis-2 yt-uix-sessionlink      spf-link \" data-sessionlink=\"itct=CBEQ3DAYECITCISO3YH-ktUCFcmBHAod3Q4IPyjpHjIMdHJlbmRpbmctdHJiWgpGRXRyZW5kaW5n\" title=\"TESTING WATER PROOF MAKEUP\" aria-describedby=\"description-id-442733\" dir=\"ltr\">TESTING WATER PROOF MAKEUP</a>, <a href=\"/watch?v=g0dg7BVLRAU\" class=\"yt-uix-tile-link yt-ui-ellipsis yt-ui-ellipsis-2 yt-uix-sessionlink      spf-link \" data-sessionlink=\"itct=CBAQ3DAYESITCISO3YH-ktUCFcmBHAod3Q4IPyjpHjIMdHJlbmRpbmctdHJiWgpGRXRyZW5kaW5n\" title=\"Honest Trailers - Fate of The Furious\" aria-describedby=\"description-id-646324\" dir=\"ltr\">Honest Trailers - Fate of The Furious</a>, <a href=\"/watch?v=fBn6uh-GYwQ\" class=\"yt-uix-tile-link yt-ui-ellipsis yt-ui-ellipsis-2 yt-uix-sessionlink      spf-link \" data-sessionlink=\"itct=CA8Q3DAYEiITCISO3YH-ktUCFcmBHAod3Q4IPyjpHjIMdHJlbmRpbmctdHJiWgpGRXRyZW5kaW5n\" title=\"Game Theory: POKEMON - The TERRIFYING TRUTH of Fire Pokemon\" aria-describedby=\"description-id-425181\" dir=\"ltr\">Game Theory: POKEMON - The TERRIFYING TRUTH of Fire Pokemon</a>, <a href=\"/watch?v=DRpITDL-vcA\" class=\"yt-uix-tile-link yt-ui-ellipsis yt-ui-ellipsis-2 yt-uix-sessionlink      spf-link \" data-sessionlink=\"itct=CA4Q3DAYEyITCISO3YH-ktUCFcmBHAod3Q4IPyjpHjIMdHJlbmRpbmctdHJiWgpGRXRyZW5kaW5n\" title=\"Mayweather vs McGregor: Los Angeles Press Conference\" aria-describedby=\"description-id-761909\" dir=\"ltr\">Mayweather vs McGregor: Los Angeles Press Conference</a>, <a href=\"/watch?v=SsKyxf12QVo\" class=\"yt-uix-tile-link yt-ui-ellipsis yt-ui-ellipsis-2 yt-uix-sessionlink      spf-link \" data-sessionlink=\"itct=CA0Q3DAYFCITCISO3YH-ktUCFcmBHAod3Q4IPyjpHjIMdHJlbmRpbmctdHJiWgpGRXRyZW5kaW5n\" title=\"Selfie Domino\" aria-describedby=\"description-id-740513\" dir=\"ltr\">Selfie Domino</a>, <a href=\"/watch?v=L4PKj9UNyGM\" class=\"yt-uix-tile-link yt-ui-ellipsis yt-ui-ellipsis-2 yt-uix-sessionlink      spf-link \" data-sessionlink=\"itct=CAwQ3DAYFSITCISO3YH-ktUCFcmBHAod3Q4IPyjpHjIMdHJlbmRpbmctdHJiWgpGRXRyZW5kaW5n\" title=\"Compressed Air Cannon in Super Slow Mo - The Slow Mo Guys\" aria-describedby=\"description-id-281523\" dir=\"ltr\">Compressed Air Cannon in Super Slow Mo - The Slow Mo Guys</a>, <a href=\"/watch?v=tPZbBBdfr5E\" class=\"yt-uix-tile-link yt-ui-ellipsis yt-ui-ellipsis-2 yt-uix-sessionlink      spf-link \" data-sessionlink=\"itct=CAsQ3DAYFiITCISO3YH-ktUCFcmBHAod3Q4IPyjpHjIMdHJlbmRpbmctdHJiWgpGRXRyZW5kaW5n\" title=\"French Montana - A Lie ft. The Weeknd, Max B\" aria-describedby=\"description-id-687539\" dir=\"ltr\">French Montana - A Lie ft. The Weeknd, Max B</a>, <a href=\"/watch?v=HtvTDwPOxEI\" class=\"yt-uix-tile-link yt-ui-ellipsis yt-ui-ellipsis-2 yt-uix-sessionlink      spf-link \" data-sessionlink=\"itct=CAoQ3DAYFyITCISO3YH-ktUCFcmBHAod3Q4IPyjpHjIMdHJlbmRpbmctdHJiWgpGRXRyZW5kaW5n\" title=\"Prank Calling People But We Can't Hear Them\" aria-describedby=\"description-id-472566\" dir=\"ltr\">Prank Calling People But We Can&#39;t Hear Them</a>]\n"
     ]
    }
   ],
   "source": [
    "tags=soup.findAll('a', attrs={'class':\"yt-uix-tile-link yt-ui-ellipsis yt-ui-ellipsis-2 yt-uix-sessionlink      spf-link \"})\n",
    "print (tags)"
   ]
  },
  {
   "cell_type": "code",
   "execution_count": 45,
   "metadata": {
    "collapsed": false
   },
   "outputs": [
    {
     "name": "stdout",
     "output_type": "stream",
     "text": [
      "[<span class=\"video-time\" aria-hidden=\"true\">2:33</span>, <span class=\"video-time\" aria-hidden=\"true\">0:21</span>, <span class=\"video-time\" aria-hidden=\"true\">0:53</span>, <span class=\"video-time\" aria-hidden=\"true\">26:31</span>, <span class=\"video-time\" aria-hidden=\"true\">3:54</span>, <span class=\"video-time\" aria-hidden=\"true\">14:43</span>, <span class=\"video-time\" aria-hidden=\"true\">0:30</span>, <span class=\"video-time\" aria-hidden=\"true\">1:01</span>, <span class=\"video-time\" aria-hidden=\"true\">2:56</span>, <span class=\"video-time\" aria-hidden=\"true\">5:15</span>, <span class=\"video-time\" aria-hidden=\"true\">1:06</span>, <span class=\"video-time\" aria-hidden=\"true\">0:36</span>, <span class=\"video-time\" aria-hidden=\"true\">0:39</span>, <span class=\"video-time\" aria-hidden=\"true\">0:43</span>, <span class=\"video-time\" aria-hidden=\"true\">2:59</span>, <span class=\"video-time\" aria-hidden=\"true\">1:05</span>, <span class=\"video-time\" aria-hidden=\"true\">7:29</span>, <span class=\"video-time\" aria-hidden=\"true\">3:46</span>, <span class=\"video-time\" aria-hidden=\"true\">8:14</span>, <span class=\"video-time\" aria-hidden=\"true\">1:50</span>, <span class=\"video-time\" aria-hidden=\"true\">1:01</span>, <span class=\"video-time\" aria-hidden=\"true\">2:29:05</span>, <span class=\"video-time\" aria-hidden=\"true\">1:01</span>, <span class=\"video-time\" aria-hidden=\"true\">1:06</span>, <span class=\"video-time\" aria-hidden=\"true\">27:10</span>, <span class=\"video-time\" aria-hidden=\"true\">3:24</span>, <span class=\"video-time\" aria-hidden=\"true\">5:39</span>, <span class=\"video-time\" aria-hidden=\"true\">7:28</span>, <span class=\"video-time\" aria-hidden=\"true\">2:18</span>, <span class=\"video-time\" aria-hidden=\"true\">4:13</span>, <span class=\"video-time\" aria-hidden=\"true\">0:49</span>, <span class=\"video-time\" aria-hidden=\"true\">2:50</span>, <span class=\"video-time\" aria-hidden=\"true\">11:22</span>, <span class=\"video-time\" aria-hidden=\"true\">10:42</span>, <span class=\"video-time\" aria-hidden=\"true\">3:39</span>, <span class=\"video-time\" aria-hidden=\"true\">0:56</span>, <span class=\"video-time\" aria-hidden=\"true\">8:08</span>, <span class=\"video-time\" aria-hidden=\"true\">1:12</span>, <span class=\"video-time\" aria-hidden=\"true\">1:11</span>, <span class=\"video-time\" aria-hidden=\"true\">11:59</span>, <span class=\"video-time\" aria-hidden=\"true\">2:55</span>, <span class=\"video-time\" aria-hidden=\"true\">7:10</span>, <span class=\"video-time\" aria-hidden=\"true\">45:19</span>, <span class=\"video-time\" aria-hidden=\"true\">2:40</span>, <span class=\"video-time\" aria-hidden=\"true\">0:29</span>, <span class=\"video-time\" aria-hidden=\"true\">12:58</span>, <span class=\"video-time\" aria-hidden=\"true\">12:19</span>, <span class=\"video-time\" aria-hidden=\"true\">14:45</span>, <span class=\"video-time\" aria-hidden=\"true\">12:24</span>, <span class=\"video-time\" aria-hidden=\"true\">6:21</span>, <span class=\"video-time\" aria-hidden=\"true\">5:39</span>, <span class=\"video-time\" aria-hidden=\"true\">4:14</span>, <span class=\"video-time\" aria-hidden=\"true\">4:20</span>, <span class=\"video-time\" aria-hidden=\"true\">19:23</span>, <span class=\"video-time\" aria-hidden=\"true\">0:31</span>, <span class=\"video-time\" aria-hidden=\"true\">10:37</span>, <span class=\"video-time\" aria-hidden=\"true\">2:22</span>, <span class=\"video-time\" aria-hidden=\"true\">12:56</span>, <span class=\"video-time\" aria-hidden=\"true\">6:08</span>, <span class=\"video-time\" aria-hidden=\"true\">5:01</span>, <span class=\"video-time\" aria-hidden=\"true\">14:11</span>, <span class=\"video-time\" aria-hidden=\"true\">10:45</span>, <span class=\"video-time\" aria-hidden=\"true\">3:00</span>, <span class=\"video-time\" aria-hidden=\"true\">1:35</span>, <span class=\"video-time\" aria-hidden=\"true\">3:46</span>, <span class=\"video-time\" aria-hidden=\"true\">7:05</span>, <span class=\"video-time\" aria-hidden=\"true\">3:46</span>, <span class=\"video-time\" aria-hidden=\"true\">16:58</span>, <span class=\"video-time\" aria-hidden=\"true\">5:29</span>, <span class=\"video-time\" aria-hidden=\"true\">15:07</span>, <span class=\"video-time\" aria-hidden=\"true\">1:22:22</span>, <span class=\"video-time\" aria-hidden=\"true\">0:36</span>, <span class=\"video-time\" aria-hidden=\"true\">16:19</span>, <span class=\"video-time\" aria-hidden=\"true\">4:11</span>, <span class=\"video-time\" aria-hidden=\"true\">13:57</span>]\n"
     ]
    }
   ],
   "source": [
    "duration = soup.findAll('span', attrs={\"class\": \"video-time\"})\n",
    "print (duration)"
   ]
  },
  {
   "cell_type": "code",
   "execution_count": 73,
   "metadata": {
    "collapsed": false
   },
   "outputs": [
    {
     "name": "stdout",
     "output_type": "stream",
     "text": [
      "[<a href=\"/user/WarnerBrosPictures\" class=\"g-hovercard yt-uix-sessionlink       spf-link \" data-sessionlink=\"itct=CFoQ3DAYACITCISO3YH-ktUCFcmBHAod3Q4IPyjpHg\" data-ytid=\"UCjmJDM5pRKbUlVIzDYYWb6g\">Warner Bros. Pictures</a>, <a href=\"/user/GameofThrones\" class=\"g-hovercard yt-uix-sessionlink       spf-link \" data-sessionlink=\"itct=CFkQ3DAYASITCISO3YH-ktUCFcmBHAod3Q4IPyjpHg\" data-ytid=\"UCQzdMyuz0Lf4zo4uGcEujFw\">GameofThrones</a>, <a href=\"/user/ArgonicsInc\" class=\"g-hovercard yt-uix-sessionlink       spf-link \" data-sessionlink=\"itct=CFgQ3DAYAiITCISO3YH-ktUCFcmBHAod3Q4IPyjpHg\" data-ytid=\"UCBhnEhLYn8angmvtQwfiaQg\">Argonics Inc.</a>, <a href=\"/user/Vsauce\" class=\"g-hovercard yt-uix-sessionlink       spf-link \" data-sessionlink=\"itct=CFcQ3DAYAyITCISO3YH-ktUCFcmBHAod3Q4IPyjpHg\" data-ytid=\"UC6nSFpj9HTCZ5t-N3Rm3-HA\">Vsauce</a>, <a href=\"/channel/UCxMAbVFmxKUVGAll0WVGpFw\" class=\"g-hovercard yt-uix-sessionlink       spf-link \" data-sessionlink=\"itct=CFQQ3DAYASITCISO3YH-ktUCFcmBHAod3Q4IPyjpHg\" data-ytid=\"UCxMAbVFmxKUVGAll0WVGpFw\">Cardi B</a>, <a href=\"/user/emergencyawesome\" class=\"g-hovercard yt-uix-sessionlink       spf-link \" data-sessionlink=\"itct=CFEQ3DAYACITCISO3YH-ktUCFcmBHAod3Q4IPyjpHg\" data-ytid=\"UCDiFRMQWpcp8_KD4vwIVicw\">Emergency Awesome</a>, <a href=\"/channel/UCAcEpIlIeDY0Cubc7f5yzqA\" class=\"g-hovercard yt-uix-sessionlink       spf-link \" data-sessionlink=\"itct=CFAQ3DAYASITCISO3YH-ktUCFcmBHAod3Q4IPyjpHg\" data-ytid=\"UCAcEpIlIeDY0Cubc7f5yzqA\">Viral YouTube</a>, <a href=\"/user/doctorwho\" class=\"g-hovercard yt-uix-sessionlink       spf-link \" data-sessionlink=\"itct=CE8Q3DAYAiITCISO3YH-ktUCFcmBHAod3Q4IPyjpHg\" data-ytid=\"UCcOkA2Xmk1valTOWSyKyp4g\">Doctor Who</a>, <a href=\"/user/gordonramsay\" class=\"g-hovercard yt-uix-sessionlink       spf-link \" data-sessionlink=\"itct=CE4Q3DAYAyITCISO3YH-ktUCFcmBHAod3Q4IPyjpHg\" data-ytid=\"UCIEv3lZ_tNXHzL3ox-_uUGQ\">Gordon Ramsay</a>, <a href=\"/user/TEDEducation\" class=\"g-hovercard yt-uix-sessionlink       spf-link \" data-sessionlink=\"itct=CE0Q3DAYBCITCISO3YH-ktUCFcmBHAod3Q4IPyjpHg\" data-ytid=\"UCsooa4yRKGN_zEE8iknghZA\">TED-Ed</a>, <a href=\"/channel/UC7sWl-X0cqwOXlDo8lKdXTQ\" class=\"g-hovercard yt-uix-sessionlink       spf-link \" data-sessionlink=\"itct=CEwQ3DAYBSITCISO3YH-ktUCFcmBHAod3Q4IPyjpHg\" data-ytid=\"UC7sWl-X0cqwOXlDo8lKdXTQ\">Rhaegar Targaryen</a>, <a href=\"/user/LipSyncBattle\" class=\"g-hovercard yt-uix-sessionlink       spf-link \" data-sessionlink=\"itct=CEsQ3DAYBiITCISO3YH-ktUCFcmBHAod3Q4IPyjpHg\" data-ytid=\"UCjzEF5kUZypUftfHD1MKuCg\">Lip Sync Battle on Spike</a>, <a href=\"/channel/UCMtFAi84ehTSYSE9XoHefig\" class=\"g-hovercard yt-uix-sessionlink       spf-link \" data-sessionlink=\"itct=CEoQ3DAYByITCISO3YH-ktUCFcmBHAod3Q4IPyjpHg\" data-ytid=\"UCMtFAi84ehTSYSE9XoHefig\">The Late Show with Stephen Colbert</a>, <a href=\"/user/USATODAY\" class=\"g-hovercard yt-uix-sessionlink       spf-link \" data-sessionlink=\"itct=CEkQ3DAYCCITCISO3YH-ktUCFcmBHAod3Q4IPyjpHg\" data-ytid=\"UCP6HGa63sBC7-KHtkme-p-g\">USA TODAY</a>, <a href=\"/user/starwars\" class=\"g-hovercard yt-uix-sessionlink       spf-link \" data-sessionlink=\"itct=CEgQ3DAYCSITCISO3YH-ktUCFcmBHAod3Q4IPyjpHg\" data-ytid=\"UCZGYJFUizSax-yElQaFDp5Q\">Star Wars</a>, <a href=\"/user/NationalGeographic\" class=\"g-hovercard yt-uix-sessionlink       spf-link \" data-sessionlink=\"itct=CEcQ3DAYCiITCISO3YH-ktUCFcmBHAod3Q4IPyjpHg\" data-ytid=\"UCpVm7bg6pXKo1Pr6k5kxG9A\">National Geographic</a>, <a href=\"/channel/UCd_EkHbEutirFl_XSrg95kA\" class=\"g-hovercard yt-uix-sessionlink       spf-link \" data-sessionlink=\"itct=CEYQ3DAYCyITCISO3YH-ktUCFcmBHAod3Q4IPyjpHg\" data-ytid=\"UCd_EkHbEutirFl_XSrg95kA\">Real GD&#39;s Latest Highlights</a>, <a href=\"/user/bbcradio1\" class=\"g-hovercard yt-uix-sessionlink       spf-link \" data-sessionlink=\"itct=CEUQ3DAYDCITCISO3YH-ktUCFcmBHAod3Q4IPyjpHg\" data-ytid=\"UC-FQUIVQ-bZiefzBiQAa8Fw\">BBC Radio 1</a>, <a href=\"/channel/UCR1D15p_vdP3HkrH8wgjQRw\" class=\"g-hovercard yt-uix-sessionlink       spf-link \" data-sessionlink=\"itct=CEQQ3DAYDSITCISO3YH-ktUCFcmBHAod3Q4IPyjpHg\" data-ytid=\"UCR1D15p_vdP3HkrH8wgjQRw\">Internet Historian</a>, <a href=\"/user/DisneyMovieTrailers\" class=\"g-hovercard yt-uix-sessionlink       spf-link \" data-sessionlink=\"itct=CEMQ3DAYDiITCISO3YH-ktUCFcmBHAod3Q4IPyjpHg\" data-ytid=\"UCuaFvcY4MhZY3U43mMt1dYQ\">Disney Movie Trailers</a>, <a href=\"/user/BBCAmericaTV\" class=\"g-hovercard yt-uix-sessionlink       spf-link \" data-sessionlink=\"itct=CEIQ3DAYDyITCISO3YH-ktUCFcmBHAod3Q4IPyjpHg\" data-ytid=\"UCdHkLMxTYwV66Sky1xXVrxQ\">BBC America</a>, <a href=\"/channel/UCZZo2jEVm4lui8eLmoV8ICw\" class=\"g-hovercard yt-uix-sessionlink       spf-link \" data-sessionlink=\"itct=CEEQ3DAYECITCISO3YH-ktUCFcmBHAod3Q4IPyjpHg\" data-ytid=\"UCZZo2jEVm4lui8eLmoV8ICw\">SmokeScreen</a>, <a href=\"/user/BBC\" class=\"g-hovercard yt-uix-sessionlink       spf-link \" data-sessionlink=\"itct=CEAQ3DAYESITCISO3YH-ktUCFcmBHAod3Q4IPyjpHg\" data-ytid=\"UCCj956IF62FbT7Gouszaj9w\">BBC</a>, <a href=\"/user/Wimbledon\" class=\"g-hovercard yt-uix-sessionlink       spf-link \" data-sessionlink=\"itct=CD8Q3DAYEiITCISO3YH-ktUCFcmBHAod3Q4IPyjpHg\" data-ytid=\"UCNa8NxMgSm7m4Ii9d4QGk1Q\">Wimbledon</a>, <a href=\"/channel/UClZmCCcrhNaXhWYvZNIolWg\" class=\"g-hovercard yt-uix-sessionlink       spf-link \" data-sessionlink=\"itct=CD4Q3DAYEyITCISO3YH-ktUCFcmBHAod3Q4IPyjpHg\" data-ytid=\"UClZmCCcrhNaXhWYvZNIolWg\">BUILD Series</a>, <a href=\"/user/leelajamesVEVO\" class=\"g-hovercard yt-uix-sessionlink       spf-link \" data-sessionlink=\"itct=CD0Q3DAYFCITCISO3YH-ktUCFcmBHAod3Q4IPyjpHg\" data-ytid=\"UCvMR26K40PZtArn2b6yIldw\">leelajamesVEVO</a>, <a href=\"/channel/UCCyrXyelKeXFx5KDgldMmNw\" class=\"g-hovercard yt-uix-sessionlink       spf-link \" data-sessionlink=\"itct=CDwQ3DAYFSITCISO3YH-ktUCFcmBHAod3Q4IPyjpHg\" data-ytid=\"UCCyrXyelKeXFx5KDgldMmNw\">Kingdom Hearts</a>, <a href=\"/channel/UCv8GJP1mNVqrfpVNMJGb70g\" class=\"g-hovercard yt-uix-sessionlink       spf-link \" data-sessionlink=\"itct=CDsQ3DAYFiITCISO3YH-ktUCFcmBHAod3Q4IPyjpHg\" data-ytid=\"UCv8GJP1mNVqrfpVNMJGb70g\">Game of Theories</a>, <a href=\"/user/FoxNewsChannel\" class=\"g-hovercard yt-uix-sessionlink       spf-link \" data-sessionlink=\"itct=CDoQ3DAYFyITCISO3YH-ktUCFcmBHAod3Q4IPyjpHg\" data-ytid=\"UCXIJgqnII2ZOINSWNOGFThA\">Fox News</a>, <a href=\"/channel/UCyRsl8zIOCdTt0p_hMtnRaQ\" class=\"g-hovercard yt-uix-sessionlink       spf-link \" data-sessionlink=\"itct=CDkQ3DAYGCITCISO3YH-ktUCFcmBHAod3Q4IPyjpHg\" data-ytid=\"UCyRsl8zIOCdTt0p_hMtnRaQ\">mona haydar</a>, <a href=\"/user/WWEFanNation\" class=\"g-hovercard yt-uix-sessionlink       spf-link \" data-sessionlink=\"itct=CDgQ3DAYGSITCISO3YH-ktUCFcmBHAod3Q4IPyjpHg\" data-ytid=\"UCJ5v_MCY6GNUBTO8-D3XoAg\">WWE</a>, <a href=\"/user/lindseystomp\" class=\"g-hovercard yt-uix-sessionlink       spf-link \" data-sessionlink=\"itct=CDcQ3DAYGiITCISO3YH-ktUCFcmBHAod3Q4IPyjpHg\" data-ytid=\"UCyC_4jvPzLiSkJkLIkA7B8g\">Lindsey Stirling</a>, <a href=\"/user/lilogirl2000\" class=\"g-hovercard yt-uix-sessionlink       spf-link \" data-sessionlink=\"itct=CDYQ3DAYGyITCISO3YH-ktUCFcmBHAod3Q4IPyjpHg\" data-ytid=\"UCGGZ_POGmIWG1pQXTDzQv-g\">Michelle Khare</a>, <a href=\"/user/MovieBlogTV\" class=\"g-hovercard yt-uix-sessionlink       spf-link \" data-sessionlink=\"itct=CDUQ3DAYHCITCISO3YH-ktUCFcmBHAod3Q4IPyjpHg\" data-ytid=\"UCYyDbdaja1UDNdFSwUrYVGA\">John Campea</a>, <a href=\"/user/IISuperwomanII\" class=\"g-hovercard yt-uix-sessionlink       spf-link \" data-sessionlink=\"itct=CDQQ3DAYHSITCISO3YH-ktUCFcmBHAod3Q4IPyjpHg\" data-ytid=\"UCfm4y4rHF5HGrSr-qbvOwOg\">IISuperwomanII</a>, <a href=\"/user/Americanvogue\" class=\"g-hovercard yt-uix-sessionlink       spf-link \" data-sessionlink=\"itct=CDMQ3DAYHiITCISO3YH-ktUCFcmBHAod3Q4IPyjpHg\" data-ytid=\"UCRXiA3h1no_PFkb1JCP0yMA\">Vogue</a>, <a href=\"/user/jeffdunham\" class=\"g-hovercard yt-uix-sessionlink       spf-link \" data-sessionlink=\"itct=CDIQ3DAYHyITCISO3YH-ktUCFcmBHAod3Q4IPyjpHg\" data-ytid=\"UC0NaWwWghJD37rMK2AYDidg\">Jeff Dunham</a>, <a href=\"/user/HBO\" class=\"g-hovercard yt-uix-sessionlink       spf-link \" data-sessionlink=\"itct=CDEQ3DAYICITCISO3YH-ktUCFcmBHAod3Q4IPyjpHg\" data-ytid=\"UCVTQuK2CaWaTgSsoNkn5AiQ\">HBO</a>, <a href=\"/user/DisneyParks\" class=\"g-hovercard yt-uix-sessionlink       spf-link \" data-sessionlink=\"itct=CDAQ3DAYISITCISO3YH-ktUCFcmBHAod3Q4IPyjpHg\" data-ytid=\"UC1xwwLwm6WSMbUn_Tp597hQ\">Disney Parks</a>, <a href=\"/channel/UC3fBRpuw7IyGi52h6Nm7OZQ\" class=\"g-hovercard yt-uix-sessionlink       spf-link \" data-sessionlink=\"itct=CC8Q3DAYIiITCISO3YH-ktUCFcmBHAod3Q4IPyjpHg\" data-ytid=\"UC3fBRpuw7IyGi52h6Nm7OZQ\">Zac Alsop</a>, <a href=\"/channel/UCXjRJe9ltHXXUdCLrPxvSig\" class=\"g-hovercard yt-uix-sessionlink       spf-link \" data-sessionlink=\"itct=CC4Q3DAYIyITCISO3YH-ktUCFcmBHAod3Q4IPyjpHg\" data-ytid=\"UCXjRJe9ltHXXUdCLrPxvSig\">NN</a>, <a href=\"/user/losangelestimes\" class=\"g-hovercard yt-uix-sessionlink       spf-link \" data-sessionlink=\"itct=CC0Q3DAYJCITCISO3YH-ktUCFcmBHAod3Q4IPyjpHg\" data-ytid=\"UCw3SYO_euO0TSPC_m_0Pzgw\">Los Angeles Times</a>, <a href=\"/user/Chazcam22\" class=\"g-hovercard yt-uix-sessionlink       spf-link \" data-sessionlink=\"itct=CCwQ3DAYJSITCISO3YH-ktUCFcmBHAod3Q4IPyjpHg\" data-ytid=\"UCB-j_VwGYlxgqZbV8KdDDAg\">Broadcast Journalism</a>, <a href=\"/user/collegehumor\" class=\"g-hovercard yt-uix-sessionlink       spf-link \" data-sessionlink=\"itct=CCsQ3DAYJiITCISO3YH-ktUCFcmBHAod3Q4IPyjpHg\" data-ytid=\"UCPDXXXJj9nax0fr0Wfc048g\">CollegeHumor</a>, <a href=\"/user/slashfilm1\" class=\"g-hovercard yt-uix-sessionlink       spf-link \" data-sessionlink=\"itct=CCoQ3DAYJyITCISO3YH-ktUCFcmBHAod3Q4IPyjpHg\" data-ytid=\"UCpzF-K_aKFdEXleDCvskqug\">SlashFilm</a>, <a href=\"/user/screenjunkies\" class=\"g-hovercard yt-uix-sessionlink       spf-link \" data-sessionlink=\"itct=CCkQ3DAYKCITCISO3YH-ktUCFcmBHAod3Q4IPyjpHg\" data-ytid=\"UCOpcACMWblDls9Z6GERVi1A\">Screen Junkies</a>, <a href=\"/user/MatthewSantoro\" class=\"g-hovercard yt-uix-sessionlink       spf-link \" data-sessionlink=\"itct=CCgQ3DAYKSITCISO3YH-ktUCFcmBHAod3Q4IPyjpHg\" data-ytid=\"UCXhSCMRRPyxSoyLSPFxK7VA\">MatthewSantoro</a>, <a href=\"/user/MatthewPatrick13\" class=\"g-hovercard yt-uix-sessionlink       spf-link \" data-sessionlink=\"itct=CCcQ3DAYKiITCISO3YH-ktUCFcmBHAod3Q4IPyjpHg\" data-ytid=\"UCo_IB5145EVNcf8hw1Kku7w\">The Game Theorists</a>, <a href=\"/user/Computerphile\" class=\"g-hovercard yt-uix-sessionlink       spf-link \" data-sessionlink=\"itct=CCYQ3DAYKyITCISO3YH-ktUCFcmBHAod3Q4IPyjpHg\" data-ytid=\"UC9-y-6csu5WGm29I7JiwpnA\">Computerphile</a>, <a href=\"/user/thriftthick\" class=\"g-hovercard yt-uix-sessionlink       spf-link \" data-sessionlink=\"itct=CCUQ3DAYLCITCISO3YH-ktUCFcmBHAod3Q4IPyjpHg\" data-ytid=\"UCjthuhszPjSO0WKl9G6aCxw\">Thrift Thick</a>, <a href=\"/user/BGKumbi\" class=\"g-hovercard yt-uix-sessionlink       spf-link \" data-sessionlink=\"itct=CCQQ3DAYLSITCISO3YH-ktUCFcmBHAod3Q4IPyjpHg\" data-ytid=\"UCm2pbaivKA-9poyXZ4rexrw\">BG Kumbi</a>, <a href=\"/user/XXLMagazine\" class=\"g-hovercard yt-uix-sessionlink       spf-link \" data-sessionlink=\"itct=CCEQ3DAYACITCISO3YH-ktUCFcmBHAod3Q4IPyjpHg\" data-ytid=\"UCbg_UMjlHJg_19SZckaKajg\">XXL</a>, <a href=\"/user/JenniferLopezVEVO\" class=\"g-hovercard yt-uix-sessionlink       spf-link \" data-sessionlink=\"itct=CCAQ3DAYASITCISO3YH-ktUCFcmBHAod3Q4IPyjpHg\" data-ytid=\"UCx1f1u4XlFFr0YgqF3wB4lQ\">JenniferLopezVEVO</a>, <a href=\"/user/CinemaSins\" class=\"g-hovercard yt-uix-sessionlink       spf-link \" data-sessionlink=\"itct=CB8Q3DAYAiITCISO3YH-ktUCFcmBHAod3Q4IPyjpHg\" data-ytid=\"UCYUQQgogVeQY8cMQamhHJcg\">CinemaSins</a>, <a href=\"/user/joshuakuykendall6\" class=\"g-hovercard yt-uix-sessionlink       spf-link \" data-sessionlink=\"itct=CB4Q3DAYAyITCISO3YH-ktUCFcmBHAod3Q4IPyjpHg\" data-ytid=\"UCkmJKbk0eiQ5RztIVM2HTMw\">JoshX713</a>, <a href=\"/channel/UCMtFAi84ehTSYSE9XoHefig\" class=\"g-hovercard yt-uix-sessionlink       spf-link \" data-sessionlink=\"itct=CB0Q3DAYBCITCISO3YH-ktUCFcmBHAod3Q4IPyjpHg\" data-ytid=\"UCMtFAi84ehTSYSE9XoHefig\">The Late Show with Stephen Colbert</a>, <a href=\"/user/BadLipReading\" class=\"g-hovercard yt-uix-sessionlink       spf-link \" data-sessionlink=\"itct=CBwQ3DAYBSITCISO3YH-ktUCFcmBHAod3Q4IPyjpHg\" data-ytid=\"UC67f2Qf7FYhtoUIF4Sf29cA\">Bad Lip Reading</a>, <a href=\"/user/RomanAtwoodVlogs\" class=\"g-hovercard yt-uix-sessionlink       spf-link \" data-sessionlink=\"itct=CBsQ3DAYBiITCISO3YH-ktUCFcmBHAod3Q4IPyjpHg\" data-ytid=\"UC-SV8-bUJfXjrRMnp7F8Wzw\">RomanAtwoodVlogs</a>, <a href=\"/user/voxdotcom\" class=\"g-hovercard yt-uix-sessionlink       spf-link \" data-sessionlink=\"itct=CBoQ3DAYByITCISO3YH-ktUCFcmBHAod3Q4IPyjpHg\" data-ytid=\"UCLXo7UDZvByw2ixzpQCufnA\">Vox</a>, <a href=\"/channel/UCxSz6JVYmzVhtkraHWZC7HQ\" class=\"g-hovercard yt-uix-sessionlink       spf-link \" data-sessionlink=\"itct=CBkQ3DAYCCITCISO3YH-ktUCFcmBHAod3Q4IPyjpHg\" data-ytid=\"UCxSz6JVYmzVhtkraHWZC7HQ\">Liza Koshy</a>, <a href=\"/user/Jaclynhill1\" class=\"g-hovercard yt-uix-sessionlink       spf-link \" data-sessionlink=\"itct=CBgQ3DAYCSITCISO3YH-ktUCFcmBHAod3Q4IPyjpHg\" data-ytid=\"UC6jgzx2g3nlbaYkd8EMweKA\">Jaclyn Hill</a>, <a href=\"/user/caseyneistat\" class=\"g-hovercard yt-uix-sessionlink       spf-link \" data-sessionlink=\"itct=CBcQ3DAYCiITCISO3YH-ktUCFcmBHAod3Q4IPyjpHg\" data-ytid=\"UCtinbF-Q-fVthA0qrFQTgXQ\">CaseyNeistat</a>, <a href=\"/user/JimmyKimmelLive\" class=\"g-hovercard yt-uix-sessionlink       spf-link \" data-sessionlink=\"itct=CBYQ3DAYCyITCISO3YH-ktUCFcmBHAod3Q4IPyjpHg\" data-ytid=\"UCa6vGFO9ty8v5KZJXQxdhaw\">Jimmy Kimmel Live</a>, <a href=\"/user/TMZ\" class=\"g-hovercard yt-uix-sessionlink       spf-link \" data-sessionlink=\"itct=CBUQ3DAYDCITCISO3YH-ktUCFcmBHAod3Q4IPyjpHg\" data-ytid=\"UCK7IIV6Q2junGSdYK3BmZMg\">TMZ</a>, <a href=\"/user/TheMelbComedyFest\" class=\"g-hovercard yt-uix-sessionlink       spf-link \" data-sessionlink=\"itct=CBQQ3DAYDSITCISO3YH-ktUCFcmBHAod3Q4IPyjpHg\" data-ytid=\"UCCHk0tqatZibFoCfx-1yxxw\">TheMelbComedyFest</a>, <a href=\"/channel/UCwWhs_6x42TyRM4Wstoq8HA\" class=\"g-hovercard yt-uix-sessionlink       spf-link \" data-sessionlink=\"itct=CBMQ3DAYDiITCISO3YH-ktUCFcmBHAod3Q4IPyjpHg\" data-ytid=\"UCwWhs_6x42TyRM4Wstoq8HA\">The Daily Show with Trevor Noah</a>, <a href=\"/user/majorlazer\" class=\"g-hovercard yt-uix-sessionlink       spf-link \" data-sessionlink=\"itct=CBIQ3DAYDyITCISO3YH-ktUCFcmBHAod3Q4IPyjpHg\" data-ytid=\"UCMJ5Qf3sOvQpcYiai1Noa3Q\">majorlazer</a>, <a href=\"/user/KathleenLights\" class=\"g-hovercard yt-uix-sessionlink       spf-link \" data-sessionlink=\"itct=CBEQ3DAYECITCISO3YH-ktUCFcmBHAod3Q4IPyjpHg\" data-ytid=\"UC8v4vz_n2rys6Yxpj8LuOBA\">KathleenLights</a>, <a href=\"/user/screenjunkies\" class=\"g-hovercard yt-uix-sessionlink       spf-link \" data-sessionlink=\"itct=CBAQ3DAYESITCISO3YH-ktUCFcmBHAod3Q4IPyjpHg\" data-ytid=\"UCOpcACMWblDls9Z6GERVi1A\">Screen Junkies</a>, <a href=\"/user/MatthewPatrick13\" class=\"g-hovercard yt-uix-sessionlink       spf-link \" data-sessionlink=\"itct=CA8Q3DAYEiITCISO3YH-ktUCFcmBHAod3Q4IPyjpHg\" data-ytid=\"UCo_IB5145EVNcf8hw1Kku7w\">The Game Theorists</a>, <a href=\"/user/UFC\" class=\"g-hovercard yt-uix-sessionlink       spf-link \" data-sessionlink=\"itct=CA4Q3DAYEyITCISO3YH-ktUCFcmBHAod3Q4IPyjpHg\" data-ytid=\"UCvgfXK4nTYKudb0rFR6noLA\">UFC - Ultimate Fighting Championship</a>, <a href=\"/channel/UC5pLdOZ585ky9UE8f-KxgwA\" class=\"g-hovercard yt-uix-sessionlink       spf-link \" data-sessionlink=\"itct=CA0Q3DAYFCITCISO3YH-ktUCFcmBHAod3Q4IPyjpHg\" data-ytid=\"UC5pLdOZ585ky9UE8f-KxgwA\">Party Pooper</a>, <a href=\"/user/theslowmoguys\" class=\"g-hovercard yt-uix-sessionlink       spf-link \" data-sessionlink=\"itct=CAwQ3DAYFSITCISO3YH-ktUCFcmBHAod3Q4IPyjpHg\" data-ytid=\"UCUK0HBIBWgM2c4vsPhkYY4w\">The Slow Mo Guys</a>, <a href=\"/user/FrenchMontanaVEVO\" class=\"g-hovercard yt-uix-sessionlink       spf-link \" data-sessionlink=\"itct=CAsQ3DAYFiITCISO3YH-ktUCFcmBHAod3Q4IPyjpHg\" data-ytid=\"UCpmBpSoy6YQjcshNK6pSyIA\">FrenchMontanaVEVO</a>, <a href=\"/user/JennaMarbles\" class=\"g-hovercard yt-uix-sessionlink       spf-link \" data-sessionlink=\"itct=CAoQ3DAYFyITCISO3YH-ktUCFcmBHAod3Q4IPyjpHg\" data-ytid=\"UC9gFih9rw0zNCK3ZtoKQQyA\">JennaMarbles</a>]\n"
     ]
    }
   ],
   "source": [
    "username = soup.findAll('a', attrs={'class': 'g-hovercard yt-uix-sessionlink       spf-link '})\n",
    "\n",
    "print (username)"
   ]
  },
  {
   "cell_type": "code",
   "execution_count": 40,
   "metadata": {
    "collapsed": true
   },
   "outputs": [],
   "source": [
    "views = soup.findAll('ul', attrs={\"class\":\"yt-lockup-meta-info\"})"
   ]
  },
  {
   "cell_type": "code",
   "execution_count": 41,
   "metadata": {
    "collapsed": false
   },
   "outputs": [
    {
     "data": {
      "text/plain": [
       "BeautifulSoup.ResultSet"
      ]
     },
     "execution_count": 41,
     "metadata": {},
     "output_type": "execute_result"
    }
   ],
   "source": [
    "type(views)"
   ]
  },
  {
   "cell_type": "code",
   "execution_count": 42,
   "metadata": {
    "collapsed": false
   },
   "outputs": [
    {
     "name": "stdout",
     "output_type": "stream",
     "text": [
      "[<ul class=\"yt-lockup-meta-info\"><li>1 day ago</li><li>3,266,686 views</li></ul>, <ul class=\"yt-lockup-meta-info\"><li>1 day ago</li><li>3,253,049 views</li></ul>, <ul class=\"yt-lockup-meta-info\"><li>18 hours ago</li><li>406,729 views</li></ul>, <ul class=\"yt-lockup-meta-info\"><li>22 hours ago</li><li>1,717,160 views</li></ul>, <ul class=\"yt-lockup-meta-info\"><li>3 weeks ago</li><li>10,553,258 views</li></ul>, <ul class=\"yt-lockup-meta-info\"><li>1 day ago</li><li>1,132,795 views</li></ul>, <ul class=\"yt-lockup-meta-info\"><li>21 hours ago</li><li>195,723 views</li></ul>, <ul class=\"yt-lockup-meta-info\"><li>1 day ago</li><li>1,961,345 views</li></ul>, <ul class=\"yt-lockup-meta-info\"><li>1 day ago</li><li>2,927,611 views</li></ul>, <ul class=\"yt-lockup-meta-info\"><li>22 hours ago</li><li>285,352 views</li></ul>, <ul class=\"yt-lockup-meta-info\"><li>1 day ago</li><li>282,736 views</li></ul>, <ul class=\"yt-lockup-meta-info\"><li>23 hours ago</li><li>114,965 views</li></ul>, <ul class=\"yt-lockup-meta-info\"><li>6 hours ago</li><li>78,199 views</li></ul>, <ul class=\"yt-lockup-meta-info\"><li>1 day ago</li><li>86,904 views</li></ul>, <ul class=\"yt-lockup-meta-info\"><li>2 days ago</li><li>3,969,626 views</li></ul>, <ul class=\"yt-lockup-meta-info\"><li>1 day ago</li><li>140,039 views</li></ul>, <ul class=\"yt-lockup-meta-info\"><li>16 hours ago</li><li>109,629 views</li></ul>, <ul class=\"yt-lockup-meta-info\"><li>1 day ago</li><li>471,137 views</li></ul>, <ul class=\"yt-lockup-meta-info\"><li>2 days ago</li><li>720,903 views</li></ul>, <ul class=\"yt-lockup-meta-info\"><li>2 days ago</li><li>3,154,148 views</li></ul>, <ul class=\"yt-lockup-meta-info\"><li>1 day ago</li><li>218,825 views</li></ul>, <ul class=\"yt-lockup-meta-info\"><li>Streamed 1 day ago</li><li>153,372 views</li></ul>, <ul class=\"yt-lockup-meta-info\"><li>1 day ago</li><li>429,876 views</li></ul>, <ul class=\"yt-lockup-meta-info\"><li>1 day ago</li><li>492,340 views</li></ul>, <ul class=\"yt-lockup-meta-info\"><li>15 hours ago</li><li>3,272 views</li></ul>, <ul class=\"yt-lockup-meta-info\"><li>21 hours ago</li><li>30,027 views</li></ul>, <ul class=\"yt-lockup-meta-info\"><li>2 days ago</li><li>2,746,282 views</li></ul>, <ul class=\"yt-lockup-meta-info\"><li>1 day ago</li><li>125,351 views</li></ul>, <ul class=\"yt-lockup-meta-info\"><li>22 hours ago</li><li>41,049 views</li></ul>, <ul class=\"yt-lockup-meta-info\"><li>1 day ago</li><li>40,981 views</li></ul>, <ul class=\"yt-lockup-meta-info\"><li>1 day ago</li><li>159,565 views</li></ul>, <ul class=\"yt-lockup-meta-info\"><li>23 hours ago</li><li>614,620 views</li></ul>, <ul class=\"yt-lockup-meta-info\"><li>1 day ago</li><li>161,341 views</li></ul>, <ul class=\"yt-lockup-meta-info\"><li>1 day ago</li><li>56,028 views</li></ul>, <ul class=\"yt-lockup-meta-info\"><li>1 day ago</li><li>1,060,246 views</li></ul>, <ul class=\"yt-lockup-meta-info\"><li>1 day ago</li><li>742,696 views</li></ul>, <ul class=\"yt-lockup-meta-info\"><li>Streamed 1 day ago</li><li>78,414 views</li></ul>, <ul class=\"yt-lockup-meta-info\"><li>1 day ago</li><li>378,434 views</li></ul>, <ul class=\"yt-lockup-meta-info\"><li>2 days ago</li><li>194,100 views</li></ul>, <ul class=\"yt-lockup-meta-info\"><li>2 days ago</li><li>878,235 views</li></ul>, <ul class=\"yt-lockup-meta-info\"><li>1 day ago</li><li>21,193 views</li></ul>, <ul class=\"yt-lockup-meta-info\"><li>1 day ago</li><li>12,132 views</li></ul>, <ul class=\"yt-lockup-meta-info\"><li>1 day ago</li><li>22,657 views</li></ul>, <ul class=\"yt-lockup-meta-info\"><li>2 days ago</li><li>859,587 views</li></ul>, <ul class=\"yt-lockup-meta-info\"><li>3 days ago</li><li>1,186,152 views</li></ul>, <ul class=\"yt-lockup-meta-info\"><li>2 days ago</li><li>394,545 views</li></ul>, <ul class=\"yt-lockup-meta-info\"><li>2 days ago</li><li>472,869 views</li></ul>, <ul class=\"yt-lockup-meta-info\"><li>2 days ago</li><li>1,460,399 views</li></ul>, <ul class=\"yt-lockup-meta-info\"><li>1 day ago</li><li>59,578 views</li></ul>, <ul class=\"yt-lockup-meta-info\"><li>Streamed 1 day ago</li><li>116,080 views</li></ul>, <ul class=\"yt-lockup-meta-info\"><li>2 days ago</li><li>65,798 views</li></ul>, <ul class=\"yt-lockup-meta-info\"><li>1 week ago</li><li>5,913,639 views</li></ul>, <ul class=\"yt-lockup-meta-info\"><li>6 days ago</li><li>12,805,716 views</li></ul>, <ul class=\"yt-lockup-meta-info\"><li>4 days ago</li><li>2,354,531 views</li></ul>, <ul class=\"yt-lockup-meta-info\"><li>5 days ago</li><li>1,638,697 views</li></ul>, <ul class=\"yt-lockup-meta-info\"><li>6 days ago</li><li>3,612,103 views</li></ul>, <ul class=\"yt-lockup-meta-info\"><li>4 days ago</li><li>3,812,487 views</li></ul>, <ul class=\"yt-lockup-meta-info\"><li>1 week ago</li><li>5,162,504 views</li></ul>, <ul class=\"yt-lockup-meta-info\"><li>5 days ago</li><li>1,776,443 views</li></ul>, <ul class=\"yt-lockup-meta-info\"><li>4 days ago</li><li>6,008,551 views</li></ul>, <ul class=\"yt-lockup-meta-info\"><li>6 days ago</li><li>4,206,959 views</li></ul>, <ul class=\"yt-lockup-meta-info\"><li>5 days ago</li><li>1,744,268 views</li></ul>, <ul class=\"yt-lockup-meta-info\"><li>4 days ago</li><li>4,591,942 views</li></ul>, <ul class=\"yt-lockup-meta-info\"><li>1 week ago</li><li>945,374 views</li></ul>, <ul class=\"yt-lockup-meta-info\"><li>1 year ago</li><li>1,887,906 views</li></ul>, <ul class=\"yt-lockup-meta-info\"><li>4 days ago</li><li>1,144,288 views</li></ul>, <ul class=\"yt-lockup-meta-info\"><li>6 days ago</li><li>9,700,388 views</li></ul>, <ul class=\"yt-lockup-meta-info\"><li>6 days ago</li><li>855,953 views</li></ul>, <ul class=\"yt-lockup-meta-info\"><li>6 days ago</li><li>2,060,254 views</li></ul>, <ul class=\"yt-lockup-meta-info\"><li>6 days ago</li><li>2,667,891 views</li></ul>, <ul class=\"yt-lockup-meta-info\"><li>Streamed 6 days ago</li><li>3,471,024 views</li></ul>, <ul class=\"yt-lockup-meta-info\"><li>5 days ago</li><li>5,882,114 views</li></ul>, <ul class=\"yt-lockup-meta-info\"><li>6 days ago</li><li>2,166,252 views</li></ul>, <ul class=\"yt-lockup-meta-info\"><li>3 days ago</li><li>4,943,200 views</li></ul>, <ul class=\"yt-lockup-meta-info\"><li>5 days ago</li><li>2,911,972 views</li></ul>]\n"
     ]
    }
   ],
   "source": [
    "# making string to work with regex\n",
    "string= str(views)\n",
    "print string"
   ]
  },
  {
   "cell_type": "code",
   "execution_count": 38,
   "metadata": {
    "collapsed": false
   },
   "outputs": [
    {
     "name": "stdout",
     "output_type": "stream",
     "text": [
      "['06,729', '0,553,258', '95,723', '85,352', '82,736', '14,965', '8,199', '6,904', '40,039', '09,629', '71,137', '20,903', '18,825', '53,372', '29,876', '92,340', '0,027', '25,351', '1,049', '0,981', '59,565', '14,620', '61,341', '6,028', '42,696', '8,414', '78,434', '94,100', '78,235', '1,193', '2,132', '2,657', '59,587', '94,545', '72,869', '9,578', '16,080', '5,798', '2,805,716', '45,374', '55,953']\n"
     ]
    }
   ],
   "source": [
    "import re\n",
    "view = re.findall('>\\S([0-9]+\\S*)\\s+views', string)\n",
    "print view"
   ]
  },
  {
   "cell_type": "code",
   "execution_count": 81,
   "metadata": {
    "collapsed": false
   },
   "outputs": [],
   "source": [
    "import json\n",
    "list1=[]\n",
    "for i,j,z,x in zip (tags,duration,username,view):\n",
    "    list1.append({\"URL\" : \"https://www.youtube.com\"+i.get('href'), \"Title\" : i.get(\"title\"), \"Duration\" : j.text, \"User\" : z.text, \"Views\" : x})"
   ]
  },
  {
   "cell_type": "code",
   "execution_count": 82,
   "metadata": {
    "collapsed": false
   },
   "outputs": [
    {
     "name": "stdout",
     "output_type": "stream",
     "text": [
      "[{'URL': u'https://www.youtube.com/watch?v=dZOaI_Fn5o4', 'Duration': u'2:33', 'Views': '06,729', 'User': u'Warner Bros. Pictures', 'Title': u'BLADE RUNNER 2049 \\u2013 Trailer 2'}, {'URL': u'https://www.youtube.com/watch?v=HoXDsTIu_10', 'Duration': u'0:21', 'Views': '0,553,258', 'User': u'GameofThrones', 'Title': u'Stormborn: Game of Thrones Season 7 Episode 2: Preview (HBO)'}, {'URL': u'https://www.youtube.com/watch?v=MxCVbISr21U', 'Duration': u'0:53', 'Views': '95,723', 'User': u'Argonics Inc.', 'Title': u\"Goat breaks into Argonics' Colorado office\"}, {'URL': u'https://www.youtube.com/watch?v=mxhxL1LzKww', 'Duration': u'26:31', 'Views': '85,352', 'User': u'Vsauce', 'Title': u'How Much of the Earth Can You See at Once?'}, {'URL': u'https://www.youtube.com/watch?v=PEGccV-NOm8', 'Duration': u'3:54', 'Views': '82,736', 'User': u'Cardi B', 'Title': u'Cardi B - Bodak Yellow [OFFICIAL MUSIC VIDEO]'}, {'URL': u'https://www.youtube.com/watch?v=NfQ21BpbNXc', 'Duration': u'14:43', 'Views': '14,965', 'User': u'Emergency Awesome', 'Title': u'Game Of Thrones Season 7 Episode 1 - TOP 10 WTF and Easter Eggs'}, {'URL': u'https://www.youtube.com/watch?v=uPRa-6jUbVU', 'Duration': u'0:30', 'Views': '8,199', 'User': u'Viral YouTube', 'Title': u\"BMX racer boy doesn't care about winning at Rapid Wheels\"}, {'URL': u'https://www.youtube.com/watch?v=_-_bSdWEYK8', 'Duration': u'1:01', 'Views': '6,904', 'User': u'Doctor Who', 'Title': u'Meet the Thirteenth Doctor - Doctor Who'}, {'URL': u'https://www.youtube.com/watch?v=FCDPP4ak8xU', 'Duration': u'2:56', 'Views': '40,039', 'User': u'Gordon Ramsay', 'Title': u'Ramsay Forced to Spit Out BACON & CHOCOLATE PIZZA! | Hotel Hell'}, {'URL': u'https://www.youtube.com/watch?v=foLf5Bi9qXs', 'Duration': u'5:15', 'Views': '09,629', 'User': u'TED-Ed', 'Title': u'How does caffeine keep us awake? - Hanan Qasim'}, {'URL': u'https://www.youtube.com/watch?v=ZCLhaPWwVwM', 'Duration': u'1:06', 'Views': '71,137', 'User': u'Rhaegar Targaryen', 'Title': u'Game of Thrones - Season 7 - Ed Sheeran - Arya Stark - Lannister Song - Hands of Gold'}, {'URL': u'https://www.youtube.com/watch?v=5PmRV5zni7I', 'Duration': u'0:36', 'Views': '20,903', 'User': u'Lip Sync Battle on Spike', 'Title': u'David Spade Performs Wham!\\u2019s \\u201cWake Me Up Before You Go-Go\" | Lip Sync Battle'}, {'URL': u'https://www.youtube.com/watch?v=TqOzdRLb1Hc', 'Duration': u'0:39', 'Views': '18,825', 'User': u'The Late Show with Stephen Colbert', 'Title': u\"Stephen Kicks Off 'Russia Week' From Red Square\"}, {'URL': u'https://www.youtube.com/watch?v=FDBFbrynfvA', 'Duration': u'0:43', 'Views': '53,372', 'User': u'USA TODAY', 'Title': u\"Top 3 shockers of Season 7's Game of Thrones premiere\"}, {'URL': u'https://www.youtube.com/watch?v=ye6GCY_vqYk', 'Duration': u'2:59', 'Views': '29,876', 'User': u'Star Wars', 'Title': u'Star Wars: The Last Jedi Behind The Scenes'}, {'URL': u'https://www.youtube.com/watch?v=3qFYoVeKof4', 'Duration': u'1:05', 'Views': '92,340', 'User': u'National Geographic', 'Title': u'See the Huge Crack in West Antarctica Before Iceberg Broke Off | National Geographic'}, {'URL': u'https://www.youtube.com/watch?v=senqJyYkUDQ', 'Duration': u'7:29', 'Views': '0,027', 'User': u'Real GD&#39;s Latest Highlights', 'Title': u'Lonzo Ball MVP Offense Highlights (2017 Summer League) - LA Lakers Debut!'}, {'URL': u'https://www.youtube.com/watch?v=LXreT3NNhzw', 'Duration': u'3:46', 'Views': '25,351', 'User': u'BBC Radio 1', 'Title': u\"Harry Styles' HEART MONITOR CHALLENGE with Nick Grimshaw\"}, {'URL': u'https://www.youtube.com/watch?v=GmULc5VANsw', 'Duration': u'8:14', 'Views': '1,049', 'User': u'Internet Historian', 'Title': u'The Failure of Rainfurrest'}, {'URL': u'https://www.youtube.com/watch?v=E4U3TeY2wtM', 'Duration': u'1:50', 'Views': '0,981', 'User': u'Disney Movie Trailers', 'Title': u'A Wrinkle In Time Official US Teaser Trailer'}, {'URL': u'https://www.youtube.com/watch?v=nryiwb1gcBA', 'Duration': u'1:01', 'Views': '59,565', 'User': u'BBC America', 'Title': u'Meet the Thirteenth Doctor | Doctor Who'}, {'URL': u'https://www.youtube.com/watch?v=lY2y5hHdWEo', 'Duration': u'2:29:05', 'Views': '14,620', 'User': u'SmokeScreen', 'Title': u'Game of Thrones Season 7 Episode 1 Review / Reaction - Live After Show!'}, {'URL': u'https://www.youtube.com/watch?v=q1IczjLYCIM', 'Duration': u'1:01', 'Views': '61,341', 'User': u'BBC', 'Title': u'The Thirteenth Doctor revealed - Doctor Who: Trailer - BBC One'}, {'URL': u'https://www.youtube.com/watch?v=D-AQC8Bbvhs', 'Duration': u'1:06', 'Views': '6,028', 'User': u'Wimbledon', 'Title': u'Roger Federer wins Wimbledon 2017'}, {'URL': u'https://www.youtube.com/watch?v=n3HCbFF4ma8', 'Duration': u'27:10', 'Views': '42,696', 'User': u'BUILD Series', 'Title': u'Regina Hall & Jada Pinkett Smith Talk About \"Girls Trip\"'}, {'URL': u'https://www.youtube.com/watch?v=8JKCd1B-MpQ', 'Duration': u'3:24', 'Views': '8,414', 'User': u'leelajamesVEVO', 'Title': u'Leela James - Hard For Me'}, {'URL': u'https://www.youtube.com/watch?v=E4y7UK4nqnQ', 'Duration': u'5:39', 'Views': '78,434', 'User': u'Kingdom Hearts', 'Title': u'KINGDOM HEARTS III \\u2013 D23 2017 Toy Story Trailer'}, {'URL': u'https://www.youtube.com/watch?v=fk0giym6_Y4', 'Duration': u'7:28', 'Views': '94,100', 'User': u'Game of Theories', 'Title': u'Has Rhaegar Targaryen Already SAVED Westeros!? Game of Thrones Season 7 Theory!'}, {'URL': u'https://www.youtube.com/watch?v=f8mjlXmHK4Q', 'Duration': u'2:18', 'Views': '78,235', 'User': u'Fox News', 'Title': u'Napolitano: Trump Jr. meeting warrants a criminal probe'}, {'URL': u'https://www.youtube.com/watch?v=idMJIEFH_ns', 'Duration': u'4:13', 'Views': '1,193', 'User': u'mona haydar', 'Title': u'Mona Haydar - Dog (ft. Jackie Cruz)'}, {'URL': u'https://www.youtube.com/watch?v=fbdG_wPA8tA', 'Duration': u'0:49', 'Views': '2,132', 'User': u'WWE', 'Title': u'Treat yourself on ICE CREAM DAY -- A refreshing look back at WWE ice cream bars'}, {'URL': u'https://www.youtube.com/watch?v=4xcuKEwCDWg', 'Duration': u'2:50', 'Views': '2,657', 'User': u'Lindsey Stirling', 'Title': u\"It Ain't Me - Lindsey Stirling and KHS (Selena Gomez & Kygo Cover)\"}, {'URL': u'https://www.youtube.com/watch?v=EnhPZLFrYbg', 'Duration': u'11:22', 'Views': '59,587', 'User': u'Michelle Khare', 'Title': u'I Trained Like Arya Stark (Game of Thrones) For A Month \\u2694\\ufe0f'}, {'URL': u'https://www.youtube.com/watch?v=zjpCGcM_-rQ', 'Duration': u'10:42', 'Views': '94,545', 'User': u'John Campea', 'Title': u'Game Of Thrones Review - Season 7 Episode 1: Dragonstone'}, {'URL': u'https://www.youtube.com/watch?v=X_7l652fV5M', 'Duration': u'3:39', 'Views': '72,869', 'User': u'IISuperwomanII', 'Title': u'If White Walkers Were Teenage Girls'}, {'URL': u'https://www.youtube.com/watch?v=qlB0m541Q3A', 'Duration': u'0:56', 'Views': '9,578', 'User': u'Vogue', 'Title': u'Miranda Kerr\\u2019s Fairy-Tale Wedding Dress Fitting | Vogue'}, {'URL': u'https://www.youtube.com/watch?v=HcBVNCzubIU', 'Duration': u'8:08', 'Views': '16,080', 'User': u'Jeff Dunham', 'Title': u\"LIVE! Our twin's first visit to the dummy museum! | JEFF DUNHAM\"}, {'URL': u'https://www.youtube.com/watch?v=cwzNbCjYX1E', 'Duration': u'1:12', 'Views': '5,798', 'User': u'HBO', 'Title': u'Woke Up a Rebel: Game of Thrones Premiere (HBO)'}, {'URL': u'https://www.youtube.com/watch?v=aP1jcbPRxc8', 'Duration': u'1:11', 'Views': '2,805,716', 'User': u'Disney Parks', 'Title': u'Fly-Through Star Wars: Galaxy\\u2019s Edge | Disney Parks'}, {'URL': u'https://www.youtube.com/watch?v=8PL1BC1s8CQ', 'Duration': u'11:59', 'Views': '45,374', 'User': u'Zac Alsop', 'Title': u'Sneaking backstage at the McGregor vs Mayweather Press conference in London'}, {'URL': u'https://www.youtube.com/watch?v=wLJWeMNs4nY', 'Duration': u'2:55', 'Views': '55,953', 'User': u'NN', 'Title': u'Joe Scarborough: Hannity is \\u2018State Run Television\\u2019'}]\n"
     ]
    }
   ],
   "source": [
    "print(list1)"
   ]
  },
  {
   "cell_type": "code",
   "execution_count": 76,
   "metadata": {
    "collapsed": true
   },
   "outputs": [],
   "source": [
    "from pprint import pprint"
   ]
  },
  {
   "cell_type": "code",
   "execution_count": 83,
   "metadata": {
    "collapsed": false
   },
   "outputs": [
    {
     "name": "stdout",
     "output_type": "stream",
     "text": [
      "[{'Duration': u'2:33',\n",
      "  'Title': u'BLADE RUNNER 2049 \\u2013 Trailer 2',\n",
      "  'URL': u'https://www.youtube.com/watch?v=dZOaI_Fn5o4',\n",
      "  'User': u'Warner Bros. Pictures',\n",
      "  'Views': '06,729'},\n",
      " {'Duration': u'0:21',\n",
      "  'Title': u'Stormborn: Game of Thrones Season 7 Episode 2: Preview (HBO)',\n",
      "  'URL': u'https://www.youtube.com/watch?v=HoXDsTIu_10',\n",
      "  'User': u'GameofThrones',\n",
      "  'Views': '0,553,258'},\n",
      " {'Duration': u'0:53',\n",
      "  'Title': u\"Goat breaks into Argonics' Colorado office\",\n",
      "  'URL': u'https://www.youtube.com/watch?v=MxCVbISr21U',\n",
      "  'User': u'Argonics Inc.',\n",
      "  'Views': '95,723'},\n",
      " {'Duration': u'26:31',\n",
      "  'Title': u'How Much of the Earth Can You See at Once?',\n",
      "  'URL': u'https://www.youtube.com/watch?v=mxhxL1LzKww',\n",
      "  'User': u'Vsauce',\n",
      "  'Views': '85,352'},\n",
      " {'Duration': u'3:54',\n",
      "  'Title': u'Cardi B - Bodak Yellow [OFFICIAL MUSIC VIDEO]',\n",
      "  'URL': u'https://www.youtube.com/watch?v=PEGccV-NOm8',\n",
      "  'User': u'Cardi B',\n",
      "  'Views': '82,736'},\n",
      " {'Duration': u'14:43',\n",
      "  'Title': u'Game Of Thrones Season 7 Episode 1 - TOP 10 WTF and Easter Eggs',\n",
      "  'URL': u'https://www.youtube.com/watch?v=NfQ21BpbNXc',\n",
      "  'User': u'Emergency Awesome',\n",
      "  'Views': '14,965'},\n",
      " {'Duration': u'0:30',\n",
      "  'Title': u\"BMX racer boy doesn't care about winning at Rapid Wheels\",\n",
      "  'URL': u'https://www.youtube.com/watch?v=uPRa-6jUbVU',\n",
      "  'User': u'Viral YouTube',\n",
      "  'Views': '8,199'},\n",
      " {'Duration': u'1:01',\n",
      "  'Title': u'Meet the Thirteenth Doctor - Doctor Who',\n",
      "  'URL': u'https://www.youtube.com/watch?v=_-_bSdWEYK8',\n",
      "  'User': u'Doctor Who',\n",
      "  'Views': '6,904'},\n",
      " {'Duration': u'2:56',\n",
      "  'Title': u'Ramsay Forced to Spit Out BACON & CHOCOLATE PIZZA! | Hotel Hell',\n",
      "  'URL': u'https://www.youtube.com/watch?v=FCDPP4ak8xU',\n",
      "  'User': u'Gordon Ramsay',\n",
      "  'Views': '40,039'},\n",
      " {'Duration': u'5:15',\n",
      "  'Title': u'How does caffeine keep us awake? - Hanan Qasim',\n",
      "  'URL': u'https://www.youtube.com/watch?v=foLf5Bi9qXs',\n",
      "  'User': u'TED-Ed',\n",
      "  'Views': '09,629'},\n",
      " {'Duration': u'1:06',\n",
      "  'Title': u'Game of Thrones - Season 7 - Ed Sheeran - Arya Stark - Lannister Song - Hands of Gold',\n",
      "  'URL': u'https://www.youtube.com/watch?v=ZCLhaPWwVwM',\n",
      "  'User': u'Rhaegar Targaryen',\n",
      "  'Views': '71,137'},\n",
      " {'Duration': u'0:36',\n",
      "  'Title': u'David Spade Performs Wham!\\u2019s \\u201cWake Me Up Before You Go-Go\" | Lip Sync Battle',\n",
      "  'URL': u'https://www.youtube.com/watch?v=5PmRV5zni7I',\n",
      "  'User': u'Lip Sync Battle on Spike',\n",
      "  'Views': '20,903'},\n",
      " {'Duration': u'0:39',\n",
      "  'Title': u\"Stephen Kicks Off 'Russia Week' From Red Square\",\n",
      "  'URL': u'https://www.youtube.com/watch?v=TqOzdRLb1Hc',\n",
      "  'User': u'The Late Show with Stephen Colbert',\n",
      "  'Views': '18,825'},\n",
      " {'Duration': u'0:43',\n",
      "  'Title': u\"Top 3 shockers of Season 7's Game of Thrones premiere\",\n",
      "  'URL': u'https://www.youtube.com/watch?v=FDBFbrynfvA',\n",
      "  'User': u'USA TODAY',\n",
      "  'Views': '53,372'},\n",
      " {'Duration': u'2:59',\n",
      "  'Title': u'Star Wars: The Last Jedi Behind The Scenes',\n",
      "  'URL': u'https://www.youtube.com/watch?v=ye6GCY_vqYk',\n",
      "  'User': u'Star Wars',\n",
      "  'Views': '29,876'},\n",
      " {'Duration': u'1:05',\n",
      "  'Title': u'See the Huge Crack in West Antarctica Before Iceberg Broke Off | National Geographic',\n",
      "  'URL': u'https://www.youtube.com/watch?v=3qFYoVeKof4',\n",
      "  'User': u'National Geographic',\n",
      "  'Views': '92,340'},\n",
      " {'Duration': u'7:29',\n",
      "  'Title': u'Lonzo Ball MVP Offense Highlights (2017 Summer League) - LA Lakers Debut!',\n",
      "  'URL': u'https://www.youtube.com/watch?v=senqJyYkUDQ',\n",
      "  'User': u'Real GD&#39;s Latest Highlights',\n",
      "  'Views': '0,027'},\n",
      " {'Duration': u'3:46',\n",
      "  'Title': u\"Harry Styles' HEART MONITOR CHALLENGE with Nick Grimshaw\",\n",
      "  'URL': u'https://www.youtube.com/watch?v=LXreT3NNhzw',\n",
      "  'User': u'BBC Radio 1',\n",
      "  'Views': '25,351'},\n",
      " {'Duration': u'8:14',\n",
      "  'Title': u'The Failure of Rainfurrest',\n",
      "  'URL': u'https://www.youtube.com/watch?v=GmULc5VANsw',\n",
      "  'User': u'Internet Historian',\n",
      "  'Views': '1,049'},\n",
      " {'Duration': u'1:50',\n",
      "  'Title': u'A Wrinkle In Time Official US Teaser Trailer',\n",
      "  'URL': u'https://www.youtube.com/watch?v=E4U3TeY2wtM',\n",
      "  'User': u'Disney Movie Trailers',\n",
      "  'Views': '0,981'},\n",
      " {'Duration': u'1:01',\n",
      "  'Title': u'Meet the Thirteenth Doctor | Doctor Who',\n",
      "  'URL': u'https://www.youtube.com/watch?v=nryiwb1gcBA',\n",
      "  'User': u'BBC America',\n",
      "  'Views': '59,565'},\n",
      " {'Duration': u'2:29:05',\n",
      "  'Title': u'Game of Thrones Season 7 Episode 1 Review / Reaction - Live After Show!',\n",
      "  'URL': u'https://www.youtube.com/watch?v=lY2y5hHdWEo',\n",
      "  'User': u'SmokeScreen',\n",
      "  'Views': '14,620'},\n",
      " {'Duration': u'1:01',\n",
      "  'Title': u'The Thirteenth Doctor revealed - Doctor Who: Trailer - BBC One',\n",
      "  'URL': u'https://www.youtube.com/watch?v=q1IczjLYCIM',\n",
      "  'User': u'BBC',\n",
      "  'Views': '61,341'},\n",
      " {'Duration': u'1:06',\n",
      "  'Title': u'Roger Federer wins Wimbledon 2017',\n",
      "  'URL': u'https://www.youtube.com/watch?v=D-AQC8Bbvhs',\n",
      "  'User': u'Wimbledon',\n",
      "  'Views': '6,028'},\n",
      " {'Duration': u'27:10',\n",
      "  'Title': u'Regina Hall & Jada Pinkett Smith Talk About \"Girls Trip\"',\n",
      "  'URL': u'https://www.youtube.com/watch?v=n3HCbFF4ma8',\n",
      "  'User': u'BUILD Series',\n",
      "  'Views': '42,696'},\n",
      " {'Duration': u'3:24',\n",
      "  'Title': u'Leela James - Hard For Me',\n",
      "  'URL': u'https://www.youtube.com/watch?v=8JKCd1B-MpQ',\n",
      "  'User': u'leelajamesVEVO',\n",
      "  'Views': '8,414'},\n",
      " {'Duration': u'5:39',\n",
      "  'Title': u'KINGDOM HEARTS III \\u2013 D23 2017 Toy Story Trailer',\n",
      "  'URL': u'https://www.youtube.com/watch?v=E4y7UK4nqnQ',\n",
      "  'User': u'Kingdom Hearts',\n",
      "  'Views': '78,434'},\n",
      " {'Duration': u'7:28',\n",
      "  'Title': u'Has Rhaegar Targaryen Already SAVED Westeros!? Game of Thrones Season 7 Theory!',\n",
      "  'URL': u'https://www.youtube.com/watch?v=fk0giym6_Y4',\n",
      "  'User': u'Game of Theories',\n",
      "  'Views': '94,100'},\n",
      " {'Duration': u'2:18',\n",
      "  'Title': u'Napolitano: Trump Jr. meeting warrants a criminal probe',\n",
      "  'URL': u'https://www.youtube.com/watch?v=f8mjlXmHK4Q',\n",
      "  'User': u'Fox News',\n",
      "  'Views': '78,235'},\n",
      " {'Duration': u'4:13',\n",
      "  'Title': u'Mona Haydar - Dog (ft. Jackie Cruz)',\n",
      "  'URL': u'https://www.youtube.com/watch?v=idMJIEFH_ns',\n",
      "  'User': u'mona haydar',\n",
      "  'Views': '1,193'},\n",
      " {'Duration': u'0:49',\n",
      "  'Title': u'Treat yourself on ICE CREAM DAY -- A refreshing look back at WWE ice cream bars',\n",
      "  'URL': u'https://www.youtube.com/watch?v=fbdG_wPA8tA',\n",
      "  'User': u'WWE',\n",
      "  'Views': '2,132'},\n",
      " {'Duration': u'2:50',\n",
      "  'Title': u\"It Ain't Me - Lindsey Stirling and KHS (Selena Gomez & Kygo Cover)\",\n",
      "  'URL': u'https://www.youtube.com/watch?v=4xcuKEwCDWg',\n",
      "  'User': u'Lindsey Stirling',\n",
      "  'Views': '2,657'},\n",
      " {'Duration': u'11:22',\n",
      "  'Title': u'I Trained Like Arya Stark (Game of Thrones) For A Month \\u2694\\ufe0f',\n",
      "  'URL': u'https://www.youtube.com/watch?v=EnhPZLFrYbg',\n",
      "  'User': u'Michelle Khare',\n",
      "  'Views': '59,587'},\n",
      " {'Duration': u'10:42',\n",
      "  'Title': u'Game Of Thrones Review - Season 7 Episode 1: Dragonstone',\n",
      "  'URL': u'https://www.youtube.com/watch?v=zjpCGcM_-rQ',\n",
      "  'User': u'John Campea',\n",
      "  'Views': '94,545'},\n",
      " {'Duration': u'3:39',\n",
      "  'Title': u'If White Walkers Were Teenage Girls',\n",
      "  'URL': u'https://www.youtube.com/watch?v=X_7l652fV5M',\n",
      "  'User': u'IISuperwomanII',\n",
      "  'Views': '72,869'},\n",
      " {'Duration': u'0:56',\n",
      "  'Title': u'Miranda Kerr\\u2019s Fairy-Tale Wedding Dress Fitting | Vogue',\n",
      "  'URL': u'https://www.youtube.com/watch?v=qlB0m541Q3A',\n",
      "  'User': u'Vogue',\n",
      "  'Views': '9,578'},\n",
      " {'Duration': u'8:08',\n",
      "  'Title': u\"LIVE! Our twin's first visit to the dummy museum! | JEFF DUNHAM\",\n",
      "  'URL': u'https://www.youtube.com/watch?v=HcBVNCzubIU',\n",
      "  'User': u'Jeff Dunham',\n",
      "  'Views': '16,080'},\n",
      " {'Duration': u'1:12',\n",
      "  'Title': u'Woke Up a Rebel: Game of Thrones Premiere (HBO)',\n",
      "  'URL': u'https://www.youtube.com/watch?v=cwzNbCjYX1E',\n",
      "  'User': u'HBO',\n",
      "  'Views': '5,798'},\n",
      " {'Duration': u'1:11',\n",
      "  'Title': u'Fly-Through Star Wars: Galaxy\\u2019s Edge | Disney Parks',\n",
      "  'URL': u'https://www.youtube.com/watch?v=aP1jcbPRxc8',\n",
      "  'User': u'Disney Parks',\n",
      "  'Views': '2,805,716'},\n",
      " {'Duration': u'11:59',\n",
      "  'Title': u'Sneaking backstage at the McGregor vs Mayweather Press conference in London',\n",
      "  'URL': u'https://www.youtube.com/watch?v=8PL1BC1s8CQ',\n",
      "  'User': u'Zac Alsop',\n",
      "  'Views': '45,374'},\n",
      " {'Duration': u'2:55',\n",
      "  'Title': u'Joe Scarborough: Hannity is \\u2018State Run Television\\u2019',\n",
      "  'URL': u'https://www.youtube.com/watch?v=wLJWeMNs4nY',\n",
      "  'User': u'NN',\n",
      "  'Views': '55,953'}]\n"
     ]
    }
   ],
   "source": [
    "pprint (list1)"
   ]
  },
  {
   "cell_type": "code",
   "execution_count": 85,
   "metadata": {
    "collapsed": false
   },
   "outputs": [],
   "source": [
    "# save in to json\n",
    "import json\n",
    "with open('movies.json',\"w\") as f:\n",
    "    json.dump(list1,f,sort_keys = True, indent = 4)\n"
   ]
  },
  {
   "cell_type": "code",
   "execution_count": 95,
   "metadata": {
    "collapsed": false
   },
   "outputs": [],
   "source": [
    "# save in csv\n",
    "import unicodecsv as csv\n",
    "with open(\"movies5.csv\",'w') as fi:\n",
    "    writer = csv.writer(fi)\n",
    "    writer.writerow([\"URL\", \"Title\", \"Duration\", \"username\", \"View\"])\n",
    "    for i in list1:\n",
    "        writer.writerow([i[\"URL\"], i[\"Title\"], i[\"Duration\"], i[\"User\"], i['Views']])"
   ]
  },
  {
   "cell_type": "code",
   "execution_count": null,
   "metadata": {
    "collapsed": true
   },
   "outputs": [],
   "source": [
    "import csv\n",
    "from datetime import datetime\n",
    "with open(\"index_data.csv\",\"w\") as file: \n",
    "    writer = csv.writer(file)\n",
    "    for i in my_data:\n",
    "        writer.writerow([i,my_data[i],datetime.now()])"
   ]
  },
  {
   "cell_type": "code",
   "execution_count": 98,
   "metadata": {
    "collapsed": false
   },
   "outputs": [
    {
     "ename": "NameError",
     "evalue": "name 'my_data' is not defined",
     "output_type": "error",
     "traceback": [
      "\u001b[0;31m---------------------------------------------------------------------------\u001b[0m",
      "\u001b[0;31mNameError\u001b[0m                                 Traceback (most recent call last)",
      "\u001b[0;32m<ipython-input-98-26c62fe0e8f4>\u001b[0m in \u001b[0;36m<module>\u001b[0;34m()\u001b[0m\n\u001b[1;32m      1\u001b[0m \u001b[1;31m# You may want to construct a pandas dataframe from the dictionary we had. the DataFrame.from_dict() functino from the pandas library might be useful.\u001b[0m\u001b[1;33m\u001b[0m\u001b[1;33m\u001b[0m\u001b[0m\n\u001b[1;32m      2\u001b[0m \u001b[1;32mimport\u001b[0m \u001b[0mpandas\u001b[0m \u001b[1;32mas\u001b[0m \u001b[0mpd\u001b[0m\u001b[1;33m\u001b[0m\u001b[0m\n\u001b[0;32m----> 3\u001b[0;31m \u001b[0mdata\u001b[0m \u001b[1;33m=\u001b[0m \u001b[0mpd\u001b[0m\u001b[1;33m.\u001b[0m\u001b[0mDataFrame\u001b[0m\u001b[1;33m.\u001b[0m\u001b[0mfrom_dict\u001b[0m\u001b[1;33m(\u001b[0m\u001b[0mmy_data\u001b[0m\u001b[1;33m,\u001b[0m\u001b[1;34m\"index\"\u001b[0m\u001b[1;33m)\u001b[0m\u001b[1;33m\u001b[0m\u001b[0m\n\u001b[0m\u001b[1;32m      4\u001b[0m \u001b[1;32mprint\u001b[0m\u001b[1;33m(\u001b[0m\u001b[0mdata\u001b[0m\u001b[1;33m)\u001b[0m\u001b[1;33m\u001b[0m\u001b[0m\n",
      "\u001b[0;31mNameError\u001b[0m: name 'my_data' is not defined"
     ]
    }
   ],
   "source": [
    "# You may want to construct a pandas dataframe from the dictionary we had. the DataFrame.from_dict() functino from the pandas library might be useful.\n",
    "import pandas as pd\n",
    "data = pd.DataFrame.from_dict(my_data,\"index\")\n",
    "print(data)"
   ]
  },
  {
   "cell_type": "code",
   "execution_count": null,
   "metadata": {
    "collapsed": true
   },
   "outputs": [],
   "source": [
    "#If you wanted to have dictionary keys as column names, you may transpose the dataframe as follows:\n",
    "data.transpose()\n",
    "\n",
    "#And of course, if we are dealing with pandas, we can easily save the dataframe to csv as follows.\n",
    "data.transpose().to_csv(\"index_dataframe.csv\")"
   ]
  },
  {
   "cell_type": "markdown",
   "metadata": {},
   "source": [
    "# Navigation"
   ]
  },
  {
   "cell_type": "markdown",
   "metadata": {},
   "source": [
    "# find / findAll\n",
    "# findNext / findAllNext\n",
    "# findPrevious / findAllPrevious\n",
    "# findNextSibling / findNextSiblings\n",
    "# findParent / findParents\n",
    "# findChild / findChildren"
   ]
  },
  {
   "cell_type": "code",
   "execution_count": 1,
   "metadata": {
    "collapsed": true
   },
   "outputs": [],
   "source": [
    "import requests\n",
    "from BeautifulSoup import *\n",
    "url = \"https://hrantdavtyan.github.io/\"\n",
    "response = requests.get(url)\n",
    "page = response.text\n",
    "soup = BeautifulSoup(page)"
   ]
  },
  {
   "cell_type": "code",
   "execution_count": 4,
   "metadata": {
    "collapsed": true
   },
   "outputs": [],
   "source": [
    "label_tags=soup.findAll('label')"
   ]
  },
  {
   "cell_type": "code",
   "execution_count": 5,
   "metadata": {
    "collapsed": false
   },
   "outputs": [
    {
     "name": "stdout",
     "output_type": "stream",
     "text": [
      "[<label>Name</label>, <label>Date of birth</label>, <label>Address</label>, <label>Email</label>, <label>Phone</label>, <label>Website</label>, <label for=\"name\">Your Name</label>, <label for=\"email\">Your Email</label>, <label for=\"message\">Your Message</label>]\n"
     ]
    }
   ],
   "source": [
    "print(label_tags)"
   ]
  },
  {
   "cell_type": "code",
   "execution_count": 7,
   "metadata": {
    "collapsed": false
   },
   "outputs": [
    {
     "name": "stdout",
     "output_type": "stream",
     "text": [
      "<label>Email</label>\n"
     ]
    }
   ],
   "source": [
    "mail = label_tags[3]\n",
    "print mail"
   ]
  },
  {
   "cell_type": "code",
   "execution_count": 9,
   "metadata": {
    "collapsed": false
   },
   "outputs": [
    {
     "name": "stdout",
     "output_type": "stream",
     "text": [
      "hdavtyan@aua.am\n"
     ]
    }
   ],
   "source": [
    "# navigating one tag forward and getting the text/string of it\n",
    "email = mail.findNext().text\n",
    "print email"
   ]
  },
  {
   "cell_type": "code",
   "execution_count": null,
   "metadata": {
    "collapsed": false
   },
   "outputs": [],
   "source": [
    "# the findAllNext() function, will get a list of all the following tags (with their contents), where the very first one will be the e-mail we were looking for.\n",
    "print(mail.findAllNext())"
   ]
  },
  {
   "cell_type": "code",
   "execution_count": 12,
   "metadata": {
    "collapsed": false
   },
   "outputs": [
    {
     "name": "stdout",
     "output_type": "stream",
     "text": [
      "hdavtyan@aua.am\n"
     ]
    }
   ],
   "source": [
    "# findNextSibling() is finding all the siblings that follow the current tag (trying to find the next tag which has the same level not next tag)\n",
    "email_sibling = mail.findNextSibling().text\n",
    "print email_sibling"
   ]
  },
  {
   "cell_type": "code",
   "execution_count": 13,
   "metadata": {
    "collapsed": false
   },
   "outputs": [
    {
     "name": "stdout",
     "output_type": "stream",
     "text": [
      "<li><label>Email</label><span>hdavtyan@aua.am</span></li>\n"
     ]
    }
   ],
   "source": [
    "#The findParent() function returns the whole parent tag and its content for the very forst parent of the current tag. FOr example, e-mail is included in a list, which means the direct parent is a <li> tag.\n",
    "email_parent = mail.findParent()\n",
    "print(email_parent)"
   ]
  },
  {
   "cell_type": "markdown",
   "metadata": {},
   "source": [
    "findParents() function will provide the list of all the parents until the top one (<html>) starting from the direct parent and ending the list with the oldest parent.\n",
    "\n",
    "The findChild() function follows the same intuition, yet, for our e-mail case it will not return anything, as the e-mail tag does not have any children\n",
    "\n",
    "findChildren() function follows the same intuition as findParents() function.\n",
    "\n",
    "A note: all this time, in order to get the text content, the .text method was used. The .string methods provides the same output too, yet there is a difference between them: while .text returns a unicode text, .string retunrs a navigatable string, which one can use to navigate backward/forward using the BeautifulSoup Navigation functions discussed above."
   ]
  },
  {
   "cell_type": "code",
   "execution_count": null,
   "metadata": {
    "collapsed": true
   },
   "outputs": [],
   "source": []
  }
 ],
 "metadata": {
  "kernelspec": {
   "display_name": "Python 2",
   "language": "python",
   "name": "python2"
  },
  "language_info": {
   "codemirror_mode": {
    "name": "ipython",
    "version": 2
   },
   "file_extension": ".py",
   "mimetype": "text/x-python",
   "name": "python",
   "nbconvert_exporter": "python",
   "pygments_lexer": "ipython2",
   "version": "2.7.13"
  }
 },
 "nbformat": 4,
 "nbformat_minor": 2
}
