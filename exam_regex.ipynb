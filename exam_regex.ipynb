{
 "cells": [
  {
   "cell_type": "code",
   "execution_count": 3,
   "metadata": {
    "collapsed": false
   },
   "outputs": [],
   "source": [
    "import re\n",
    "import requests"
   ]
  },
  {
   "cell_type": "code",
   "execution_count": 3,
   "metadata": {
    "collapsed": true
   },
   "outputs": [],
   "source": [
    "url = \"http://api.open-notify.org/astros.json\"\n",
    "respose = requests.get(url)"
   ]
  },
  {
   "cell_type": "code",
   "execution_count": 5,
   "metadata": {
    "collapsed": false
   },
   "outputs": [],
   "source": [
    "data = respose.json()\n",
    "#type is dic"
   ]
  },
  {
   "cell_type": "code",
   "execution_count": 7,
   "metadata": {
    "collapsed": false
   },
   "outputs": [
    {
     "name": "stdout",
     "output_type": "stream",
     "text": [
      "{u'message': u'success',\n",
      " u'number': 3,\n",
      " u'people': [{u'craft': u'ISS', u'name': u'Peggy Whitson'},\n",
      "             {u'craft': u'ISS', u'name': u'Fyodor Yurchikhin'},\n",
      "             {u'craft': u'ISS', u'name': u'Jack Fischer'}]}\n"
     ]
    }
   ],
   "source": [
    "from pprint import pprint\n",
    "pprint (data)"
   ]
  },
  {
   "cell_type": "code",
   "execution_count": 8,
   "metadata": {
    "collapsed": true
   },
   "outputs": [],
   "source": [
    "#Let's now move to RegEx. Regular expressions deal with text, however our dataset is a JSON file loaded to Python as a dictionary"
   ]
  },
  {
   "cell_type": "code",
   "execution_count": 9,
   "metadata": {
    "collapsed": true
   },
   "outputs": [],
   "source": [
    "converted = str(data)"
   ]
  },
  {
   "cell_type": "code",
   "execution_count": 10,
   "metadata": {
    "collapsed": true
   },
   "outputs": [],
   "source": [
    "output = re.findall(\"[0-9]\",converted)"
   ]
  },
  {
   "cell_type": "code",
   "execution_count": 11,
   "metadata": {
    "collapsed": false
   },
   "outputs": [
    {
     "name": "stdout",
     "output_type": "stream",
     "text": [
      "['3']\n"
     ]
    }
   ],
   "source": [
    "print(output)"
   ]
  },
  {
   "cell_type": "code",
   "execution_count": 13,
   "metadata": {
    "collapsed": false
   },
   "outputs": [],
   "source": [
    "output = re.findall(\"[A-Z][a-z]+\\s[A-Z][a-z]+\", converted)"
   ]
  },
  {
   "cell_type": "code",
   "execution_count": 14,
   "metadata": {
    "collapsed": false
   },
   "outputs": [
    {
     "name": "stdout",
     "output_type": "stream",
     "text": [
      "['Peggy Whitson', 'Fyodor Yurchikhin', 'Jack Fischer']\n"
     ]
    }
   ],
   "source": [
    "print(output)"
   ]
  },
  {
   "cell_type": "code",
   "execution_count": 17,
   "metadata": {
    "collapsed": false
   },
   "outputs": [
    {
     "name": "stdout",
     "output_type": "stream",
     "text": [
      "['This eBook is for the use of anyone anywhere at no cost and with\\n', 'almost no restrictions whatsoever.  You may copy it, give it away or\\n', 're-use it under the terms of the Project Gutenberg License included\\n', 'with this eBook or online at www.gutenberg.org\\n']\n"
     ]
    }
   ],
   "source": [
    "#read inf from downlouded file\n",
    "with open(\"financier.txt\",\"r\") as f:\n",
    "    financier = f.readlines()\n",
    "print financier[2:6]"
   ]
  },
  {
   "cell_type": "code",
   "execution_count": 18,
   "metadata": {
    "collapsed": false
   },
   "outputs": [
    {
     "name": "stdout",
     "output_type": "stream",
     "text": [
      "['$', '$', '$']\n"
     ]
    }
   ],
   "source": [
    "output = re.findall(\"\\$\", str(financier))\n",
    "print (output)"
   ]
  },
  {
   "cell_type": "code",
   "execution_count": 21,
   "metadata": {
    "collapsed": true
   },
   "outputs": [],
   "source": [
    "output = re.findall(\"(\\$\\S*)\\s\", str(financier))"
   ]
  },
  {
   "cell_type": "code",
   "execution_count": 22,
   "metadata": {
    "collapsed": false
   },
   "outputs": [
    {
     "name": "stdout",
     "output_type": "stream",
     "text": [
      "['$250,000', '$1', '$5,000)']\n"
     ]
    }
   ],
   "source": [
    "print(output)\n"
   ]
  },
  {
   "cell_type": "code",
   "execution_count": 24,
   "metadata": {
    "collapsed": false
   },
   "outputs": [
    {
     "name": "stdout",
     "output_type": "stream",
     "text": [
      "['$', '@', '@', '$', '$']\n"
     ]
    }
   ],
   "source": [
    "output = re.findall(\"(@|\\$)\",str(financier))\n",
    "print output"
   ]
  },
  {
   "cell_type": "code",
   "execution_count": 26,
   "metadata": {
    "collapsed": false
   },
   "outputs": [
    {
     "name": "stdout",
     "output_type": "stream",
     "text": [
      "['Euro', 'Euro', 'Euro', 'Euro', 'Euro', 'Euro', 'Euro', 'Euro', 'Euro', 'Euro', 'Euro', 'Euro', 'Euro', 'Euro', 'Euro']\n"
     ]
    }
   ],
   "source": [
    "# typed Euro with a capital letter or not. So we will have to search both. If we simply put () Python will think that's the text we need to receive. So we must explicitly mention (using ?:) that the text inside brackets is only for OR function, still not meaning that it is the only part of text we want to receive\n",
    "output = re.findall(\"(?:e|E)uro\", str(financier))\n",
    "print output"
   ]
  },
  {
   "cell_type": "code",
   "execution_count": 29,
   "metadata": {
    "collapsed": false
   },
   "outputs": [
    {
     "name": "stdout",
     "output_type": "stream",
     "text": [
      "['Euro', 'Euro', 'Euro', 'Euro', 'Euro', 'Euro', 'Euro', 'Euro', 'Euro', 'Euro', 'Euro', 'Euro', 'Euro', 'Euro', 'Euro']\n"
     ]
    }
   ],
   "source": [
    "output = re.findall(\"euro\", str(financier), re.IGNORECASE)\n",
    "print output"
   ]
  },
  {
   "cell_type": "code",
   "execution_count": 32,
   "metadata": {
    "collapsed": false
   },
   "outputs": [
    {
     "name": "stdout",
     "output_type": "stream",
     "text": [
      "['zoyaarshakyan@gmail.com']\n"
     ]
    }
   ],
   "source": [
    "#output = re.findall(\"\\S*@.+\", text) works as well\n",
    "text = \" my email is zoyaarshakyan@gmail.com\"\n",
    "output = re.findall(\"\\S+@.+\", text)\n",
    "print output"
   ]
  },
  {
   "cell_type": "code",
   "execution_count": 34,
   "metadata": {
    "collapsed": false
   },
   "outputs": [
    {
     "name": "stdout",
     "output_type": "stream",
     "text": [
      " my email is zoyaarshakyan@harvard.edu\n"
     ]
    }
   ],
   "source": [
    "# substitution \n",
    "print re.sub(r'(\\S+@)(.+)',r'\\1harvard.edu',text)"
   ]
  },
  {
   "cell_type": "code",
   "execution_count": 49,
   "metadata": {
    "collapsed": true
   },
   "outputs": [],
   "source": [
    "url_book = \"https://www.gutenberg.org/files/1840/1840-0.txt\"\n",
    "response_book = requests.get(url_book)"
   ]
  },
  {
   "cell_type": "code",
   "execution_count": 51,
   "metadata": {
    "collapsed": false
   },
   "outputs": [],
   "source": [
    "financier_online = response_book.text\n"
   ]
  },
  {
   "cell_type": "code",
   "execution_count": 52,
   "metadata": {
    "collapsed": false
   },
   "outputs": [
    {
     "data": {
      "text/plain": [
       "u'nyone anywhere at no cost and with\\r\\nalmost no restrictions whatsoever.  You may copy it, give it away or\\r'"
      ]
     },
     "execution_count": 52,
     "metadata": {},
     "output_type": "execute_result"
    }
   ],
   "source": [
    "financier_online[100:205]"
   ]
  },
  {
   "cell_type": "code",
   "execution_count": 42,
   "metadata": {
    "collapsed": false
   },
   "outputs": [
    {
     "data": {
      "text/plain": [
       "unicode"
      ]
     },
     "execution_count": 42,
     "metadata": {},
     "output_type": "execute_result"
    }
   ],
   "source": [
    "type(financier_online)"
   ]
  },
  {
   "cell_type": "code",
   "execution_count": 53,
   "metadata": {
    "collapsed": false
   },
   "outputs": [
    {
     "name": "stdout",
     "output_type": "stream",
     "text": [
      "[u'$', u'$', u'$']\n"
     ]
    }
   ],
   "source": [
    "output = re.findall (\"\\$\", financier_online)\n",
    "print output"
   ]
  },
  {
   "cell_type": "code",
   "execution_count": 55,
   "metadata": {
    "collapsed": false
   },
   "outputs": [
    {
     "name": "stdout",
     "output_type": "stream",
     "text": [
      "[u'business@pglaf.org.', u'gbnewby@pglaf.org']\n"
     ]
    }
   ],
   "source": [
    "output = re.findall(\"\\S+@\\S+\", financier_online)\n",
    "print output"
   ]
  },
  {
   "cell_type": "code",
   "execution_count": 4,
   "metadata": {
    "collapsed": false
   },
   "outputs": [
    {
     "name": "stdout",
     "output_type": "stream",
     "text": [
      "[u'<li><label>Email</label><span>hdavtyan@aua.am</span></li>', u'hdavtyan@aua.am</li>']\n"
     ]
    }
   ],
   "source": [
    "url_Hrant = \"https://hrantdavtyan.github.io/\"\n",
    "response_Hrant = requests.get(url_Hrant)\n",
    "page = response_Hrant.text\n",
    "output = re.findall(\"\\S+@\\S+\", page)\n",
    "print output"
   ]
  },
  {
   "cell_type": "code",
   "execution_count": 5,
   "metadata": {
    "collapsed": false
   },
   "outputs": [
    {
     "name": "stdout",
     "output_type": "stream",
     "text": [
      "[u'  Email  hdavtyan@aua.am  ', u'hdavtyan@aua.am ']\n"
     ]
    }
   ],
   "source": [
    "print re.sub(r'<.*?>',\" \",str(output))"
   ]
  },
  {
   "cell_type": "code",
   "execution_count": 6,
   "metadata": {
    "collapsed": false
   },
   "outputs": [
    {
     "name": "stdout",
     "output_type": "stream",
     "text": [
      "[u'  Email  hdavtyan@aua.am  ', u'hdavtyan@aua.am ']\n"
     ]
    }
   ],
   "source": [
    "print re.sub(r'<.+?>',\" \",str(output))"
   ]
  },
  {
   "cell_type": "code",
   "execution_count": 7,
   "metadata": {
    "collapsed": false
   },
   "outputs": [
    {
     "name": "stdout",
     "output_type": "stream",
     "text": [
      "[u' ']\n"
     ]
    }
   ],
   "source": [
    "#without ? cant find expration\n",
    "print re.sub(r'<.*>',\" \",str(output))"
   ]
  },
  {
   "cell_type": "code",
   "execution_count": 9,
   "metadata": {
    "collapsed": false
   },
   "outputs": [
    {
     "name": "stdout",
     "output_type": "stream",
     "text": [
      "[u'hdavtyan@aua.am', u'hdavtyan@aua.am']\n"
     ]
    }
   ],
   "source": [
    "page_no_tags = re.sub(r'<.*?>',\" \",page)\n",
    "print re.findall('\\S+@\\S+',page_no_tags)"
   ]
  },
  {
   "cell_type": "code",
   "execution_count": 10,
   "metadata": {
    "collapsed": false
   },
   "outputs": [
    {
     "name": "stdout",
     "output_type": "stream",
     "text": [
      "[u'#\" class=\"social-text', u'https://www.facebook.com/HrantDavtyan\" class=\"social-facebook', u'https://www.linkedin.com/in/hrantdavtyan\" class=\"social-in', u'#profile\" class=\"tab-profile', u'#resume\" class=\"tab-resume', u'#portfolio\" class=\"tab-portfolio', u'#contact\" class=\"tab-contact', u'http://aua.am/', u'http://isifa.am/en/ifa-dfi/', u'https://www.cerge-ei.cz/', u'http://www.fao.org/armenia/en/', u'http://www.metric.am/', u'http://ahpc.am/?lang=en', u'http://www.ucl.ac.uk/', u'http://iset.tsu.ge/', u'\" class=\"current\" data-filter=\"*', u'\" data-filter=\".statistics', u'\" data-filter=\".programming', u'\" data-filter=\".teaching', u'\" data-filter=\".survey', u'\" data-filter=\".other', u'https://github.com/HrantDavtyan/HrantDavtyan.github.io\\\\teaching\\\\jdocs\\\\Business Analytics\\\\html\\\\index.html\" rel=\"portfolio\" target=\"_new', u'http://clearwaterbeachassoc.com/wp-content/uploads/2016/01/Under-construction.png\" title=\"Damage and Loss calculator\" rel=\"portfolio\" class=\"folio', u'http://www.armstat.am/en/?nid=661\" rel=\"portfolio\" class=\"folio iframe', u'http://clearwaterbeachassoc.com/wp-content/uploads/2016/01/Under-construction.png\" rel=\"portfolio\" class=\"folio', u'http://clearwaterbeachassoc.com/wp-content/uploads/2016/01/Under-construction.png\" rel=\"portfolio\" class=\"folio', u'http://clearwaterbeachassoc.com/wp-content/uploads/2016/01/Under-construction.png\" rel=\"portfolio\" class=\"folio', u'http://clearwaterbeachassoc.com/wp-content/uploads/2016/01/Under-construction.png\" rel=\"portfolio\" class=\"folio', u'http://clearwaterbeachassoc.com/wp-content/uploads/2016/01/Under-construction.png\" rel=\"portfolio\" class=\"folio']\n"
     ]
    }
   ],
   "source": [
    "output = re.findall('<a href\\s*=\\s*\"(.+)\"\\s*>',page)\n",
    "print output"
   ]
  },
  {
   "cell_type": "code",
   "execution_count": 12,
   "metadata": {
    "collapsed": false
   },
   "outputs": [
    {
     "name": "stdout",
     "output_type": "stream",
     "text": [
      "[u'http://aua.am/', u'http://isifa.am/en/ifa-dfi/', u'https://www.cerge-ei.cz/', u'http://www.fao.org/armenia/en/', u'http://www.metric.am/', u'http://ahpc.am/?lang=en', u'http://www.ucl.ac.uk/', u'http://iset.tsu.ge/']\n"
     ]
    }
   ],
   "source": [
    "output = re.findall(r'<a href\\s*=\\s*\"(\\S+)\"\\s*>',page)\n",
    "print output"
   ]
  },
  {
   "cell_type": "code",
   "execution_count": 17,
   "metadata": {
    "collapsed": false
   },
   "outputs": [
    {
     "name": "stdout",
     "output_type": "stream",
     "text": [
      "[u'#', u'https://www.facebook.com/HrantDavtyan', u'https://www.linkedin.com/in/hrantdavtyan', u'#profile', u'#resume', u'#portfolio', u'#contact', u'http://aua.am/', u'http://isifa.am/en/ifa-dfi/', u'https://www.cerge-ei.cz/', u'http://www.fao.org/armenia/en/', u'http://www.metric.am/', u'http://ahpc.am/?lang=en', u'http://www.ucl.ac.uk/', u'http://iset.tsu.ge/', u'http://clearwaterbeachassoc.com/wp-content/uploads/2016/01/Under-construction.png', u'http://www.armstat.am/en/?nid=661', u'http://clearwaterbeachassoc.com/wp-content/uploads/2016/01/Under-construction.png', u'http://clearwaterbeachassoc.com/wp-content/uploads/2016/01/Under-construction.png', u'http://clearwaterbeachassoc.com/wp-content/uploads/2016/01/Under-construction.png', u'http://clearwaterbeachassoc.com/wp-content/uploads/2016/01/Under-construction.png', u'http://clearwaterbeachassoc.com/wp-content/uploads/2016/01/Under-construction.png']\n"
     ]
    }
   ],
   "source": [
    "output = re.findall(r'<a href\\s*=\\s*\"(\\S+)\".*>',page)\n",
    "print output"
   ]
  },
  {
   "cell_type": "markdown",
   "metadata": {},
   "source": [
    "S&P value"
   ]
  },
  {
   "cell_type": "code",
   "execution_count": 6,
   "metadata": {
    "collapsed": false
   },
   "outputs": [
    {
     "name": "stdout",
     "output_type": "stream",
     "text": [
      "[u'2,456.95']\n"
     ]
    }
   ],
   "source": [
    "import re\n",
    "import requests\n",
    "\n",
    "url = \"https://www.bloomberg.com/quote/SPX:IND\"\n",
    "response = requests.get(url)\n",
    "data = response.text\n",
    "output = re.findall('class=\"price\">(\\S+)</',data)\n",
    "output = re.findall('class\\s*=\\s*\"price\"\\s*>\\s*(\\S+)</',data) #same result\n",
    "print output"
   ]
  },
  {
   "cell_type": "code",
   "execution_count": null,
   "metadata": {
    "collapsed": true
   },
   "outputs": [],
   "source": []
  }
 ],
 "metadata": {
  "kernelspec": {
   "display_name": "Python 2",
   "language": "python",
   "name": "python2"
  },
  "language_info": {
   "codemirror_mode": {
    "name": "ipython",
    "version": 2
   },
   "file_extension": ".py",
   "mimetype": "text/x-python",
   "name": "python",
   "nbconvert_exporter": "python",
   "pygments_lexer": "ipython2",
   "version": "2.7.13"
  }
 },
 "nbformat": 4,
 "nbformat_minor": 2
}
