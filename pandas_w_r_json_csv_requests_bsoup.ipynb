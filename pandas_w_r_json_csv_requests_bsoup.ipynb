{
 "cells": [
  {
   "cell_type": "code",
   "execution_count": 17,
   "metadata": {
    "collapsed": true
   },
   "outputs": [],
   "source": [
    "name = 'Zoya'"
   ]
  },
  {
   "cell_type": "code",
   "execution_count": 38,
   "metadata": {
    "collapsed": true
   },
   "outputs": [],
   "source": [
    "surename = \"Arshakyan\""
   ]
  },
  {
   "cell_type": "code",
   "execution_count": 5,
   "metadata": {
    "collapsed": false
   },
   "outputs": [
    {
     "data": {
      "text/plain": [
       "'Zoya  Arshakyan'"
      ]
     },
     "execution_count": 5,
     "metadata": {},
     "output_type": "execute_result"
    }
   ],
   "source": [
    "name + \"  \" + surename"
   ]
  },
  {
   "cell_type": "code",
   "execution_count": 6,
   "metadata": {
    "collapsed": true
   },
   "outputs": [],
   "source": [
    "x = 6"
   ]
  },
  {
   "cell_type": "code",
   "execution_count": 7,
   "metadata": {
    "collapsed": false
   },
   "outputs": [
    {
     "data": {
      "text/plain": [
       "int"
      ]
     },
     "execution_count": 7,
     "metadata": {},
     "output_type": "execute_result"
    }
   ],
   "source": [
    "type(x)"
   ]
  },
  {
   "cell_type": "code",
   "execution_count": 8,
   "metadata": {
    "collapsed": true
   },
   "outputs": [],
   "source": [
    "number_str = str(x)"
   ]
  },
  {
   "cell_type": "code",
   "execution_count": 9,
   "metadata": {
    "collapsed": false
   },
   "outputs": [
    {
     "name": "stdout",
     "output_type": "stream",
     "text": [
      "6\n"
     ]
    }
   ],
   "source": [
    "print (str(x))"
   ]
  },
  {
   "cell_type": "code",
   "execution_count": 10,
   "metadata": {
    "collapsed": false
   },
   "outputs": [
    {
     "data": {
      "text/plain": [
       "str"
      ]
     },
     "execution_count": 10,
     "metadata": {},
     "output_type": "execute_result"
    }
   ],
   "source": [
    "type(str(x))"
   ]
  },
  {
   "cell_type": "code",
   "execution_count": 12,
   "metadata": {
    "collapsed": false
   },
   "outputs": [
    {
     "data": {
      "text/plain": [
       "'6 Zoya'"
      ]
     },
     "execution_count": 12,
     "metadata": {},
     "output_type": "execute_result"
    }
   ],
   "source": [
    "number_str + \" \" + name"
   ]
  },
  {
   "cell_type": "code",
   "execution_count": 15,
   "metadata": {
    "collapsed": false
   },
   "outputs": [
    {
     "data": {
      "text/plain": [
       "'Zoya Arshakyan Zoya Arshakyan '"
      ]
     },
     "execution_count": 15,
     "metadata": {},
     "output_type": "execute_result"
    }
   ],
   "source": [
    "2*(name +  \" \" + surename+ \" \")"
   ]
  },
  {
   "cell_type": "code",
   "execution_count": 3,
   "metadata": {
    "collapsed": true
   },
   "outputs": [],
   "source": [
    "list = [\"one\", \"two\"]"
   ]
  },
  {
   "cell_type": "code",
   "execution_count": 4,
   "metadata": {
    "collapsed": true
   },
   "outputs": [],
   "source": [
    "list.append('tree')"
   ]
  },
  {
   "cell_type": "code",
   "execution_count": 5,
   "metadata": {
    "collapsed": false
   },
   "outputs": [
    {
     "name": "stdout",
     "output_type": "stream",
     "text": [
      "['one', 'two', 'tree']\n"
     ]
    }
   ],
   "source": [
    "print (list)"
   ]
  },
  {
   "cell_type": "code",
   "execution_count": 6,
   "metadata": {
    "collapsed": false
   },
   "outputs": [
    {
     "data": {
      "text/plain": [
       "3"
      ]
     },
     "execution_count": 6,
     "metadata": {},
     "output_type": "execute_result"
    }
   ],
   "source": [
    "len(list)"
   ]
  },
  {
   "cell_type": "code",
   "execution_count": 7,
   "metadata": {
    "collapsed": false
   },
   "outputs": [
    {
     "data": {
      "text/plain": [
       "'tree'"
      ]
     },
     "execution_count": 7,
     "metadata": {},
     "output_type": "execute_result"
    }
   ],
   "source": [
    "list[-1]"
   ]
  },
  {
   "cell_type": "code",
   "execution_count": 10,
   "metadata": {
    "collapsed": false
   },
   "outputs": [
    {
     "data": {
      "text/plain": [
       "['one', 'two']"
      ]
     },
     "execution_count": 10,
     "metadata": {},
     "output_type": "execute_result"
    }
   ],
   "source": [
    "list[0:2]"
   ]
  },
  {
   "cell_type": "code",
   "execution_count": 13,
   "metadata": {
    "collapsed": false
   },
   "outputs": [],
   "source": [
    "dic= {'name':\"zoya\", 'surename':\"arshakyan\"}"
   ]
  },
  {
   "cell_type": "code",
   "execution_count": 14,
   "metadata": {
    "collapsed": false
   },
   "outputs": [
    {
     "name": "stdout",
     "output_type": "stream",
     "text": [
      "{'surename': 'arshakyan', 'name': 'zoya'}\n"
     ]
    }
   ],
   "source": [
    "print dic\n"
   ]
  },
  {
   "cell_type": "code",
   "execution_count": 15,
   "metadata": {
    "collapsed": false
   },
   "outputs": [
    {
     "data": {
      "text/plain": [
       "'zoya'"
      ]
     },
     "execution_count": 15,
     "metadata": {},
     "output_type": "execute_result"
    }
   ],
   "source": [
    "dic[\"name\"]"
   ]
  },
  {
   "cell_type": "code",
   "execution_count": 23,
   "metadata": {
    "collapsed": false
   },
   "outputs": [
    {
     "name": "stdout",
     "output_type": "stream",
     "text": [
      "true\n"
     ]
    }
   ],
   "source": [
    "if name == \"Zoya\":\n",
    "    print (\"true\")\n",
    "else:\n",
    "    print (\"nottrue\")\n"
   ]
  },
  {
   "cell_type": "code",
   "execution_count": 26,
   "metadata": {
    "collapsed": false
   },
   "outputs": [
    {
     "name": "stdout",
     "output_type": "stream",
     "text": [
      "one\n",
      "two\n",
      "tree\n"
     ]
    }
   ],
   "source": [
    "for i in list:\n",
    "    print (i)"
   ]
  },
  {
   "cell_type": "code",
   "execution_count": 27,
   "metadata": {
    "collapsed": false
   },
   "outputs": [
    {
     "name": "stdout",
     "output_type": "stream",
     "text": [
      "tree\n"
     ]
    }
   ],
   "source": [
    "print (i)"
   ]
  },
  {
   "cell_type": "code",
   "execution_count": 30,
   "metadata": {
    "collapsed": false
   },
   "outputs": [
    {
     "data": {
      "text/plain": [
       "[0, 1, 2]"
      ]
     },
     "execution_count": 30,
     "metadata": {},
     "output_type": "execute_result"
    }
   ],
   "source": [
    "range(len(list))"
   ]
  },
  {
   "cell_type": "code",
   "execution_count": 32,
   "metadata": {
    "collapsed": false
   },
   "outputs": [
    {
     "name": "stdout",
     "output_type": "stream",
     "text": [
      "one\n",
      "two\n",
      "tree\n"
     ]
    }
   ],
   "source": [
    "for i in range(3):\n",
    "    print (list[i])"
   ]
  },
  {
   "cell_type": "code",
   "execution_count": 33,
   "metadata": {
    "collapsed": true
   },
   "outputs": [],
   "source": [
    "import numpy"
   ]
  },
  {
   "cell_type": "code",
   "execution_count": 35,
   "metadata": {
    "collapsed": false
   },
   "outputs": [
    {
     "data": {
      "text/plain": [
       "12.0"
      ]
     },
     "execution_count": 35,
     "metadata": {},
     "output_type": "execute_result"
    }
   ],
   "source": [
    "numpy.sqrt(144)"
   ]
  },
  {
   "cell_type": "code",
   "execution_count": 36,
   "metadata": {
    "collapsed": false
   },
   "outputs": [
    {
     "data": {
      "text/plain": [
       "2.4849066497880004"
      ]
     },
     "execution_count": 36,
     "metadata": {},
     "output_type": "execute_result"
    }
   ],
   "source": [
    "numpy.log(12)"
   ]
  },
  {
   "cell_type": "markdown",
   "metadata": {},
   "source": [
    "starts with 3 element (0,1,2) till the end"
   ]
  },
  {
   "cell_type": "code",
   "execution_count": 39,
   "metadata": {
    "collapsed": false
   },
   "outputs": [
    {
     "data": {
      "text/plain": [
       "'shakyan'"
      ]
     },
     "execution_count": 39,
     "metadata": {},
     "output_type": "execute_result"
    }
   ],
   "source": [
    "surename[2:]"
   ]
  },
  {
   "cell_type": "markdown",
   "metadata": {},
   "source": [
    "include first number exclude last"
   ]
  },
  {
   "cell_type": "code",
   "execution_count": 40,
   "metadata": {
    "collapsed": false
   },
   "outputs": [
    {
     "data": {
      "text/plain": [
       "'sh'"
      ]
     },
     "execution_count": 40,
     "metadata": {},
     "output_type": "execute_result"
    }
   ],
   "source": [
    "surename[2:4]"
   ]
  },
  {
   "cell_type": "code",
   "execution_count": 42,
   "metadata": {
    "collapsed": false
   },
   "outputs": [
    {
     "name": "stdout",
     "output_type": "stream",
     "text": [
      "Zshakyan\n"
     ]
    }
   ],
   "source": [
    "new_name = \"Z\" + surename[2:]\n",
    "print (new_name)"
   ]
  },
  {
   "cell_type": "code",
   "execution_count": 1,
   "metadata": {
    "collapsed": true
   },
   "outputs": [],
   "source": [
    "from __future__ import division"
   ]
  },
  {
   "cell_type": "code",
   "execution_count": 2,
   "metadata": {
    "collapsed": false
   },
   "outputs": [
    {
     "data": {
      "text/plain": [
       "1.5"
      ]
     },
     "execution_count": 2,
     "metadata": {},
     "output_type": "execute_result"
    }
   ],
   "source": [
    "6/4"
   ]
  },
  {
   "cell_type": "markdown",
   "metadata": {},
   "source": [
    "def is used to define a function.\n",
    "\n",
    "A function should either return some value, or print it."
   ]
  },
  {
   "cell_type": "code",
   "execution_count": 10,
   "metadata": {
    "collapsed": true
   },
   "outputs": [],
   "source": [
    "def superly(noun):\n",
    "    if len(noun)==4:\n",
    "        return noun\n",
    "    elif len(noun)==5:\n",
    "        return \"super\" + noun\n",
    "    elif len(noun) > 5:\n",
    "        return noun + \"ly\"\n",
    "    else: \n",
    "        return \"small\""
   ]
  },
  {
   "cell_type": "code",
   "execution_count": 15,
   "metadata": {
    "collapsed": false
   },
   "outputs": [
    {
     "data": {
      "text/plain": [
       "'badedaly'"
      ]
     },
     "execution_count": 15,
     "metadata": {},
     "output_type": "execute_result"
    }
   ],
   "source": [
    "superly(\"badeda\")"
   ]
  },
  {
   "cell_type": "code",
   "execution_count": 16,
   "metadata": {
    "collapsed": true
   },
   "outputs": [],
   "source": [
    "import pandas_datareader.data as web"
   ]
  },
  {
   "cell_type": "markdown",
   "metadata": {},
   "source": [
    "The DataReader function provides the data on stocks available in Google/Yahoo! finance"
   ]
  },
  {
   "cell_type": "code",
   "execution_count": null,
   "metadata": {
    "collapsed": true
   },
   "outputs": [],
   "source": [
    "data = web.DataReader(\"IBM\",\"google\")"
   ]
  },
  {
   "cell_type": "code",
   "execution_count": null,
   "metadata": {
    "collapsed": true
   },
   "outputs": [],
   "source": [
    "data.head()\n",
    "data.tail()\n"
   ]
  },
  {
   "cell_type": "markdown",
   "metadata": {},
   "source": [
    "type of data is pandas.core.frame.DataFrame\n"
   ]
  },
  {
   "cell_type": "code",
   "execution_count": null,
   "metadata": {
    "collapsed": true
   },
   "outputs": [],
   "source": [
    "# data[\"column name\"] \n",
    "data[\"Open\"]\n",
    "data[\"2015-01-01\":\"2016-01-01\"]"
   ]
  },
  {
   "cell_type": "code",
   "execution_count": null,
   "metadata": {
    "collapsed": true
   },
   "outputs": [],
   "source": [
    "import matplotlib.plt as plt\n",
    "plt.plot(data[\"High\"])\n",
    "plt.show()"
   ]
  },
  {
   "cell_type": "code",
   "execution_count": 3,
   "metadata": {
    "collapsed": false
   },
   "outputs": [
    {
     "name": "stdout",
     "output_type": "stream",
     "text": [
      "numbers3, 5, 7\n",
      "5.0\n"
     ]
    }
   ],
   "source": [
    "numbers = input ( \"numbers\" )\n",
    "def average (numbers):\n",
    "    return float(sum(numbers))/float(len(numbers))\n",
    "print average(numbers)"
   ]
  },
  {
   "cell_type": "code",
   "execution_count": 9,
   "metadata": {
    "collapsed": false
   },
   "outputs": [
    {
     "name": "stdout",
     "output_type": "stream",
     "text": [
      "numbers3, 5, 7\n",
      "one number2\n",
      "6.0\n"
     ]
    }
   ],
   "source": [
    "numbers = input ( \"numbers\" )\n",
    "occurancy = input (\"one number\")\n",
    "def average1 (numbers, occurancy):\n",
    "    return float(sum(numbers[-occurancy:]))/float(len(numbers[-occurancy:]))\n",
    "print average1(numbers, occurancy)"
   ]
  },
  {
   "cell_type": "markdown",
   "metadata": {},
   "source": [
    "to genarate random number"
   ]
  },
  {
   "cell_type": "code",
   "execution_count": 14,
   "metadata": {
    "collapsed": true
   },
   "outputs": [],
   "source": [
    "import random"
   ]
  },
  {
   "cell_type": "code",
   "execution_count": 16,
   "metadata": {
    "collapsed": false
   },
   "outputs": [
    {
     "name": "stdout",
     "output_type": "stream",
     "text": [
      "91\n",
      "WIN\n"
     ]
    }
   ],
   "source": [
    "number = random.randint(1,100)\n",
    "def generator(number):\n",
    "    if 50 < number < 100:\n",
    "        return \"WIN\"\n",
    "    elif 50 >= number >=1:\n",
    "        return \"Loss\"\n",
    "    else:\n",
    "        return \"Drow\"\n",
    "print (number)\n",
    "print generator(number)"
   ]
  },
  {
   "cell_type": "markdown",
   "metadata": {},
   "source": [
    "Create a list of 3 stocks [\"IBM\",\"AAPL\",\"MSFT\"]). Create a for loop that will iterate over the list, get the data of relevant stock and print the first 7 rows of the data."
   ]
  },
  {
   "cell_type": "code",
   "execution_count": 17,
   "metadata": {
    "collapsed": false
   },
   "outputs": [
    {
     "name": "stdout",
     "output_type": "stream",
     "text": [
      "              Open    High     Low   Close   Volume\n",
      "Date                                               \n",
      "2010-01-04  131.18  132.97  130.85  132.45  6155846\n",
      "2010-01-05  131.68  131.85  130.10  130.85  6842471\n",
      "2010-01-06  130.68  131.49  129.81  130.00  5605290\n",
      "2010-01-07  129.87  130.25  128.91  129.55  5840569\n",
      "2010-01-08  129.07  130.92  129.05  130.85  4197105\n",
      "2010-01-11  131.06  131.06  128.67  129.48  5731177\n",
      "2010-01-12  129.03  131.33  129.00  130.51  8083354\n",
      "             Open   High    Low  Close     Volume\n",
      "Date                                             \n",
      "2010-01-04  30.49  30.64  30.34  30.57  123432050\n",
      "2010-01-05  30.66  30.80  30.46  30.63  150476004\n",
      "2010-01-06  30.63  30.75  30.11  30.14  138039594\n",
      "2010-01-07  30.25  30.29  29.86  30.08  119282324\n",
      "2010-01-08  30.04  30.29  29.87  30.28  111969081\n",
      "2010-01-11  30.40  30.43  29.78  30.02  115557365\n",
      "2010-01-12  29.88  29.97  29.49  29.67  148614774\n",
      "             Open   High    Low  Close    Volume\n",
      "Date                                            \n",
      "2010-01-04  30.62  31.10  30.59  30.95  38414185\n",
      "2010-01-05  30.85  31.10  30.64  30.96  49758862\n",
      "2010-01-06  30.88  31.08  30.52  30.77  58182332\n",
      "2010-01-07  30.63  30.70  30.19  30.45  50564285\n",
      "2010-01-08  30.28  30.88  30.24  30.66  51201289\n",
      "2010-01-11  30.71  30.76  30.12  30.27  68754648\n",
      "2010-01-12  30.15  30.40  29.91  30.07  65913228\n"
     ]
    }
   ],
   "source": [
    "import pandas_datareader.data as web\n",
    "stock_list=[\"IBM\",\"AAPL\",\"MSFT\"]\n",
    "for i in stock_list:\n",
    "    data = web.DataReader(i, \"google\")\n",
    "    print data.head(7)"
   ]
  },
  {
   "cell_type": "code",
   "execution_count": 24,
   "metadata": {
    "collapsed": false
   },
   "outputs": [
    {
     "data": {
      "image/png": "[encoded data removed]",
      "text/plain": [
       "<matplotlib.figure.Figure at 0x9ab8ef0>"
      ]
     },
     "metadata": {},
     "output_type": "display_data"
    },
    {
     "data": {
      "image/png": "[encoded data removed]",
      "text/plain": [
       "<matplotlib.figure.Figure at 0xae06a20>"
      ]
     },
     "metadata": {},
     "output_type": "display_data"
    },
    {
     "data": {
      "image/png": "[encoded data removed]",
      "text/plain": [
       "<matplotlib.figure.Figure at 0xae062b0>"
      ]
     },
     "metadata": {},
     "output_type": "display_data"
    },
    {
     "data": {
      "image/png": "[encoded data removed]",
      "text/plain": [
       "<matplotlib.figure.Figure at 0xb1e9470>"
      ]
     },
     "metadata": {},
     "output_type": "display_data"
    },
    {
     "data": {
      "image/png": "[encoded data removed]",
      "text/plain": [
       "<matplotlib.figure.Figure at 0xb64c6d8>"
      ]
     },
     "metadata": {},
     "output_type": "display_data"
    },
    {
     "data": {
      "image/png": "[encoded data removed]",
      "text/plain": [
       "<matplotlib.figure.Figure at 0x606bc88>"
      ]
     },
     "metadata": {},
     "output_type": "display_data"
    },
    {
     "data": {
      "image/png": "[encoded data removed]",
      "text/plain": [
       "<matplotlib.figure.Figure at 0xb8ea128>"
      ]
     },
     "metadata": {},
     "output_type": "display_data"
    },
    {
     "data": {
      "image/png": "[encoded data removed]",
      "text/plain": [
       "<matplotlib.figure.Figure at 0xb66bf28>"
      ]
     },
     "metadata": {},
     "output_type": "display_data"
    }
   ],
   "source": [
    "#iterate over the list, get the data and plot it.\n",
    "import matplotlib.pyplot as plt\n",
    "stock_list=[\"IBM\",\"AAPL\",\"MSFT\"]\n",
    "for i in stock_list:\n",
    "    data = web.DataReader(i, \"google\")\n",
    "    plt.plot(data[\"Open\"])\n",
    "plt.show()\n",
    "    "
   ]
  },
  {
   "cell_type": "code",
   "execution_count": 25,
   "metadata": {
    "collapsed": false
   },
   "outputs": [
    {
     "data": {
      "image/png": "[encoded data removed]",
      "text/plain": [
       "<matplotlib.figure.Figure at 0xb5e7f60>"
      ]
     },
     "metadata": {},
     "output_type": "display_data"
    }
   ],
   "source": [
    "import pandas_datareader.data as web\n",
    "import matplotlib.pyplot as plt\n",
    "stock_list = [\"IBM\",\"AAPL\",\"MSFT\"]\n",
    "for stock in stock_list:\n",
    "    data = web.DataReader(stock,\"google\")\n",
    "    plt.plot(data[\"Open\"])\n",
    "plt.show()"
   ]
  },
  {
   "cell_type": "markdown",
   "metadata": {},
   "source": [
    "\"r\" - Read mode which is used when the file is only being read, this is the default value of the argument, if it is not explicitly declared,\n",
    "\"w\" - Write mode which is used to edit and write new information to the file (any existing files with the same name will be erased when this mode is activated),\n",
    "\"a\" - Appending mode, which is used to add new data to the end of the file; that is new information is automatically amended to the end,\n",
    "\"r+\" - Special read and write mode, which is used to handle both actions when working with a file"
   ]
  },
  {
   "cell_type": "code",
   "execution_count": null,
   "metadata": {
    "collapsed": true
   },
   "outputs": [],
   "source": [
    "#writing mode\n",
    "lyrics = \"Imagine all the people, \\nliving life in peace... \\n\\tJohn Lennon\"\n",
    "our_file = open(\"imagine_lyrics.txt\",\"w\")\n",
    "our_file.write(\"Imagine by John Lennon\")\n",
    "our_file.write(lyrics)\n",
    "\n",
    "#reading mode\n",
    "lyrics_imported = open(\"imagine_lyrics.txt\",\"r\")\n",
    "lyrics_imported.read()\n",
    "\n",
    "#If you give any integer as an argument to read() function, then it will return only that much very first characters of the string (e.g. read(7) would return \"Imagine\", while read(4) would return \"Imag\").\n",
    "lyrics_imported.readlines()\n",
    "# return lines in []\n",
    "\n",
    "# Once verything is done, we should remember to close the file down.\n",
    "lyrics_imported.close()\n",
    "\n",
    "#automatically closing files\n",
    "with open(\"imagine_lyrics.txt\",\"r\") as data_imported:\n",
    "    data = data_imported.readlines()"
   ]
  },
  {
   "cell_type": "code",
   "execution_count": null,
   "metadata": {
    "collapsed": true
   },
   "outputs": [],
   "source": [
    "#Reading and Writing files using PANDAS\n",
    "\n",
    "import pandas as pd\n",
    "data_csv = pd.read_csv(\"titanic.csv\")\n",
    "data_csv.head()\n",
    "data_txt = pd.read_csv(\"imagine_lyrics.txt\", sep=\" \")\n",
    "\n",
    "#html with direct content, Now, the head() function can no longer be used, as our data is saved as a list, rather than a dataframe. \n",
    "\n",
    "data_html = pd.read_html(\"https://careercenter.am/ccidxann.php\")\n",
    "#in this case we separete data by colums\n",
    "\n",
    "#we can use pandas to read JSON file giving the adress of json file \n",
    "address = \"C:\\Data_scraping\\JSON\\sample_data.json\"\n",
    "json_data = pd.read_json(address)\n",
    "json_data.head()\n",
    "\n",
    "#writing to files\n",
    "\n",
    "data = data_html[0][1]\n",
    "data.to_csv(\"careercenter_data.csv\")\n",
    "data.to_excel"
   ]
  },
  {
   "cell_type": "markdown",
   "metadata": {},
   "source": [
    "JSON files\n"
   ]
  },
  {
   "cell_type": "markdown",
   "metadata": {},
   "source": [
    "JSON documents are very popular file format and you may always see them when getting a response from an API. \n",
    "JSON documents is nothing else than a list of two dictionaires with 3 keys each"
   ]
  },
  {
   "cell_type": "code",
   "execution_count": 26,
   "metadata": {
    "collapsed": true
   },
   "outputs": [],
   "source": [
    "import json\n",
    "input = '''[{\"id\":\"01\",\"name\":\"zoya\",\"status\":\"student\"},{\"id\":\"02\",\"name\":\"anush\",\"status\":\"starter\"}]'''"
   ]
  },
  {
   "cell_type": "markdown",
   "metadata": {},
   "source": [
    "Once we have the string, we can use the abovementioned loads() function from the JSON package to convert the string variable into JSON. Please note, that there is another similar function called load() (without s), which does the same but for local files, rather than a string variable inside Python. Thus, as we have a string variable to load, the correct function will be loads()."
   ]
  },
  {
   "cell_type": "code",
   "execution_count": 27,
   "metadata": {
    "collapsed": true
   },
   "outputs": [],
   "source": [
    "data = json.loads(input)\n",
    "# type is list, a list that have 2 dictionaire elements."
   ]
  },
  {
   "cell_type": "code",
   "execution_count": null,
   "metadata": {
    "collapsed": true
   },
   "outputs": [],
   "source": [
    "#Let's count how many users we have information on in our list (i.e. we have 2 dictionaires so basically we already know the answer).\n",
    "print 'User count:', len(data)"
   ]
  },
  {
   "cell_type": "code",
   "execution_count": 28,
   "metadata": {
    "collapsed": false
   },
   "outputs": [
    {
     "name": "stdout",
     "output_type": "stream",
     "text": [
      "[{u'status': u'student', u'id': u'01', u'name': u'zoya'}, {u'status': u'starter', u'id': u'02', u'name': u'anush'}]\n"
     ]
    }
   ],
   "source": [
    "print (data)"
   ]
  },
  {
   "cell_type": "code",
   "execution_count": null,
   "metadata": {
    "collapsed": true
   },
   "outputs": [],
   "source": [
    "from pprint import pprint\n",
    "pprint data\n",
    "# nice version"
   ]
  },
  {
   "cell_type": "code",
   "execution_count": 31,
   "metadata": {
    "collapsed": false
   },
   "outputs": [
    {
     "name": "stdout",
     "output_type": "stream",
     "text": [
      "Name:  zoya\n",
      "Status:  student\n",
      "ID:  01 \n",
      "\n",
      "Name:  anush\n",
      "Status:  starter\n",
      "ID:  02 \n",
      "\n"
     ]
    }
   ],
   "source": [
    "for i in data:\n",
    "    print \"Name: \", i[\"name\"]\n",
    "    print \"Status: \", i['status']\n",
    "    print \"ID: \", i[\"id\"] , \"\\n\""
   ]
  },
  {
   "cell_type": "code",
   "execution_count": 32,
   "metadata": {
    "collapsed": false
   },
   "outputs": [
    {
     "data": {
      "text/plain": [
       "u'zoya'"
      ]
     },
     "execution_count": 32,
     "metadata": {},
     "output_type": "execute_result"
    }
   ],
   "source": [
    "data[0][\"name\"]"
   ]
  },
  {
   "cell_type": "code",
   "execution_count": 33,
   "metadata": {
    "collapsed": false
   },
   "outputs": [
    {
     "data": {
      "text/plain": [
       "u'02'"
      ]
     },
     "execution_count": 33,
     "metadata": {},
     "output_type": "execute_result"
    }
   ],
   "source": [
    "data[1][\"id\"]"
   ]
  },
  {
   "cell_type": "markdown",
   "metadata": {},
   "source": [
    "Using with open()"
   ]
  },
  {
   "cell_type": "code",
   "execution_count": 3,
   "metadata": {
    "collapsed": false
   },
   "outputs": [
    {
     "ename": "IOError",
     "evalue": "[Errno 2] No such file or directory: 'C:\\\\Data_scraping\\\\JSON\\\\sample.json'",
     "output_type": "error",
     "traceback": [
      "\u001b[0;31m---------------------------------------------------------------------------\u001b[0m",
      "\u001b[0;31mIOError\u001b[0m                                   Traceback (most recent call last)",
      "\u001b[0;32m<ipython-input-3-7c70adf85427>\u001b[0m in \u001b[0;36m<module>\u001b[0;34m()\u001b[0m\n\u001b[1;32m      1\u001b[0m \u001b[1;32mimport\u001b[0m \u001b[0mjson\u001b[0m\u001b[1;33m\u001b[0m\u001b[0m\n\u001b[1;32m      2\u001b[0m \u001b[0maddress\u001b[0m \u001b[1;33m=\u001b[0m \u001b[1;34m\"C:\\Data_scraping\\JSON\\sample.json\"\u001b[0m\u001b[1;33m\u001b[0m\u001b[0m\n\u001b[0;32m----> 3\u001b[0;31m \u001b[1;32mwith\u001b[0m \u001b[0mopen\u001b[0m\u001b[1;33m(\u001b[0m\u001b[0maddress\u001b[0m\u001b[1;33m,\u001b[0m \u001b[1;34m\"r\"\u001b[0m\u001b[1;33m)\u001b[0m \u001b[1;32mas\u001b[0m \u001b[0mf\u001b[0m\u001b[1;33m:\u001b[0m\u001b[1;33m\u001b[0m\u001b[0m\n\u001b[0m\u001b[1;32m      4\u001b[0m     \u001b[0mlocal_json\u001b[0m \u001b[1;33m=\u001b[0m \u001b[0mjson\u001b[0m\u001b[1;33m.\u001b[0m\u001b[0mload\u001b[0m\u001b[1;33m(\u001b[0m\u001b[0mf\u001b[0m\u001b[1;33m)\u001b[0m\u001b[1;33m\u001b[0m\u001b[0m\n",
      "\u001b[0;31mIOError\u001b[0m: [Errno 2] No such file or directory: 'C:\\\\Data_scraping\\\\JSON\\\\sample.json'"
     ]
    }
   ],
   "source": [
    "import json\n",
    "address = \"C:\\Data_scraping\\JSON\\sample.json\"\n",
    "with open(address, \"r\") as f:\n",
    "    local_json = json.load(f)"
   ]
  },
  {
   "cell_type": "code",
   "execution_count": null,
   "metadata": {
    "collapsed": true
   },
   "outputs": [],
   "source": [
    "print (local_json)"
   ]
  },
  {
   "cell_type": "code",
   "execution_count": 7,
   "metadata": {
    "collapsed": false
   },
   "outputs": [
    {
     "name": "stdout",
     "output_type": "stream",
     "text": [
      "Movie:  Game of Thrones\n",
      "Role:  Tyrion Lannister\n",
      "Actor: Peter Dinklage \n",
      "\n",
      "Movie:  Vikings\n",
      "Role:  Ragnar Lothbrok\n",
      "Actor: Travis Fimmel \n",
      "\n",
      "Movie:  The last Kingdom\n",
      "Role:  Uhtred of Bebbanburg\n",
      "Actor 1:  Tom Taylor\n",
      "Actor 2:  Alexander Dreymon \n",
      "\n"
     ]
    }
   ],
   "source": [
    "import json\n",
    "\n",
    "input = '''[\n",
    "    {\n",
    "    \"Movie\":\"Game of Thrones\",\n",
    "    \"Actor\":\"Peter Dinklage\",\n",
    "    \"Role\":\"Tyrion Lannister\"    \n",
    "    },\n",
    "    {\n",
    "    \"Movie\":\"Vikings\",\n",
    "    \"Actor\":\"Travis Fimmel\",\n",
    "    \"Role\":\"Ragnar Lothbrok\"  \n",
    "    },\n",
    "    {\n",
    "    \"Movie\":\"The last Kingdom\",\n",
    "    \"Actor\":{\n",
    "            \"Young Uhtred\":\"Tom Taylor\",\n",
    "            \"Not that young Uhtred\":\"Alexander Dreymon\"\n",
    "            },\n",
    "    \"Role\":\"Uhtred of Bebbanburg\"\n",
    "    }\n",
    "]'''\n",
    "\n",
    "data = json.loads(input)\n",
    "for i in data:\n",
    "    if len(i[\"Actor\"])==2:\n",
    "        print \"Movie: \",i[\"Movie\"]\n",
    "        print \"Role: \", i[\"Role\"]\n",
    "        print \"Actor 1: \",i[\"Actor\"][\"Young Uhtred\"]\n",
    "        print \"Actor 2: \",i[\"Actor\"][\"Not that young Uhtred\"],\"\\n\"\n",
    "    else:\n",
    "        print \"Movie: \",i[\"Movie\"]\n",
    "        print \"Role: \", i[\"Role\"]\n",
    "        print \"Actor:\",i[\"Actor\"],\"\\n\""
   ]
  },
  {
   "cell_type": "code",
   "execution_count": null,
   "metadata": {
    "collapsed": true
   },
   "outputs": [],
   "source": [
    "#writhing \n",
    "with open('our_json_w.json', 'w') as output:\n",
    "    json.dump(local_json, output)\n",
    "    \n",
    "#converting json to csv   \n",
    "import csv, json\n",
    "address = \"C:\\Data_scraping\\JSON\\sample_data.json\"\n",
    "with open(address,\"r\") as file:\n",
    "    local_json = json.load(file)\n",
    "\n",
    "with open(\"from_json.csv\", \"w\") as f:\n",
    "    writer = csv.writer(f)\n",
    "    writer.writerow([\"ID\",\"Name\",\"Status\"])\n",
    "    for item in local_json:\n",
    "        writer.writerow([item['id'],item['name'],item['status']])"
   ]
  },
  {
   "cell_type": "markdown",
   "metadata": {},
   "source": [
    "Regular Expressions & requests for gatting data from url\n",
    "Regular expressions deal with text, however our dataset is a JSON file loaded to Python as a dictionary. In order to be able to apply regular expressions on them, it is necessary to convert the dictionary (or part of it, that interests us) to a simple string."
   ]
  },
  {
   "cell_type": "code",
   "execution_count": 4,
   "metadata": {
    "collapsed": false
   },
   "outputs": [
    {
     "name": "stdout",
     "output_type": "stream",
     "text": [
      "<Response [200]>\n"
     ]
    }
   ],
   "source": [
    "import re \n",
    "import requests\n",
    "url = \"http://api.open-notify.org/astros.json\"\n",
    "response = requests.get(url)\n",
    "print (response)"
   ]
  },
  {
   "cell_type": "code",
   "execution_count": 6,
   "metadata": {
    "collapsed": false
   },
   "outputs": [
    {
     "name": "stdout",
     "output_type": "stream",
     "text": [
      "{u'message': u'success', u'number': 3, u'people': [{u'craft': u'ISS', u'name': u'Peggy Whitson'}, {u'craft': u'ISS', u'name': u'Fyodor Yurchikhin'}, {u'craft': u'ISS', u'name': u'Jack Fischer'}]}\n"
     ]
    }
   ],
   "source": [
    "data= response.json()\n",
    "print data"
   ]
  },
  {
   "cell_type": "code",
   "execution_count": 7,
   "metadata": {
    "collapsed": true
   },
   "outputs": [],
   "source": [
    "converted_data=str(data)"
   ]
  },
  {
   "cell_type": "code",
   "execution_count": 9,
   "metadata": {
    "collapsed": false
   },
   "outputs": [],
   "source": [
    "output = re.findall(\"[0-9]\", converted_data)"
   ]
  },
  {
   "cell_type": "markdown",
   "metadata": {
    "collapsed": true
   },
   "source": [
    "Pandas_html\n"
   ]
  },
  {
   "cell_type": "code",
   "execution_count": null,
   "metadata": {
    "collapsed": false
   },
   "outputs": [],
   "source": [
    "import pandas as pd\n",
    "urls = [\"http://rate.am/am/armenian-dram-exchange-rates/banks/non-cash/2017/06/01/20-15\",\n",
    "        \"http://rate.am/am/armenian-dram-exchange-rates/banks/non-cash/2017/06/02/20-15\",\n",
    "        \"http://rate.am/am/armenian-dram-exchange-rates/banks/non-cash/2017/06/03/20-15\"]\n",
    "for i in urls:\n",
    "    data=pd.read_html(i)\n",
    "    print(data[2][2:19])"
   ]
  },
  {
   "cell_type": "code",
   "execution_count": null,
   "metadata": {
    "collapsed": true
   },
   "outputs": [],
   "source": [
    "import pandas as pd\n",
    "import matplotlib.pyplot as plt\n",
    "data = pd.read_csv(\"AirPassengers.csv\")\n",
    "plt.plot(data[\"Passengers\"])\n",
    "plt.show()"
   ]
  },
  {
   "cell_type": "markdown",
   "metadata": {},
   "source": [
    "\n",
    "BeautifulSoup\n"
   ]
  },
  {
   "cell_type": "code",
   "execution_count": 2,
   "metadata": {
    "collapsed": true
   },
   "outputs": [],
   "source": [
    "import requests\n",
    "from BeautifulSoup import *"
   ]
  },
  {
   "cell_type": "code",
   "execution_count": 2,
   "metadata": {
    "collapsed": true
   },
   "outputs": [],
   "source": [
    "url = \"https://hrantdavtyan.github.io/\""
   ]
  },
  {
   "cell_type": "code",
   "execution_count": 3,
   "metadata": {
    "collapsed": true
   },
   "outputs": [],
   "source": [
    "response = requests.get(url)"
   ]
  },
  {
   "cell_type": "code",
   "execution_count": 4,
   "metadata": {
    "collapsed": true
   },
   "outputs": [],
   "source": [
    "my_page = response.text"
   ]
  },
  {
   "cell_type": "code",
   "execution_count": 5,
   "metadata": {
    "collapsed": true
   },
   "outputs": [],
   "source": [
    "soup = BeautifulSoup(my_page)"
   ]
  },
  {
   "cell_type": "code",
   "execution_count": null,
   "metadata": {
    "collapsed": true
   },
   "outputs": [],
   "source": [
    "print(soup)"
   ]
  },
  {
   "cell_type": "code",
   "execution_count": 7,
   "metadata": {
    "collapsed": true
   },
   "outputs": [],
   "source": [
    "#findAll in bsoup and it return list\n",
    "#If you were interested in finding only the very first a tag, then the find() function could be useful instead of findAll()\n",
    "a_tags = soup.findAll('a')\n",
    "a_tag = soup.find (\"a\")"
   ]
  },
  {
   "cell_type": "code",
   "execution_count": 8,
   "metadata": {
    "collapsed": false
   },
   "outputs": [
    {
     "name": "stdout",
     "output_type": "stream",
     "text": [
      "#\n"
     ]
    }
   ],
   "source": [
    "print (a_tag.get(\"href\"))"
   ]
  },
  {
   "cell_type": "code",
   "execution_count": 9,
   "metadata": {
    "collapsed": false
   },
   "outputs": [
    {
     "name": "stdout",
     "output_type": "stream",
     "text": [
      "<a href=\"#\" class=\"social-text\">SOCIAL PROFILES</a>\n"
     ]
    }
   ],
   "source": [
    "print (a_tag)"
   ]
  },
  {
   "cell_type": "code",
   "execution_count": 10,
   "metadata": {
    "collapsed": false
   },
   "outputs": [
    {
     "name": "stdout",
     "output_type": "stream",
     "text": [
      "#\n",
      "https://www.facebook.com/HrantDavtyan\n",
      "https://www.linkedin.com/in/hrantdavtyan\n",
      "#profile\n",
      "#resume\n",
      "#portfolio\n",
      "#contact\n",
      "http://aua.am/\n",
      "http://isifa.am/en/ifa-dfi/\n",
      "https://www.cerge-ei.cz/\n",
      "http://www.fao.org/armenia/en/\n",
      "http://www.metric.am/\n",
      "http://ahpc.am/?lang=en\n",
      "http://www.ucl.ac.uk/\n",
      "http://iset.tsu.ge/\n",
      "\n",
      "\n",
      "\n",
      "\n",
      "\n",
      "\n",
      "https://github.com/HrantDavtyan/HrantDavtyan.github.io\\teaching\\jdocs\\Business Analytics\\html\\index.html\n",
      "http://clearwaterbeachassoc.com/wp-content/uploads/2016/01/Under-construction.png\n",
      "http://www.armstat.am/en/?nid=661\n",
      "http://clearwaterbeachassoc.com/wp-content/uploads/2016/01/Under-construction.png\n",
      "http://clearwaterbeachassoc.com/wp-content/uploads/2016/01/Under-construction.png\n",
      "http://clearwaterbeachassoc.com/wp-content/uploads/2016/01/Under-construction.png\n",
      "http://clearwaterbeachassoc.com/wp-content/uploads/2016/01/Under-construction.png\n",
      "http://clearwaterbeachassoc.com/wp-content/uploads/2016/01/Under-construction.png\n"
     ]
    }
   ],
   "source": [
    "for i in a_tags:\n",
    "    print (i.get(\"href\"))"
   ]
  },
  {
   "cell_type": "code",
   "execution_count": 12,
   "metadata": {
    "collapsed": false
   },
   "outputs": [
    {
     "name": "stdout",
     "output_type": "stream",
     "text": [
      "I am a Data Enthusiast, teaching Business Analytics and providing consultancy on Statistics, Economics and IT. Feel free to take a look around my webpage.\n",
      "I achieved an average feedback score of 4.7 (out of 5) teaching Business Analytics,\r\n",
      "\t\t\t\t\t\t\t\t\tBusiness Mathematics and Macroeconomics courses to overall 111 students.\n",
      "Students with no prior knowledge of programming successfully learned Python, R, Stata and IBM SPSS\r\n",
      "\t\t\t\t\t\t\t\t\tand applied their skills by participating to a Kaggle competition as a final course project\n",
      "I was awarded a one year fellowship to teach modern economics at local universities.\r\n",
      "\t\t\t\t\t\t\t\t\tDuring the fellowship tenure I taught around 230 students at 3 different universities.\n",
      "Developed a software (using R, HTML, CSS) for Post Disaster Needs Assessment.\r\n",
      "\t\t\t\t\t\t\t\t\tConsulted contracted companies regarding Ministry staff appraisal and training needs assessment.\r\n",
      "\t\t\t\t\t\t\t\t\tConsulted National Statistical Service regarding Census (and post census) activities\n",
      "Led several major Data Science projects, participated in different quantitative and qualitative surveys\r\n",
      "\t\t\t\t\t\t\t\t\tprovided consulting to local and international, private and public organizations.\n",
      "Developed business proposals applying financial and operations analytics techniques. The main tool used were spreadsheets and Microsoft Power tools\n",
      "Thesis: Vulnerability to manipulation for positional voting rules\n",
      "Thesis: The effect of correlation neglect on polarization\n",
      "Your Name\n",
      "Your Email\n",
      "Your Message\n"
     ]
    }
   ],
   "source": [
    "p_tags = soup.findAll(\"p\")\n",
    "for i in p_tags:\n",
    "    print (i.text)"
   ]
  },
  {
   "cell_type": "code",
   "execution_count": 13,
   "metadata": {
    "collapsed": true
   },
   "outputs": [],
   "source": [
    "#Reminder: first of all you need to check the robots.txt file to see whether we are allowed to scrape or not\n",
    "url = \"http://www.bloomberg.com/quote/SPX:IND\""
   ]
  },
  {
   "cell_type": "code",
   "execution_count": 15,
   "metadata": {
    "collapsed": false
   },
   "outputs": [],
   "source": [
    "response = requests.get(url)\n",
    "page = response.text\n",
    "soup = BeautifulSoup(page)"
   ]
  },
  {
   "cell_type": "code",
   "execution_count": 16,
   "metadata": {
    "collapsed": false
   },
   "outputs": [
    {
     "data": {
      "text/plain": [
       "[<h1 class=\"bb-nav-logo\" is=\"bb-nav-logo\"> <div class=\"bb-nav-logo__rubix\" data-tracker-label=\"bomb.open.rubix_button\" data-tracker-action=\"click\"></div> <div class=\"bb-nav-logo__menu\" data-tracker-label=\"bomb.open.menu_button\" data-tracker-action=\"click\"> <div class=\"bb-nav-logo__menu-link\">MENU</div> </div> <a href=\"http://www.bloomberg.com\" class=\"bb-nav-logo__link\" data-tracker-label=\"logo\" data-tracker-action=\"click\"></a> <div class=\"bb-nav-logo__arrow\"></div> </h1>,\n",
       " <h1 class=\"bb-nav-content-logo__headline\" data-tracker-label=\"content\"> <a href=\"http://www.bloomberg.com\" class=\"bb-nav-content-logo__site\" data-tracker-label=\"logo\" data-tracker-action=\"click\"></a> </h1>,\n",
       " <h1 class=\"name\"> S&amp;P 500 Index </h1>]"
      ]
     },
     "execution_count": 16,
     "metadata": {},
     "output_type": "execute_result"
    }
   ],
   "source": [
    "soup.findAll(\"h1\")"
   ]
  },
  {
   "cell_type": "code",
   "execution_count": 17,
   "metadata": {
    "collapsed": true
   },
   "outputs": [],
   "source": [
    "name = soup.findAll(\"h1\", attrs={\"class\":\"name\"})"
   ]
  },
  {
   "cell_type": "code",
   "execution_count": 18,
   "metadata": {
    "collapsed": false
   },
   "outputs": [
    {
     "name": "stdout",
     "output_type": "stream",
     "text": [
      "[<h1 class=\"name\"> S&amp;P 500 Index </h1>]\n"
     ]
    }
   ],
   "source": [
    "print name"
   ]
  },
  {
   "cell_type": "code",
   "execution_count": 24,
   "metadata": {
    "collapsed": false
   },
   "outputs": [
    {
     "name": "stdout",
     "output_type": "stream",
     "text": [
      "S&amp;P 500 Index\n"
     ]
    }
   ],
   "source": [
    "print(name[0].text)\n",
    "#The reason we used index_name[0] notation is that index_name is a list (although consisting of only one element, but still a list). The text methods works only on strings/tags, so we had to explicitly choose the tag from the list and then apply text method on it."
   ]
  },
  {
   "cell_type": "code",
   "execution_count": 5,
   "metadata": {
    "collapsed": false
   },
   "outputs": [
    {
     "name": "stdout",
     "output_type": "stream",
     "text": [
      "1.1478\n"
     ]
    }
   ],
   "source": [
    "value = soup.findAll(\"div\", attrs={\"class\":\"price\"})\n",
    "print (value[0].text)"
   ]
  },
  {
   "cell_type": "code",
   "execution_count": 1,
   "metadata": {
    "collapsed": true
   },
   "outputs": [],
   "source": [
    "urls = [\"https://www.bloomberg.com/quote/DM1:IND\",\n",
    "        \"https://www.bloomberg.com/quote/UKX:IND\",\n",
    "        \"https://www.bloomberg.com/quote/EURUSD:CUR\" ]"
   ]
  },
  {
   "cell_type": "code",
   "execution_count": 3,
   "metadata": {
    "collapsed": false
   },
   "outputs": [
    {
     "name": "stdout",
     "output_type": "stream",
     "text": [
      "Dow Jones mini Futures:21,581.00\n",
      "FTSE 100 Index:7,404.13\n",
      "EURUSD Spot Exchange Rate:1.1478\n"
     ]
    }
   ],
   "source": [
    "for i in urls:\n",
    "    respose = requests.get(i)\n",
    "    page = respose.text\n",
    "    soup = BeautifulSoup(page)\n",
    "    i_name = soup.find(\"h1\", attrs={\"class\":\"name\"})\n",
    "    i_velue = soup.find(\"div\", attrs={\"class\":\"price\"})\n",
    "    print (i_name.text+ \":\" + i_velue.text)"
   ]
  },
  {
   "cell_type": "code",
   "execution_count": 10,
   "metadata": {
    "collapsed": false
   },
   "outputs": [
    {
     "name": "stdout",
     "output_type": "stream",
     "text": [
      "{u'FTSE 100 Index': u'7,404.13', u'EURUSD Spot Exchange Rate': u'1.1479', u'Dow Jones mini Futures': u'21,581.00'}\n"
     ]
    }
   ],
   "source": [
    "#saving results in dic\n",
    "my_dic={}\n",
    "for i in urls:\n",
    "    respose = requests.get(i)\n",
    "    page = respose.text\n",
    "    soup = BeautifulSoup(page)\n",
    "    i_name = soup.find(\"h1\", attrs={\"class\":\"name\"})\n",
    "    i_velue = soup.find(\"div\", attrs={\"class\":\"price\"})\n",
    "    my_dic.update({i_name.text:i_velue.text})\n",
    "print(my_dic)\n",
    "\n",
    "# to be mice \n",
    "import time\n",
    "#in the end after update \n",
    "time.sleep(10)"
   ]
  },
  {
   "cell_type": "code",
   "execution_count": null,
   "metadata": {
    "collapsed": true
   },
   "outputs": [],
   "source": [
    "url = \"https://careercenter.am/ccidxann.php\"\n",
    "response = requests.get(url)\n",
    "page = response.text\n",
    "soup = BeautifulSoup(page)\n",
    "tables = soup.findAll(\"table\")\n",
    "my_table = tables[0]\n",
    "rows = my_table.findAll('tr')"
   ]
  },
  {
   "cell_type": "code",
   "execution_count": null,
   "metadata": {
    "collapsed": true
   },
   "outputs": [],
   "source": [
    "data_list = []\n",
    "for i in rows:\n",
    "    columns = i.findAll('td')\n",
    "    for j in columns:\n",
    "        data_list.append(j.text)"
   ]
  },
  {
   "cell_type": "code",
   "execution_count": null,
   "metadata": {
    "collapsed": true
   },
   "outputs": [],
   "source": [
    "data_list[:10]"
   ]
  }
 ],
 "metadata": {
  "kernelspec": {
   "display_name": "Python 2",
   "language": "python",
   "name": "python2"
  },
  "language_info": {
   "codemirror_mode": {
    "name": "ipython",
    "version": 2
   },
   "file_extension": ".py",
   "mimetype": "text/x-python",
   "name": "python",
   "nbconvert_exporter": "python",
   "pygments_lexer": "ipython2",
   "version": "2.7.13"
  }
 },
 "nbformat": 4,
 "nbformat_minor": 2
}
